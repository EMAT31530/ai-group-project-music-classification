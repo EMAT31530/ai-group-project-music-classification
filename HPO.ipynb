{
 "cells": [
  {
   "cell_type": "markdown",
   "metadata": {
    "id": "dh9ybzpeJ65K"
   },
   "source": [
    "## Hyperparameter optimization\n",
    "Aim: To optimize the efficacy of the dropout layer in our model, by tuning the dropout rate parameter using Bayesian hyperparameter optimization with the `hyperopt` library. We can also tune other hyperparameters of the model such as the learning rate, number of neurons per layer, batch size, etc.\n",
    "Parameters that define the models architechture are called hyperparameters.\n",
    "\n",
    "General method:\n",
    "- Define the range of possible values for the hyperparameter you want to optimize\n",
    "- Define a method for sampling hyperparameter values\n",
    "- Define a metric to evaluate the performance of the model, in our case we will use the validation loss\n",
    "- Define a cross-validation method\n",
    "\n",
    "Bayesian optimization uses a gaussian process to model the prior probablitly of model efficacy across the hyperparameter space, basically approximating how well the model will perform under a certain valued hyperparameter.\n",
    "\n",
    "### Bayesian Optimization\n",
    "Bayesian Optimization is reffered to as a Sequential model-based optimizer (SMBO) algorithm.\n",
    "\n"
   ]
  },
  {
   "cell_type": "code",
   "execution_count": 2,
   "metadata": {
    "colab": {
     "base_uri": "https://localhost:8080/"
    },
    "executionInfo": {
     "elapsed": 4350,
     "status": "ok",
     "timestamp": 1617215165258,
     "user": {
      "displayName": "Jayvier Pereira",
      "photoUrl": "",
      "userId": "01072379060676764384"
     },
     "user_tz": -60
    },
    "id": "7n06wXZ2vmE9",
    "outputId": "e53fe427-5eff-4ffc-d9b0-ae56498982e0"
   },
   "outputs": [
    {
     "name": "stdout",
     "output_type": "stream",
     "text": [
      "Collecting hyperopt\n",
      "  Downloading hyperopt-0.2.5-py2.py3-none-any.whl (965 kB)\n",
      "\u001b[K     |████████████████████████████████| 965 kB 6.6 MB/s eta 0:00:01\n",
      "\u001b[?25hRequirement already satisfied: six in /Users/jayvier/opt/anaconda3/lib/python3.8/site-packages (from hyperopt) (1.15.0)\n",
      "Requirement already satisfied: cloudpickle in /Users/jayvier/opt/anaconda3/lib/python3.8/site-packages (from hyperopt) (1.5.0)\n",
      "Requirement already satisfied: tqdm in /Users/jayvier/opt/anaconda3/lib/python3.8/site-packages (from hyperopt) (4.47.0)\n",
      "Requirement already satisfied: numpy in /Users/jayvier/opt/anaconda3/lib/python3.8/site-packages (from hyperopt) (1.18.5)\n",
      "Requirement already satisfied: scipy in /Users/jayvier/opt/anaconda3/lib/python3.8/site-packages (from hyperopt) (1.5.0)\n",
      "Requirement already satisfied: networkx>=2.2 in /Users/jayvier/opt/anaconda3/lib/python3.8/site-packages (from hyperopt) (2.4)\n",
      "Requirement already satisfied: future in /Users/jayvier/opt/anaconda3/lib/python3.8/site-packages (from hyperopt) (0.18.2)\n",
      "Requirement already satisfied: decorator>=4.3.0 in /Users/jayvier/opt/anaconda3/lib/python3.8/site-packages (from networkx>=2.2->hyperopt) (4.4.2)\n",
      "Installing collected packages: hyperopt\n",
      "Successfully installed hyperopt-0.2.5\n",
      "Note: you may need to restart the kernel to use updated packages.\n"
     ]
    }
   ],
   "source": [
    "pip install hyperopt"
   ]
  },
  {
   "cell_type": "code",
   "execution_count": 7,
   "metadata": {
    "executionInfo": {
     "elapsed": 491,
     "status": "ok",
     "timestamp": 1617455409777,
     "user": {
      "displayName": "Jayvier Pereira",
      "photoUrl": "",
      "userId": "01072379060676764384"
     },
     "user_tz": -60
    },
    "id": "nHSgByT3gq04"
   },
   "outputs": [],
   "source": [
    "import tensorflow as tf\n",
    "import numpy as np\n",
    "import hyperopt\n",
    "from hyperopt import hp, fmin, tpe, Trials\n",
    "from keras.layers import (Input, Conv2D, MaxPooling2D, BatchNormalization)\n",
    "import os\n",
    "import CNN"
   ]
  },
  {
   "cell_type": "markdown",
   "metadata": {
    "id": "-bhVsSVtwXlF"
   },
   "source": [
    "The hyperparameter space defines all hyperparameters we are going to tune for the model and their accepted range of values. In this case we are going to focus on the following hyperparameters; learning rate, dropout rate, batch normalization, batch size, pooling type, "
   ]
  },
  {
   "cell_type": "code",
   "execution_count": 8,
   "metadata": {
    "executionInfo": {
     "elapsed": 846,
     "status": "ok",
     "timestamp": 1617445082890,
     "user": {
      "displayName": "Jayvier Pereira",
      "photoUrl": "",
      "userId": "01072379060676764384"
     },
     "user_tz": -60
    },
    "id": "XNNVp3s7VP0R"
   },
   "outputs": [],
   "source": [
    "space = {\n",
    "    # Loguniform distribustion to find appropriate learning rate multiplier\n",
    "    'lr_mult' : hp.loguniform('lr_mult', -0.5, 0.5),\n",
    "    # Uniform distribustion to find appropriate dropout rate\n",
    "    'dr' : hp.uniform('dr',0.0,0.5),\n",
    "    # To find the best optimizer\n",
    "    'optimizer' : hp.choice('optimizer', ['Adam', 'Nadam', 'RMSprop'])\n",
    "}"
   ]
  },
  {
   "cell_type": "code",
   "execution_count": null,
   "metadata": {
    "colab": {
     "base_uri": "https://localhost:8080/"
    },
    "executionInfo": {
     "elapsed": 430,
     "status": "ok",
     "timestamp": 1617366287901,
     "user": {
      "displayName": "Jayvier Pereira",
      "photoUrl": "",
      "userId": "01072379060676764384"
     },
     "user_tz": -60
    },
    "id": "d-KIl3GUdB7S",
    "outputId": "0ced73f6-74ee-4a23-c69b-d4b448379d81"
   },
   "outputs": [
    {
     "name": "stdout",
     "output_type": "stream",
     "text": [
      "{'dr': 0.19436712036448606, 'lr': 0.7366261700596459, 'optimizer': 'Nadam'}\n"
     ]
    }
   ],
   "source": [
    "# prints graph of random values for each hyperparameter\n",
    "# These values are not based on any specific model yet\n",
    "print(hyperopt.pyll.stochastic.sample(space))"
   ]
  },
  {
   "cell_type": "markdown",
   "metadata": {
    "id": "gLaYbwOOWEDI"
   },
   "source": [
    "The fmin function is used to find the optimal value for a scalar valued function.\n",
    "\n",
    "First we define a function for fmin to optimize. In our case we will judge the models performance based on the validation accuracy so we want out optimize function to return the negative value of the accuracy."
   ]
  },
  {
   "cell_type": "code",
   "execution_count": null,
   "metadata": {
    "id": "yiGFcISKnQKA"
   },
   "outputs": [],
   "source": [
    "def optimize(hype_space):\n",
    "  \"\"\"\n",
    "  build and train the model based on hype_space parameters\n",
    "  return the negative of the max validation loss for that model\n",
    "  \"\"\"\n"
   ]
  },
  {
   "cell_type": "code",
   "execution_count": null,
   "metadata": {
    "colab": {
     "base_uri": "https://localhost:8080/",
     "height": 232
    },
    "executionInfo": {
     "elapsed": 666,
     "status": "error",
     "timestamp": 1617372036802,
     "user": {
      "displayName": "Jayvier Pereira",
      "photoUrl": "",
      "userId": "01072379060676764384"
     },
     "user_tz": -60
    },
    "id": "lu1po9yhuznz",
    "outputId": "ca29ea46-a202-4f22-a3c1-85748ac0243b"
   },
   "outputs": [
    {
     "ename": "NameError",
     "evalue": "ignored",
     "output_type": "error",
     "traceback": [
      "\u001b[0;31m---------------------------------------------------------------------------\u001b[0m",
      "\u001b[0;31mNameError\u001b[0m                                 Traceback (most recent call last)",
      "\u001b[0;32m<ipython-input-10-230d525a8a25>\u001b[0m in \u001b[0;36m<module>\u001b[0;34m()\u001b[0m\n\u001b[0;32m----> 1\u001b[0;31m best = fmin(optimize,\n\u001b[0m\u001b[1;32m      2\u001b[0m             \u001b[0mspace\u001b[0m\u001b[0;34m=\u001b[0m\u001b[0mspace\u001b[0m\u001b[0;34m,\u001b[0m\u001b[0;34m\u001b[0m\u001b[0;34m\u001b[0m\u001b[0m\n\u001b[1;32m      3\u001b[0m             \u001b[0malgo\u001b[0m\u001b[0;34m=\u001b[0m\u001b[0mtpe\u001b[0m\u001b[0;34m.\u001b[0m\u001b[0msuggest\u001b[0m\u001b[0;34m(\u001b[0m\u001b[0;34m)\u001b[0m\u001b[0;34m,\u001b[0m\u001b[0;34m\u001b[0m\u001b[0;34m\u001b[0m\u001b[0m\n\u001b[1;32m      4\u001b[0m             \u001b[0mmax_evals\u001b[0m\u001b[0;34m=\u001b[0m\u001b[0;36m15\u001b[0m\u001b[0;34m,\u001b[0m\u001b[0;34m\u001b[0m\u001b[0;34m\u001b[0m\u001b[0m\n\u001b[1;32m      5\u001b[0m             )\n",
      "\u001b[0;31mNameError\u001b[0m: name 'optimize' is not defined"
     ]
    }
   ],
   "source": [
    "trials = Trials()\n",
    "best = fmin(optimize,\n",
    "            space=space,\n",
    "            algo=tpe.suggest(),\n",
    "            trails=trails,\n",
    "            max_evals=15,\n",
    "            )"
   ]
  },
  {
   "cell_type": "code",
   "execution_count": null,
   "metadata": {},
   "outputs": [],
   "source": []
  }
 ],
 "metadata": {
  "colab": {
   "authorship_tag": "ABX9TyNQ6mt9H3Rp8L9jjtS03xZj",
   "collapsed_sections": [],
   "name": "HPO.ipynb",
   "provenance": []
  },
  "kernelspec": {
   "display_name": "Python 3",
   "language": "python",
   "name": "python3"
  },
  "language_info": {
   "codemirror_mode": {
    "name": "ipython",
    "version": 3
   },
   "file_extension": ".py",
   "mimetype": "text/x-python",
   "name": "python",
   "nbconvert_exporter": "python",
   "pygments_lexer": "ipython3",
   "version": "3.8.3"
  }
 },
 "nbformat": 4,
 "nbformat_minor": 1
}
