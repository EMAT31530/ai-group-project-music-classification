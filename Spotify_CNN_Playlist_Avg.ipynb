{
  "nbformat": 4,
  "nbformat_minor": 0,
  "metadata": {
    "colab": {
      "name": "Spotify CNN Playlist Avg.ipynb",
      "provenance": [],
      "collapsed_sections": [],
      "mount_file_id": "1yWRszHkFVdOYhFK5U_Iv75xkI1NJ8-0f",
      "authorship_tag": "ABX9TyOMg6sIZ4ghQIeUt+WBzzuF",
      "include_colab_link": true
    },
    "kernelspec": {
      "name": "python3",
      "display_name": "Python 3"
    },
    "language_info": {
      "name": "python"
    }
  },
  "cells": [
    {
      "cell_type": "markdown",
      "metadata": {
        "id": "view-in-github",
        "colab_type": "text"
      },
      "source": [
        "<a href=\"https://colab.research.google.com/github/EMAT31530/ai-group-project-music-classification/blob/master/Spotify_CNN_Playlist_Avg.ipynb\" target=\"_parent\"><img src=\"https://colab.research.google.com/assets/colab-badge.svg\" alt=\"Open In Colab\"/></a>"
      ]
    },
    {
      "cell_type": "code",
      "metadata": {
        "id": "3xwREAhpt-PL"
      },
      "source": [
        "################## Playlist Dataset Google Drive Link (also in Google Drive of ai.music.generation@gmail.com ) ########################\n",
        "https://drive.google.com/drive/folders/18it5Kuzlo5OPvcxvOxrve-7-bl9t4XeE?usp=sharing"
      ],
      "execution_count": null,
      "outputs": []
    },
    {
      "cell_type": "code",
      "metadata": {
        "id": "w9Xfv1UaFDIW"
      },
      "source": [
        "import tensorflow as tf\n",
        "import numpy as np\n",
        "import pandas as pd\n",
        "import scipy\n",
        "from scipy import misc\n",
        "import glob\n",
        "from PIL import Image\n",
        "import os\n",
        "import matplotlib.pyplot as plt\n",
        "import librosa\n",
        "from keras import layers\n",
        "from keras.layers import (Input, Add, Dense, Activation, ZeroPadding2D, BatchNormalization, Flatten, \n",
        "                          Conv2D, AveragePooling2D, MaxPooling2D, GlobalMaxPooling2D, Dropout)\n",
        "from keras.models import Model, load_model\n",
        "from keras.preprocessing import image\n",
        "from keras.utils import layer_utils\n",
        "import pydot\n",
        "from IPython.display import SVG\n",
        "from keras.utils.vis_utils import model_to_dot\n",
        "from keras.utils import plot_model\n",
        "from keras.optimizers import Adam\n",
        "from keras.initializers import glorot_uniform\n",
        "from matplotlib.backends.backend_agg import FigureCanvasAgg as FigureCanvas\n",
        "\n",
        "import shutil\n",
        "from keras.preprocessing.image import ImageDataGenerator\n",
        "from keras.preprocessing.image import load_img,img_to_array\n",
        "import random\n",
        "from google.colab import files"
      ],
      "execution_count": 43,
      "outputs": []
    },
    {
      "cell_type": "code",
      "metadata": {
        "id": "PI9XoyhR-xV6"
      },
      "source": [
        "########### Load Trained Model - Doesn't seem to load properly ############\n",
        "model = load_model(\"/content/drive/MyDrive/json_model/model2\")\n",
        "model.compile(optimizer = Adam(learning_rate=0.0005),loss='categorical_crossentropy',metrics=['accuracy'])"
      ],
      "execution_count": 44,
      "outputs": []
    },
    {
      "cell_type": "code",
      "metadata": {
        "colab": {
          "base_uri": "https://localhost:8080/"
        },
        "id": "xUU1ruUXB-OZ",
        "outputId": "88b77358-60d0-4703-bf7e-9c968fd727e9"
      },
      "source": [
        "path = '/content/drive/MyDrive/playlist/images'\n",
        "list_subfolders_with_paths = [f.path for f in os.scandir(path) if f.is_dir()]\n",
        "list_subfolder_name_with_paths = [f.name for f in os.scandir(path) if f.is_dir()]\n",
        "list_subfolders_with_paths\n",
        "list_subfolder_name_with_paths"
      ],
      "execution_count": 45,
      "outputs": [
        {
          "output_type": "execute_result",
          "data": {
            "text/plain": [
              "['Corpse Pose',\n",
              " 'All Along the Watchtower',\n",
              " 'LEAVING HELL',\n",
              " 'Love and or Hate Trigger',\n",
              " 'Dsco',\n",
              " 'Diary of a Rose',\n",
              " 'Abusey Junction',\n",
              " 'Circuits',\n",
              " 'Like a Buoy',\n",
              " 'George Street',\n",
              " 'Strings of Light',\n",
              " 'Suede',\n",
              " 'All Caps',\n",
              " 'Send Me',\n",
              " 'Peanuts Grow Underground',\n",
              " 'Blue in Green (feat. John Coltrane & Bill Evans)',\n",
              " 'We Are Family',\n",
              " 'Oblivion',\n",
              " 'Slow (Loud)',\n",
              " 'Track X',\n",
              " 'Dark blue',\n",
              " 'Bullet With a Name',\n",
              " 'Wake Up',\n",
              " 'Time',\n",
              " \"Job's Lament\",\n",
              " 'Poison Tree',\n",
              " 'A Message to You Rudy - 2002 Remaster',\n",
              " 'Dirty Old Town',\n",
              " 'Pressure Drop']"
            ]
          },
          "metadata": {
            "tags": []
          },
          "execution_count": 45
        }
      ]
    },
    {
      "cell_type": "code",
      "metadata": {
        "id": "Wq-b317xFP0H"
      },
      "source": [
        "##########Dataset Load ##################\n",
        "datasetpath = '/content/drive/MyDrive/playlist/playlist.csv'\n",
        "df = pd.read_csv(datasetpath)\n"
      ],
      "execution_count": 46,
      "outputs": []
    },
    {
      "cell_type": "code",
      "metadata": {
        "id": "iGLNAzEmO8RY"
      },
      "source": [
        "def predict(track_name,model):\n",
        "  track_path = os.path.join(path, track_name)\n",
        "  prediction = np.zeros((10,10))\n",
        "  i = 0\n",
        "  #image = image_data.resize((288,432))\n",
        "  for file_name in os.listdir(track_path):\n",
        "    file_path = os.path.join(path, track_name, file_name)\n",
        "    image_data = load_img(file_path,color_mode='rgb',target_size=(300,300))\n",
        "    image = img_to_array(image_data)\n",
        "\n",
        "    image = np.reshape(image,(1,300,300,3))\n",
        "\n",
        "    prediction[i,:] = model.predict(image/255)  #.reshape((10,)) \n",
        "\n",
        "    #prediction = prediction.reshape((10,)) \n",
        "\n",
        "    i += 1\n",
        "\n",
        "\n",
        "  predict_avg = np.average(prediction, axis=0)\n",
        "  predict_avg = np.around(predict_avg, decimals = 4)\n",
        "  genre_class = np.argmax(predict_avg)\n",
        "\n",
        "\n",
        "\n",
        "\n",
        "  \n",
        "  return track_name, genre_class, predict_avg"
      ],
      "execution_count": 47,
      "outputs": []
    },
    {
      "cell_type": "code",
      "metadata": {
        "colab": {
          "base_uri": "https://localhost:8080/"
        },
        "id": "vCo7g5N-VmAP",
        "outputId": "4fcbb0c3-ee4b-4a04-9d97-98c12292fab8"
      },
      "source": [
        "\n",
        "track_name_list = []\n",
        "genre_class_list = []\n",
        "predict_avg_list = []\n",
        "\n",
        "for subdir in os.listdir(path):\n",
        "  track_name, genre_class, predict_avg = predict(subdir,model)\n",
        "  print(track_name, genre_class, predict_avg)\n",
        "  track_name_list.append(track_name)\n",
        "  genre_class_list.append(genre_class)\n",
        "  predict_avg_list.append(predict_avg)\n",
        "\n",
        "\n",
        "\n"
      ],
      "execution_count": 48,
      "outputs": [
        {
          "output_type": "stream",
          "text": [
            "Corpse Pose 8 [0.000e+00 0.000e+00 0.000e+00 4.000e-04 0.000e+00 3.000e-04 0.000e+00\n",
            " 3.000e-04 9.403e-01 5.870e-02]\n",
            "All Along the Watchtower 9 [0.000e+00 0.000e+00 0.000e+00 1.000e-04 0.000e+00 1.000e-04 0.000e+00\n",
            " 0.000e+00 3.064e-01 6.933e-01]\n",
            "LEAVING HELL 9 [0.     0.     0.     0.0234 0.     0.     0.     0.     0.028  0.9486]\n",
            "Love and or Hate Trigger 9 [0. 0. 0. 0. 0. 0. 0. 0. 0. 1.]\n",
            "Dsco 9 [0.     0.     0.     0.0012 0.     0.     0.     0.     0.0023 0.9965]\n",
            "Diary of a Rose 9 [0.     0.     0.     0.0015 0.     0.     0.     0.     0.05   0.9485]\n",
            "Abusey Junction 9 [0.     0.     0.     0.     0.     0.     0.     0.     0.1769 0.8231]\n",
            "Circuits 9 [0.000e+00 0.000e+00 0.000e+00 7.000e-04 0.000e+00 0.000e+00 0.000e+00\n",
            " 1.000e-04 4.000e-04 9.989e-01]\n",
            "Like a Buoy 9 [0.000e+00 0.000e+00 0.000e+00 2.630e-02 0.000e+00 1.000e-04 0.000e+00\n",
            " 1.000e-04 4.625e-01 5.110e-01]\n",
            "George Street 9 [0.     0.     0.     0.0071 0.     0.     0.     0.     0.1025 0.8904]\n",
            "Strings of Light 9 [0.    0.    0.    0.    0.    0.    0.    0.    0.015 0.985]\n",
            "Suede 9 [0.000e+00 0.000e+00 0.000e+00 6.000e-04 0.000e+00 0.000e+00 0.000e+00\n",
            " 0.000e+00 1.400e-03 9.979e-01]\n",
            "All Caps 9 [0.000e+00 0.000e+00 0.000e+00 1.400e-03 0.000e+00 0.000e+00 0.000e+00\n",
            " 3.000e-04 9.680e-02 9.015e-01]\n",
            "Send Me 9 [0.000e+00 1.000e-04 0.000e+00 0.000e+00 0.000e+00 2.000e-04 1.000e-04\n",
            " 0.000e+00 3.070e-02 9.688e-01]\n",
            "Peanuts Grow Underground 9 [0.     0.     0.     0.0098 0.     0.     0.     0.     0.0427 0.9475]\n",
            "Blue in Green (feat. John Coltrane & Bill Evans) 9 [0.000e+00 0.000e+00 0.000e+00 0.000e+00 0.000e+00 3.000e-04 0.000e+00\n",
            " 0.000e+00 1.021e-01 8.976e-01]\n",
            "We Are Family 9 [0.     0.     0.     0.     0.     0.     0.     0.     0.2099 0.7901]\n",
            "Oblivion 9 [0.     0.     0.     0.002  0.     0.     0.     0.     0.0081 0.9899]\n",
            "Slow (Loud) 9 [0.000e+00 0.000e+00 0.000e+00 2.000e-04 0.000e+00 0.000e+00 0.000e+00\n",
            " 0.000e+00 4.300e-03 9.955e-01]\n",
            "Track X 9 [0.000e+00 0.000e+00 0.000e+00 1.050e-02 7.000e-04 7.700e-03 0.000e+00\n",
            " 7.960e-02 6.910e-02 8.323e-01]\n",
            "Dark blue 9 [0.000e+00 0.000e+00 0.000e+00 0.000e+00 0.000e+00 1.000e-04 0.000e+00\n",
            " 4.000e-04 5.470e-02 9.448e-01]\n",
            "Bullet With a Name 8 [0.000e+00 0.000e+00 0.000e+00 1.100e-03 0.000e+00 0.000e+00 0.000e+00\n",
            " 2.000e-04 5.918e-01 4.068e-01]\n",
            "Wake Up 8 [0.000e+00 1.000e-04 0.000e+00 1.960e-02 0.000e+00 1.000e-04 0.000e+00\n",
            " 5.550e-02 5.707e-01 3.540e-01]\n",
            "Time 9 [0.000e+00 0.000e+00 0.000e+00 9.000e-04 0.000e+00 6.000e-04 0.000e+00\n",
            " 0.000e+00 1.830e-02 9.801e-01]\n",
            "Job's Lament 9 [0.000e+00 0.000e+00 0.000e+00 1.510e-02 0.000e+00 2.000e-04 0.000e+00\n",
            " 1.300e-03 1.430e-02 9.692e-01]\n",
            "Poison Tree 9 [0.000e+00 0.000e+00 0.000e+00 0.000e+00 0.000e+00 5.400e-03 0.000e+00\n",
            " 6.000e-04 2.000e-04 9.938e-01]\n",
            "A Message to You Rudy - 2002 Remaster 9 [0.     0.     0.     0.     0.     0.     0.     0.     0.0432 0.9567]\n",
            "Dirty Old Town 9 [0.000e+00 0.000e+00 0.000e+00 1.000e-04 0.000e+00 0.000e+00 0.000e+00\n",
            " 0.000e+00 1.005e-01 8.994e-01]\n",
            "Pressure Drop 9 [0.     0.     0.     0.     0.     0.     0.     0.     0.0048 0.9951]\n"
          ],
          "name": "stdout"
        }
      ]
    },
    {
      "cell_type": "code",
      "metadata": {
        "colab": {
          "base_uri": "https://localhost:8080/",
          "height": 212
        },
        "id": "ST8gZdPjc3wN",
        "outputId": "ad3ce2ba-f70b-4068-ae7b-531a41db4cbc"
      },
      "source": [
        "########## Predict and Add Results to a Datafram ################\n",
        "df_tracks = pd.DataFrame({'track_name':track_name_list,'genre_class':genre_class_list,'predict_avg':predict_avg_list})\n",
        "print(df_tracks.shape)\n",
        "df_tracks.head()"
      ],
      "execution_count": 49,
      "outputs": [
        {
          "output_type": "stream",
          "text": [
            "(29, 3)\n"
          ],
          "name": "stdout"
        },
        {
          "output_type": "execute_result",
          "data": {
            "text/html": [
              "<div>\n",
              "<style scoped>\n",
              "    .dataframe tbody tr th:only-of-type {\n",
              "        vertical-align: middle;\n",
              "    }\n",
              "\n",
              "    .dataframe tbody tr th {\n",
              "        vertical-align: top;\n",
              "    }\n",
              "\n",
              "    .dataframe thead th {\n",
              "        text-align: right;\n",
              "    }\n",
              "</style>\n",
              "<table border=\"1\" class=\"dataframe\">\n",
              "  <thead>\n",
              "    <tr style=\"text-align: right;\">\n",
              "      <th></th>\n",
              "      <th>track_name</th>\n",
              "      <th>genre_class</th>\n",
              "      <th>predict_avg</th>\n",
              "    </tr>\n",
              "  </thead>\n",
              "  <tbody>\n",
              "    <tr>\n",
              "      <th>0</th>\n",
              "      <td>Corpse Pose</td>\n",
              "      <td>8</td>\n",
              "      <td>[0.0, 0.0, 0.0, 0.0004, 0.0, 0.0003, 0.0, 0.00...</td>\n",
              "    </tr>\n",
              "    <tr>\n",
              "      <th>1</th>\n",
              "      <td>All Along the Watchtower</td>\n",
              "      <td>9</td>\n",
              "      <td>[0.0, 0.0, 0.0, 0.0001, 0.0, 0.0001, 0.0, 0.0,...</td>\n",
              "    </tr>\n",
              "    <tr>\n",
              "      <th>2</th>\n",
              "      <td>LEAVING HELL</td>\n",
              "      <td>9</td>\n",
              "      <td>[0.0, 0.0, 0.0, 0.0234, 0.0, 0.0, 0.0, 0.0, 0....</td>\n",
              "    </tr>\n",
              "    <tr>\n",
              "      <th>3</th>\n",
              "      <td>Love and or Hate Trigger</td>\n",
              "      <td>9</td>\n",
              "      <td>[0.0, 0.0, 0.0, 0.0, 0.0, 0.0, 0.0, 0.0, 0.0, ...</td>\n",
              "    </tr>\n",
              "    <tr>\n",
              "      <th>4</th>\n",
              "      <td>Dsco</td>\n",
              "      <td>9</td>\n",
              "      <td>[0.0, 0.0, 0.0, 0.0012, 0.0, 0.0, 0.0, 0.0, 0....</td>\n",
              "    </tr>\n",
              "  </tbody>\n",
              "</table>\n",
              "</div>"
            ],
            "text/plain": [
              "                 track_name  ...                                        predict_avg\n",
              "0               Corpse Pose  ...  [0.0, 0.0, 0.0, 0.0004, 0.0, 0.0003, 0.0, 0.00...\n",
              "1  All Along the Watchtower  ...  [0.0, 0.0, 0.0, 0.0001, 0.0, 0.0001, 0.0, 0.0,...\n",
              "2              LEAVING HELL  ...  [0.0, 0.0, 0.0, 0.0234, 0.0, 0.0, 0.0, 0.0, 0....\n",
              "3  Love and or Hate Trigger  ...  [0.0, 0.0, 0.0, 0.0, 0.0, 0.0, 0.0, 0.0, 0.0, ...\n",
              "4                      Dsco  ...  [0.0, 0.0, 0.0, 0.0012, 0.0, 0.0, 0.0, 0.0, 0....\n",
              "\n",
              "[5 rows x 3 columns]"
            ]
          },
          "metadata": {
            "tags": []
          },
          "execution_count": 49
        }
      ]
    },
    {
      "cell_type": "code",
      "metadata": {
        "id": "OZPqcYgGySvz"
      },
      "source": [
        "df.to_csv('predictions.csv')\n",
        "files.download('predictions.csv')"
      ],
      "execution_count": null,
      "outputs": []
    }
  ]
}