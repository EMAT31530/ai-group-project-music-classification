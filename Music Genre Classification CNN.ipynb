{
 "cells": [
  {
   "cell_type": "code",
   "execution_count": 1,
   "metadata": {},
   "outputs": [
    {
     "name": "stderr",
     "output_type": "stream",
     "text": [
      "/Users/garethflynn/opt/anaconda3/lib/python3.7/site-packages/tensorflow/python/framework/dtypes.py:516: FutureWarning: Passing (type, 1) or '1type' as a synonym of type is deprecated; in a future version of numpy, it will be understood as (type, (1,)) / '(1,)type'.\n",
      "  _np_qint8 = np.dtype([(\"qint8\", np.int8, 1)])\n",
      "/Users/garethflynn/opt/anaconda3/lib/python3.7/site-packages/tensorflow/python/framework/dtypes.py:517: FutureWarning: Passing (type, 1) or '1type' as a synonym of type is deprecated; in a future version of numpy, it will be understood as (type, (1,)) / '(1,)type'.\n",
      "  _np_quint8 = np.dtype([(\"quint8\", np.uint8, 1)])\n",
      "/Users/garethflynn/opt/anaconda3/lib/python3.7/site-packages/tensorflow/python/framework/dtypes.py:518: FutureWarning: Passing (type, 1) or '1type' as a synonym of type is deprecated; in a future version of numpy, it will be understood as (type, (1,)) / '(1,)type'.\n",
      "  _np_qint16 = np.dtype([(\"qint16\", np.int16, 1)])\n",
      "/Users/garethflynn/opt/anaconda3/lib/python3.7/site-packages/tensorflow/python/framework/dtypes.py:519: FutureWarning: Passing (type, 1) or '1type' as a synonym of type is deprecated; in a future version of numpy, it will be understood as (type, (1,)) / '(1,)type'.\n",
      "  _np_quint16 = np.dtype([(\"quint16\", np.uint16, 1)])\n",
      "/Users/garethflynn/opt/anaconda3/lib/python3.7/site-packages/tensorflow/python/framework/dtypes.py:520: FutureWarning: Passing (type, 1) or '1type' as a synonym of type is deprecated; in a future version of numpy, it will be understood as (type, (1,)) / '(1,)type'.\n",
      "  _np_qint32 = np.dtype([(\"qint32\", np.int32, 1)])\n",
      "/Users/garethflynn/opt/anaconda3/lib/python3.7/site-packages/tensorflow/python/framework/dtypes.py:525: FutureWarning: Passing (type, 1) or '1type' as a synonym of type is deprecated; in a future version of numpy, it will be understood as (type, (1,)) / '(1,)type'.\n",
      "  np_resource = np.dtype([(\"resource\", np.ubyte, 1)])\n",
      "/Users/garethflynn/opt/anaconda3/lib/python3.7/site-packages/tensorboard/compat/tensorflow_stub/dtypes.py:541: FutureWarning: Passing (type, 1) or '1type' as a synonym of type is deprecated; in a future version of numpy, it will be understood as (type, (1,)) / '(1,)type'.\n",
      "  _np_qint8 = np.dtype([(\"qint8\", np.int8, 1)])\n",
      "/Users/garethflynn/opt/anaconda3/lib/python3.7/site-packages/tensorboard/compat/tensorflow_stub/dtypes.py:542: FutureWarning: Passing (type, 1) or '1type' as a synonym of type is deprecated; in a future version of numpy, it will be understood as (type, (1,)) / '(1,)type'.\n",
      "  _np_quint8 = np.dtype([(\"quint8\", np.uint8, 1)])\n",
      "/Users/garethflynn/opt/anaconda3/lib/python3.7/site-packages/tensorboard/compat/tensorflow_stub/dtypes.py:543: FutureWarning: Passing (type, 1) or '1type' as a synonym of type is deprecated; in a future version of numpy, it will be understood as (type, (1,)) / '(1,)type'.\n",
      "  _np_qint16 = np.dtype([(\"qint16\", np.int16, 1)])\n",
      "/Users/garethflynn/opt/anaconda3/lib/python3.7/site-packages/tensorboard/compat/tensorflow_stub/dtypes.py:544: FutureWarning: Passing (type, 1) or '1type' as a synonym of type is deprecated; in a future version of numpy, it will be understood as (type, (1,)) / '(1,)type'.\n",
      "  _np_quint16 = np.dtype([(\"quint16\", np.uint16, 1)])\n",
      "/Users/garethflynn/opt/anaconda3/lib/python3.7/site-packages/tensorboard/compat/tensorflow_stub/dtypes.py:545: FutureWarning: Passing (type, 1) or '1type' as a synonym of type is deprecated; in a future version of numpy, it will be understood as (type, (1,)) / '(1,)type'.\n",
      "  _np_qint32 = np.dtype([(\"qint32\", np.int32, 1)])\n",
      "/Users/garethflynn/opt/anaconda3/lib/python3.7/site-packages/tensorboard/compat/tensorflow_stub/dtypes.py:550: FutureWarning: Passing (type, 1) or '1type' as a synonym of type is deprecated; in a future version of numpy, it will be understood as (type, (1,)) / '(1,)type'.\n",
      "  np_resource = np.dtype([(\"resource\", np.ubyte, 1)])\n",
      "Using TensorFlow backend.\n"
     ]
    }
   ],
   "source": [
    "import tensorflow as tf\n",
    "import numpy as np\n",
    "import scipy\n",
    "from scipy import misc\n",
    "import glob\n",
    "from PIL import Image\n",
    "import os\n",
    "import matplotlib.pyplot as plt\n",
    "import librosa\n",
    "from keras import layers\n",
    "from keras.layers import (Input, Add, Dense, Activation, ZeroPadding2D, BatchNormalization, Flatten, \n",
    "                          Conv2D, AveragePooling2D, MaxPooling2D, GlobalMaxPooling2D)\n",
    "from keras.models import Model, load_model\n",
    "from keras.preprocessing import image\n",
    "from keras.utils import layer_utils\n",
    "import pydot\n",
    "from IPython.display import SVG\n",
    "from keras.utils.vis_utils import model_to_dot\n",
    "from keras.utils import plot_model\n",
    "from keras.optimizers import Adam\n",
    "from keras.initializers import glorot_uniform\n",
    "from matplotlib.backends.backend_agg import FigureCanvasAgg as FigureCanvas\n",
    "from pydub import AudioSegment\n",
    "import shutil\n",
    "from keras.preprocessing.image import ImageDataGenerator\n",
    "import random"
   ]
  },
  {
   "cell_type": "code",
   "execution_count": 30,
   "metadata": {},
   "outputs": [
    {
     "name": "stdout",
     "output_type": "stream",
     "text": [
      "['pop', 'metal', 'disco', 'blues', 'reggae', 'classical', 'rock', 'hiphop', 'country', 'jazz']\n"
     ]
    }
   ],
   "source": [
    "import os\n",
    "data = 'Data'\n",
    "genres = list(os.listdir(f'{data}/images_original/'))\n",
    "genres.remove('.DS_Store')\n",
    "print(genres)"
   ]
  },
  {
   "cell_type": "code",
   "execution_count": 35,
   "metadata": {},
   "outputs": [],
   "source": [
    "directory = f\"{data}/images_original/\"\n",
    "for g in genres:\n",
    "  filenames = os.listdir(os.path.join(directory,f\"{g}\"))\n",
    "  random.shuffle(filenames)\n",
    "  test_files = filenames[0:30]\n",
    "\n",
    "  for f in test_files:\n",
    "\n",
    "    #shutil.move(directory + f\"{g}\"+ \"/\" + f,f\"{data}/images_test/\" + f\"{g}\")\n"
   ]
  },
  {
   "cell_type": "code",
   "execution_count": 49,
   "metadata": {},
   "outputs": [
    {
     "name": "stdout",
     "output_type": "stream",
     "text": [
      "Found 699 images belonging to 10 classes.\n"
     ]
    }
   ],
   "source": [
    "data_gen=tf.keras.preprocessing.image.ImageDataGenerator(rescale=1./255.)\n",
    "path='Data/images_original' \n",
    "image_datagentrain=data_gen.flow_from_directory(path,target_size=(288,432),color_mode=\"rgba\",batch_size=1,class_mode='categorical')"
   ]
  },
  {
   "cell_type": "code",
   "execution_count": 50,
   "metadata": {},
   "outputs": [
    {
     "name": "stdout",
     "output_type": "stream",
     "text": [
      "Found 300 images belonging to 10 classes.\n"
     ]
    }
   ],
   "source": [
    "path='Data/images_test'\n",
    "image_datagentest=data_gen.flow_from_directory(path,target_size=(288,432),color_mode=\"rgba\",batch_size=1,class_mode='categorical')"
   ]
  },
  {
   "cell_type": "code",
   "execution_count": 51,
   "metadata": {},
   "outputs": [],
   "source": [
    "def GenreModel(input_shape = (288,432,4),classes=10):\n",
    "  np.random.seed(10)\n",
    "  X_input = Input(input_shape)\n",
    "\n",
    "  X = Conv2D(8,kernel_size=(3,3),strides=(1,1),kernel_initializer = glorot_uniform(seed=9))(X_input)\n",
    "  X = BatchNormalization(axis=3)(X)\n",
    "  X = Activation('relu')(X)\n",
    "  X = MaxPooling2D((2,2))(X)\n",
    "  \n",
    "  X = Conv2D(16,kernel_size=(3,3),strides = (1,1),kernel_initializer=glorot_uniform(seed=9))(X)\n",
    "  X = BatchNormalization(axis=3)(X)\n",
    "  X = Activation('relu')(X)\n",
    "  X = MaxPooling2D((2,2))(X)\n",
    "  \n",
    "  X = Conv2D(32,kernel_size=(3,3),strides = (1,1),kernel_initializer = glorot_uniform(seed=9))(X)\n",
    "  X = BatchNormalization(axis=3)(X)\n",
    "  X = Activation('relu')(X)\n",
    "  X = MaxPooling2D((2,2))(X)\n",
    "\n",
    "  X = Conv2D(64,kernel_size=(3,3),strides=(1,1),kernel_initializer=glorot_uniform(seed=9))(X)\n",
    "  X = BatchNormalization(axis=-1)(X)\n",
    "  X = Activation('relu')(X)\n",
    "  X = MaxPooling2D((2,2))(X)\n",
    "\n",
    "  \n",
    "  X = Flatten()(X)\n",
    "\n",
    "  X = Dense(classes, activation='softmax', name='fc' + str(classes), kernel_initializer = glorot_uniform(seed=9))(X)\n",
    "\n",
    "  model = Model(inputs=X_input,outputs=X,name='GenreModel')\n",
    "\n",
    "  return model"
   ]
  },
  {
   "cell_type": "code",
   "execution_count": 56,
   "metadata": {},
   "outputs": [
    {
     "name": "stdout",
     "output_type": "stream",
     "text": [
      "Epoch 1/70\n",
      "699/699 [==============================] - 114s 163ms/step - loss: 4.2162 - accuracy: 0.2790 - get_f1: 0.2275 - val_loss: 0.0905 - val_accuracy: 0.2100 - val_get_f1: 0.1500\n",
      "Epoch 2/70\n",
      "699/699 [==============================] - 144s 206ms/step - loss: 1.9081 - accuracy: 0.4249 - get_f1: 0.3090 - val_loss: 0.2289 - val_accuracy: 0.3267 - val_get_f1: 0.2867\n",
      "Epoch 3/70\n",
      "699/699 [==============================] - 142s 203ms/step - loss: 1.2021 - accuracy: 0.5894 - get_f1: 0.5050 - val_loss: 1.4154 - val_accuracy: 0.4467 - val_get_f1: 0.3767\n",
      "Epoch 4/70\n",
      "699/699 [==============================] - 187s 267ms/step - loss: 0.8222 - accuracy: 0.7253 - get_f1: 0.6581 - val_loss: 3.0952 - val_accuracy: 0.4200 - val_get_f1: 0.3600\n",
      "Epoch 5/70\n",
      "699/699 [==============================] - 139s 199ms/step - loss: 0.5363 - accuracy: 0.8340 - get_f1: 0.7940 - val_loss: 0.5035 - val_accuracy: 0.4900 - val_get_f1: 0.4400\n",
      "Epoch 6/70\n",
      "699/699 [==============================] - 115s 165ms/step - loss: 0.3640 - accuracy: 0.8798 - get_f1: 0.8555 - val_loss: 4.8690 - val_accuracy: 0.5433 - val_get_f1: 0.5233\n",
      "Epoch 7/70\n",
      "699/699 [==============================] - 89s 128ms/step - loss: 0.1881 - accuracy: 0.9313 - get_f1: 0.9227 - val_loss: 0.0632 - val_accuracy: 0.5867 - val_get_f1: 0.5667\n",
      "Epoch 8/70\n",
      "699/699 [==============================] - 87s 124ms/step - loss: 0.1971 - accuracy: 0.9456 - get_f1: 0.9413 - val_loss: 3.3516e-04 - val_accuracy: 0.3067 - val_get_f1: 0.2967\n",
      "Epoch 9/70\n",
      "699/699 [==============================] - 83s 119ms/step - loss: 0.1398 - accuracy: 0.9599 - get_f1: 0.9571 - val_loss: 5.2199 - val_accuracy: 0.5167 - val_get_f1: 0.4867\n",
      "Epoch 10/70\n",
      "699/699 [==============================] - 82s 117ms/step - loss: 0.1472 - accuracy: 0.9628 - get_f1: 0.9585 - val_loss: 5.2415 - val_accuracy: 0.4967 - val_get_f1: 0.4700\n",
      "Epoch 11/70\n",
      "699/699 [==============================] - 91s 131ms/step - loss: 0.1730 - accuracy: 0.9385 - get_f1: 0.9371 - val_loss: 5.4268 - val_accuracy: 0.4567 - val_get_f1: 0.4467\n",
      "Epoch 12/70\n",
      "699/699 [==============================] - 86s 123ms/step - loss: 0.0934 - accuracy: 0.9714 - get_f1: 0.9700 - val_loss: 5.3319 - val_accuracy: 0.6200 - val_get_f1: 0.6067\n",
      "Epoch 13/70\n",
      "699/699 [==============================] - 86s 123ms/step - loss: 0.0469 - accuracy: 0.9928 - get_f1: 0.9928 - val_loss: 0.0066 - val_accuracy: 0.6167 - val_get_f1: 0.5933\n",
      "Epoch 14/70\n",
      "699/699 [==============================] - 85s 121ms/step - loss: 0.0780 - accuracy: 0.9814 - get_f1: 0.9800 - val_loss: 3.7290 - val_accuracy: 0.5400 - val_get_f1: 0.5300\n",
      "Epoch 15/70\n",
      "699/699 [==============================] - 92s 131ms/step - loss: 0.0686 - accuracy: 0.9871 - get_f1: 0.9871 - val_loss: 5.8073 - val_accuracy: 0.4200 - val_get_f1: 0.4200\n",
      "Epoch 16/70\n",
      "699/699 [==============================] - 87s 124ms/step - loss: 0.1807 - accuracy: 0.9499 - get_f1: 0.9456 - val_loss: 0.7470 - val_accuracy: 0.5000 - val_get_f1: 0.4833\n",
      "Epoch 17/70\n",
      "699/699 [==============================] - 86s 123ms/step - loss: 0.0246 - accuracy: 0.9928 - get_f1: 0.9928 - val_loss: 3.7592e-04 - val_accuracy: 0.5833 - val_get_f1: 0.5700\n",
      "Epoch 18/70\n",
      "699/699 [==============================] - 83s 119ms/step - loss: 0.0298 - accuracy: 0.9900 - get_f1: 0.9900 - val_loss: 0.4006 - val_accuracy: 0.5667 - val_get_f1: 0.5367\n",
      "Epoch 19/70\n",
      "699/699 [==============================] - 83s 119ms/step - loss: 0.0304 - accuracy: 0.9957 - get_f1: 0.9957 - val_loss: 13.4130 - val_accuracy: 0.5833 - val_get_f1: 0.5700\n",
      "Epoch 20/70\n",
      "699/699 [==============================] - 74s 106ms/step - loss: 0.0185 - accuracy: 0.9957 - get_f1: 0.9957 - val_loss: 1.8974 - val_accuracy: 0.5233 - val_get_f1: 0.5133\n",
      "Epoch 21/70\n",
      "699/699 [==============================] - 76s 109ms/step - loss: 0.1714 - accuracy: 0.9442 - get_f1: 0.9413 - val_loss: 0.0013 - val_accuracy: 0.4500 - val_get_f1: 0.4500\n",
      "Epoch 22/70\n",
      "699/699 [==============================] - 76s 109ms/step - loss: 0.0381 - accuracy: 0.9900 - get_f1: 0.9886 - val_loss: 5.6549 - val_accuracy: 0.5833 - val_get_f1: 0.5733\n",
      "Epoch 23/70\n",
      "699/699 [==============================] - 75s 108ms/step - loss: 0.0197 - accuracy: 0.9957 - get_f1: 0.9957 - val_loss: 2.7808e-04 - val_accuracy: 0.6100 - val_get_f1: 0.5867\n",
      "Epoch 24/70\n",
      "699/699 [==============================] - 75s 108ms/step - loss: 0.0284 - accuracy: 0.9943 - get_f1: 0.9943 - val_loss: 5.1139e-05 - val_accuracy: 0.6033 - val_get_f1: 0.5800\n",
      "Epoch 25/70\n",
      "699/699 [==============================] - 76s 109ms/step - loss: 0.0667 - accuracy: 0.9814 - get_f1: 0.9800 - val_loss: 11.1072 - val_accuracy: 0.5600 - val_get_f1: 0.5367\n",
      "Epoch 26/70\n",
      "699/699 [==============================] - 76s 109ms/step - loss: 0.0461 - accuracy: 0.9886 - get_f1: 0.9886 - val_loss: 0.0084 - val_accuracy: 0.5433 - val_get_f1: 0.5367\n",
      "Epoch 27/70\n",
      "699/699 [==============================] - 76s 109ms/step - loss: 0.0099 - accuracy: 0.9986 - get_f1: 0.9986 - val_loss: 4.9847 - val_accuracy: 0.5700 - val_get_f1: 0.5400\n",
      "Epoch 28/70\n",
      "699/699 [==============================] - 76s 108ms/step - loss: 0.0120 - accuracy: 0.9971 - get_f1: 0.9971 - val_loss: 6.5565e-06 - val_accuracy: 0.5900 - val_get_f1: 0.5700\n",
      "Epoch 29/70\n",
      "699/699 [==============================] - 76s 109ms/step - loss: 0.0811 - accuracy: 0.9757 - get_f1: 0.9757 - val_loss: 1.1057 - val_accuracy: 0.4767 - val_get_f1: 0.4633\n",
      "Epoch 30/70\n",
      "699/699 [==============================] - 631s 902ms/step - loss: 0.0347 - accuracy: 0.9900 - get_f1: 0.9900 - val_loss: 0.0000e+00 - val_accuracy: 0.5533 - val_get_f1: 0.5400\n",
      "Epoch 31/70\n",
      "699/699 [==============================] - 77s 111ms/step - loss: 0.0196 - accuracy: 0.9957 - get_f1: 0.9957 - val_loss: 2.3149 - val_accuracy: 0.5800 - val_get_f1: 0.5633\n",
      "Epoch 32/70\n",
      "699/699 [==============================] - 82s 117ms/step - loss: 0.0179 - accuracy: 0.9957 - get_f1: 0.9957 - val_loss: 3.6359 - val_accuracy: 0.5700 - val_get_f1: 0.5633\n",
      "Epoch 33/70\n",
      "699/699 [==============================] - 98s 140ms/step - loss: 0.0069 - accuracy: 0.9986 - get_f1: 0.9986 - val_loss: 4.2707 - val_accuracy: 0.5567 - val_get_f1: 0.5367\n",
      "Epoch 34/70\n",
      "699/699 [==============================] - 86s 123ms/step - loss: 0.0162 - accuracy: 0.9971 - get_f1: 0.9971 - val_loss: 0.6667 - val_accuracy: 0.5833 - val_get_f1: 0.5833\n",
      "Epoch 35/70\n",
      "699/699 [==============================] - 85s 122ms/step - loss: 0.0576 - accuracy: 0.9871 - get_f1: 0.9871 - val_loss: 5.9050 - val_accuracy: 0.5200 - val_get_f1: 0.5033\n",
      "Epoch 36/70\n",
      "699/699 [==============================] - 86s 122ms/step - loss: 0.0535 - accuracy: 0.9871 - get_f1: 0.9857 - val_loss: 8.4615 - val_accuracy: 0.5733 - val_get_f1: 0.5533\n",
      "Epoch 37/70\n",
      "699/699 [==============================] - 86s 123ms/step - loss: 0.0134 - accuracy: 0.9971 - get_f1: 0.9971 - val_loss: 5.6150 - val_accuracy: 0.5267 - val_get_f1: 0.5067\n",
      "Epoch 38/70\n",
      "699/699 [==============================] - 86s 122ms/step - loss: 0.0093 - accuracy: 0.9971 - get_f1: 0.9971 - val_loss: 0.0011 - val_accuracy: 0.5567 - val_get_f1: 0.5533\n",
      "Epoch 39/70\n",
      "699/699 [==============================] - 86s 123ms/step - loss: 0.0207 - accuracy: 0.9971 - get_f1: 0.9971 - val_loss: 6.3482 - val_accuracy: 0.5800 - val_get_f1: 0.5633\n",
      "Epoch 40/70\n",
      "699/699 [==============================] - 86s 122ms/step - loss: 0.0094 - accuracy: 0.9971 - get_f1: 0.9971 - val_loss: 5.5096 - val_accuracy: 0.5667 - val_get_f1: 0.5567\n",
      "Epoch 41/70\n",
      "699/699 [==============================] - 85s 122ms/step - loss: 0.0588 - accuracy: 0.9857 - get_f1: 0.9857 - val_loss: 0.0024 - val_accuracy: 0.4633 - val_get_f1: 0.4567\n",
      "Epoch 42/70\n",
      "699/699 [==============================] - 85s 121ms/step - loss: 0.0747 - accuracy: 0.9843 - get_f1: 0.9843 - val_loss: 0.4090 - val_accuracy: 0.5000 - val_get_f1: 0.4733\n",
      "Epoch 43/70\n",
      "699/699 [==============================] - 85s 122ms/step - loss: 0.0098 - accuracy: 0.9986 - get_f1: 0.9971 - val_loss: 1.6304 - val_accuracy: 0.5633 - val_get_f1: 0.5600\n",
      "Epoch 44/70\n",
      "699/699 [==============================] - 86s 122ms/step - loss: 0.0073 - accuracy: 0.9986 - get_f1: 0.9986 - val_loss: 0.0245 - val_accuracy: 0.5667 - val_get_f1: 0.5600\n",
      "Epoch 45/70\n"
     ]
    },
    {
     "name": "stdout",
     "output_type": "stream",
     "text": [
      "699/699 [==============================] - 82s 118ms/step - loss: 0.0123 - accuracy: 0.9971 - get_f1: 0.9971 - val_loss: 3.7535 - val_accuracy: 0.5533 - val_get_f1: 0.5367\n",
      "Epoch 46/70\n",
      "699/699 [==============================] - 82s 117ms/step - loss: 0.0055 - accuracy: 0.9986 - get_f1: 0.9986 - val_loss: 0.3061 - val_accuracy: 0.5633 - val_get_f1: 0.5533\n",
      "Epoch 47/70\n",
      "699/699 [==============================] - 82s 118ms/step - loss: 0.0058 - accuracy: 0.9986 - get_f1: 0.9986 - val_loss: 0.0184 - val_accuracy: 0.5600 - val_get_f1: 0.5233\n",
      "Epoch 48/70\n",
      "699/699 [==============================] - 82s 118ms/step - loss: 0.0072 - accuracy: 0.9971 - get_f1: 0.9971 - val_loss: 0.6949 - val_accuracy: 0.5433 - val_get_f1: 0.5300\n",
      "Epoch 49/70\n",
      "699/699 [==============================] - 82s 117ms/step - loss: 0.0102 - accuracy: 0.9971 - get_f1: 0.9971 - val_loss: 0.0061 - val_accuracy: 0.5800 - val_get_f1: 0.5633\n",
      "Epoch 50/70\n",
      "699/699 [==============================] - 82s 117ms/step - loss: 0.0113 - accuracy: 0.9986 - get_f1: 0.9986 - val_loss: 1.7723 - val_accuracy: 0.5100 - val_get_f1: 0.5033\n",
      "Epoch 51/70\n",
      "699/699 [==============================] - 85s 122ms/step - loss: 0.0367 - accuracy: 0.9928 - get_f1: 0.9928 - val_loss: 2.3603e-05 - val_accuracy: 0.5233 - val_get_f1: 0.5100\n",
      "Epoch 52/70\n",
      "699/699 [==============================] - 83s 118ms/step - loss: 0.0105 - accuracy: 0.9986 - get_f1: 0.9986 - val_loss: 2.2970 - val_accuracy: 0.5100 - val_get_f1: 0.4933\n",
      "Epoch 53/70\n",
      "699/699 [==============================] - 75s 108ms/step - loss: 0.0147 - accuracy: 0.9971 - get_f1: 0.9971 - val_loss: 4.5361 - val_accuracy: 0.5433 - val_get_f1: 0.5167\n",
      "Epoch 54/70\n",
      "699/699 [==============================] - 265s 379ms/step - loss: 0.0053 - accuracy: 0.9971 - get_f1: 0.9971 - val_loss: 4.2990e-04 - val_accuracy: 0.5233 - val_get_f1: 0.5033\n",
      "Epoch 55/70\n",
      "699/699 [==============================] - 83s 119ms/step - loss: 0.0059 - accuracy: 0.9986 - get_f1: 0.9986 - val_loss: 7.6991 - val_accuracy: 0.5567 - val_get_f1: 0.5500\n",
      "Epoch 56/70\n",
      "699/699 [==============================] - 83s 119ms/step - loss: 0.0067 - accuracy: 0.9986 - get_f1: 0.9986 - val_loss: 5.4395 - val_accuracy: 0.5233 - val_get_f1: 0.5033\n",
      "Epoch 57/70\n",
      "699/699 [==============================] - 83s 119ms/step - loss: 0.0192 - accuracy: 0.9943 - get_f1: 0.9943 - val_loss: 6.6805 - val_accuracy: 0.4767 - val_get_f1: 0.4667\n",
      "Epoch 58/70\n",
      "699/699 [==============================] - 84s 121ms/step - loss: 0.0560 - accuracy: 0.9800 - get_f1: 0.9800 - val_loss: 5.9247 - val_accuracy: 0.5133 - val_get_f1: 0.5067\n",
      "Epoch 59/70\n",
      "699/699 [==============================] - 84s 121ms/step - loss: 0.0087 - accuracy: 0.9986 - get_f1: 0.9986 - val_loss: 0.0103 - val_accuracy: 0.5167 - val_get_f1: 0.5100\n",
      "Epoch 60/70\n",
      "699/699 [==============================] - 83s 119ms/step - loss: 0.0118 - accuracy: 0.9957 - get_f1: 0.9943 - val_loss: 0.0556 - val_accuracy: 0.5333 - val_get_f1: 0.5267\n",
      "Epoch 61/70\n",
      "699/699 [==============================] - 83s 119ms/step - loss: 0.0052 - accuracy: 0.9986 - get_f1: 0.9986 - val_loss: 0.0044 - val_accuracy: 0.5267 - val_get_f1: 0.5233\n",
      "Epoch 62/70\n",
      "699/699 [==============================] - 84s 120ms/step - loss: 0.0047 - accuracy: 0.9986 - get_f1: 0.9986 - val_loss: 5.0983 - val_accuracy: 0.5100 - val_get_f1: 0.4967\n",
      "Epoch 63/70\n",
      "699/699 [==============================] - 84s 120ms/step - loss: 0.0054 - accuracy: 0.9971 - get_f1: 0.9971 - val_loss: 2.9921 - val_accuracy: 0.5233 - val_get_f1: 0.5067\n",
      "Epoch 64/70\n",
      "699/699 [==============================] - 83s 119ms/step - loss: 0.0041 - accuracy: 0.9971 - get_f1: 0.9971 - val_loss: 0.0634 - val_accuracy: 0.5333 - val_get_f1: 0.5033\n",
      "Epoch 65/70\n",
      "699/699 [==============================] - 85s 121ms/step - loss: 0.0052 - accuracy: 0.9986 - get_f1: 0.9986 - val_loss: 0.0146 - val_accuracy: 0.5533 - val_get_f1: 0.5300\n",
      "Epoch 66/70\n",
      "699/699 [==============================] - 83s 119ms/step - loss: 0.0055 - accuracy: 0.9986 - get_f1: 0.9986 - val_loss: 3.8043 - val_accuracy: 0.5567 - val_get_f1: 0.5467\n",
      "Epoch 67/70\n",
      "699/699 [==============================] - 83s 119ms/step - loss: 0.0091 - accuracy: 0.9986 - get_f1: 0.9986 - val_loss: 0.4826 - val_accuracy: 0.5100 - val_get_f1: 0.4733\n",
      "Epoch 68/70\n",
      "699/699 [==============================] - 85s 122ms/step - loss: 0.0064 - accuracy: 0.9971 - get_f1: 0.9971 - val_loss: 0.4712 - val_accuracy: 0.5233 - val_get_f1: 0.5167\n",
      "Epoch 69/70\n",
      "699/699 [==============================] - 84s 120ms/step - loss: 0.0081 - accuracy: 0.9957 - get_f1: 0.9957 - val_loss: 0.5041 - val_accuracy: 0.5033 - val_get_f1: 0.5000\n",
      "Epoch 70/70\n",
      "699/699 [==============================] - 85s 122ms/step - loss: 0.0757 - accuracy: 0.9857 - get_f1: 0.9843 - val_loss: 4.0202 - val_accuracy: 0.5233 - val_get_f1: 0.5233\n"
     ]
    },
    {
     "data": {
      "text/plain": [
       "<keras.callbacks.callbacks.History at 0x7feb68335750>"
      ]
     },
     "execution_count": 56,
     "metadata": {},
     "output_type": "execute_result"
    }
   ],
   "source": [
    "import keras.backend as K\n",
    "def get_f1(y_true, y_pred): \n",
    "    true_positives = K.sum(K.round(K.clip(y_true * y_pred, 0, 1)))\n",
    "    possible_positives = K.sum(K.round(K.clip(y_true, 0, 1)))\n",
    "    predicted_positives = K.sum(K.round(K.clip(y_pred, 0, 1)))\n",
    "    precision = true_positives / (predicted_positives + K.epsilon())\n",
    "    recall = true_positives / (possible_positives + K.epsilon())\n",
    "    f1_val = 2*(precision*recall)/(precision+recall+K.epsilon())\n",
    "    return f1_val\n",
    "  \n",
    "model = GenreModel(input_shape=(288,432,4),classes=10)\n",
    "opt = Adam(learning_rate=0.0005)\n",
    "model.compile(optimizer = opt,loss='categorical_crossentropy',metrics=['accuracy',get_f1]) \n",
    "\n",
    "model.fit_generator(image_datagentrain, epochs=10, validation_data = image_datagentest)"
   ]
  },
  {
   "cell_type": "code",
   "execution_count": null,
   "metadata": {},
   "outputs": [],
   "source": []
  }
 ],
 "metadata": {
  "kernelspec": {
   "display_name": "Python 3",
   "language": "python",
   "name": "python3"
  },
  "language_info": {
   "codemirror_mode": {
    "name": "ipython",
    "version": 3
   },
   "file_extension": ".py",
   "mimetype": "text/x-python",
   "name": "python",
   "nbconvert_exporter": "python",
   "pygments_lexer": "ipython3",
   "version": "3.7.6"
  }
 },
 "nbformat": 4,
 "nbformat_minor": 4
}
