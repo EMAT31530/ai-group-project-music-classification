{
 "cells": [
  {
   "cell_type": "code",
   "execution_count": 8,
   "metadata": {
    "id": "je9BKiJSPY8s"
   },
   "outputs": [],
   "source": [
    "import numpy as np\n",
    "import pandas as pd\n",
    "import matplotlib.pyplot as plt\n",
    "import tensorflow as tf\n",
    "import os"
   ]
  },
  {
   "cell_type": "code",
   "execution_count": 9,
   "metadata": {
    "colab": {
     "base_uri": "https://localhost:8080/"
    },
    "id": "glFSHBHabFeA",
    "outputId": "1e0d5a05-f32f-4de9-f0df-533119ace7b1"
   },
   "outputs": [],
   "source": [
    "path = '/Users/jayvier/Documents/GitHub/GTZAN_Dataset/images_original'"
   ]
  },
  {
   "cell_type": "code",
   "execution_count": 10,
   "metadata": {
    "id": "lvw4l1QF_dHS"
   },
   "outputs": [],
   "source": [
    "#Rescale Image Data\n",
    "data_gen=tf.keras.preprocessing.image.ImageDataGenerator(rescale=1./255., validation_split=0.2)"
   ]
  },
  {
   "cell_type": "code",
   "execution_count": 11,
   "metadata": {
    "colab": {
     "base_uri": "https://localhost:8080/"
    },
    "id": "L2FrOdn_AKbw",
    "outputId": "67c846cc-0c60-4ba1-dc7e-d2c3162e7782"
   },
   "outputs": [
    {
     "name": "stdout",
     "output_type": "stream",
     "text": [
      "Found 800 images belonging to 10 classes.\n"
     ]
    }
   ],
   "source": [
    "batch_size = 32\n",
    "train_generator=data_gen.flow_from_directory(path, target_size=(300,300), batch_size=batch_size, class_mode = 'categorical', subset='training')"
   ]
  },
  {
   "cell_type": "code",
   "execution_count": 12,
   "metadata": {
    "colab": {
     "base_uri": "https://localhost:8080/"
    },
    "id": "nm23xOMPWGDj",
    "outputId": "1f741a61-e3c8-4510-9b6d-ce0eaaf267b1"
   },
   "outputs": [
    {
     "name": "stdout",
     "output_type": "stream",
     "text": [
      "Found 199 images belonging to 10 classes.\n"
     ]
    }
   ],
   "source": [
    "validation_generator = image_datagen_train=data_gen.flow_from_directory(path, target_size=(300,300), batch_size=32, class_mode = 'categorical', subset='validation')"
   ]
  },
  {
   "cell_type": "markdown",
   "metadata": {
    "id": "8JehKsGtTKos"
   },
   "source": [
    "#### Transfer learning with VGG16\n",
    "\n",
    "We will use the VGG16 model that has been pre-trained on a dataset of images. Then freeze the layers and add new trainable layers to run on our dataset."
   ]
  },
  {
   "cell_type": "code",
   "execution_count": 13,
   "metadata": {
    "colab": {
     "base_uri": "https://localhost:8080/"
    },
    "id": "Fo6aS22gTUIW",
    "outputId": "d5bddeb6-a3fc-4404-8e37-09fb64163e24"
   },
   "outputs": [],
   "source": [
    "from tensorflow.keras.applications import VGG16\n",
    "\n",
    "model = VGG16(include_top=False, input_shape=(300,300,3))"
   ]
  },
  {
   "cell_type": "code",
   "execution_count": 14,
   "metadata": {
    "id": "kNfQe2JBnIP4"
   },
   "outputs": [],
   "source": [
    "for layer in model.layers:\n",
    "  layer.trainable=False         # Freezes the layers"
   ]
  },
  {
   "cell_type": "code",
   "execution_count": 15,
   "metadata": {
    "colab": {
     "base_uri": "https://localhost:8080/"
    },
    "id": "8O3z1wSqoCI-",
    "outputId": "5cc5da00-615d-45ca-95bb-ca6a726efb08"
   },
   "outputs": [
    {
     "name": "stdout",
     "output_type": "stream",
     "text": [
      "Model: \"vgg16\"\n",
      "_________________________________________________________________\n",
      "Layer (type)                 Output Shape              Param #   \n",
      "=================================================================\n",
      "input_1 (InputLayer)         [(None, 300, 300, 3)]     0         \n",
      "_________________________________________________________________\n",
      "block1_conv1 (Conv2D)        (None, 300, 300, 64)      1792      \n",
      "_________________________________________________________________\n",
      "block1_conv2 (Conv2D)        (None, 300, 300, 64)      36928     \n",
      "_________________________________________________________________\n",
      "block1_pool (MaxPooling2D)   (None, 150, 150, 64)      0         \n",
      "_________________________________________________________________\n",
      "block2_conv1 (Conv2D)        (None, 150, 150, 128)     73856     \n",
      "_________________________________________________________________\n",
      "block2_conv2 (Conv2D)        (None, 150, 150, 128)     147584    \n",
      "_________________________________________________________________\n",
      "block2_pool (MaxPooling2D)   (None, 75, 75, 128)       0         \n",
      "_________________________________________________________________\n",
      "block3_conv1 (Conv2D)        (None, 75, 75, 256)       295168    \n",
      "_________________________________________________________________\n",
      "block3_conv2 (Conv2D)        (None, 75, 75, 256)       590080    \n",
      "_________________________________________________________________\n",
      "block3_conv3 (Conv2D)        (None, 75, 75, 256)       590080    \n",
      "_________________________________________________________________\n",
      "block3_pool (MaxPooling2D)   (None, 37, 37, 256)       0         \n",
      "_________________________________________________________________\n",
      "block4_conv1 (Conv2D)        (None, 37, 37, 512)       1180160   \n",
      "_________________________________________________________________\n",
      "block4_conv2 (Conv2D)        (None, 37, 37, 512)       2359808   \n",
      "_________________________________________________________________\n",
      "block4_conv3 (Conv2D)        (None, 37, 37, 512)       2359808   \n",
      "_________________________________________________________________\n",
      "block4_pool (MaxPooling2D)   (None, 18, 18, 512)       0         \n",
      "_________________________________________________________________\n",
      "block5_conv1 (Conv2D)        (None, 18, 18, 512)       2359808   \n",
      "_________________________________________________________________\n",
      "block5_conv2 (Conv2D)        (None, 18, 18, 512)       2359808   \n",
      "_________________________________________________________________\n",
      "block5_conv3 (Conv2D)        (None, 18, 18, 512)       2359808   \n",
      "_________________________________________________________________\n",
      "block5_pool (MaxPooling2D)   (None, 9, 9, 512)         0         \n",
      "=================================================================\n",
      "Total params: 14,714,688\n",
      "Trainable params: 0\n",
      "Non-trainable params: 14,714,688\n",
      "_________________________________________________________________\n"
     ]
    }
   ],
   "source": [
    "model.summary()       # summary of convolutional layers in VGG16 model"
   ]
  },
  {
   "cell_type": "code",
   "execution_count": 16,
   "metadata": {
    "id": "k-46mwdsfbPq"
   },
   "outputs": [],
   "source": [
    "output=model.layers[-1].output\n",
    "model_final=tf.keras.layers.Flatten()(output)\n",
    "model_final=tf.keras.layers.Dense(512,activation='relu')(model_final)\n",
    "model_final=tf.keras.layers.Dense(64,activation='relu')(model_final)\n",
    "model_final=tf.keras.layers.Dense(10,activation='softmax')(model_final)"
   ]
  },
  {
   "cell_type": "code",
   "execution_count": 17,
   "metadata": {
    "id": "akuS6E3GhmrZ"
   },
   "outputs": [],
   "source": [
    "model=tf.keras.models.Model(model.input,model_final)\n",
    "\n",
    "model.compile(optimizer='adam',\n",
    "              loss='categorical_crossentropy',\n",
    "              metrics=['accuracy'])"
   ]
  },
  {
   "cell_type": "code",
   "execution_count": 12,
   "metadata": {
    "colab": {
     "base_uri": "https://localhost:8080/"
    },
    "id": "pRIXEsNqh82Q",
    "outputId": "16f22893-6d4e-47ec-fc6d-a3ce07d02058"
   },
   "outputs": [
    {
     "name": "stdout",
     "output_type": "stream",
     "text": [
      "Epoch 1/10\n",
      "25/25 [==============================] - 224s 9s/step - loss: 3.5410 - accuracy: 0.2262 - val_loss: 1.9715 - val_accuracy: 0.3125\n",
      "Epoch 2/10\n",
      "25/25 [==============================] - 247s 10s/step - loss: 1.3953 - accuracy: 0.5075 - val_loss: 1.5523 - val_accuracy: 0.5000\n",
      "Epoch 3/10\n",
      "25/25 [==============================] - 256s 10s/step - loss: 0.9587 - accuracy: 0.6762 - val_loss: 1.4294 - val_accuracy: 0.5469\n",
      "Epoch 4/10\n",
      "25/25 [==============================] - 238s 10s/step - loss: 0.7210 - accuracy: 0.7912 - val_loss: 1.2022 - val_accuracy: 0.6146\n",
      "Epoch 5/10\n",
      "25/25 [==============================] - 241s 10s/step - loss: 0.6598 - accuracy: 0.8087 - val_loss: 1.2528 - val_accuracy: 0.5938\n",
      "Epoch 6/10\n",
      "25/25 [==============================] - 231s 9s/step - loss: 0.5449 - accuracy: 0.8388 - val_loss: 1.2119 - val_accuracy: 0.5990\n",
      "Epoch 7/10\n",
      "25/25 [==============================] - 219s 9s/step - loss: 0.4185 - accuracy: 0.8938 - val_loss: 1.1809 - val_accuracy: 0.6250\n",
      "Epoch 8/10\n",
      "25/25 [==============================] - 221s 9s/step - loss: 0.3739 - accuracy: 0.8975 - val_loss: 1.4060 - val_accuracy: 0.5938\n",
      "Epoch 9/10\n",
      "25/25 [==============================] - 211s 8s/step - loss: 0.3329 - accuracy: 0.9137 - val_loss: 1.4113 - val_accuracy: 0.5781\n",
      "Epoch 10/10\n",
      "25/25 [==============================] - 232s 9s/step - loss: 0.2246 - accuracy: 0.9638 - val_loss: 1.4693 - val_accuracy: 0.5625\n"
     ]
    },
    {
     "data": {
      "text/plain": [
       "<tensorflow.python.keras.callbacks.History at 0x7fc981c1c1c0>"
      ]
     },
     "execution_count": 12,
     "metadata": {},
     "output_type": "execute_result"
    }
   ],
   "source": [
    "#model.fit_generator(image_datagen,epochs=10)\n",
    "model.fit(\n",
    "    train_generator,\n",
    "    steps_per_epoch = train_generator.samples // batch_size,\n",
    "    validation_data = validation_generator, \n",
    "    validation_steps = validation_generator.samples // batch_size,\n",
    "    epochs = 10)"
   ]
  },
  {
   "cell_type": "code",
   "execution_count": 18,
   "metadata": {
    "id": "orZUaiZNoDdG"
   },
   "outputs": [],
   "source": [
    "model_dropout=tf.keras.layers.Flatten()(output)\n",
    "model_dropout=tf.keras.layers.Dense(512, activation='elu')(model_dropout)\n",
    "model_dropout=tf.keras.layers.Dense(64, activation='elu')(model_dropout)\n",
    "model_dropout=tf.keras.layers.Dense(64, activation='elu')(model_dropout) \n",
    "model_dropout=tf.keras.layers.Dropout(0.2)(model_dropout)        # Single Dropout layer added with a dropout rate of 0.5\n",
    "model_dropout=tf.keras.layers.Dense(10, activation='softmax')(model_dropout)"
   ]
  },
  {
   "cell_type": "code",
   "execution_count": 19,
   "metadata": {
    "id": "MM6Pk6H_x-T1"
   },
   "outputs": [],
   "source": [
    "dmodel=tf.keras.models.Model(model.input, model_dropout)\n",
    "\n",
    "dmodel.compile(optimizer='adam',\n",
    "               loss='categorical_crossentropy',\n",
    "               metrics=['acc'])"
   ]
  },
  {
   "cell_type": "code",
   "execution_count": 20,
   "metadata": {
    "colab": {
     "base_uri": "https://localhost:8080/"
    },
    "id": "XPj4kW5C0KVk",
    "outputId": "ca6ad819-088c-46d2-f44e-1eb3339afd7a"
   },
   "outputs": [
    {
     "name": "stdout",
     "output_type": "stream",
     "text": [
      "Epoch 1/10\n",
      "25/25 [==============================] - 218s 9s/step - loss: 4.3870 - acc: 0.1587 - val_loss: 1.9001 - val_acc: 0.3438\n",
      "Epoch 2/10\n",
      "25/25 [==============================] - 210s 8s/step - loss: 1.7298 - acc: 0.4125 - val_loss: 1.9227 - val_acc: 0.2760\n",
      "Epoch 3/10\n",
      "25/25 [==============================] - 210s 8s/step - loss: 1.4332 - acc: 0.5038 - val_loss: 1.5372 - val_acc: 0.5104\n",
      "Epoch 4/10\n",
      "25/25 [==============================] - 208s 8s/step - loss: 1.2570 - acc: 0.5612 - val_loss: 1.4479 - val_acc: 0.5573\n",
      "Epoch 5/10\n",
      "25/25 [==============================] - 209s 8s/step - loss: 1.0813 - acc: 0.6425 - val_loss: 1.3069 - val_acc: 0.5469\n",
      "Epoch 6/10\n",
      "25/25 [==============================] - 229s 9s/step - loss: 0.9355 - acc: 0.6963 - val_loss: 1.5138 - val_acc: 0.5365\n",
      "Epoch 7/10\n",
      "25/25 [==============================] - 231s 9s/step - loss: 0.7551 - acc: 0.7525 - val_loss: 1.1836 - val_acc: 0.6302\n",
      "Epoch 8/10\n",
      "25/25 [==============================] - 233s 9s/step - loss: 0.5972 - acc: 0.7937 - val_loss: 1.2366 - val_acc: 0.6406\n",
      "Epoch 9/10\n",
      "25/25 [==============================] - 234s 9s/step - loss: 0.4443 - acc: 0.8525 - val_loss: 1.3715 - val_acc: 0.6146\n",
      "Epoch 10/10\n",
      "25/25 [==============================] - 229s 9s/step - loss: 0.3902 - acc: 0.8813 - val_loss: 1.5356 - val_acc: 0.5625\n"
     ]
    }
   ],
   "source": [
    "model_histories = {}\n",
    "\n",
    "model_histories['Dropout'] = dmodel.fit(train_generator,\n",
    "                                        steps_per_epoch = train_generator.samples // batch_size,\n",
    "                                        validation_data = validation_generator,\n",
    "                                        validation_steps = validation_generator.samples // batch_size,\n",
    "                                        epochs = 10)"
   ]
  },
  {
   "cell_type": "code",
   "execution_count": 21,
   "metadata": {},
   "outputs": [
    {
     "data": {
      "image/png": "[encoded data removed]",
      "text/plain": [
       "<Figure size 864x288 with 2 Axes>"
      ]
     },
     "metadata": {
      "needs_background": "light"
     },
     "output_type": "display_data"
    },
    {
     "data": {
      "text/plain": [
       "<Figure size 864x288 with 0 Axes>"
      ]
     },
     "metadata": {},
     "output_type": "display_data"
    }
   ],
   "source": [
    "fig = plt.figure(figsize=(12,4))\n",
    "fig.suptitle('Dropout model', fontsize=18)\n",
    "\n",
    "plt.subplot(1,2,1)          # no. of columns=1, no. of rows=2, pos=1\n",
    "plt.plot(np.linspace(1,10,10), model_histories['Dropout'].history['acc'], label='training')\n",
    "plt.plot(model_histories['Dropout'].history['val_acc'], label='validation')\n",
    "plt.xlabel('Epoch')\n",
    "plt.ylabel('Accuracy')\n",
    "plt.title('Accuracy')\n",
    "plt.legend()\n",
    "\n",
    "plt.subplot(1,2,2)\n",
    "plt.plot(np.linspace(1,10,10), model_histories['Dropout'].history['loss'], label='training')\n",
    "plt.plot(model_histories['Dropout'].history['val_loss'], label='validation')\n",
    "plt.xlabel('Epoch')\n",
    "plt.ylabel('Loss')\n",
    "plt.title('Loss')\n",
    "plt.legend()\n",
    "\n",
    "fig2 = plt.figure(figsize=(12,4))\n",
    "fig2.suptitle('Model', fontsize=18)\n",
    "\n",
    "plt.show()"
   ]
  },
  {
   "cell_type": "code",
   "execution_count": null,
   "metadata": {},
   "outputs": [],
   "source": []
  },
  {
   "cell_type": "code",
   "execution_count": 86,
   "metadata": {},
   "outputs": [
    {
     "data": {
      "text/plain": [
       "{'loss': [2.8877272605895996,\n",
       "  2.2802553176879883,\n",
       "  2.2866437435150146,\n",
       "  2.261284112930298,\n",
       "  2.205432176589966,\n",
       "  2.2396185398101807,\n",
       "  2.230015277862549,\n",
       "  2.1942946910858154,\n",
       "  2.1988883018493652,\n",
       "  2.1664798259735107],\n",
       " 'acc': [0.0925000011920929,\n",
       "  0.11500000208616257,\n",
       "  0.1274999976158142,\n",
       "  0.13625000417232513,\n",
       "  0.1550000011920929,\n",
       "  0.13625000417232513,\n",
       "  0.14249999821186066,\n",
       "  0.1537500023841858,\n",
       "  0.14499999582767487,\n",
       "  0.1550000011920929],\n",
       " 'val_loss': [2.2054872512817383,\n",
       "  2.2923104763031006,\n",
       "  2.295053243637085,\n",
       "  2.186047315597534,\n",
       "  2.151346206665039,\n",
       "  2.259601354598999,\n",
       "  2.2470293045043945,\n",
       "  2.1225643157958984,\n",
       "  2.1517834663391113,\n",
       "  2.1725382804870605],\n",
       " 'val_acc': [0.109375,\n",
       "  0.1302083283662796,\n",
       "  0.1302083283662796,\n",
       "  0.2083333283662796,\n",
       "  0.1927083283662796,\n",
       "  0.1666666716337204,\n",
       "  0.1770833283662796,\n",
       "  0.203125,\n",
       "  0.2083333283662796,\n",
       "  0.203125]}"
      ]
     },
     "execution_count": 86,
     "metadata": {},
     "output_type": "execute_result"
    }
   ],
   "source": [
    "model_histories['Dropout'].history"
   ]
  },
  {
   "cell_type": "code",
   "execution_count": 116,
   "metadata": {},
   "outputs": [
    {
     "name": "stdout",
     "output_type": "stream",
     "text": [
      "[0.0925000011920929, 0.11500000208616257, 0.1274999976158142, 0.13625000417232513, 0.1550000011920929, 0.13625000417232513, 0.14249999821186066, 0.1537500023841858, 0.14499999582767487, 0.1550000011920929]\n"
     ]
    }
   ],
   "source": [
    "for i in model_histories.keys():\n",
    "    print(model_histories[i].history['acc'])"
   ]
  },
  {
   "cell_type": "code",
   "execution_count": 119,
   "metadata": {},
   "outputs": [
    {
     "data": {
      "text/plain": [
       "dict_values([<tensorflow.python.keras.callbacks.History object at 0x7fc5c6399100>])"
      ]
     },
     "execution_count": 119,
     "metadata": {},
     "output_type": "execute_result"
    }
   ],
   "source": [
    "model_histories.values()"
   ]
  },
  {
   "cell_type": "code",
   "execution_count": null,
   "metadata": {},
   "outputs": [],
   "source": []
  }
 ],
 "metadata": {
  "colab": {
   "collapsed_sections": [],
   "name": "Untitled0.ipynb",
   "provenance": []
  },
  "kernelspec": {
   "display_name": "Python 3",
   "language": "python",
   "name": "python3"
  },
  "language_info": {
   "codemirror_mode": {
    "name": "ipython",
    "version": 3
   },
   "file_extension": ".py",
   "mimetype": "text/x-python",
   "name": "python",
   "nbconvert_exporter": "python",
   "pygments_lexer": "ipython3",
   "version": "3.8.3"
  }
 },
 "nbformat": 4,
 "nbformat_minor": 1
}
