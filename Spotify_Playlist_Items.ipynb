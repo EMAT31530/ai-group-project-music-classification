{
  "nbformat": 4,
  "nbformat_minor": 0,
  "metadata": {
    "colab": {
      "name": "Spotify Playlist Items.ipynb",
      "provenance": [],
      "authorship_tag": "ABX9TyOpYnfrXpmoxwA+efImAGJ8",
      "include_colab_link": true
    },
    "kernelspec": {
      "name": "python3",
      "display_name": "Python 3"
    },
    "language_info": {
      "name": "python"
    }
  },
  "cells": [
    {
      "cell_type": "markdown",
      "metadata": {
        "id": "view-in-github",
        "colab_type": "text"
      },
      "source": [
        "<a href=\"https://colab.research.google.com/github/EMAT31530/ai-group-project-music-classification/blob/master/Spotify_Playlist_Items.ipynb\" target=\"_parent\"><img src=\"https://colab.research.google.com/assets/colab-badge.svg\" alt=\"Open In Colab\"/></a>"
      ]
    },
    {
      "cell_type": "code",
      "metadata": {
        "id": "BFEMUNi-LnYc"
      },
      "source": [
        ""
      ],
      "execution_count": null,
      "outputs": []
    },
    {
      "cell_type": "code",
      "metadata": {
        "colab": {
          "base_uri": "https://localhost:8080/"
        },
        "id": "e_efEbsbLsUZ",
        "outputId": "a6ef4f11-038a-4134-cd48-b05147996cb4"
      },
      "source": [
        "pip install spotipy --upgrade"
      ],
      "execution_count": 2,
      "outputs": [
        {
          "output_type": "stream",
          "text": [
            "Collecting spotipy\n",
            "  Downloading spotipy-2.19.0-py3-none-any.whl (27 kB)\n",
            "Collecting requests>=2.25.0\n",
            "  Downloading requests-2.26.0-py2.py3-none-any.whl (62 kB)\n",
            "\u001b[K     |████████████████████████████████| 62 kB 762 kB/s \n",
            "\u001b[?25hCollecting urllib3>=1.26.0\n",
            "  Downloading urllib3-1.26.6-py2.py3-none-any.whl (138 kB)\n",
            "\u001b[K     |████████████████████████████████| 138 kB 53.4 MB/s \n",
            "\u001b[?25hRequirement already satisfied: six>=1.15.0 in /usr/local/lib/python3.7/dist-packages (from spotipy) (1.15.0)\n",
            "Requirement already satisfied: idna<4,>=2.5 in /usr/local/lib/python3.7/dist-packages (from requests>=2.25.0->spotipy) (2.10)\n",
            "Requirement already satisfied: charset-normalizer~=2.0.0 in /usr/local/lib/python3.7/dist-packages (from requests>=2.25.0->spotipy) (2.0.4)\n",
            "Requirement already satisfied: certifi>=2017.4.17 in /usr/local/lib/python3.7/dist-packages (from requests>=2.25.0->spotipy) (2021.5.30)\n",
            "Installing collected packages: urllib3, requests, spotipy\n",
            "  Attempting uninstall: urllib3\n",
            "    Found existing installation: urllib3 1.24.3\n",
            "    Uninstalling urllib3-1.24.3:\n",
            "      Successfully uninstalled urllib3-1.24.3\n",
            "  Attempting uninstall: requests\n",
            "    Found existing installation: requests 2.23.0\n",
            "    Uninstalling requests-2.23.0:\n",
            "      Successfully uninstalled requests-2.23.0\n",
            "\u001b[31mERROR: pip's dependency resolver does not currently take into account all the packages that are installed. This behaviour is the source of the following dependency conflicts.\n",
            "google-colab 1.0.0 requires requests~=2.23.0, but you have requests 2.26.0 which is incompatible.\n",
            "datascience 0.10.6 requires folium==0.2.1, but you have folium 0.8.3 which is incompatible.\u001b[0m\n",
            "Successfully installed requests-2.26.0 spotipy-2.19.0 urllib3-1.26.6\n"
          ],
          "name": "stdout"
        }
      ]
    },
    {
      "cell_type": "code",
      "metadata": {
        "id": "GwKZ_RKeQkbJ"
      },
      "source": [
        ""
      ],
      "execution_count": null,
      "outputs": []
    },
    {
      "cell_type": "code",
      "metadata": {
        "id": "SQA5S7Z6LsR2"
      },
      "source": [
        "import numpy as np\n",
        "import pandas as pd\n",
        "\n",
        "#Initiate Spotipy\n",
        "import spotipy\n",
        "import spotipy.util as util\n",
        "from spotipy.oauth2 import SpotifyClientCredentials\n",
        "\n",
        "scope = 'playlist-modify-public'\n",
        "username = 'charliesmall'\n",
        "client_id = 'e8cc5f6e144043cdbf2f47843d34c95e'\n",
        "client_secret = '3f212de52da341e3b1baba9c7a95940c'"
      ],
      "execution_count": 25,
      "outputs": []
    },
    {
      "cell_type": "code",
      "metadata": {
        "colab": {
          "base_uri": "https://localhost:8080/"
        },
        "id": "WvOWcRZ8TGor",
        "outputId": "cb7e0332-717b-4915-ed5e-1063bd4b5f72"
      },
      "source": [
        "sp.playlist_items(pl_id,\n",
        "                                 offset=offset,\n",
        "                                 fields='items',\n",
        "                                 additional_types=['track'])"
      ],
      "execution_count": 37,
      "outputs": [
        {
          "output_type": "execute_result",
          "data": {
            "text/plain": [
              "{'items': []}"
            ]
          },
          "metadata": {
            "tags": []
          },
          "execution_count": 37
        }
      ]
    },
    {
      "cell_type": "code",
      "metadata": {
        "colab": {
          "base_uri": "https://localhost:8080/"
        },
        "id": "IbxqD-C7QkY_",
        "outputId": "455e4659-c0ea-45fd-bea3-159e9d86c651"
      },
      "source": [
        "#Example\n",
        "\n",
        "from spotipy.oauth2 import SpotifyClientCredentials\n",
        "import spotipy\n",
        "from pprint import pprint\n",
        "\n",
        "sp = spotipy.Spotify(client_credentials_manager=SpotifyClientCredentials(client_id=client_id, client_secret=client_secret))\n",
        "\n",
        "pl_id = 'spotify:playlist:6xZWNlaNs2IoKNVCPRmWcj'\n",
        "offset = 0\n",
        "\n",
        "while True:\n",
        "    response = sp.playlist_items(pl_id,\n",
        "                                 offset=offset,\n",
        "                                 fields='items.track.id,items.track.artist,items.track.name,total',\n",
        "                                 additional_types=['track'])\n",
        "    \n",
        "    if len(response['items']) == 0:\n",
        "        break\n",
        "    \n",
        "    pprint(response['items'])\n",
        "    offset = offset + len(response['items'])\n",
        "    print(offset, \"/\", response['total'])\n"
      ],
      "execution_count": 35,
      "outputs": [
        {
          "output_type": "stream",
          "text": [
            "[{'track': {'id': '70iTotURNOZOTMi7hWnk3F', 'name': 'Honey'}},\n",
            " {'track': {'id': '0Fv5zsycZWhQM7PBUiYqwc',\n",
            "            'name': 'Frankie Goes To Andromeda'}},\n",
            " {'track': {'id': '02JJYIGBqBvGtVZdSc2xpE', 'name': 'Do You Know Ida No?'}},\n",
            " {'track': {'id': '3HsuoFvlY2RqoVddNHUF4L', 'name': 'Yo Yo Gi'}},\n",
            " {'track': {'id': '4Bukzgu96VUi7WMrNEUKDG', 'name': 'B'}},\n",
            " {'track': {'id': '0FDSwRs70KF26h3qN317RH',\n",
            "            'name': 'The Vanishing American Family'}},\n",
            " {'track': {'id': '7ypkCy9Ne9kvkU9sA6877i', 'name': 'Too Far Too Big'}},\n",
            " {'track': {'id': '3OWh8gLuDOtk0PdO7CvYfP', 'name': 'Gasoline Eyes'}},\n",
            " {'track': {'id': '28SO6fgdGt1Z6OR6QlBK17', 'name': '- - -'}},\n",
            " {'track': {'id': '312WvaYJbQSX1no1R6VN7f', 'name': 'Eyeballs'}},\n",
            " {'track': {'id': '3CIuL3T0PrjzfZ8ZqSmujh', 'name': 'Demetra'}},\n",
            " {'track': {'id': '28z3Z7d4CV7ZfIMPke4YDL', 'name': 'スペース・ウォーク'}},\n",
            " {'track': {'id': '62wdQ5CInFr7cjISqrr46f', 'name': 'Baby'}},\n",
            " {'track': {'id': '1mUFkHg4p9SbBPkMxt28z3', 'name': 'Everything U Need'}},\n",
            " {'track': {'id': '6hJmk78LAXe2HGXeCcHWKF', 'name': 'Dark blue'}},\n",
            " {'track': {'id': '5w6sx0tOQQX5vU6PRYtDKd', 'name': 'Jane'}},\n",
            " {'track': {'id': '0HRz6x5qatQw5rZCVFTK6g', 'name': 'Louise'}},\n",
            " {'track': {'id': '3Lr9gPIzX6yy2VPlYENCfX', 'name': 'Junk Shop'}},\n",
            " {'track': {'id': '5uXAEbKJ7MBn9uP3KyduYJ', 'name': 'Swung From the Gutters'}},\n",
            " {'track': {'id': '2XTjamhOEI6Q11PSvnVtNQ', 'name': 'Innerspace'}},\n",
            " {'track': {'id': '1zrBLv3HJoFjvMqwITF5US', 'name': 'Vivid Youth'}},\n",
            " {'track': {'id': '6IXjXpTvPHjl1hg6TtsZaj', 'name': 'Septobel'}},\n",
            " {'track': {'id': '6M1C0RzQZUpqBb72Gc3K14', 'name': '3-28-18b'}},\n",
            " {'track': {'id': '3X0GKQRNLjVjNs3E5z695C', 'name': 'Baresi'}},\n",
            " {'track': {'id': '7iuhQo8gJeggrbxPBm9Gbv', 'name': 'Wrong Party'}},\n",
            " {'track': {'id': '5DH87mAbfJTKeMNN7DWomr', 'name': 'Recharge & Revolt'}},\n",
            " {'track': {'id': '5rfWwlRXpqyapaaK313ebT', 'name': 'Dazed and Awake'}},\n",
            " {'track': {'id': '3dh7qPjDq4q8QGD1s2obeC', 'name': 'Latino Negro'}},\n",
            " {'track': {'id': '1Sntiq1WpuWYH1kOrQST8Q',\n",
            "            'name': \"the cough bomber's return\"}},\n",
            " {'track': {'id': '1GftvO88uMXSZo5udRqeqY', 'name': 'redguard snipers'}},\n",
            " {'track': {'id': '741KQX9BobWT2bV5s5nO2D', 'name': 'Hollywood'}},\n",
            " {'track': {'id': '6OdtYrVU5U226LzdBeZWxy', 'name': 'Happy Cycling'}},\n",
            " {'track': {'id': '38EWyiOYlmS9zUuC4F8uAn',\n",
            "            'name': 'U.D.I.G. (UNITED DEFENDERS OF INTERNATIONAL GOODWILL)'}},\n",
            " {'track': {'id': '6yUiheTWgpDtsVZYIYn9LF', 'name': 'DOLDRUMS'}},\n",
            " {'track': {'id': '5RplAumrnS8IuLu9I22rKz', 'name': 'LEAVING HELL'}},\n",
            " {'track': {'id': '3Tpb9399on5igDMwHgM3tv', 'name': 'Breastmilk'}},\n",
            " {'track': {'id': '0vlHpDQVgykwKxMiSZ1uOl', 'name': 'Nommos Descent'}},\n",
            " {'track': {'id': '0olxIKm0D9UBrpDt4Vn8Js',\n",
            "            'name': 'Freeman, Hardy & Willis Acid'}},\n",
            " {'track': {'id': '0mrlzzPbavwj5ElrUEjyqZ', 'name': 'Summer'}},\n",
            " {'track': {'id': '56M9jshEM8cX5klrmXVybW',\n",
            "            'name': 'Ziwzih Ziwzih OO-OO-OO (2018 Remaster)'}},\n",
            " {'track': {'id': '1OzrvKnnbaBMbzGGezsqbS', 'name': 'Withdrawal'}}]\n",
            "41 / 41\n"
          ],
          "name": "stdout"
        }
      ]
    },
    {
      "cell_type": "code",
      "metadata": {
        "id": "WKBeWrmaQkWV"
      },
      "source": [
        ""
      ],
      "execution_count": null,
      "outputs": []
    },
    {
      "cell_type": "code",
      "metadata": {
        "id": "awcvkE9ZQkUa"
      },
      "source": [
        ""
      ],
      "execution_count": null,
      "outputs": []
    },
    {
      "cell_type": "code",
      "metadata": {
        "id": "YTQlNPmdQkSE"
      },
      "source": [
        ""
      ],
      "execution_count": null,
      "outputs": []
    },
    {
      "cell_type": "code",
      "metadata": {
        "id": "LASF8JwqQkPz"
      },
      "source": [
        ""
      ],
      "execution_count": null,
      "outputs": []
    },
    {
      "cell_type": "code",
      "metadata": {
        "id": "7vUYe9nvQkNw"
      },
      "source": [
        ""
      ],
      "execution_count": null,
      "outputs": []
    },
    {
      "cell_type": "code",
      "metadata": {
        "id": "WFp1Sms3QkGo"
      },
      "source": [
        ""
      ],
      "execution_count": null,
      "outputs": []
    },
    {
      "cell_type": "code",
      "metadata": {
        "colab": {
          "base_uri": "https://localhost:8080/",
          "height": 491
        },
        "id": "YdXOFblsLsPX",
        "outputId": "cb28651e-ee83-481f-bc25-4da74252d6c9"
      },
      "source": [
        "  sp = spotipy.Spotify(client_credentials_manager=SpotifyClientCredentials(client_id=client_id, client_secret=client_secret))\n",
        "  #results = sp.artist_top_tracks('spotify:artist:' + artist,country = 'GB')\n",
        "  playlist = sp.playlist('6xZWNlaNs2IoKNVCPRmWcj', fields= 'uri',market='GB',additional_types=('track', ))\n",
        "  tracks = sp.playlist_tracks('6xZWNlaNs2IoKNVCPRmWcj', fields='None', limit=20, offset=0, market='GB', additional_types=('track', ))\n",
        "  #https://open.spotify.com/playlist/6xZWNlaNs2IoKNVCPRmWcj?si=5254ca5b434d4d28\n",
        "tracks"
      ],
      "execution_count": 23,
      "outputs": [
        {
          "output_type": "stream",
          "text": [
            "HTTP Error for GET to https://api.spotify.com/v1/playlists/6xZWNlaNs2IoKNVCPRmWcj/tracks with Params: {'limit': 20, 'offset': 0, 'fields': 'None', 'market': 'GB', 'additional_types': 'track,uri'} returned 400 due to Bad search type field\n"
          ],
          "name": "stderr"
        },
        {
          "output_type": "error",
          "ename": "SpotifyException",
          "evalue": "ignored",
          "traceback": [
            "\u001b[0;31m---------------------------------------------------------------------------\u001b[0m",
            "\u001b[0;31mHTTPError\u001b[0m                                 Traceback (most recent call last)",
            "\u001b[0;32m/usr/local/lib/python3.7/dist-packages/spotipy/client.py\u001b[0m in \u001b[0;36m_internal_call\u001b[0;34m(self, method, url, payload, params)\u001b[0m\n\u001b[1;32m    244\u001b[0m \u001b[0;34m\u001b[0m\u001b[0m\n\u001b[0;32m--> 245\u001b[0;31m             \u001b[0mresponse\u001b[0m\u001b[0;34m.\u001b[0m\u001b[0mraise_for_status\u001b[0m\u001b[0;34m(\u001b[0m\u001b[0;34m)\u001b[0m\u001b[0;34m\u001b[0m\u001b[0;34m\u001b[0m\u001b[0m\n\u001b[0m\u001b[1;32m    246\u001b[0m             \u001b[0mresults\u001b[0m \u001b[0;34m=\u001b[0m \u001b[0mresponse\u001b[0m\u001b[0;34m.\u001b[0m\u001b[0mjson\u001b[0m\u001b[0;34m(\u001b[0m\u001b[0;34m)\u001b[0m\u001b[0;34m\u001b[0m\u001b[0;34m\u001b[0m\u001b[0m\n",
            "\u001b[0;32m/usr/local/lib/python3.7/dist-packages/requests/models.py\u001b[0m in \u001b[0;36mraise_for_status\u001b[0;34m(self)\u001b[0m\n\u001b[1;32m    952\u001b[0m         \u001b[0;32mif\u001b[0m \u001b[0mhttp_error_msg\u001b[0m\u001b[0;34m:\u001b[0m\u001b[0;34m\u001b[0m\u001b[0;34m\u001b[0m\u001b[0m\n\u001b[0;32m--> 953\u001b[0;31m             \u001b[0;32mraise\u001b[0m \u001b[0mHTTPError\u001b[0m\u001b[0;34m(\u001b[0m\u001b[0mhttp_error_msg\u001b[0m\u001b[0;34m,\u001b[0m \u001b[0mresponse\u001b[0m\u001b[0;34m=\u001b[0m\u001b[0mself\u001b[0m\u001b[0;34m)\u001b[0m\u001b[0;34m\u001b[0m\u001b[0;34m\u001b[0m\u001b[0m\n\u001b[0m\u001b[1;32m    954\u001b[0m \u001b[0;34m\u001b[0m\u001b[0m\n",
            "\u001b[0;31mHTTPError\u001b[0m: 400 Client Error: Bad Request for url: https://api.spotify.com/v1/playlists/6xZWNlaNs2IoKNVCPRmWcj/tracks?limit=20&offset=0&fields=None&market=GB&additional_types=track%2Curi",
            "\nDuring handling of the above exception, another exception occurred:\n",
            "\u001b[0;31mSpotifyException\u001b[0m                          Traceback (most recent call last)",
            "\u001b[0;32m<ipython-input-23-56dc0f0d50e4>\u001b[0m in \u001b[0;36m<module>\u001b[0;34m()\u001b[0m\n\u001b[1;32m      2\u001b[0m \u001b[0;31m#results = sp.artist_top_tracks('spotify:artist:' + artist,country = 'GB')\u001b[0m\u001b[0;34m\u001b[0m\u001b[0;34m\u001b[0m\u001b[0;34m\u001b[0m\u001b[0m\n\u001b[1;32m      3\u001b[0m \u001b[0mplaylist\u001b[0m \u001b[0;34m=\u001b[0m \u001b[0msp\u001b[0m\u001b[0;34m.\u001b[0m\u001b[0mplaylist\u001b[0m\u001b[0;34m(\u001b[0m\u001b[0;34m'6xZWNlaNs2IoKNVCPRmWcj'\u001b[0m\u001b[0;34m,\u001b[0m \u001b[0mfields\u001b[0m\u001b[0;34m=\u001b[0m \u001b[0;34m'uri'\u001b[0m\u001b[0;34m,\u001b[0m\u001b[0mmarket\u001b[0m\u001b[0;34m=\u001b[0m\u001b[0;34m'GB'\u001b[0m\u001b[0;34m,\u001b[0m\u001b[0madditional_types\u001b[0m\u001b[0;34m=\u001b[0m\u001b[0;34m(\u001b[0m\u001b[0;34m'track'\u001b[0m\u001b[0;34m,\u001b[0m \u001b[0;34m)\u001b[0m\u001b[0;34m)\u001b[0m\u001b[0;34m\u001b[0m\u001b[0;34m\u001b[0m\u001b[0m\n\u001b[0;32m----> 4\u001b[0;31m \u001b[0mtracks\u001b[0m \u001b[0;34m=\u001b[0m \u001b[0msp\u001b[0m\u001b[0;34m.\u001b[0m\u001b[0mplaylist_tracks\u001b[0m\u001b[0;34m(\u001b[0m\u001b[0;34m'6xZWNlaNs2IoKNVCPRmWcj'\u001b[0m\u001b[0;34m,\u001b[0m \u001b[0mfields\u001b[0m\u001b[0;34m=\u001b[0m\u001b[0;34m'None'\u001b[0m\u001b[0;34m,\u001b[0m \u001b[0mlimit\u001b[0m\u001b[0;34m=\u001b[0m\u001b[0;36m20\u001b[0m\u001b[0;34m,\u001b[0m \u001b[0moffset\u001b[0m\u001b[0;34m=\u001b[0m\u001b[0;36m0\u001b[0m\u001b[0;34m,\u001b[0m \u001b[0mmarket\u001b[0m\u001b[0;34m=\u001b[0m\u001b[0;34m'GB'\u001b[0m\u001b[0;34m,\u001b[0m \u001b[0madditional_types\u001b[0m\u001b[0;34m=\u001b[0m\u001b[0;34m(\u001b[0m\u001b[0;34m'track,uri'\u001b[0m\u001b[0;34m,\u001b[0m \u001b[0;34m)\u001b[0m\u001b[0;34m)\u001b[0m\u001b[0;34m\u001b[0m\u001b[0;34m\u001b[0m\u001b[0m\n\u001b[0m\u001b[1;32m      5\u001b[0m \u001b[0;31m#https://open.spotify.com/playlist/6xZWNlaNs2IoKNVCPRmWcj?si=5254ca5b434d4d28\u001b[0m\u001b[0;34m\u001b[0m\u001b[0;34m\u001b[0m\u001b[0;34m\u001b[0m\u001b[0m\n\u001b[1;32m      6\u001b[0m \u001b[0mtracks\u001b[0m\u001b[0;34m\u001b[0m\u001b[0;34m\u001b[0m\u001b[0m\n",
            "\u001b[0;32m/usr/local/lib/python3.7/dist-packages/spotipy/client.py\u001b[0m in \u001b[0;36mplaylist_tracks\u001b[0;34m(self, playlist_id, fields, limit, offset, market, additional_types)\u001b[0m\n\u001b[1;32m    648\u001b[0m         )\n\u001b[1;32m    649\u001b[0m         return self.playlist_items(playlist_id, fields, limit, offset,\n\u001b[0;32m--> 650\u001b[0;31m                                    market, additional_types)\n\u001b[0m\u001b[1;32m    651\u001b[0m \u001b[0;34m\u001b[0m\u001b[0m\n\u001b[1;32m    652\u001b[0m     def playlist_items(\n",
            "\u001b[0;32m/usr/local/lib/python3.7/dist-packages/spotipy/client.py\u001b[0m in \u001b[0;36mplaylist_items\u001b[0;34m(self, playlist_id, fields, limit, offset, market, additional_types)\u001b[0m\n\u001b[1;32m    677\u001b[0m             \u001b[0mfields\u001b[0m\u001b[0;34m=\u001b[0m\u001b[0mfields\u001b[0m\u001b[0;34m,\u001b[0m\u001b[0;34m\u001b[0m\u001b[0;34m\u001b[0m\u001b[0m\n\u001b[1;32m    678\u001b[0m             \u001b[0mmarket\u001b[0m\u001b[0;34m=\u001b[0m\u001b[0mmarket\u001b[0m\u001b[0;34m,\u001b[0m\u001b[0;34m\u001b[0m\u001b[0;34m\u001b[0m\u001b[0m\n\u001b[0;32m--> 679\u001b[0;31m             \u001b[0madditional_types\u001b[0m\u001b[0;34m=\u001b[0m\u001b[0;34m\",\"\u001b[0m\u001b[0;34m.\u001b[0m\u001b[0mjoin\u001b[0m\u001b[0;34m(\u001b[0m\u001b[0madditional_types\u001b[0m\u001b[0;34m)\u001b[0m\u001b[0;34m\u001b[0m\u001b[0;34m\u001b[0m\u001b[0m\n\u001b[0m\u001b[1;32m    680\u001b[0m         )\n\u001b[1;32m    681\u001b[0m \u001b[0;34m\u001b[0m\u001b[0m\n",
            "\u001b[0;32m/usr/local/lib/python3.7/dist-packages/spotipy/client.py\u001b[0m in \u001b[0;36m_get\u001b[0;34m(self, url, args, payload, **kwargs)\u001b[0m\n\u001b[1;32m    295\u001b[0m             \u001b[0mkwargs\u001b[0m\u001b[0;34m.\u001b[0m\u001b[0mupdate\u001b[0m\u001b[0;34m(\u001b[0m\u001b[0margs\u001b[0m\u001b[0;34m)\u001b[0m\u001b[0;34m\u001b[0m\u001b[0;34m\u001b[0m\u001b[0m\n\u001b[1;32m    296\u001b[0m \u001b[0;34m\u001b[0m\u001b[0m\n\u001b[0;32m--> 297\u001b[0;31m         \u001b[0;32mreturn\u001b[0m \u001b[0mself\u001b[0m\u001b[0;34m.\u001b[0m\u001b[0m_internal_call\u001b[0m\u001b[0;34m(\u001b[0m\u001b[0;34m\"GET\"\u001b[0m\u001b[0;34m,\u001b[0m \u001b[0murl\u001b[0m\u001b[0;34m,\u001b[0m \u001b[0mpayload\u001b[0m\u001b[0;34m,\u001b[0m \u001b[0mkwargs\u001b[0m\u001b[0;34m)\u001b[0m\u001b[0;34m\u001b[0m\u001b[0;34m\u001b[0m\u001b[0m\n\u001b[0m\u001b[1;32m    298\u001b[0m \u001b[0;34m\u001b[0m\u001b[0m\n\u001b[1;32m    299\u001b[0m     \u001b[0;32mdef\u001b[0m \u001b[0m_post\u001b[0m\u001b[0;34m(\u001b[0m\u001b[0mself\u001b[0m\u001b[0;34m,\u001b[0m \u001b[0murl\u001b[0m\u001b[0;34m,\u001b[0m \u001b[0margs\u001b[0m\u001b[0;34m=\u001b[0m\u001b[0;32mNone\u001b[0m\u001b[0;34m,\u001b[0m \u001b[0mpayload\u001b[0m\u001b[0;34m=\u001b[0m\u001b[0;32mNone\u001b[0m\u001b[0;34m,\u001b[0m \u001b[0;34m**\u001b[0m\u001b[0mkwargs\u001b[0m\u001b[0;34m)\u001b[0m\u001b[0;34m:\u001b[0m\u001b[0;34m\u001b[0m\u001b[0;34m\u001b[0m\u001b[0m\n",
            "\u001b[0;32m/usr/local/lib/python3.7/dist-packages/spotipy/client.py\u001b[0m in \u001b[0;36m_internal_call\u001b[0;34m(self, method, url, payload, params)\u001b[0m\n\u001b[1;32m    270\u001b[0m                 \u001b[0;34m\"%s:\\n %s\"\u001b[0m \u001b[0;34m%\u001b[0m \u001b[0;34m(\u001b[0m\u001b[0mresponse\u001b[0m\u001b[0;34m.\u001b[0m\u001b[0murl\u001b[0m\u001b[0;34m,\u001b[0m \u001b[0mmsg\u001b[0m\u001b[0;34m)\u001b[0m\u001b[0;34m,\u001b[0m\u001b[0;34m\u001b[0m\u001b[0;34m\u001b[0m\u001b[0m\n\u001b[1;32m    271\u001b[0m                 \u001b[0mreason\u001b[0m\u001b[0;34m=\u001b[0m\u001b[0mreason\u001b[0m\u001b[0;34m,\u001b[0m\u001b[0;34m\u001b[0m\u001b[0;34m\u001b[0m\u001b[0m\n\u001b[0;32m--> 272\u001b[0;31m                 \u001b[0mheaders\u001b[0m\u001b[0;34m=\u001b[0m\u001b[0mresponse\u001b[0m\u001b[0;34m.\u001b[0m\u001b[0mheaders\u001b[0m\u001b[0;34m,\u001b[0m\u001b[0;34m\u001b[0m\u001b[0;34m\u001b[0m\u001b[0m\n\u001b[0m\u001b[1;32m    273\u001b[0m             )\n\u001b[1;32m    274\u001b[0m         \u001b[0;32mexcept\u001b[0m \u001b[0mrequests\u001b[0m\u001b[0;34m.\u001b[0m\u001b[0mexceptions\u001b[0m\u001b[0;34m.\u001b[0m\u001b[0mRetryError\u001b[0m \u001b[0;32mas\u001b[0m \u001b[0mretry_error\u001b[0m\u001b[0;34m:\u001b[0m\u001b[0;34m\u001b[0m\u001b[0;34m\u001b[0m\u001b[0m\n",
            "\u001b[0;31mSpotifyException\u001b[0m: http status: 400, code:-1 - https://api.spotify.com/v1/playlists/6xZWNlaNs2IoKNVCPRmWcj/tracks?limit=20&offset=0&fields=None&market=GB&additional_types=track%2Curi:\n Bad search type field, reason: None"
          ]
        }
      ]
    },
    {
      "cell_type": "code",
      "metadata": {
        "id": "3okphSYaLsNK"
      },
      "source": [
        "#Recommendation - give 1 to 5 seeds and get recommended songs\n",
        "#recommendations(seed_artists=None, seed_genres=None, seed_tracks=None, limit=20, country=None, **kwargs)"
      ],
      "execution_count": null,
      "outputs": []
    },
    {
      "cell_type": "code",
      "metadata": {
        "id": "luKxutnwLsLb"
      },
      "source": [
        ""
      ],
      "execution_count": null,
      "outputs": []
    },
    {
      "cell_type": "code",
      "metadata": {
        "id": "KgTKGsgXLsEe"
      },
      "source": [
        ""
      ],
      "execution_count": null,
      "outputs": []
    },
    {
      "cell_type": "code",
      "metadata": {
        "id": "K00uOvG5LsB0"
      },
      "source": [
        ""
      ],
      "execution_count": null,
      "outputs": []
    }
  ]
}