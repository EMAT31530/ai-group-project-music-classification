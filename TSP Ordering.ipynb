{
  "nbformat": 4,
  "nbformat_minor": 0,
  "metadata": {
    "colab": {
      "name": "Copy of TSP Ordering.ipynb",
      "provenance": [],
      "collapsed_sections": [],
      "toc_visible": true,
      "mount_file_id": "19Zshj0sJamXEfNIpu_OX34zbz3zo2A1Z",
      "authorship_tag": "ABX9TyN8RvPOj01C5XmfrluEbGLE",
      "include_colab_link": true
    },
    "kernelspec": {
      "name": "python3",
      "display_name": "Python 3"
    },
    "language_info": {
      "name": "python"
    }
  },
  "cells": [
    {
      "cell_type": "markdown",
      "metadata": {
        "id": "view-in-github",
        "colab_type": "text"
      },
      "source": [
        "<a href=\"https://colab.research.google.com/github/EMAT31530/ai-group-project-music-classification/blob/master/TSP%20Ordering.ipynb\" target=\"_parent\"><img src=\"https://colab.research.google.com/assets/colab-badge.svg\" alt=\"Open In Colab\"/></a>"
      ]
    },
    {
      "cell_type": "markdown",
      "metadata": {
        "id": "7yrylDLsj0oa"
      },
      "source": [
        "# Implementation of an approximate solver for Metric Travelling Salesperson Problem\n",
        "Steps:\n",
        "\n",
        "\n",
        "1.   Take a collection of songs as input, \n",
        "2.   Convert audio data into spectrogram images \n",
        "3. Classify their genres using our CNN model\n",
        "4. Take each song's softmax output to obtain the calculated probability of each genre\n",
        "5. Interpret each soft-max output as position vectors in a multi-dimensional vector space, from 0-1 in each genre.\n",
        "6. Order the track listing in such a way to  approximate a minimal S(X), the sum of each distance (some chosen distance/cost function d(x,y)) between consecutive songs in the vector space.\n",
        "7.Output a track listing which gives our attempt at ordering songs into the most natural progression between genres\n",
        "\n",
        "\n",
        "\n",
        "\n",
        "Want to solve the problem of finding the shortest route through a low (< 15) number of points in a multi-dimensional space. \n",
        "We attempt this using a Branch & Bound search algorithm, and implementing a genetic algorithm with mlrose:\n",
        "\n",
        "https://arxiv.org/pdf/1805.04131.pdf\n",
        "\n",
        "https://coral.ise.lehigh.edu/wiki/doku.php/travelling_salesman_problem\n",
        "\n",
        "https://en.wikipedia.org/wiki/Genetic_algorithm\n",
        "\n",
        "https://towardsdatascience.com/solving-travelling-salesperson-problems-with-python-5de7e883d847"
      ]
    },
    {
      "cell_type": "code",
      "metadata": {
        "id": "MTqrI1JDfMeh"
      },
      "source": [
        "import numpy as np\n",
        "from numpy.random import seed\n",
        "from numpy.random import rand\n",
        "%matplotlib inline\n",
        "\n",
        "import matplotlib.pyplot as plt\n",
        "from scipy.spatial import distance\n",
        "import pandas as pd"
      ],
      "execution_count": 2,
      "outputs": []
    },
    {
      "cell_type": "code",
      "metadata": {
        "id": "LhJb-tkRlhfh",
        "colab": {
          "base_uri": "https://localhost:8080/",
          "height": 906
        },
        "outputId": "e6814b65-fa2a-4c77-9c1e-a7674812047e"
      },
      "source": [
        "\n",
        "df = pd.read_csv('/content/drive/MyDrive/playlist/softmax.csv')\n",
        "df"
      ],
      "execution_count": 8,
      "outputs": [
        {
          "output_type": "execute_result",
          "data": {
            "text/html": [
              "<div>\n",
              "<style scoped>\n",
              "    .dataframe tbody tr th:only-of-type {\n",
              "        vertical-align: middle;\n",
              "    }\n",
              "\n",
              "    .dataframe tbody tr th {\n",
              "        vertical-align: top;\n",
              "    }\n",
              "\n",
              "    .dataframe thead th {\n",
              "        text-align: right;\n",
              "    }\n",
              "</style>\n",
              "<table border=\"1\" class=\"dataframe\">\n",
              "  <thead>\n",
              "    <tr style=\"text-align: right;\">\n",
              "      <th></th>\n",
              "      <th>Unnamed: 0</th>\n",
              "      <th>blues</th>\n",
              "      <th>classical</th>\n",
              "      <th>country</th>\n",
              "      <th>disco</th>\n",
              "      <th>hiphop</th>\n",
              "      <th>jazz</th>\n",
              "      <th>metal</th>\n",
              "      <th>pop</th>\n",
              "      <th>reggae</th>\n",
              "      <th>rock</th>\n",
              "    </tr>\n",
              "  </thead>\n",
              "  <tbody>\n",
              "    <tr>\n",
              "      <th>0</th>\n",
              "      <td>Corpse Pose</td>\n",
              "      <td>0.0012</td>\n",
              "      <td>0.0674</td>\n",
              "      <td>0.0000</td>\n",
              "      <td>0.1739</td>\n",
              "      <td>0.0001</td>\n",
              "      <td>0.0000</td>\n",
              "      <td>0.0059</td>\n",
              "      <td>0.0884</td>\n",
              "      <td>0.0001</td>\n",
              "      <td>0.6629</td>\n",
              "    </tr>\n",
              "    <tr>\n",
              "      <th>1</th>\n",
              "      <td>All Along the Watchtower</td>\n",
              "      <td>0.0731</td>\n",
              "      <td>0.0016</td>\n",
              "      <td>0.2933</td>\n",
              "      <td>0.0336</td>\n",
              "      <td>0.0001</td>\n",
              "      <td>0.0735</td>\n",
              "      <td>0.0005</td>\n",
              "      <td>0.0303</td>\n",
              "      <td>0.0007</td>\n",
              "      <td>0.4934</td>\n",
              "    </tr>\n",
              "    <tr>\n",
              "      <th>2</th>\n",
              "      <td>LEAVING HELL</td>\n",
              "      <td>0.0000</td>\n",
              "      <td>0.0000</td>\n",
              "      <td>0.2864</td>\n",
              "      <td>0.4507</td>\n",
              "      <td>0.0000</td>\n",
              "      <td>0.0000</td>\n",
              "      <td>0.0000</td>\n",
              "      <td>0.0001</td>\n",
              "      <td>0.2555</td>\n",
              "      <td>0.0073</td>\n",
              "    </tr>\n",
              "    <tr>\n",
              "      <th>3</th>\n",
              "      <td>Love and or Hate Trigger</td>\n",
              "      <td>0.0000</td>\n",
              "      <td>0.0000</td>\n",
              "      <td>0.0000</td>\n",
              "      <td>0.3853</td>\n",
              "      <td>0.3142</td>\n",
              "      <td>0.0000</td>\n",
              "      <td>0.0006</td>\n",
              "      <td>0.2884</td>\n",
              "      <td>0.0115</td>\n",
              "      <td>0.0000</td>\n",
              "    </tr>\n",
              "    <tr>\n",
              "      <th>4</th>\n",
              "      <td>Dsco</td>\n",
              "      <td>0.0000</td>\n",
              "      <td>0.0060</td>\n",
              "      <td>0.0016</td>\n",
              "      <td>0.0524</td>\n",
              "      <td>0.0000</td>\n",
              "      <td>0.0001</td>\n",
              "      <td>0.0005</td>\n",
              "      <td>0.0344</td>\n",
              "      <td>0.0000</td>\n",
              "      <td>0.9050</td>\n",
              "    </tr>\n",
              "    <tr>\n",
              "      <th>5</th>\n",
              "      <td>Diary of a Rose</td>\n",
              "      <td>0.0001</td>\n",
              "      <td>0.0000</td>\n",
              "      <td>0.5247</td>\n",
              "      <td>0.2062</td>\n",
              "      <td>0.0000</td>\n",
              "      <td>0.0000</td>\n",
              "      <td>0.0000</td>\n",
              "      <td>0.0047</td>\n",
              "      <td>0.1696</td>\n",
              "      <td>0.0948</td>\n",
              "    </tr>\n",
              "    <tr>\n",
              "      <th>6</th>\n",
              "      <td>Abusey Junction</td>\n",
              "      <td>0.0012</td>\n",
              "      <td>0.0000</td>\n",
              "      <td>0.0324</td>\n",
              "      <td>0.0000</td>\n",
              "      <td>0.0000</td>\n",
              "      <td>0.0000</td>\n",
              "      <td>0.0000</td>\n",
              "      <td>0.0000</td>\n",
              "      <td>0.9664</td>\n",
              "      <td>0.0000</td>\n",
              "    </tr>\n",
              "    <tr>\n",
              "      <th>7</th>\n",
              "      <td>Circuits</td>\n",
              "      <td>0.0000</td>\n",
              "      <td>0.9287</td>\n",
              "      <td>0.0001</td>\n",
              "      <td>0.0004</td>\n",
              "      <td>0.0000</td>\n",
              "      <td>0.0001</td>\n",
              "      <td>0.0000</td>\n",
              "      <td>0.0359</td>\n",
              "      <td>0.0002</td>\n",
              "      <td>0.0346</td>\n",
              "    </tr>\n",
              "    <tr>\n",
              "      <th>8</th>\n",
              "      <td>Like a Buoy</td>\n",
              "      <td>0.0024</td>\n",
              "      <td>0.3121</td>\n",
              "      <td>0.0032</td>\n",
              "      <td>0.0123</td>\n",
              "      <td>0.0000</td>\n",
              "      <td>0.0083</td>\n",
              "      <td>0.0000</td>\n",
              "      <td>0.0072</td>\n",
              "      <td>0.0002</td>\n",
              "      <td>0.6541</td>\n",
              "    </tr>\n",
              "    <tr>\n",
              "      <th>9</th>\n",
              "      <td>George Street</td>\n",
              "      <td>0.0000</td>\n",
              "      <td>0.1662</td>\n",
              "      <td>0.0000</td>\n",
              "      <td>0.0009</td>\n",
              "      <td>0.0000</td>\n",
              "      <td>0.0000</td>\n",
              "      <td>0.0006</td>\n",
              "      <td>0.0803</td>\n",
              "      <td>0.0224</td>\n",
              "      <td>0.7295</td>\n",
              "    </tr>\n",
              "    <tr>\n",
              "      <th>10</th>\n",
              "      <td>Strings of Light</td>\n",
              "      <td>0.0000</td>\n",
              "      <td>0.0000</td>\n",
              "      <td>0.0226</td>\n",
              "      <td>0.2951</td>\n",
              "      <td>0.0300</td>\n",
              "      <td>0.0000</td>\n",
              "      <td>0.0036</td>\n",
              "      <td>0.0398</td>\n",
              "      <td>0.0194</td>\n",
              "      <td>0.5894</td>\n",
              "    </tr>\n",
              "    <tr>\n",
              "      <th>11</th>\n",
              "      <td>Suede</td>\n",
              "      <td>0.0004</td>\n",
              "      <td>0.0000</td>\n",
              "      <td>0.0017</td>\n",
              "      <td>0.0135</td>\n",
              "      <td>0.7043</td>\n",
              "      <td>0.0000</td>\n",
              "      <td>0.0000</td>\n",
              "      <td>0.0010</td>\n",
              "      <td>0.2408</td>\n",
              "      <td>0.0383</td>\n",
              "    </tr>\n",
              "    <tr>\n",
              "      <th>12</th>\n",
              "      <td>All Caps</td>\n",
              "      <td>0.0547</td>\n",
              "      <td>0.0000</td>\n",
              "      <td>0.0957</td>\n",
              "      <td>0.0169</td>\n",
              "      <td>0.0495</td>\n",
              "      <td>0.0004</td>\n",
              "      <td>0.0000</td>\n",
              "      <td>0.0180</td>\n",
              "      <td>0.1956</td>\n",
              "      <td>0.5692</td>\n",
              "    </tr>\n",
              "    <tr>\n",
              "      <th>13</th>\n",
              "      <td>Send Me</td>\n",
              "      <td>0.0230</td>\n",
              "      <td>0.0000</td>\n",
              "      <td>0.0002</td>\n",
              "      <td>0.0882</td>\n",
              "      <td>0.1041</td>\n",
              "      <td>0.0000</td>\n",
              "      <td>0.0005</td>\n",
              "      <td>0.3727</td>\n",
              "      <td>0.2312</td>\n",
              "      <td>0.1801</td>\n",
              "    </tr>\n",
              "    <tr>\n",
              "      <th>14</th>\n",
              "      <td>Peanuts Grow Underground</td>\n",
              "      <td>0.0000</td>\n",
              "      <td>0.0013</td>\n",
              "      <td>0.5071</td>\n",
              "      <td>0.0984</td>\n",
              "      <td>0.0000</td>\n",
              "      <td>0.0000</td>\n",
              "      <td>0.0000</td>\n",
              "      <td>0.0015</td>\n",
              "      <td>0.3906</td>\n",
              "      <td>0.0011</td>\n",
              "    </tr>\n",
              "    <tr>\n",
              "      <th>15</th>\n",
              "      <td>Blue in Green (feat. John Coltrane &amp; Bill Evans)</td>\n",
              "      <td>0.0003</td>\n",
              "      <td>0.1993</td>\n",
              "      <td>0.0008</td>\n",
              "      <td>0.0000</td>\n",
              "      <td>0.0000</td>\n",
              "      <td>0.7996</td>\n",
              "      <td>0.0000</td>\n",
              "      <td>0.0000</td>\n",
              "      <td>0.0000</td>\n",
              "      <td>0.0000</td>\n",
              "    </tr>\n",
              "    <tr>\n",
              "      <th>16</th>\n",
              "      <td>We Are Family</td>\n",
              "      <td>0.0000</td>\n",
              "      <td>0.0000</td>\n",
              "      <td>0.0000</td>\n",
              "      <td>0.8399</td>\n",
              "      <td>0.0848</td>\n",
              "      <td>0.0000</td>\n",
              "      <td>0.0000</td>\n",
              "      <td>0.0074</td>\n",
              "      <td>0.0003</td>\n",
              "      <td>0.0676</td>\n",
              "    </tr>\n",
              "    <tr>\n",
              "      <th>17</th>\n",
              "      <td>Oblivion</td>\n",
              "      <td>0.0015</td>\n",
              "      <td>0.0083</td>\n",
              "      <td>0.0001</td>\n",
              "      <td>0.1900</td>\n",
              "      <td>0.0844</td>\n",
              "      <td>0.0237</td>\n",
              "      <td>0.0231</td>\n",
              "      <td>0.0552</td>\n",
              "      <td>0.0017</td>\n",
              "      <td>0.6119</td>\n",
              "    </tr>\n",
              "    <tr>\n",
              "      <th>18</th>\n",
              "      <td>Slow (Loud)</td>\n",
              "      <td>0.0004</td>\n",
              "      <td>0.0021</td>\n",
              "      <td>0.3780</td>\n",
              "      <td>0.2372</td>\n",
              "      <td>0.0015</td>\n",
              "      <td>0.0188</td>\n",
              "      <td>0.0006</td>\n",
              "      <td>0.0051</td>\n",
              "      <td>0.0055</td>\n",
              "      <td>0.3507</td>\n",
              "    </tr>\n",
              "    <tr>\n",
              "      <th>19</th>\n",
              "      <td>Track X</td>\n",
              "      <td>0.0613</td>\n",
              "      <td>0.1374</td>\n",
              "      <td>0.6798</td>\n",
              "      <td>0.0001</td>\n",
              "      <td>0.0000</td>\n",
              "      <td>0.0000</td>\n",
              "      <td>0.0000</td>\n",
              "      <td>0.0006</td>\n",
              "      <td>0.0000</td>\n",
              "      <td>0.1207</td>\n",
              "    </tr>\n",
              "    <tr>\n",
              "      <th>20</th>\n",
              "      <td>Dark blue</td>\n",
              "      <td>0.0000</td>\n",
              "      <td>0.0002</td>\n",
              "      <td>0.5810</td>\n",
              "      <td>0.0032</td>\n",
              "      <td>0.0002</td>\n",
              "      <td>0.0004</td>\n",
              "      <td>0.0000</td>\n",
              "      <td>0.0019</td>\n",
              "      <td>0.0000</td>\n",
              "      <td>0.4131</td>\n",
              "    </tr>\n",
              "    <tr>\n",
              "      <th>21</th>\n",
              "      <td>Bullet With a Name</td>\n",
              "      <td>0.0000</td>\n",
              "      <td>0.0000</td>\n",
              "      <td>0.0000</td>\n",
              "      <td>0.0002</td>\n",
              "      <td>0.2453</td>\n",
              "      <td>0.0061</td>\n",
              "      <td>0.7412</td>\n",
              "      <td>0.0044</td>\n",
              "      <td>0.0000</td>\n",
              "      <td>0.0028</td>\n",
              "    </tr>\n",
              "    <tr>\n",
              "      <th>22</th>\n",
              "      <td>Wake Up</td>\n",
              "      <td>0.0000</td>\n",
              "      <td>0.6889</td>\n",
              "      <td>0.0000</td>\n",
              "      <td>0.0017</td>\n",
              "      <td>0.0000</td>\n",
              "      <td>0.0001</td>\n",
              "      <td>0.0018</td>\n",
              "      <td>0.0313</td>\n",
              "      <td>0.0000</td>\n",
              "      <td>0.2762</td>\n",
              "    </tr>\n",
              "    <tr>\n",
              "      <th>23</th>\n",
              "      <td>Time</td>\n",
              "      <td>0.0000</td>\n",
              "      <td>0.8364</td>\n",
              "      <td>0.0033</td>\n",
              "      <td>0.0000</td>\n",
              "      <td>0.0000</td>\n",
              "      <td>0.0000</td>\n",
              "      <td>0.0000</td>\n",
              "      <td>0.0027</td>\n",
              "      <td>0.0001</td>\n",
              "      <td>0.1576</td>\n",
              "    </tr>\n",
              "    <tr>\n",
              "      <th>24</th>\n",
              "      <td>Job's Lament</td>\n",
              "      <td>0.0000</td>\n",
              "      <td>0.7511</td>\n",
              "      <td>0.0018</td>\n",
              "      <td>0.0004</td>\n",
              "      <td>0.0000</td>\n",
              "      <td>0.0445</td>\n",
              "      <td>0.0014</td>\n",
              "      <td>0.0252</td>\n",
              "      <td>0.0007</td>\n",
              "      <td>0.1748</td>\n",
              "    </tr>\n",
              "    <tr>\n",
              "      <th>25</th>\n",
              "      <td>Poison Tree</td>\n",
              "      <td>0.0047</td>\n",
              "      <td>0.9809</td>\n",
              "      <td>0.0001</td>\n",
              "      <td>0.0000</td>\n",
              "      <td>0.0000</td>\n",
              "      <td>0.0143</td>\n",
              "      <td>0.0000</td>\n",
              "      <td>0.0000</td>\n",
              "      <td>0.0000</td>\n",
              "      <td>0.0000</td>\n",
              "    </tr>\n",
              "    <tr>\n",
              "      <th>26</th>\n",
              "      <td>A Message to You Rudy - 2002 Remaster</td>\n",
              "      <td>0.0116</td>\n",
              "      <td>0.0000</td>\n",
              "      <td>0.0024</td>\n",
              "      <td>0.0004</td>\n",
              "      <td>0.0117</td>\n",
              "      <td>0.2980</td>\n",
              "      <td>0.0000</td>\n",
              "      <td>0.0000</td>\n",
              "      <td>0.6046</td>\n",
              "      <td>0.0712</td>\n",
              "    </tr>\n",
              "    <tr>\n",
              "      <th>27</th>\n",
              "      <td>Dirty Old Town</td>\n",
              "      <td>0.0016</td>\n",
              "      <td>0.3950</td>\n",
              "      <td>0.3632</td>\n",
              "      <td>0.1521</td>\n",
              "      <td>0.0000</td>\n",
              "      <td>0.0001</td>\n",
              "      <td>0.0000</td>\n",
              "      <td>0.0000</td>\n",
              "      <td>0.0012</td>\n",
              "      <td>0.0868</td>\n",
              "    </tr>\n",
              "    <tr>\n",
              "      <th>28</th>\n",
              "      <td>Pressure Drop</td>\n",
              "      <td>0.0859</td>\n",
              "      <td>0.0001</td>\n",
              "      <td>0.0420</td>\n",
              "      <td>0.4383</td>\n",
              "      <td>0.0004</td>\n",
              "      <td>0.0044</td>\n",
              "      <td>0.0000</td>\n",
              "      <td>0.0050</td>\n",
              "      <td>0.3200</td>\n",
              "      <td>0.1040</td>\n",
              "    </tr>\n",
              "  </tbody>\n",
              "</table>\n",
              "</div>"
            ],
            "text/plain": [
              "                                          Unnamed: 0   blues  ...  reggae    rock\n",
              "0                                        Corpse Pose  0.0012  ...  0.0001  0.6629\n",
              "1                           All Along the Watchtower  0.0731  ...  0.0007  0.4934\n",
              "2                                       LEAVING HELL  0.0000  ...  0.2555  0.0073\n",
              "3                           Love and or Hate Trigger  0.0000  ...  0.0115  0.0000\n",
              "4                                               Dsco  0.0000  ...  0.0000  0.9050\n",
              "5                                    Diary of a Rose  0.0001  ...  0.1696  0.0948\n",
              "6                                    Abusey Junction  0.0012  ...  0.9664  0.0000\n",
              "7                                           Circuits  0.0000  ...  0.0002  0.0346\n",
              "8                                        Like a Buoy  0.0024  ...  0.0002  0.6541\n",
              "9                                      George Street  0.0000  ...  0.0224  0.7295\n",
              "10                                  Strings of Light  0.0000  ...  0.0194  0.5894\n",
              "11                                             Suede  0.0004  ...  0.2408  0.0383\n",
              "12                                          All Caps  0.0547  ...  0.1956  0.5692\n",
              "13                                           Send Me  0.0230  ...  0.2312  0.1801\n",
              "14                          Peanuts Grow Underground  0.0000  ...  0.3906  0.0011\n",
              "15  Blue in Green (feat. John Coltrane & Bill Evans)  0.0003  ...  0.0000  0.0000\n",
              "16                                     We Are Family  0.0000  ...  0.0003  0.0676\n",
              "17                                          Oblivion  0.0015  ...  0.0017  0.6119\n",
              "18                                       Slow (Loud)  0.0004  ...  0.0055  0.3507\n",
              "19                                           Track X  0.0613  ...  0.0000  0.1207\n",
              "20                                         Dark blue  0.0000  ...  0.0000  0.4131\n",
              "21                                Bullet With a Name  0.0000  ...  0.0000  0.0028\n",
              "22                                           Wake Up  0.0000  ...  0.0000  0.2762\n",
              "23                                              Time  0.0000  ...  0.0001  0.1576\n",
              "24                                      Job's Lament  0.0000  ...  0.0007  0.1748\n",
              "25                                       Poison Tree  0.0047  ...  0.0000  0.0000\n",
              "26             A Message to You Rudy - 2002 Remaster  0.0116  ...  0.6046  0.0712\n",
              "27                                    Dirty Old Town  0.0016  ...  0.0012  0.0868\n",
              "28                                     Pressure Drop  0.0859  ...  0.3200  0.1040\n",
              "\n",
              "[29 rows x 11 columns]"
            ]
          },
          "metadata": {
            "tags": []
          },
          "execution_count": 8
        }
      ]
    },
    {
      "cell_type": "code",
      "metadata": {
        "colab": {
          "base_uri": "https://localhost:8080/"
        },
        "id": "IkVYY62QmbQH",
        "outputId": "9166b2b0-d8ae-4212-db66-db4279355fef"
      },
      "source": [
        "x.shape"
      ],
      "execution_count": null,
      "outputs": [
        {
          "output_type": "execute_result",
          "data": {
            "text/plain": [
              "(29,)"
            ]
          },
          "metadata": {
            "tags": []
          },
          "execution_count": 51
        }
      ]
    },
    {
      "cell_type": "code",
      "metadata": {
        "colab": {
          "base_uri": "https://localhost:8080/",
          "height": 906
        },
        "id": "h39BzGkij2ry",
        "outputId": "b827b1a8-11ba-4d81-80c0-611af87b1e06"
      },
      "source": [
        "df.iloc[:,1:]"
      ],
      "execution_count": 11,
      "outputs": [
        {
          "output_type": "execute_result",
          "data": {
            "text/html": [
              "<div>\n",
              "<style scoped>\n",
              "    .dataframe tbody tr th:only-of-type {\n",
              "        vertical-align: middle;\n",
              "    }\n",
              "\n",
              "    .dataframe tbody tr th {\n",
              "        vertical-align: top;\n",
              "    }\n",
              "\n",
              "    .dataframe thead th {\n",
              "        text-align: right;\n",
              "    }\n",
              "</style>\n",
              "<table border=\"1\" class=\"dataframe\">\n",
              "  <thead>\n",
              "    <tr style=\"text-align: right;\">\n",
              "      <th></th>\n",
              "      <th>blues</th>\n",
              "      <th>classical</th>\n",
              "      <th>country</th>\n",
              "      <th>disco</th>\n",
              "      <th>hiphop</th>\n",
              "      <th>jazz</th>\n",
              "      <th>metal</th>\n",
              "      <th>pop</th>\n",
              "      <th>reggae</th>\n",
              "      <th>rock</th>\n",
              "    </tr>\n",
              "  </thead>\n",
              "  <tbody>\n",
              "    <tr>\n",
              "      <th>0</th>\n",
              "      <td>0.0012</td>\n",
              "      <td>0.0674</td>\n",
              "      <td>0.0000</td>\n",
              "      <td>0.1739</td>\n",
              "      <td>0.0001</td>\n",
              "      <td>0.0000</td>\n",
              "      <td>0.0059</td>\n",
              "      <td>0.0884</td>\n",
              "      <td>0.0001</td>\n",
              "      <td>0.6629</td>\n",
              "    </tr>\n",
              "    <tr>\n",
              "      <th>1</th>\n",
              "      <td>0.0731</td>\n",
              "      <td>0.0016</td>\n",
              "      <td>0.2933</td>\n",
              "      <td>0.0336</td>\n",
              "      <td>0.0001</td>\n",
              "      <td>0.0735</td>\n",
              "      <td>0.0005</td>\n",
              "      <td>0.0303</td>\n",
              "      <td>0.0007</td>\n",
              "      <td>0.4934</td>\n",
              "    </tr>\n",
              "    <tr>\n",
              "      <th>2</th>\n",
              "      <td>0.0000</td>\n",
              "      <td>0.0000</td>\n",
              "      <td>0.2864</td>\n",
              "      <td>0.4507</td>\n",
              "      <td>0.0000</td>\n",
              "      <td>0.0000</td>\n",
              "      <td>0.0000</td>\n",
              "      <td>0.0001</td>\n",
              "      <td>0.2555</td>\n",
              "      <td>0.0073</td>\n",
              "    </tr>\n",
              "    <tr>\n",
              "      <th>3</th>\n",
              "      <td>0.0000</td>\n",
              "      <td>0.0000</td>\n",
              "      <td>0.0000</td>\n",
              "      <td>0.3853</td>\n",
              "      <td>0.3142</td>\n",
              "      <td>0.0000</td>\n",
              "      <td>0.0006</td>\n",
              "      <td>0.2884</td>\n",
              "      <td>0.0115</td>\n",
              "      <td>0.0000</td>\n",
              "    </tr>\n",
              "    <tr>\n",
              "      <th>4</th>\n",
              "      <td>0.0000</td>\n",
              "      <td>0.0060</td>\n",
              "      <td>0.0016</td>\n",
              "      <td>0.0524</td>\n",
              "      <td>0.0000</td>\n",
              "      <td>0.0001</td>\n",
              "      <td>0.0005</td>\n",
              "      <td>0.0344</td>\n",
              "      <td>0.0000</td>\n",
              "      <td>0.9050</td>\n",
              "    </tr>\n",
              "    <tr>\n",
              "      <th>5</th>\n",
              "      <td>0.0001</td>\n",
              "      <td>0.0000</td>\n",
              "      <td>0.5247</td>\n",
              "      <td>0.2062</td>\n",
              "      <td>0.0000</td>\n",
              "      <td>0.0000</td>\n",
              "      <td>0.0000</td>\n",
              "      <td>0.0047</td>\n",
              "      <td>0.1696</td>\n",
              "      <td>0.0948</td>\n",
              "    </tr>\n",
              "    <tr>\n",
              "      <th>6</th>\n",
              "      <td>0.0012</td>\n",
              "      <td>0.0000</td>\n",
              "      <td>0.0324</td>\n",
              "      <td>0.0000</td>\n",
              "      <td>0.0000</td>\n",
              "      <td>0.0000</td>\n",
              "      <td>0.0000</td>\n",
              "      <td>0.0000</td>\n",
              "      <td>0.9664</td>\n",
              "      <td>0.0000</td>\n",
              "    </tr>\n",
              "    <tr>\n",
              "      <th>7</th>\n",
              "      <td>0.0000</td>\n",
              "      <td>0.9287</td>\n",
              "      <td>0.0001</td>\n",
              "      <td>0.0004</td>\n",
              "      <td>0.0000</td>\n",
              "      <td>0.0001</td>\n",
              "      <td>0.0000</td>\n",
              "      <td>0.0359</td>\n",
              "      <td>0.0002</td>\n",
              "      <td>0.0346</td>\n",
              "    </tr>\n",
              "    <tr>\n",
              "      <th>8</th>\n",
              "      <td>0.0024</td>\n",
              "      <td>0.3121</td>\n",
              "      <td>0.0032</td>\n",
              "      <td>0.0123</td>\n",
              "      <td>0.0000</td>\n",
              "      <td>0.0083</td>\n",
              "      <td>0.0000</td>\n",
              "      <td>0.0072</td>\n",
              "      <td>0.0002</td>\n",
              "      <td>0.6541</td>\n",
              "    </tr>\n",
              "    <tr>\n",
              "      <th>9</th>\n",
              "      <td>0.0000</td>\n",
              "      <td>0.1662</td>\n",
              "      <td>0.0000</td>\n",
              "      <td>0.0009</td>\n",
              "      <td>0.0000</td>\n",
              "      <td>0.0000</td>\n",
              "      <td>0.0006</td>\n",
              "      <td>0.0803</td>\n",
              "      <td>0.0224</td>\n",
              "      <td>0.7295</td>\n",
              "    </tr>\n",
              "    <tr>\n",
              "      <th>10</th>\n",
              "      <td>0.0000</td>\n",
              "      <td>0.0000</td>\n",
              "      <td>0.0226</td>\n",
              "      <td>0.2951</td>\n",
              "      <td>0.0300</td>\n",
              "      <td>0.0000</td>\n",
              "      <td>0.0036</td>\n",
              "      <td>0.0398</td>\n",
              "      <td>0.0194</td>\n",
              "      <td>0.5894</td>\n",
              "    </tr>\n",
              "    <tr>\n",
              "      <th>11</th>\n",
              "      <td>0.0004</td>\n",
              "      <td>0.0000</td>\n",
              "      <td>0.0017</td>\n",
              "      <td>0.0135</td>\n",
              "      <td>0.7043</td>\n",
              "      <td>0.0000</td>\n",
              "      <td>0.0000</td>\n",
              "      <td>0.0010</td>\n",
              "      <td>0.2408</td>\n",
              "      <td>0.0383</td>\n",
              "    </tr>\n",
              "    <tr>\n",
              "      <th>12</th>\n",
              "      <td>0.0547</td>\n",
              "      <td>0.0000</td>\n",
              "      <td>0.0957</td>\n",
              "      <td>0.0169</td>\n",
              "      <td>0.0495</td>\n",
              "      <td>0.0004</td>\n",
              "      <td>0.0000</td>\n",
              "      <td>0.0180</td>\n",
              "      <td>0.1956</td>\n",
              "      <td>0.5692</td>\n",
              "    </tr>\n",
              "    <tr>\n",
              "      <th>13</th>\n",
              "      <td>0.0230</td>\n",
              "      <td>0.0000</td>\n",
              "      <td>0.0002</td>\n",
              "      <td>0.0882</td>\n",
              "      <td>0.1041</td>\n",
              "      <td>0.0000</td>\n",
              "      <td>0.0005</td>\n",
              "      <td>0.3727</td>\n",
              "      <td>0.2312</td>\n",
              "      <td>0.1801</td>\n",
              "    </tr>\n",
              "    <tr>\n",
              "      <th>14</th>\n",
              "      <td>0.0000</td>\n",
              "      <td>0.0013</td>\n",
              "      <td>0.5071</td>\n",
              "      <td>0.0984</td>\n",
              "      <td>0.0000</td>\n",
              "      <td>0.0000</td>\n",
              "      <td>0.0000</td>\n",
              "      <td>0.0015</td>\n",
              "      <td>0.3906</td>\n",
              "      <td>0.0011</td>\n",
              "    </tr>\n",
              "    <tr>\n",
              "      <th>15</th>\n",
              "      <td>0.0003</td>\n",
              "      <td>0.1993</td>\n",
              "      <td>0.0008</td>\n",
              "      <td>0.0000</td>\n",
              "      <td>0.0000</td>\n",
              "      <td>0.7996</td>\n",
              "      <td>0.0000</td>\n",
              "      <td>0.0000</td>\n",
              "      <td>0.0000</td>\n",
              "      <td>0.0000</td>\n",
              "    </tr>\n",
              "    <tr>\n",
              "      <th>16</th>\n",
              "      <td>0.0000</td>\n",
              "      <td>0.0000</td>\n",
              "      <td>0.0000</td>\n",
              "      <td>0.8399</td>\n",
              "      <td>0.0848</td>\n",
              "      <td>0.0000</td>\n",
              "      <td>0.0000</td>\n",
              "      <td>0.0074</td>\n",
              "      <td>0.0003</td>\n",
              "      <td>0.0676</td>\n",
              "    </tr>\n",
              "    <tr>\n",
              "      <th>17</th>\n",
              "      <td>0.0015</td>\n",
              "      <td>0.0083</td>\n",
              "      <td>0.0001</td>\n",
              "      <td>0.1900</td>\n",
              "      <td>0.0844</td>\n",
              "      <td>0.0237</td>\n",
              "      <td>0.0231</td>\n",
              "      <td>0.0552</td>\n",
              "      <td>0.0017</td>\n",
              "      <td>0.6119</td>\n",
              "    </tr>\n",
              "    <tr>\n",
              "      <th>18</th>\n",
              "      <td>0.0004</td>\n",
              "      <td>0.0021</td>\n",
              "      <td>0.3780</td>\n",
              "      <td>0.2372</td>\n",
              "      <td>0.0015</td>\n",
              "      <td>0.0188</td>\n",
              "      <td>0.0006</td>\n",
              "      <td>0.0051</td>\n",
              "      <td>0.0055</td>\n",
              "      <td>0.3507</td>\n",
              "    </tr>\n",
              "    <tr>\n",
              "      <th>19</th>\n",
              "      <td>0.0613</td>\n",
              "      <td>0.1374</td>\n",
              "      <td>0.6798</td>\n",
              "      <td>0.0001</td>\n",
              "      <td>0.0000</td>\n",
              "      <td>0.0000</td>\n",
              "      <td>0.0000</td>\n",
              "      <td>0.0006</td>\n",
              "      <td>0.0000</td>\n",
              "      <td>0.1207</td>\n",
              "    </tr>\n",
              "    <tr>\n",
              "      <th>20</th>\n",
              "      <td>0.0000</td>\n",
              "      <td>0.0002</td>\n",
              "      <td>0.5810</td>\n",
              "      <td>0.0032</td>\n",
              "      <td>0.0002</td>\n",
              "      <td>0.0004</td>\n",
              "      <td>0.0000</td>\n",
              "      <td>0.0019</td>\n",
              "      <td>0.0000</td>\n",
              "      <td>0.4131</td>\n",
              "    </tr>\n",
              "    <tr>\n",
              "      <th>21</th>\n",
              "      <td>0.0000</td>\n",
              "      <td>0.0000</td>\n",
              "      <td>0.0000</td>\n",
              "      <td>0.0002</td>\n",
              "      <td>0.2453</td>\n",
              "      <td>0.0061</td>\n",
              "      <td>0.7412</td>\n",
              "      <td>0.0044</td>\n",
              "      <td>0.0000</td>\n",
              "      <td>0.0028</td>\n",
              "    </tr>\n",
              "    <tr>\n",
              "      <th>22</th>\n",
              "      <td>0.0000</td>\n",
              "      <td>0.6889</td>\n",
              "      <td>0.0000</td>\n",
              "      <td>0.0017</td>\n",
              "      <td>0.0000</td>\n",
              "      <td>0.0001</td>\n",
              "      <td>0.0018</td>\n",
              "      <td>0.0313</td>\n",
              "      <td>0.0000</td>\n",
              "      <td>0.2762</td>\n",
              "    </tr>\n",
              "    <tr>\n",
              "      <th>23</th>\n",
              "      <td>0.0000</td>\n",
              "      <td>0.8364</td>\n",
              "      <td>0.0033</td>\n",
              "      <td>0.0000</td>\n",
              "      <td>0.0000</td>\n",
              "      <td>0.0000</td>\n",
              "      <td>0.0000</td>\n",
              "      <td>0.0027</td>\n",
              "      <td>0.0001</td>\n",
              "      <td>0.1576</td>\n",
              "    </tr>\n",
              "    <tr>\n",
              "      <th>24</th>\n",
              "      <td>0.0000</td>\n",
              "      <td>0.7511</td>\n",
              "      <td>0.0018</td>\n",
              "      <td>0.0004</td>\n",
              "      <td>0.0000</td>\n",
              "      <td>0.0445</td>\n",
              "      <td>0.0014</td>\n",
              "      <td>0.0252</td>\n",
              "      <td>0.0007</td>\n",
              "      <td>0.1748</td>\n",
              "    </tr>\n",
              "    <tr>\n",
              "      <th>25</th>\n",
              "      <td>0.0047</td>\n",
              "      <td>0.9809</td>\n",
              "      <td>0.0001</td>\n",
              "      <td>0.0000</td>\n",
              "      <td>0.0000</td>\n",
              "      <td>0.0143</td>\n",
              "      <td>0.0000</td>\n",
              "      <td>0.0000</td>\n",
              "      <td>0.0000</td>\n",
              "      <td>0.0000</td>\n",
              "    </tr>\n",
              "    <tr>\n",
              "      <th>26</th>\n",
              "      <td>0.0116</td>\n",
              "      <td>0.0000</td>\n",
              "      <td>0.0024</td>\n",
              "      <td>0.0004</td>\n",
              "      <td>0.0117</td>\n",
              "      <td>0.2980</td>\n",
              "      <td>0.0000</td>\n",
              "      <td>0.0000</td>\n",
              "      <td>0.6046</td>\n",
              "      <td>0.0712</td>\n",
              "    </tr>\n",
              "    <tr>\n",
              "      <th>27</th>\n",
              "      <td>0.0016</td>\n",
              "      <td>0.3950</td>\n",
              "      <td>0.3632</td>\n",
              "      <td>0.1521</td>\n",
              "      <td>0.0000</td>\n",
              "      <td>0.0001</td>\n",
              "      <td>0.0000</td>\n",
              "      <td>0.0000</td>\n",
              "      <td>0.0012</td>\n",
              "      <td>0.0868</td>\n",
              "    </tr>\n",
              "    <tr>\n",
              "      <th>28</th>\n",
              "      <td>0.0859</td>\n",
              "      <td>0.0001</td>\n",
              "      <td>0.0420</td>\n",
              "      <td>0.4383</td>\n",
              "      <td>0.0004</td>\n",
              "      <td>0.0044</td>\n",
              "      <td>0.0000</td>\n",
              "      <td>0.0050</td>\n",
              "      <td>0.3200</td>\n",
              "      <td>0.1040</td>\n",
              "    </tr>\n",
              "  </tbody>\n",
              "</table>\n",
              "</div>"
            ],
            "text/plain": [
              "     blues  classical  country   disco  ...   metal     pop  reggae    rock\n",
              "0   0.0012     0.0674   0.0000  0.1739  ...  0.0059  0.0884  0.0001  0.6629\n",
              "1   0.0731     0.0016   0.2933  0.0336  ...  0.0005  0.0303  0.0007  0.4934\n",
              "2   0.0000     0.0000   0.2864  0.4507  ...  0.0000  0.0001  0.2555  0.0073\n",
              "3   0.0000     0.0000   0.0000  0.3853  ...  0.0006  0.2884  0.0115  0.0000\n",
              "4   0.0000     0.0060   0.0016  0.0524  ...  0.0005  0.0344  0.0000  0.9050\n",
              "5   0.0001     0.0000   0.5247  0.2062  ...  0.0000  0.0047  0.1696  0.0948\n",
              "6   0.0012     0.0000   0.0324  0.0000  ...  0.0000  0.0000  0.9664  0.0000\n",
              "7   0.0000     0.9287   0.0001  0.0004  ...  0.0000  0.0359  0.0002  0.0346\n",
              "8   0.0024     0.3121   0.0032  0.0123  ...  0.0000  0.0072  0.0002  0.6541\n",
              "9   0.0000     0.1662   0.0000  0.0009  ...  0.0006  0.0803  0.0224  0.7295\n",
              "10  0.0000     0.0000   0.0226  0.2951  ...  0.0036  0.0398  0.0194  0.5894\n",
              "11  0.0004     0.0000   0.0017  0.0135  ...  0.0000  0.0010  0.2408  0.0383\n",
              "12  0.0547     0.0000   0.0957  0.0169  ...  0.0000  0.0180  0.1956  0.5692\n",
              "13  0.0230     0.0000   0.0002  0.0882  ...  0.0005  0.3727  0.2312  0.1801\n",
              "14  0.0000     0.0013   0.5071  0.0984  ...  0.0000  0.0015  0.3906  0.0011\n",
              "15  0.0003     0.1993   0.0008  0.0000  ...  0.0000  0.0000  0.0000  0.0000\n",
              "16  0.0000     0.0000   0.0000  0.8399  ...  0.0000  0.0074  0.0003  0.0676\n",
              "17  0.0015     0.0083   0.0001  0.1900  ...  0.0231  0.0552  0.0017  0.6119\n",
              "18  0.0004     0.0021   0.3780  0.2372  ...  0.0006  0.0051  0.0055  0.3507\n",
              "19  0.0613     0.1374   0.6798  0.0001  ...  0.0000  0.0006  0.0000  0.1207\n",
              "20  0.0000     0.0002   0.5810  0.0032  ...  0.0000  0.0019  0.0000  0.4131\n",
              "21  0.0000     0.0000   0.0000  0.0002  ...  0.7412  0.0044  0.0000  0.0028\n",
              "22  0.0000     0.6889   0.0000  0.0017  ...  0.0018  0.0313  0.0000  0.2762\n",
              "23  0.0000     0.8364   0.0033  0.0000  ...  0.0000  0.0027  0.0001  0.1576\n",
              "24  0.0000     0.7511   0.0018  0.0004  ...  0.0014  0.0252  0.0007  0.1748\n",
              "25  0.0047     0.9809   0.0001  0.0000  ...  0.0000  0.0000  0.0000  0.0000\n",
              "26  0.0116     0.0000   0.0024  0.0004  ...  0.0000  0.0000  0.6046  0.0712\n",
              "27  0.0016     0.3950   0.3632  0.1521  ...  0.0000  0.0000  0.0012  0.0868\n",
              "28  0.0859     0.0001   0.0420  0.4383  ...  0.0000  0.0050  0.3200  0.1040\n",
              "\n",
              "[29 rows x 10 columns]"
            ]
          },
          "metadata": {
            "tags": []
          },
          "execution_count": 11
        }
      ]
    },
    {
      "cell_type": "code",
      "metadata": {
        "id": "eESyanIJcCYo"
      },
      "source": [
        "values = df.iloc[:,1:]\n",
        "values = values.to_numpy()"
      ],
      "execution_count": 24,
      "outputs": []
    },
    {
      "cell_type": "code",
      "metadata": {
        "id": "HYdNkxYcktpW"
      },
      "source": [
        "values = values[:10,:]"
      ],
      "execution_count": 25,
      "outputs": []
    },
    {
      "cell_type": "code",
      "metadata": {
        "id": "8QAtoztVcikF"
      },
      "source": [
        "#Size of Array + Dimensions\n",
        "num_songs, num_dim = values.shape\n",
        "seed(3)"
      ],
      "execution_count": 26,
      "outputs": []
    },
    {
      "cell_type": "code",
      "metadata": {
        "id": "vd7EBKtUf4_s"
      },
      "source": [
        "\n",
        "#for i in range(0,L-1):\n",
        " # genre_index[i]=L\n",
        "random_int = np.random.randint(1, 100, num_songs) * 0.2\n",
        "\n",
        "values = np.zeros((num_songs,num_genres)) \n",
        "for i in range(num_songs):\n",
        "  alpha = np.divide(np.ones(num_genres),random_int[i])\n",
        "  values[i,:] = np.random.dirichlet(alpha,size=1)\n",
        "#rand_gen = rand(num_genres,num_songs)\n",
        "#rand_sum = np.sum(rand_gen, axis = 1)\n",
        "#values = rand_generator\n",
        "print(values)\n",
        "\n"
      ],
      "execution_count": null,
      "outputs": []
    },
    {
      "cell_type": "code",
      "metadata": {
        "id": "8VckeWJyMXMR"
      },
      "source": [
        "#################### Random Generation for Testing #######################"
      ],
      "execution_count": null,
      "outputs": []
    },
    {
      "cell_type": "code",
      "metadata": {
        "id": "N8Fg-IklqHKl"
      },
      "source": [
        "values3D = np.zeros((num_songs,3)) \n",
        "for i in range(num_songs):\n",
        "  alpha = np.divide(np.ones(3),random_int[i])\n",
        "  values3D[i,:] = np.random.dirichlet(alpha,size=1)\n",
        "values3D"
      ],
      "execution_count": null,
      "outputs": []
    },
    {
      "cell_type": "code",
      "metadata": {
        "colab": {
          "base_uri": "https://localhost:8080/",
          "height": 248
        },
        "id": "rX6Pzu265mLO",
        "outputId": "de0111b8-19fe-462f-9d10-feb6f5978114"
      },
      "source": [
        "\n",
        "\n",
        "fig = plt.figure()\n",
        "ax = fig.add_subplot(111, projection='3d')\n",
        "ax.scatter(values3D[:,0], values3D[:,1], values3D[:,2])\n",
        "# Method 1\n",
        "ax.set_xlabel('genre 1')\n",
        "ax.set_ylabel('genre 2')\n",
        "ax.set_zlabel('genre 3')\n",
        "#plt.title('collection softmax outputs as 3-genre vector space')\n",
        "#plt.show()\n",
        "plt.savefig('/content/drive/MyDrive/3Dgenreplot')"
      ],
      "execution_count": null,
      "outputs": [
        {
          "output_type": "display_data",
          "data": {
            "image/png": "[encoded data removed]",
            "text/plain": [
              "<Figure size 432x288 with 1 Axes>"
            ]
          },
          "metadata": {
            "tags": [],
            "needs_background": "light"
          }
        }
      ]
    },
    {
      "cell_type": "code",
      "metadata": {
        "id": "jzHC4ZhewO5V"
      },
      "source": [
        ""
      ],
      "execution_count": 20,
      "outputs": []
    },
    {
      "cell_type": "code",
      "metadata": {
        "id": "H4hKbS1Z9Awc"
      },
      "source": [
        "def distance_matrix(values):\n",
        "  dist_matrix = np.zeros((num_songs,num_songs))\n",
        "  for i in range(num_songs):\n",
        "    for j in range(num_songs):\n",
        "      dist_matrix[i,j]= distance.euclidean(values[i,:],values[j,:])\n",
        "\n",
        "  dist_matrix = dist_matrix.round(4)   \n",
        "  \n",
        "  return dist_matrix                                         \n"
      ],
      "execution_count": 27,
      "outputs": []
    },
    {
      "cell_type": "code",
      "metadata": {
        "id": "4HzaZwbhoIiu"
      },
      "source": [
        "dist_matrix = distance_matrix(values)"
      ],
      "execution_count": 28,
      "outputs": []
    },
    {
      "cell_type": "code",
      "metadata": {
        "colab": {
          "base_uri": "https://localhost:8080/"
        },
        "id": "RnNdOeQBjwWm",
        "outputId": "812325d6-7109-43b1-8efc-eba827f183ee"
      },
      "source": [
        "# Python3 program to solve \n",
        "# Traveling Salesman Problem using \n",
        "# Branch and Bound.\n",
        "import math\n",
        "maxsize = float('inf')\n",
        "  \n",
        "# Function to copy temporary solution\n",
        "# to the final solution\n",
        "def copyToFinal(curr_path):\n",
        "    final_path[:N + 1] = curr_path[:]\n",
        "    final_path[N] = curr_path[0]\n",
        "  \n",
        "# Function to find the minimum edge cost \n",
        "# having an end at the vertex i\n",
        "def firstMin(adj, i):\n",
        "    min = maxsize\n",
        "    for k in range(N):\n",
        "        if adj[i][k] < min and i != k:\n",
        "            min = adj[i][k]\n",
        "  \n",
        "    return min\n",
        "  \n",
        "# function to find the second minimum edge \n",
        "# cost having an end at the vertex i\n",
        "def secondMin(adj, i):\n",
        "    first, second = maxsize, maxsize\n",
        "    for j in range(N):\n",
        "        if i == j:\n",
        "            continue\n",
        "        if adj[i][j] <= first:\n",
        "            second = first\n",
        "            first = adj[i][j]\n",
        "  \n",
        "        elif(adj[i][j] <= second and \n",
        "             adj[i][j] != first):\n",
        "            second = adj[i][j]\n",
        "  \n",
        "    return second\n",
        "  \n",
        "# function that takes as arguments:\n",
        "# curr_bound -> lower bound of the root node\n",
        "# curr_weight-> stores the weight of the path so far\n",
        "# level-> current level while moving\n",
        "# in the search space tree\n",
        "# curr_path[] -> where the solution is being stored\n",
        "# which would later be copied to final_path[]\n",
        "def TSPRec(adj, curr_bound, curr_weight, \n",
        "              level, curr_path, visited):\n",
        "    global final_res\n",
        "      \n",
        "    # base case is when we have reached level N \n",
        "    # which means we have covered all the nodes once\n",
        "    if level == N:\n",
        "          \n",
        "        # check if there is an edge from\n",
        "        # last vertex in path back to the first vertex\n",
        "        if adj[curr_path[level - 1]][curr_path[0]] != 0:\n",
        "              \n",
        "            # curr_res has the total weight\n",
        "            # of the solution we got\n",
        "            curr_res = curr_weight + adj[curr_path[level - 1]]\\\n",
        "                                        [curr_path[0]]\n",
        "            if curr_res < final_res:\n",
        "                copyToFinal(curr_path)\n",
        "                final_res = curr_res\n",
        "        return\n",
        "  \n",
        "    # for any other level iterate for all vertices\n",
        "    # to build the search space tree recursively\n",
        "    for i in range(N):\n",
        "          \n",
        "        # Consider next vertex if it is not same \n",
        "        # (diagonal entry in adjacency matrix and \n",
        "        #  not visited already)\n",
        "        if (adj[curr_path[level-1]][i] != 0 and\n",
        "                            visited[i] == False):\n",
        "            temp = curr_bound\n",
        "            curr_weight += adj[curr_path[level - 1]][i]\n",
        "  \n",
        "            # different computation of curr_bound \n",
        "            # for level 2 from the other levels\n",
        "            if level == 1:\n",
        "                curr_bound -= ((firstMin(adj, curr_path[level - 1]) + \n",
        "                                firstMin(adj, i)) / 2)\n",
        "            else:\n",
        "                curr_bound -= ((secondMin(adj, curr_path[level - 1]) +\n",
        "                                 firstMin(adj, i)) / 2)\n",
        "  \n",
        "            # curr_bound + curr_weight is the actual lower bound \n",
        "            # for the node that we have arrived on.\n",
        "            # If current lower bound < final_res, \n",
        "            # we need to explore the node further\n",
        "            if curr_bound + curr_weight < final_res:\n",
        "                curr_path[level] = i\n",
        "                visited[i] = True\n",
        "                  \n",
        "                # call TSPRec for the next level\n",
        "                TSPRec(adj, curr_bound, curr_weight, \n",
        "                       level + 1, curr_path, visited)\n",
        "  \n",
        "            # Else we have to prune the node by resetting \n",
        "            # all changes to curr_weight and curr_bound\n",
        "            curr_weight -= adj[curr_path[level - 1]][i]\n",
        "            curr_bound = temp\n",
        "  \n",
        "            # Also reset the visited array\n",
        "            visited = [False] * len(visited)\n",
        "            for j in range(level):\n",
        "                if curr_path[j] != -1:\n",
        "                    visited[curr_path[j]] = True\n",
        "  \n",
        "# This function sets up final_path\n",
        "def TSP(adj):\n",
        "      \n",
        "    # Calculate initial lower bound for the root node \n",
        "    # using the formula 1/2 * (sum of first min + \n",
        "    # second min) for all edges. Also initialize the \n",
        "    # curr_path and visited array\n",
        "    curr_bound = 0\n",
        "    curr_path = [-1] * (N + 1)\n",
        "    visited = [False] * N\n",
        "  \n",
        "    # Compute initial bound\n",
        "    for i in range(N):\n",
        "        curr_bound += (firstMin(adj, i) + \n",
        "                       secondMin(adj, i))\n",
        "  \n",
        "    # Rounding off the lower bound to an integer\n",
        "    curr_bound = math.ceil(curr_bound / 2)\n",
        "  \n",
        "    # We start at vertex 1 so the first vertex \n",
        "    # in curr_path[] is 0\n",
        "    visited[0] = True\n",
        "    curr_path[0] = 0\n",
        "  \n",
        "    # Call to TSPRec for curr_weight \n",
        "    # equal to 0 and level 1\n",
        "    TSPRec(adj, curr_bound, 0, 1, curr_path, visited)\n",
        "  \n",
        "# Driver code\n",
        "  \n",
        "# Adjacency matrix for the given graph\n",
        "N = num_songs\n",
        "adj = dist_matrix\n",
        "  \n",
        "# final_path[] stores the final solution \n",
        "# i.e. the // path of the salesman.\n",
        "final_path = [None] * (N + 1)\n",
        "  \n",
        "# visited[] keeps track of the already\n",
        "# visited nodes in a particular path\n",
        "visited = [False] * N\n",
        "  \n",
        "# Stores the final minimum weight\n",
        "# of shortest tour.\n",
        "final_res = maxsize\n",
        "  \n",
        "TSP(adj)\n",
        "  \n",
        "print(\"Minimum cost :\", final_res)\n",
        "print(\"Path Taken : \", end = ' ')\n",
        "for i in range(N + 1):\n",
        "    print(final_path[i], end = ' ')"
      ],
      "execution_count": 29,
      "outputs": [
        {
          "output_type": "stream",
          "text": [
            "Minimum cost : 5.9017\n",
            "Path Taken :  0 1 5 2 3 6 7 8 9 4 0 "
          ],
          "name": "stdout"
        }
      ]
    },
    {
      "cell_type": "markdown",
      "metadata": {
        "id": "doS6yK8MweHI"
      },
      "source": [
        "Next, we need to add a dummy node with zeroed distances to act as start and end node, avoiding the cycle being taken into account"
      ]
    },
    {
      "cell_type": "code",
      "metadata": {
        "id": "rxDsXT5a3YJn"
      },
      "source": [
        "#Want to add a dummy node to represent the 1st and last destinations of TSP problem\n",
        "#we define the dummy's distance value to be half the minimum non-zero value in distance matrix from every distance\n",
        "def dummy_var(dist_matrix):\n",
        "\n",
        "  minval = np.min(dist_matrix[np.nonzero(dist_matrix)])\n",
        "  dum_value = minval/2\n",
        "  dist_matrix_dum = np.pad(dist_matrix,((1,0),), 'constant',constant_values=(dum_value))\n",
        "  return dist_matrix_dum , dum_value"
      ],
      "execution_count": 30,
      "outputs": []
    },
    {
      "cell_type": "code",
      "metadata": {
        "id": "Cha4JywQkexe"
      },
      "source": [
        "dist_matrix_dum , dum_value = dummy_var(dist_matrix)"
      ],
      "execution_count": 31,
      "outputs": []
    },
    {
      "cell_type": "code",
      "metadata": {
        "colab": {
          "base_uri": "https://localhost:8080/"
        },
        "id": "ERJtV86a925I",
        "outputId": "f1517887-fca2-4558-e4cc-6e7635dbd206"
      },
      "source": [
        "# Adjacency matrix for the given graph\n",
        "N = num_songs+1\n",
        "adj = dist_matrix_dum\n",
        "  \n",
        "# final_path[] stores the final solution \n",
        "# i.e. the // path of the salesman.\n",
        "final_path = [None] * (N + 1)\n",
        "  \n",
        "# visited[] keeps track of the already\n",
        "# visited nodes in a particular path\n",
        "visited = [False] * N\n",
        "  \n",
        "# Stores the final minimum weight\n",
        "# of shortest tour.\n",
        "final_res = maxsize\n",
        "  \n",
        "TSP(adj)\n",
        "# Since we have defined the dummy variable to be half the minimum non-zero value in distance matrix\n",
        "# subtract 2*dummy value from minumum cost to get actual distance cost of a path without a final return making it a tour\n",
        "branch_cost = final_res - dum_value*2\n",
        "print(\"Minimum cost :\", branch_cost)\n",
        "print(\"Path Taken : \", end = ' ')\n",
        "#best_state_branch = np.zeros(N)\n",
        "#for i in range(N + 1):\n",
        "    #final_path[i], end = ' '\n",
        "best_state_branch = final_path\n",
        "print(best_state_branch)\n",
        "\n"
      ],
      "execution_count": 32,
      "outputs": [
        {
          "output_type": "stream",
          "text": [
            "Minimum cost : 4.9613999999999985\n",
            "Path Taken :  [0, 2, 1, 5, 10, 9, 8, 4, 3, 6, 7, 0]\n"
          ],
          "name": "stdout"
        }
      ]
    },
    {
      "cell_type": "markdown",
      "metadata": {
        "id": "vVpGD27i-BP6"
      },
      "source": [
        "As we can see, the dummy variable removes the final distance completing the tour from being taken into count into the optimization, since its distance is the smallest\n",
        "\n"
      ]
    },
    {
      "cell_type": "markdown",
      "metadata": {
        "id": "g_KGKKx0wJ5_"
      },
      "source": [
        "### Genetic Algorithm Method\n",
        "Implementation using Mlrose"
      ]
    },
    {
      "cell_type": "code",
      "metadata": {
        "colab": {
          "base_uri": "https://localhost:8080/"
        },
        "id": "pmDK2KHNfkio",
        "outputId": "a7388189-6f8d-4de4-89fd-0c240d41d5c8"
      },
      "source": [
        "pip install mlrose"
      ],
      "execution_count": 33,
      "outputs": [
        {
          "output_type": "stream",
          "text": [
            "Collecting mlrose\n",
            "  Downloading https://files.pythonhosted.org/packages/0d/f8/79e77a40f6e8988e3ecc9ead8a28024ee43df9c99fce2209037c9e6f9e4a/mlrose-1.3.0-py3-none-any.whl\n",
            "Requirement already satisfied: sklearn in /usr/local/lib/python3.7/dist-packages (from mlrose) (0.0)\n",
            "Requirement already satisfied: numpy in /usr/local/lib/python3.7/dist-packages (from mlrose) (1.19.5)\n",
            "Requirement already satisfied: scipy in /usr/local/lib/python3.7/dist-packages (from mlrose) (1.4.1)\n",
            "Requirement already satisfied: scikit-learn in /usr/local/lib/python3.7/dist-packages (from sklearn->mlrose) (0.22.2.post1)\n",
            "Requirement already satisfied: joblib>=0.11 in /usr/local/lib/python3.7/dist-packages (from scikit-learn->sklearn->mlrose) (1.0.1)\n",
            "Installing collected packages: mlrose\n",
            "Successfully installed mlrose-1.3.0\n"
          ],
          "name": "stdout"
        }
      ]
    },
    {
      "cell_type": "code",
      "metadata": {
        "id": "1RDevHjPwWNu"
      },
      "source": [
        "import mlrose"
      ],
      "execution_count": null,
      "outputs": []
    },
    {
      "cell_type": "code",
      "metadata": {
        "colab": {
          "base_uri": "https://localhost:8080/"
        },
        "id": "fMKh0irBO_hk",
        "outputId": "41a8bd0d-0545-46eb-d75f-5205bd62ef98"
      },
      "source": [
        "\n",
        "\n",
        "#First we attempt a tour, rather than a path (starts and ends at same node)\n",
        "\n",
        "dist_list=[]\n",
        "count=1\n",
        "for i in range(num_songs):\n",
        "  for j in range(num_songs):\n",
        "    if i!=j:\n",
        "      dist_list.append((i,j,dist_matrix[i,j]))\n",
        "      count+=1\n",
        "print(dist_list)"
      ],
      "execution_count": 34,
      "outputs": [
        {
          "output_type": "stream",
          "text": [
            "[(0, 1, 0.3908), (0, 2, 0.8161), (0, 3, 0.7921), (0, 4, 0.283), (0, 5, 0.7996), (0, 6, 1.1903), (0, 7, 1.0814), (0, 8, 0.3046), (0, 9, 0.2115), (1, 0, 0.3908), (1, 2, 0.6978), (1, 3, 0.7933), (1, 4, 0.5154), (1, 5, 0.5312), (1, 6, 1.121), (1, 7, 1.0807), (1, 8, 0.4654), (1, 9, 0.4285), (2, 0, 0.8161), (2, 1, 0.6978), (2, 3, 0.5725), (2, 4, 1.0546), (2, 5, 0.3628), (2, 6, 0.8792), (2, 7, 1.102), (2, 8, 0.9238), (2, 9, 0.9457), (3, 0, 0.7921), (3, 1, 0.7933), (3, 2, 0.5725), (3, 4, 1.0456), (3, 5, 0.7215), (3, 6, 1.115), (3, 7, 1.0837), (3, 8, 0.9178), (3, 9, 0.9218), (4, 0, 0.283), (4, 1, 0.5154), (4, 2, 1.0546), (4, 3, 1.0456), (4, 5, 0.9917), (4, 6, 1.3258), (4, 7, 1.2695), (4, 8, 0.3988), (4, 9, 0.2485), (5, 0, 0.7996), (5, 1, 0.5312), (5, 2, 0.3628), (5, 3, 0.7215), (5, 4, 0.9917), (5, 6, 0.9637), (5, 7, 1.1015), (5, 8, 0.8652), (5, 9, 0.8805), (6, 0, 1.1903), (6, 1, 1.121), (6, 2, 0.8792), (6, 3, 1.115), (6, 4, 1.3258), (6, 5, 0.9637), (6, 7, 1.3415), (6, 8, 1.2083), (6, 9, 1.2077), (7, 0, 1.0814), (7, 1, 1.0807), (7, 2, 1.102), (7, 3, 1.0837), (7, 4, 1.2695), (7, 5, 1.1015), (7, 6, 1.3415), (7, 8, 0.8747), (7, 9, 1.0328), (8, 0, 0.3046), (8, 1, 0.4654), (8, 2, 0.9238), (8, 3, 0.9178), (8, 4, 0.3988), (8, 5, 0.8652), (8, 6, 1.2083), (8, 7, 0.8747), (8, 9, 0.1817), (9, 0, 0.2115), (9, 1, 0.4285), (9, 2, 0.9457), (9, 3, 0.9218), (9, 4, 0.2485), (9, 5, 0.8805), (9, 6, 1.2077), (9, 7, 1.0328), (9, 8, 0.1817)]\n"
          ],
          "name": "stdout"
        },
        {
          "output_type": "stream",
          "text": [
            "/usr/local/lib/python3.7/dist-packages/sklearn/externals/six.py:31: FutureWarning: The module is deprecated in version 0.21 and will be removed in version 0.23 since we've dropped support for Python 2.7. Please rely on the official version of six (https://pypi.org/project/six/).\n",
            "  \"(https://pypi.org/project/six/).\", FutureWarning)\n"
          ],
          "name": "stderr"
        }
      ]
    },
    {
      "cell_type": "code",
      "metadata": {
        "colab": {
          "base_uri": "https://localhost:8080/"
        },
        "id": "hzGXyzYIkMmK",
        "outputId": "4634a6a9-00be-4bd6-ac1f-c5f8778c5484"
      },
      "source": [
        "# Initialize fitness function object using dist_list\n",
        "fitness_dists = mlrose.TravellingSales(distances = dist_list)\n",
        "problem_fit = mlrose.TSPOpt(length = num_songs, fitness_fn = fitness_dists, maximize=False)\n",
        "#problem_fit = mlrose.TSPOpt(length = num_songs, distances = dist_list, maximize=False)\n",
        "# Solve problem using the genetic algorithm\n",
        "best_state, best_fitness = mlrose.genetic_alg(problem_fit, random_state = 2)\n",
        "\n",
        "print('The best state found is: ', best_state)\n",
        "\n",
        "print('The fitness at the best state is: ', best_fitness)\n",
        "\n"
      ],
      "execution_count": 35,
      "outputs": [
        {
          "output_type": "stream",
          "text": [
            "The best state found is:  [2 3 1 4 0 8 9 7 6 5]\n",
            "The fitness at the best state is:  6.3513\n"
          ],
          "name": "stdout"
        }
      ]
    },
    {
      "cell_type": "code",
      "metadata": {
        "colab": {
          "base_uri": "https://localhost:8080/"
        },
        "id": "LupvUia3mr1A",
        "outputId": "61738daf-afa2-42a9-fde1-47ba7e726f0d"
      },
      "source": [
        "#Tune parameters to attempt to find better estimate\n",
        "best_state, best_fitness = mlrose.genetic_alg(problem_fit, mutation_prob = 0.2, \n",
        "\t\t\t\t\t      max_attempts = 100, random_state = 2)\n",
        "\n",
        "print('The best state found is: ', best_state)\n",
        "\n",
        "print('The fitness at the best state is: ', best_fitness)"
      ],
      "execution_count": 36,
      "outputs": [
        {
          "output_type": "stream",
          "text": [
            "The best state found is:  [3 6 2 5 1 9 4 0 8 7]\n",
            "The fitness at the best state is:  6.1112\n"
          ],
          "name": "stdout"
        }
      ]
    },
    {
      "cell_type": "code",
      "metadata": {
        "id": "I8RD1EWrnKqT"
      },
      "source": [
        "#Now we add a dummy node of negligible distance from each node to calculate path (no cycle)\n",
        "#So as a tour is calculated, the final \n",
        "def genetic_path(dist_matrix_dum):\n",
        "  dist_list=[]\n",
        "  count=1\n",
        "  dummy_node = num_songs+1\n",
        "  for i in range(dummy_node):\n",
        "    for j in range(dummy_node):\n",
        "      if i!=j:\n",
        "        dist_list.append((i,j,dist_matrix_dum[i,j]))\n",
        "        count+=1\n",
        "  #print(dist_list)\n",
        "\n",
        "\n",
        "  fitness_dists = mlrose.TravellingSales(distances = dist_list)\n",
        "  problem_fit = mlrose.TSPOpt(length = dummy_node, fitness_fn = fitness_dists, maximize=False)\n",
        "  best_state_genetic, best_fitness = mlrose.genetic_alg(problem_fit, mutation_prob = 0.2, \n",
        "\t\t\t\t\t      max_attempts = 100)# random_state = 2)\n",
        "\n",
        "  print('The best state found is: ', best_state_genetic)\n",
        "  genetic_cost = best_fitness -2*dum_value\n",
        "  print('The fitness (or total distance) at the best state is: ', genetic_cost)\n",
        "  return best_state_genetic , genetic_cost\n"
      ],
      "execution_count": 45,
      "outputs": []
    },
    {
      "cell_type": "code",
      "metadata": {
        "colab": {
          "base_uri": "https://localhost:8080/"
        },
        "id": "Tp6K9UxAjdC4",
        "outputId": "e22d51c9-430a-470e-ae02-efd593d79bb0"
      },
      "source": [
        "best_state_genetic, genetic_cost = genetic_path(dist_matrix_dum)"
      ],
      "execution_count": 78,
      "outputs": [
        {
          "output_type": "stream",
          "text": [
            "The best state found is:  [ 4  1 10  9  5  2  6  3  7  0  8]\n",
            "The fitness (or total distance) at the best state is:  4.9564\n"
          ],
          "name": "stdout"
        }
      ]
    },
    {
      "cell_type": "code",
      "metadata": {
        "colab": {
          "base_uri": "https://localhost:8080/"
        },
        "id": "HIp5KlDhDfGr",
        "outputId": "c7a7f060-4227-4efe-be41-2e3e0b1031a7"
      },
      "source": [
        "np.min([genetic_cost,branch_cost])"
      ],
      "execution_count": 79,
      "outputs": [
        {
          "output_type": "execute_result",
          "data": {
            "text/plain": [
              "4.9564"
            ]
          },
          "metadata": {
            "tags": []
          },
          "execution_count": 79
        }
      ]
    },
    {
      "cell_type": "code",
      "metadata": {
        "id": "S23_sFP600TC"
      },
      "source": [
        " 5,  9,  7,  1, 10,  0,  6,  4,  3,  8, 11,  2"
      ],
      "execution_count": null,
      "outputs": []
    },
    {
      "cell_type": "markdown",
      "metadata": {
        "id": "Gb6zW6agmyd3"
      },
      "source": [
        "# ----------------------Reorder Entries into Reduced Similarity Path ----------"
      ]
    },
    {
      "cell_type": "code",
      "metadata": {
        "id": "GY8aWeMRqIyj"
      },
      "source": [
        ""
      ],
      "execution_count": null,
      "outputs": []
    },
    {
      "cell_type": "code",
      "metadata": {
        "id": "NR7fP6kUod91"
      },
      "source": [
        "reorder = [x for x in best_state_genetic if x != 0]\n",
        "reorder = [x -1 for x in reorder]\n"
      ],
      "execution_count": 80,
      "outputs": []
    },
    {
      "cell_type": "code",
      "metadata": {
        "colab": {
          "base_uri": "https://localhost:8080/"
        },
        "id": "W7h2_WPArgaU",
        "outputId": "2242a7cf-b8b4-4e43-dd63-5c4a194ee841"
      },
      "source": [
        "reorder"
      ],
      "execution_count": 81,
      "outputs": [
        {
          "output_type": "execute_result",
          "data": {
            "text/plain": [
              "[3, 0, 9, 8, 4, 1, 5, 2, 6, 7]"
            ]
          },
          "metadata": {
            "tags": []
          },
          "execution_count": 81
        }
      ]
    },
    {
      "cell_type": "code",
      "metadata": {
        "id": "a6Xt-4womwQu"
      },
      "source": [
        "reorder_index = np.zeros(10,dtype = int)\n",
        "for i in range(len(reorder)):\n",
        "  reorder_index[reorder[i]] = i \n"
      ],
      "execution_count": 89,
      "outputs": []
    },
    {
      "cell_type": "code",
      "metadata": {
        "colab": {
          "base_uri": "https://localhost:8080/"
        },
        "id": "eNAhUTjJoYY1",
        "outputId": "e3bc4979-da90-4818-d84d-f3e043e96538"
      },
      "source": [
        "reorder_index"
      ],
      "execution_count": 90,
      "outputs": [
        {
          "output_type": "execute_result",
          "data": {
            "text/plain": [
              "array([1, 5, 7, 0, 4, 6, 8, 9, 3, 2])"
            ]
          },
          "metadata": {
            "tags": []
          },
          "execution_count": 90
        }
      ]
    },
    {
      "cell_type": "code",
      "metadata": {
        "id": "6OLS1iScpcCN"
      },
      "source": [
        "df_subset = df.iloc[:10,:]"
      ],
      "execution_count": 91,
      "outputs": []
    },
    {
      "cell_type": "code",
      "metadata": {
        "colab": {
          "base_uri": "https://localhost:8080/",
          "height": 343
        },
        "id": "5N_qkqQ1q-Ia",
        "outputId": "bfc41ea1-a4eb-4d58-ef14-0bed407a4a11"
      },
      "source": [
        "df_subset.assign(reorder = pd.Series(reorder_index).values)"
      ],
      "execution_count": 92,
      "outputs": [
        {
          "output_type": "execute_result",
          "data": {
            "text/html": [
              "<div>\n",
              "<style scoped>\n",
              "    .dataframe tbody tr th:only-of-type {\n",
              "        vertical-align: middle;\n",
              "    }\n",
              "\n",
              "    .dataframe tbody tr th {\n",
              "        vertical-align: top;\n",
              "    }\n",
              "\n",
              "    .dataframe thead th {\n",
              "        text-align: right;\n",
              "    }\n",
              "</style>\n",
              "<table border=\"1\" class=\"dataframe\">\n",
              "  <thead>\n",
              "    <tr style=\"text-align: right;\">\n",
              "      <th></th>\n",
              "      <th>Unnamed: 0</th>\n",
              "      <th>blues</th>\n",
              "      <th>classical</th>\n",
              "      <th>country</th>\n",
              "      <th>disco</th>\n",
              "      <th>hiphop</th>\n",
              "      <th>jazz</th>\n",
              "      <th>metal</th>\n",
              "      <th>pop</th>\n",
              "      <th>reggae</th>\n",
              "      <th>rock</th>\n",
              "      <th>reorder</th>\n",
              "    </tr>\n",
              "  </thead>\n",
              "  <tbody>\n",
              "    <tr>\n",
              "      <th>0</th>\n",
              "      <td>Corpse Pose</td>\n",
              "      <td>0.0012</td>\n",
              "      <td>0.0674</td>\n",
              "      <td>0.0000</td>\n",
              "      <td>0.1739</td>\n",
              "      <td>0.0001</td>\n",
              "      <td>0.0000</td>\n",
              "      <td>0.0059</td>\n",
              "      <td>0.0884</td>\n",
              "      <td>0.0001</td>\n",
              "      <td>0.6629</td>\n",
              "      <td>1</td>\n",
              "    </tr>\n",
              "    <tr>\n",
              "      <th>1</th>\n",
              "      <td>All Along the Watchtower</td>\n",
              "      <td>0.0731</td>\n",
              "      <td>0.0016</td>\n",
              "      <td>0.2933</td>\n",
              "      <td>0.0336</td>\n",
              "      <td>0.0001</td>\n",
              "      <td>0.0735</td>\n",
              "      <td>0.0005</td>\n",
              "      <td>0.0303</td>\n",
              "      <td>0.0007</td>\n",
              "      <td>0.4934</td>\n",
              "      <td>5</td>\n",
              "    </tr>\n",
              "    <tr>\n",
              "      <th>2</th>\n",
              "      <td>LEAVING HELL</td>\n",
              "      <td>0.0000</td>\n",
              "      <td>0.0000</td>\n",
              "      <td>0.2864</td>\n",
              "      <td>0.4507</td>\n",
              "      <td>0.0000</td>\n",
              "      <td>0.0000</td>\n",
              "      <td>0.0000</td>\n",
              "      <td>0.0001</td>\n",
              "      <td>0.2555</td>\n",
              "      <td>0.0073</td>\n",
              "      <td>7</td>\n",
              "    </tr>\n",
              "    <tr>\n",
              "      <th>3</th>\n",
              "      <td>Love and or Hate Trigger</td>\n",
              "      <td>0.0000</td>\n",
              "      <td>0.0000</td>\n",
              "      <td>0.0000</td>\n",
              "      <td>0.3853</td>\n",
              "      <td>0.3142</td>\n",
              "      <td>0.0000</td>\n",
              "      <td>0.0006</td>\n",
              "      <td>0.2884</td>\n",
              "      <td>0.0115</td>\n",
              "      <td>0.0000</td>\n",
              "      <td>0</td>\n",
              "    </tr>\n",
              "    <tr>\n",
              "      <th>4</th>\n",
              "      <td>Dsco</td>\n",
              "      <td>0.0000</td>\n",
              "      <td>0.0060</td>\n",
              "      <td>0.0016</td>\n",
              "      <td>0.0524</td>\n",
              "      <td>0.0000</td>\n",
              "      <td>0.0001</td>\n",
              "      <td>0.0005</td>\n",
              "      <td>0.0344</td>\n",
              "      <td>0.0000</td>\n",
              "      <td>0.9050</td>\n",
              "      <td>4</td>\n",
              "    </tr>\n",
              "    <tr>\n",
              "      <th>5</th>\n",
              "      <td>Diary of a Rose</td>\n",
              "      <td>0.0001</td>\n",
              "      <td>0.0000</td>\n",
              "      <td>0.5247</td>\n",
              "      <td>0.2062</td>\n",
              "      <td>0.0000</td>\n",
              "      <td>0.0000</td>\n",
              "      <td>0.0000</td>\n",
              "      <td>0.0047</td>\n",
              "      <td>0.1696</td>\n",
              "      <td>0.0948</td>\n",
              "      <td>6</td>\n",
              "    </tr>\n",
              "    <tr>\n",
              "      <th>6</th>\n",
              "      <td>Abusey Junction</td>\n",
              "      <td>0.0012</td>\n",
              "      <td>0.0000</td>\n",
              "      <td>0.0324</td>\n",
              "      <td>0.0000</td>\n",
              "      <td>0.0000</td>\n",
              "      <td>0.0000</td>\n",
              "      <td>0.0000</td>\n",
              "      <td>0.0000</td>\n",
              "      <td>0.9664</td>\n",
              "      <td>0.0000</td>\n",
              "      <td>8</td>\n",
              "    </tr>\n",
              "    <tr>\n",
              "      <th>7</th>\n",
              "      <td>Circuits</td>\n",
              "      <td>0.0000</td>\n",
              "      <td>0.9287</td>\n",
              "      <td>0.0001</td>\n",
              "      <td>0.0004</td>\n",
              "      <td>0.0000</td>\n",
              "      <td>0.0001</td>\n",
              "      <td>0.0000</td>\n",
              "      <td>0.0359</td>\n",
              "      <td>0.0002</td>\n",
              "      <td>0.0346</td>\n",
              "      <td>9</td>\n",
              "    </tr>\n",
              "    <tr>\n",
              "      <th>8</th>\n",
              "      <td>Like a Buoy</td>\n",
              "      <td>0.0024</td>\n",
              "      <td>0.3121</td>\n",
              "      <td>0.0032</td>\n",
              "      <td>0.0123</td>\n",
              "      <td>0.0000</td>\n",
              "      <td>0.0083</td>\n",
              "      <td>0.0000</td>\n",
              "      <td>0.0072</td>\n",
              "      <td>0.0002</td>\n",
              "      <td>0.6541</td>\n",
              "      <td>3</td>\n",
              "    </tr>\n",
              "    <tr>\n",
              "      <th>9</th>\n",
              "      <td>George Street</td>\n",
              "      <td>0.0000</td>\n",
              "      <td>0.1662</td>\n",
              "      <td>0.0000</td>\n",
              "      <td>0.0009</td>\n",
              "      <td>0.0000</td>\n",
              "      <td>0.0000</td>\n",
              "      <td>0.0006</td>\n",
              "      <td>0.0803</td>\n",
              "      <td>0.0224</td>\n",
              "      <td>0.7295</td>\n",
              "      <td>2</td>\n",
              "    </tr>\n",
              "  </tbody>\n",
              "</table>\n",
              "</div>"
            ],
            "text/plain": [
              "                 Unnamed: 0   blues  classical  ...  reggae    rock  reorder\n",
              "0               Corpse Pose  0.0012     0.0674  ...  0.0001  0.6629        1\n",
              "1  All Along the Watchtower  0.0731     0.0016  ...  0.0007  0.4934        5\n",
              "2              LEAVING HELL  0.0000     0.0000  ...  0.2555  0.0073        7\n",
              "3  Love and or Hate Trigger  0.0000     0.0000  ...  0.0115  0.0000        0\n",
              "4                      Dsco  0.0000     0.0060  ...  0.0000  0.9050        4\n",
              "5           Diary of a Rose  0.0001     0.0000  ...  0.1696  0.0948        6\n",
              "6           Abusey Junction  0.0012     0.0000  ...  0.9664  0.0000        8\n",
              "7                  Circuits  0.0000     0.9287  ...  0.0002  0.0346        9\n",
              "8               Like a Buoy  0.0024     0.3121  ...  0.0002  0.6541        3\n",
              "9             George Street  0.0000     0.1662  ...  0.0224  0.7295        2\n",
              "\n",
              "[10 rows x 12 columns]"
            ]
          },
          "metadata": {
            "tags": []
          },
          "execution_count": 92
        }
      ]
    },
    {
      "cell_type": "code",
      "metadata": {
        "id": "HzDkMdH3sCQR"
      },
      "source": [
        "df_subset = df_subset.reindex(reorder)"
      ],
      "execution_count": 96,
      "outputs": []
    },
    {
      "cell_type": "code",
      "metadata": {
        "colab": {
          "base_uri": "https://localhost:8080/",
          "height": 343
        },
        "id": "IFflb0zPsf2h",
        "outputId": "a82d9e07-0789-4661-9031-28f340935644"
      },
      "source": [
        "df_subset"
      ],
      "execution_count": 97,
      "outputs": [
        {
          "output_type": "execute_result",
          "data": {
            "text/html": [
              "<div>\n",
              "<style scoped>\n",
              "    .dataframe tbody tr th:only-of-type {\n",
              "        vertical-align: middle;\n",
              "    }\n",
              "\n",
              "    .dataframe tbody tr th {\n",
              "        vertical-align: top;\n",
              "    }\n",
              "\n",
              "    .dataframe thead th {\n",
              "        text-align: right;\n",
              "    }\n",
              "</style>\n",
              "<table border=\"1\" class=\"dataframe\">\n",
              "  <thead>\n",
              "    <tr style=\"text-align: right;\">\n",
              "      <th></th>\n",
              "      <th>Unnamed: 0</th>\n",
              "      <th>blues</th>\n",
              "      <th>classical</th>\n",
              "      <th>country</th>\n",
              "      <th>disco</th>\n",
              "      <th>hiphop</th>\n",
              "      <th>jazz</th>\n",
              "      <th>metal</th>\n",
              "      <th>pop</th>\n",
              "      <th>reggae</th>\n",
              "      <th>rock</th>\n",
              "    </tr>\n",
              "  </thead>\n",
              "  <tbody>\n",
              "    <tr>\n",
              "      <th>3</th>\n",
              "      <td>Love and or Hate Trigger</td>\n",
              "      <td>0.0000</td>\n",
              "      <td>0.0000</td>\n",
              "      <td>0.0000</td>\n",
              "      <td>0.3853</td>\n",
              "      <td>0.3142</td>\n",
              "      <td>0.0000</td>\n",
              "      <td>0.0006</td>\n",
              "      <td>0.2884</td>\n",
              "      <td>0.0115</td>\n",
              "      <td>0.0000</td>\n",
              "    </tr>\n",
              "    <tr>\n",
              "      <th>0</th>\n",
              "      <td>Corpse Pose</td>\n",
              "      <td>0.0012</td>\n",
              "      <td>0.0674</td>\n",
              "      <td>0.0000</td>\n",
              "      <td>0.1739</td>\n",
              "      <td>0.0001</td>\n",
              "      <td>0.0000</td>\n",
              "      <td>0.0059</td>\n",
              "      <td>0.0884</td>\n",
              "      <td>0.0001</td>\n",
              "      <td>0.6629</td>\n",
              "    </tr>\n",
              "    <tr>\n",
              "      <th>9</th>\n",
              "      <td>George Street</td>\n",
              "      <td>0.0000</td>\n",
              "      <td>0.1662</td>\n",
              "      <td>0.0000</td>\n",
              "      <td>0.0009</td>\n",
              "      <td>0.0000</td>\n",
              "      <td>0.0000</td>\n",
              "      <td>0.0006</td>\n",
              "      <td>0.0803</td>\n",
              "      <td>0.0224</td>\n",
              "      <td>0.7295</td>\n",
              "    </tr>\n",
              "    <tr>\n",
              "      <th>8</th>\n",
              "      <td>Like a Buoy</td>\n",
              "      <td>0.0024</td>\n",
              "      <td>0.3121</td>\n",
              "      <td>0.0032</td>\n",
              "      <td>0.0123</td>\n",
              "      <td>0.0000</td>\n",
              "      <td>0.0083</td>\n",
              "      <td>0.0000</td>\n",
              "      <td>0.0072</td>\n",
              "      <td>0.0002</td>\n",
              "      <td>0.6541</td>\n",
              "    </tr>\n",
              "    <tr>\n",
              "      <th>4</th>\n",
              "      <td>Dsco</td>\n",
              "      <td>0.0000</td>\n",
              "      <td>0.0060</td>\n",
              "      <td>0.0016</td>\n",
              "      <td>0.0524</td>\n",
              "      <td>0.0000</td>\n",
              "      <td>0.0001</td>\n",
              "      <td>0.0005</td>\n",
              "      <td>0.0344</td>\n",
              "      <td>0.0000</td>\n",
              "      <td>0.9050</td>\n",
              "    </tr>\n",
              "    <tr>\n",
              "      <th>1</th>\n",
              "      <td>All Along the Watchtower</td>\n",
              "      <td>0.0731</td>\n",
              "      <td>0.0016</td>\n",
              "      <td>0.2933</td>\n",
              "      <td>0.0336</td>\n",
              "      <td>0.0001</td>\n",
              "      <td>0.0735</td>\n",
              "      <td>0.0005</td>\n",
              "      <td>0.0303</td>\n",
              "      <td>0.0007</td>\n",
              "      <td>0.4934</td>\n",
              "    </tr>\n",
              "    <tr>\n",
              "      <th>5</th>\n",
              "      <td>Diary of a Rose</td>\n",
              "      <td>0.0001</td>\n",
              "      <td>0.0000</td>\n",
              "      <td>0.5247</td>\n",
              "      <td>0.2062</td>\n",
              "      <td>0.0000</td>\n",
              "      <td>0.0000</td>\n",
              "      <td>0.0000</td>\n",
              "      <td>0.0047</td>\n",
              "      <td>0.1696</td>\n",
              "      <td>0.0948</td>\n",
              "    </tr>\n",
              "    <tr>\n",
              "      <th>2</th>\n",
              "      <td>LEAVING HELL</td>\n",
              "      <td>0.0000</td>\n",
              "      <td>0.0000</td>\n",
              "      <td>0.2864</td>\n",
              "      <td>0.4507</td>\n",
              "      <td>0.0000</td>\n",
              "      <td>0.0000</td>\n",
              "      <td>0.0000</td>\n",
              "      <td>0.0001</td>\n",
              "      <td>0.2555</td>\n",
              "      <td>0.0073</td>\n",
              "    </tr>\n",
              "    <tr>\n",
              "      <th>6</th>\n",
              "      <td>Abusey Junction</td>\n",
              "      <td>0.0012</td>\n",
              "      <td>0.0000</td>\n",
              "      <td>0.0324</td>\n",
              "      <td>0.0000</td>\n",
              "      <td>0.0000</td>\n",
              "      <td>0.0000</td>\n",
              "      <td>0.0000</td>\n",
              "      <td>0.0000</td>\n",
              "      <td>0.9664</td>\n",
              "      <td>0.0000</td>\n",
              "    </tr>\n",
              "    <tr>\n",
              "      <th>7</th>\n",
              "      <td>Circuits</td>\n",
              "      <td>0.0000</td>\n",
              "      <td>0.9287</td>\n",
              "      <td>0.0001</td>\n",
              "      <td>0.0004</td>\n",
              "      <td>0.0000</td>\n",
              "      <td>0.0001</td>\n",
              "      <td>0.0000</td>\n",
              "      <td>0.0359</td>\n",
              "      <td>0.0002</td>\n",
              "      <td>0.0346</td>\n",
              "    </tr>\n",
              "  </tbody>\n",
              "</table>\n",
              "</div>"
            ],
            "text/plain": [
              "                 Unnamed: 0   blues  classical  ...     pop  reggae    rock\n",
              "3  Love and or Hate Trigger  0.0000     0.0000  ...  0.2884  0.0115  0.0000\n",
              "0               Corpse Pose  0.0012     0.0674  ...  0.0884  0.0001  0.6629\n",
              "9             George Street  0.0000     0.1662  ...  0.0803  0.0224  0.7295\n",
              "8               Like a Buoy  0.0024     0.3121  ...  0.0072  0.0002  0.6541\n",
              "4                      Dsco  0.0000     0.0060  ...  0.0344  0.0000  0.9050\n",
              "1  All Along the Watchtower  0.0731     0.0016  ...  0.0303  0.0007  0.4934\n",
              "5           Diary of a Rose  0.0001     0.0000  ...  0.0047  0.1696  0.0948\n",
              "2              LEAVING HELL  0.0000     0.0000  ...  0.0001  0.2555  0.0073\n",
              "6           Abusey Junction  0.0012     0.0000  ...  0.0000  0.9664  0.0000\n",
              "7                  Circuits  0.0000     0.9287  ...  0.0359  0.0002  0.0346\n",
              "\n",
              "[10 rows x 11 columns]"
            ]
          },
          "metadata": {
            "tags": []
          },
          "execution_count": 97
        }
      ]
    },
    {
      "cell_type": "code",
      "metadata": {
        "id": "Hw0a6og_sxdi"
      },
      "source": [
        "df_subset.to_csv('/content/drive/MyDrive/playlist/reordered_playlist.csv')"
      ],
      "execution_count": 98,
      "outputs": []
    },
    {
      "cell_type": "markdown",
      "metadata": {
        "id": "egprwvihXmXv"
      },
      "source": [
        "\n",
        "\n",
        "# ------------------ Dimensionality Reduction -----------------------------"
      ]
    },
    {
      "cell_type": "code",
      "metadata": {
        "id": "44WNpAL0XtoY"
      },
      "source": [
        "import sklearn.datasets\n",
        "import sklearn.manifold\n",
        "import sklearn.decomposition"
      ],
      "execution_count": null,
      "outputs": []
    },
    {
      "cell_type": "code",
      "metadata": {
        "id": "7kXew06fYCFq"
      },
      "source": [
        "from sklearn.datasets import load_digits\n",
        "from sklearn.manifold import TSNE\n",
        "from sklearn.decomposition import PCA"
      ],
      "execution_count": null,
      "outputs": []
    },
    {
      "cell_type": "markdown",
      "metadata": {
        "id": "w6elzmy_vpy1"
      },
      "source": [
        "# ---------------- t-SNE -------------------------"
      ]
    },
    {
      "cell_type": "code",
      "metadata": {
        "id": "Gpv-rB8yYM2-"
      },
      "source": [
        "X, y = load_digits(return_X_y=True)\n",
        "tsne = TSNE(n_components = 2)\n",
        "tsne_data = tsne.fit_transform(values)"
      ],
      "execution_count": null,
      "outputs": []
    },
    {
      "cell_type": "code",
      "metadata": {
        "colab": {
          "base_uri": "https://localhost:8080/"
        },
        "id": "cucslpOihdRv",
        "outputId": "0fc22d8f-de01-46bf-f120-642e1df13d0d"
      },
      "source": [
        "tsne_data"
      ],
      "execution_count": null,
      "outputs": [
        {
          "output_type": "execute_result",
          "data": {
            "text/plain": [
              "array([[-18.288874  ,  -2.9571552 ],\n",
              "       [ -2.260874  ,  -3.0843496 ],\n",
              "       [-39.07948   , -13.205847  ],\n",
              "       [ 32.52068   ,  -6.707279  ],\n",
              "       [-10.184676  ,  -4.5935183 ],\n",
              "       [-15.917079  ,   6.84536   ],\n",
              "       [-32.44519   ,  12.36897   ],\n",
              "       [  1.2158442 , -36.658424  ],\n",
              "       [ 26.591589  , -17.405865  ],\n",
              "       [ -0.8704273 ,   7.849647  ],\n",
              "       [ -4.100748  , -11.383193  ],\n",
              "       [-38.482967  ,  21.301756  ],\n",
              "       [  8.059363  , -20.11033   ],\n",
              "       [-14.783102  , -14.373084  ],\n",
              "       [ 32.24351   ,  15.459547  ],\n",
              "       [ 15.683019  , -30.38335   ],\n",
              "       [-28.755505  ,  -8.86886   ],\n",
              "       [-10.508346  ,  13.946213  ],\n",
              "       [ -1.3800849 ,  28.08974   ],\n",
              "       [-19.28869   ,  15.392712  ],\n",
              "       [-27.05812   , -33.865925  ],\n",
              "       [ -3.2333512 ,  17.777416  ],\n",
              "       [ 12.518897  ,  39.403942  ],\n",
              "       [  6.4024673 ,  13.987137  ],\n",
              "       [-13.095605  ,  43.55126   ],\n",
              "       [-22.689413  ,  22.897272  ],\n",
              "       [  4.978737  ,  -8.96732   ],\n",
              "       [ -6.0075073 , -21.553778  ],\n",
              "       [-46.301006  ,  -7.788382  ],\n",
              "       [ 11.134266  , -38.780884  ],\n",
              "       [-13.060118  ,  26.388126  ],\n",
              "       [ 21.679653  ,  -4.622601  ],\n",
              "       [ 23.247187  ,  26.917707  ],\n",
              "       [-44.394836  ,  13.708463  ],\n",
              "       [ -8.055853  ,   4.1926765 ],\n",
              "       [-36.029255  ,  -3.398653  ],\n",
              "       [  4.6770096 , -28.325197  ],\n",
              "       [ 17.454685  ,  14.900063  ],\n",
              "       [-15.223975  , -24.981625  ],\n",
              "       [-24.87671   ,  36.164993  ],\n",
              "       [ 20.527714  ,   4.840391  ],\n",
              "       [ 11.329891  ,  -2.8815346 ],\n",
              "       [ 18.377094  , -14.371603  ],\n",
              "       [ 11.302704  ,   6.2701693 ],\n",
              "       [-35.496075  , -31.216808  ],\n",
              "       [  4.593557  ,  36.713142  ],\n",
              "       [-27.18351   , -23.762201  ],\n",
              "       [  3.5979226 ,   0.98138773],\n",
              "       [ 10.277176  ,  28.109854  ],\n",
              "       [-24.810486  ,   4.7736497 ]], dtype=float32)"
            ]
          },
          "metadata": {
            "tags": []
          },
          "execution_count": 209
        }
      ]
    },
    {
      "cell_type": "code",
      "metadata": {
        "colab": {
          "base_uri": "https://localhost:8080/",
          "height": 430
        },
        "id": "AiMhI9VjfxI8",
        "outputId": "f610a3b1-e793-4c61-9abe-3aa8f959abb3"
      },
      "source": [
        "import seaborn as sns\n",
        "sns.set(rc={'figure.figsize':(11.7,8.27)})\n",
        "\n",
        "fig = plt.figure(figsize=(6,6))\n",
        "palette = sns.color_palette(\"bright\", 8)\n",
        "sns.scatterplot(tsne_data[:,0], tsne_data[:,1], legend='full')#, palette=palette)\n",
        "plt.savefig('t-snes_2d', bbox_inches='tight')"
      ],
      "execution_count": null,
      "outputs": [
        {
          "output_type": "stream",
          "text": [
            "/usr/local/lib/python3.7/dist-packages/seaborn/_decorators.py:43: FutureWarning: Pass the following variables as keyword args: x, y. From version 0.12, the only valid positional argument will be `data`, and passing other arguments without an explicit keyword will result in an error or misinterpretation.\n",
            "  FutureWarning\n"
          ],
          "name": "stderr"
        },
        {
          "output_type": "display_data",
          "data": {
            "image/png": "[encoded data removed]",
            "text/plain": [
              "<Figure size 432x432 with 1 Axes>"
            ]
          },
          "metadata": {
            "tags": []
          }
        }
      ]
    },
    {
      "cell_type": "code",
      "metadata": {
        "colab": {
          "base_uri": "https://localhost:8080/"
        },
        "id": "N1moHtfDqmwR",
        "outputId": "ae19972b-7f06-40d0-feb4-549e2d0487a8"
      },
      "source": [
        "dist_matrix_tsne = distance_matrix(tsne_data)\n",
        "dist_matrix_dum_tsne, dum_value = dummy_var(dist_matrix_tsne)\n",
        "genetic_path(dist_matrix_dum_tsne)"
      ],
      "execution_count": null,
      "outputs": [
        {
          "output_type": "stream",
          "text": [
            "The best state found is:  [ 0  2  5  1  9  6  8  7 10  4  3 11]\n",
            "The fitness (or total distance) at the best state is:  1761.9525000000003\n"
          ],
          "name": "stdout"
        },
        {
          "output_type": "execute_result",
          "data": {
            "text/plain": [
              "(array([ 0,  2,  5,  1,  9,  6,  8,  7, 10,  4,  3, 11]), 1761.9525000000003)"
            ]
          },
          "metadata": {
            "tags": []
          },
          "execution_count": 190
        }
      ]
    },
    {
      "cell_type": "markdown",
      "metadata": {
        "id": "HhOBxnafvwRl"
      },
      "source": [
        "# -------------------Principal Component Analysis -----------------------"
      ]
    },
    {
      "cell_type": "code",
      "metadata": {
        "colab": {
          "base_uri": "https://localhost:8080/",
          "height": 463
        },
        "id": "YT_kX3omv76G",
        "outputId": "751ad683-4ce0-42c5-96a7-7c0a6b859392"
      },
      "source": [
        "from mpl_toolkits.mplot3d import Axes3D\n",
        "from matplotlib.colors import ListedColormap\n",
        "\n",
        "X, y = load_digits(return_X_y=True)\n",
        "pca = PCA(n_components = 4)\n",
        "pca_data = pca.fit_transform(values)\n",
        "pca_data\n",
        "\n",
        "# axes instance\n",
        "sns.set(rc={'axes.facecolor':'white', 'figure.facecolor':'white'})\n",
        "fig = plt.figure(figsize=(6,6))\n",
        "ax = Axes3D(fig)\n",
        "\n",
        "# get colormap from seaborn\n",
        "cmap = ListedColormap(sns.color_palette(\"husl\", 256).as_hex())\n",
        "\n",
        "# plot\n",
        "sc = ax.scatter(pca_data[:,0], pca_data[:,1],pca_data[:,2], s=40, c=pca_data[:,3], marker='o', cmap=cmap, alpha=1)\n",
        "ax.set_xlabel('X Label')\n",
        "ax.set_ylabel('Y Label')\n",
        "ax.set_zlabel('Z Label')\n",
        "\n",
        "# legend\n",
        "plt.legend(*sc.legend_elements(), bbox_to_anchor=(1.05, 1), loc=2)\n",
        "\n",
        "# save\n",
        "plt.savefig(\"scatter_hue\", bbox_inches='tight')"
      ],
      "execution_count": null,
      "outputs": [
        {
          "output_type": "display_data",
          "data": {
            "image/png": "[encoded data removed]",
            "text/plain": [
              "<Figure size 432x432 with 1 Axes>"
            ]
          },
          "metadata": {
            "tags": []
          }
        }
      ]
    },
    {
      "cell_type": "code",
      "metadata": {
        "id": "0Ajf0J3v1DW9"
      },
      "source": [
        "plt.savefig('/content/drive/MyDrive/3Dgenreplot')"
      ],
      "execution_count": null,
      "outputs": []
    },
    {
      "cell_type": "code",
      "metadata": {
        "colab": {
          "base_uri": "https://localhost:8080/",
          "height": 570
        },
        "id": "8Jtpu7n8ug2U",
        "outputId": "f477ac2b-ab92-445b-dd40-eacf6b1d739d"
      },
      "source": [
        "X, y = load_digits(return_X_y=True)\n",
        "pca = PCA(n_components = 2)\n",
        "pca_data = pca.fit_transform(values)\n",
        "pca_data\n",
        "sns.scatterplot(pca_data[:,0], pca_data[:,1], legend='full')#, palette=palette)"
      ],
      "execution_count": null,
      "outputs": [
        {
          "output_type": "stream",
          "text": [
            "/usr/local/lib/python3.7/dist-packages/seaborn/_decorators.py:43: FutureWarning: Pass the following variables as keyword args: x, y. From version 0.12, the only valid positional argument will be `data`, and passing other arguments without an explicit keyword will result in an error or misinterpretation.\n",
            "  FutureWarning\n"
          ],
          "name": "stderr"
        },
        {
          "output_type": "execute_result",
          "data": {
            "text/plain": [
              "<matplotlib.axes._subplots.AxesSubplot at 0x7f5e4ce6edd0>"
            ]
          },
          "metadata": {
            "tags": []
          },
          "execution_count": 192
        },
        {
          "output_type": "display_data",
          "data": {
            "image/png": "[encoded data removed]",
            "text/plain": [
              "<Figure size 842.4x595.44 with 1 Axes>"
            ]
          },
          "metadata": {
            "tags": []
          }
        }
      ]
    },
    {
      "cell_type": "code",
      "metadata": {
        "colab": {
          "base_uri": "https://localhost:8080/",
          "height": 34
        },
        "id": "I9BLo2nJ1OXG",
        "outputId": "67092394-9629-4db7-df60-481abf446fdc"
      },
      "source": [
        "plt.savefig('pca_2d', bbox_inches='tight')"
      ],
      "execution_count": null,
      "outputs": [
        {
          "output_type": "display_data",
          "data": {
            "text/plain": [
              "<Figure size 842.4x595.44 with 0 Axes>"
            ]
          },
          "metadata": {
            "tags": []
          }
        }
      ]
    },
    {
      "cell_type": "code",
      "metadata": {
        "id": "AAmzKjGci2SG"
      },
      "source": [
        "dist_matrix = np.zeros((num_songs,num_songs))\n",
        "for i in range(num_songs):\n",
        "  for j in range(num_songs):\n",
        "    dist_matrix[i,j]= distance.euclidean(pca_data[i,:],pca_data[j,:])\n",
        "\n",
        "dist_matrix_pca = dist_matrix.round(4)   "
      ],
      "execution_count": null,
      "outputs": []
    },
    {
      "cell_type": "code",
      "metadata": {
        "id": "pevVhaOOspem"
      },
      "source": [
        ""
      ],
      "execution_count": null,
      "outputs": []
    },
    {
      "cell_type": "code",
      "metadata": {
        "colab": {
          "base_uri": "https://localhost:8080/"
        },
        "id": "Rxju_mtTklxh",
        "outputId": "c1532e01-ffd9-4dfc-d39d-abac93c33c31"
      },
      "source": [
        "# Add Dummy Variable to PCA Distance Matrix and Run through genetic algorithm\n",
        "dist_matrix_pca = distance_matrix(pca_data)\n",
        "dist_matrix_pca\n",
        "dist_matrix_dum_pca , dum_value = dummy_var(dist_matrix_pca)\n",
        "genetic_path(dist_matrix_dum_pca)"
      ],
      "execution_count": null,
      "outputs": [
        {
          "output_type": "stream",
          "text": [
            "The best state found is:  [ 5  9  7  1 10  0  6  4  3  8 11  2]\n",
            "The fitness (or total distance) at the best state is:  3.0385\n"
          ],
          "name": "stdout"
        },
        {
          "output_type": "execute_result",
          "data": {
            "text/plain": [
              "(array([ 5,  9,  7,  1, 10,  0,  6,  4,  3,  8, 11,  2]), 3.0385)"
            ]
          },
          "metadata": {
            "tags": []
          },
          "execution_count": 194
        }
      ]
    }
  ]
}