{
 "cells": [
  {
   "cell_type": "code",
   "execution_count": 1,
   "metadata": {},
   "outputs": [
    {
     "name": "stderr",
     "output_type": "stream",
     "text": [
      "/Users/garethflynn/opt/anaconda3/lib/python3.7/site-packages/tensorflow/python/framework/dtypes.py:516: FutureWarning: Passing (type, 1) or '1type' as a synonym of type is deprecated; in a future version of numpy, it will be understood as (type, (1,)) / '(1,)type'.\n",
      "  _np_qint8 = np.dtype([(\"qint8\", np.int8, 1)])\n",
      "/Users/garethflynn/opt/anaconda3/lib/python3.7/site-packages/tensorflow/python/framework/dtypes.py:517: FutureWarning: Passing (type, 1) or '1type' as a synonym of type is deprecated; in a future version of numpy, it will be understood as (type, (1,)) / '(1,)type'.\n",
      "  _np_quint8 = np.dtype([(\"quint8\", np.uint8, 1)])\n",
      "/Users/garethflynn/opt/anaconda3/lib/python3.7/site-packages/tensorflow/python/framework/dtypes.py:518: FutureWarning: Passing (type, 1) or '1type' as a synonym of type is deprecated; in a future version of numpy, it will be understood as (type, (1,)) / '(1,)type'.\n",
      "  _np_qint16 = np.dtype([(\"qint16\", np.int16, 1)])\n",
      "/Users/garethflynn/opt/anaconda3/lib/python3.7/site-packages/tensorflow/python/framework/dtypes.py:519: FutureWarning: Passing (type, 1) or '1type' as a synonym of type is deprecated; in a future version of numpy, it will be understood as (type, (1,)) / '(1,)type'.\n",
      "  _np_quint16 = np.dtype([(\"quint16\", np.uint16, 1)])\n",
      "/Users/garethflynn/opt/anaconda3/lib/python3.7/site-packages/tensorflow/python/framework/dtypes.py:520: FutureWarning: Passing (type, 1) or '1type' as a synonym of type is deprecated; in a future version of numpy, it will be understood as (type, (1,)) / '(1,)type'.\n",
      "  _np_qint32 = np.dtype([(\"qint32\", np.int32, 1)])\n",
      "/Users/garethflynn/opt/anaconda3/lib/python3.7/site-packages/tensorflow/python/framework/dtypes.py:525: FutureWarning: Passing (type, 1) or '1type' as a synonym of type is deprecated; in a future version of numpy, it will be understood as (type, (1,)) / '(1,)type'.\n",
      "  np_resource = np.dtype([(\"resource\", np.ubyte, 1)])\n",
      "/Users/garethflynn/opt/anaconda3/lib/python3.7/site-packages/tensorboard/compat/tensorflow_stub/dtypes.py:541: FutureWarning: Passing (type, 1) or '1type' as a synonym of type is deprecated; in a future version of numpy, it will be understood as (type, (1,)) / '(1,)type'.\n",
      "  _np_qint8 = np.dtype([(\"qint8\", np.int8, 1)])\n",
      "/Users/garethflynn/opt/anaconda3/lib/python3.7/site-packages/tensorboard/compat/tensorflow_stub/dtypes.py:542: FutureWarning: Passing (type, 1) or '1type' as a synonym of type is deprecated; in a future version of numpy, it will be understood as (type, (1,)) / '(1,)type'.\n",
      "  _np_quint8 = np.dtype([(\"quint8\", np.uint8, 1)])\n",
      "/Users/garethflynn/opt/anaconda3/lib/python3.7/site-packages/tensorboard/compat/tensorflow_stub/dtypes.py:543: FutureWarning: Passing (type, 1) or '1type' as a synonym of type is deprecated; in a future version of numpy, it will be understood as (type, (1,)) / '(1,)type'.\n",
      "  _np_qint16 = np.dtype([(\"qint16\", np.int16, 1)])\n",
      "/Users/garethflynn/opt/anaconda3/lib/python3.7/site-packages/tensorboard/compat/tensorflow_stub/dtypes.py:544: FutureWarning: Passing (type, 1) or '1type' as a synonym of type is deprecated; in a future version of numpy, it will be understood as (type, (1,)) / '(1,)type'.\n",
      "  _np_quint16 = np.dtype([(\"quint16\", np.uint16, 1)])\n",
      "/Users/garethflynn/opt/anaconda3/lib/python3.7/site-packages/tensorboard/compat/tensorflow_stub/dtypes.py:545: FutureWarning: Passing (type, 1) or '1type' as a synonym of type is deprecated; in a future version of numpy, it will be understood as (type, (1,)) / '(1,)type'.\n",
      "  _np_qint32 = np.dtype([(\"qint32\", np.int32, 1)])\n",
      "/Users/garethflynn/opt/anaconda3/lib/python3.7/site-packages/tensorboard/compat/tensorflow_stub/dtypes.py:550: FutureWarning: Passing (type, 1) or '1type' as a synonym of type is deprecated; in a future version of numpy, it will be understood as (type, (1,)) / '(1,)type'.\n",
      "  np_resource = np.dtype([(\"resource\", np.ubyte, 1)])\n",
      "Using TensorFlow backend.\n"
     ]
    }
   ],
   "source": [
    "import tensorflow as tf\n",
    "import os\n",
    "from keras.layers import (Input, Dense, Flatten, Conv2D, MaxPooling2D, Dropout)\n",
    "from keras.models import Model, load_model\n",
    "from keras.optimizers import SGD\n",
    "from keras.optimizers import Adam\n",
    "from keras.preprocessing.image import ImageDataGenerator"
   ]
  },
  {
   "cell_type": "code",
   "execution_count": 2,
   "metadata": {},
   "outputs": [
    {
     "name": "stdout",
     "output_type": "stream",
     "text": [
      "['pop', 'metal', 'disco', 'blues', 'reggae', 'classical', 'rock', 'hiphop', 'country', 'jazz']\n"
     ]
    }
   ],
   "source": [
    "data = 'Data'\n",
    "genres = list(os.listdir(f'{data}/images_original/'))\n",
    "genres.remove('.DS_Store')\n",
    "print(genres)"
   ]
  },
  {
   "cell_type": "code",
   "execution_count": 3,
   "metadata": {},
   "outputs": [
    {
     "name": "stdout",
     "output_type": "stream",
     "text": [
      "Found 699 images belonging to 10 classes.\n"
     ]
    }
   ],
   "source": [
    "#Data has been pre split into test and training folders\n",
    "\n",
    "data_gen=tf.keras.preprocessing.image.ImageDataGenerator(rescale=1./255.)\n",
    "path='Data/images_original' \n",
    "image_datagentrain=data_gen.flow_from_directory(path,target_size=(300,300),batch_size=32,class_mode='categorical')"
   ]
  },
  {
   "cell_type": "code",
   "execution_count": 4,
   "metadata": {},
   "outputs": [
    {
     "name": "stdout",
     "output_type": "stream",
     "text": [
      "Found 699 images belonging to 10 classes.\n"
     ]
    }
   ],
   "source": [
    "'Data/images_test'\n",
    "image_datagentest=data_gen.flow_from_directory(path,target_size=(300,300),batch_size=32,class_mode='categorical')"
   ]
  },
  {
   "cell_type": "code",
   "execution_count": 5,
   "metadata": {},
   "outputs": [
    {
     "name": "stdout",
     "output_type": "stream",
     "text": [
      "WARNING:tensorflow:From /Users/garethflynn/opt/anaconda3/lib/python3.7/site-packages/keras/backend/tensorflow_backend.py:4070: The name tf.nn.max_pool is deprecated. Please use tf.nn.max_pool2d instead.\n",
      "\n",
      "WARNING:tensorflow:From /Users/garethflynn/opt/anaconda3/lib/python3.7/site-packages/keras/backend/tensorflow_backend.py:422: The name tf.global_variables is deprecated. Please use tf.compat.v1.global_variables instead.\n",
      "\n",
      "Epoch 1/25\n",
      "22/22 [==============================] - 23s 1s/step - loss: 2.3027 - accuracy: 0.1373\n",
      "Epoch 2/25\n",
      "22/22 [==============================] - 22s 1s/step - loss: 2.1332 - accuracy: 0.2589\n",
      "Epoch 3/25\n",
      "22/22 [==============================] - 23s 1s/step - loss: 1.9198 - accuracy: 0.3262\n",
      "Epoch 4/25\n",
      "22/22 [==============================] - 23s 1s/step - loss: 1.8330 - accuracy: 0.3448\n",
      "Epoch 5/25\n",
      "22/22 [==============================] - 25s 1s/step - loss: 1.6297 - accuracy: 0.4306\n",
      "Epoch 6/25\n",
      "22/22 [==============================] - 23s 1s/step - loss: 1.4921 - accuracy: 0.5050\n",
      "Epoch 7/25\n",
      "22/22 [==============================] - 23s 1s/step - loss: 1.3402 - accuracy: 0.5379\n",
      "Epoch 8/25\n",
      "22/22 [==============================] - 23s 1s/step - loss: 1.1945 - accuracy: 0.5765\n",
      "Epoch 9/25\n",
      "22/22 [==============================] - 22s 1s/step - loss: 1.0431 - accuracy: 0.6438\n",
      "Epoch 10/25\n",
      "22/22 [==============================] - 22s 988ms/step - loss: 0.9724 - accuracy: 0.6810\n",
      "Epoch 11/25\n",
      "22/22 [==============================] - 23s 1s/step - loss: 0.8099 - accuracy: 0.7239\n",
      "Epoch 12/25\n",
      "22/22 [==============================] - 23s 1s/step - loss: 0.7183 - accuracy: 0.7582\n",
      "Epoch 13/25\n",
      "22/22 [==============================] - 22s 1s/step - loss: 0.6476 - accuracy: 0.7811\n",
      "Epoch 14/25\n",
      "22/22 [==============================] - 22s 985ms/step - loss: 0.5975 - accuracy: 0.7969\n",
      "Epoch 15/25\n",
      "22/22 [==============================] - 23s 1s/step - loss: 0.5217 - accuracy: 0.8240\n",
      "Epoch 16/25\n",
      "22/22 [==============================] - 23s 1s/step - loss: 0.4939 - accuracy: 0.8383\n",
      "Epoch 17/25\n",
      "22/22 [==============================] - 22s 1s/step - loss: 0.3903 - accuracy: 0.8641\n",
      "Epoch 18/25\n",
      "22/22 [==============================] - 23s 1s/step - loss: 0.3170 - accuracy: 0.8970\n",
      "Epoch 19/25\n",
      "22/22 [==============================] - 22s 988ms/step - loss: 0.2530 - accuracy: 0.9313\n",
      "Epoch 20/25\n",
      "22/22 [==============================] - 23s 1s/step - loss: 0.2278 - accuracy: 0.9313\n",
      "Epoch 21/25\n",
      "22/22 [==============================] - 23s 1s/step - loss: 0.1921 - accuracy: 0.9499\n",
      "Epoch 22/25\n",
      "22/22 [==============================] - 23s 1s/step - loss: 0.1374 - accuracy: 0.9714\n",
      "Epoch 23/25\n",
      "22/22 [==============================] - 23s 1s/step - loss: 0.1196 - accuracy: 0.9671\n",
      "Epoch 24/25\n",
      "22/22 [==============================] - 23s 1s/step - loss: 0.1074 - accuracy: 0.9785\n",
      "Epoch 25/25\n",
      "22/22 [==============================] - 23s 1s/step - loss: 0.0622 - accuracy: 0.9900\n"
     ]
    },
    {
     "data": {
      "text/plain": [
       "<keras.callbacks.callbacks.History at 0x7fdad1250e90>"
      ]
     },
     "execution_count": 5,
     "metadata": {},
     "output_type": "execute_result"
    }
   ],
   "source": [
    "def GenreModel(input_shape = (300,300,4),classes=10):\n",
    "\n",
    "    X_input = Input(input_shape)\n",
    "    \n",
    "    X = (Conv2D(filters=8, kernel_size=(3,3), padding='same', activation='relu', input_shape=(300, 300, 3)))(X_input)\n",
    "    X = (MaxPooling2D(pool_size=(2,2), strides=(2,2)))(X)\n",
    "\n",
    "    X = (Conv2D(filters=16, kernel_size=(3,3), padding='same', activation='relu',))(X)\n",
    "    X = (MaxPooling2D(pool_size=(2,2), strides=(2,2)))(X)\n",
    "\n",
    "    X = (Conv2D(filters=32, kernel_size=(3,3), padding='same', activation='relu',))(X)\n",
    "    X = (MaxPooling2D(pool_size=(2,2), strides=(2,2)))(X)\n",
    "\n",
    "    X = (Conv2D(filters=64, kernel_size=(3,3), padding='same', activation='relu',))(X)\n",
    "    X = (MaxPooling2D(pool_size=(2,2), strides=(2,2)))(X)\n",
    "\n",
    "    X = Flatten()(X)\n",
    "\n",
    "    X = Dropout(rate=0.3)(X)\n",
    "\n",
    "    X = (Dense(128, activation='relu'))(X)\n",
    "    X = (Dense(64, activation='relu'))(X)\n",
    "    X = (Dense(10, activation='softmax'))(X)\n",
    "\n",
    "    model = Model(X_input,X)\n",
    "    \n",
    "    return model\n",
    "\n",
    "model = GenreModel(input_shape=(300,300,3),classes=10)\n",
    "\n",
    "model.compile(loss='categorical_crossentropy', optimizer=Adam(learning_rate=0.0005), metrics=['accuracy'])\n",
    "\n",
    "model.fit(image_datagentrain, epochs=25)"
   ]
  },
  {
   "cell_type": "code",
   "execution_count": 6,
   "metadata": {},
   "outputs": [
    {
     "name": "stdout",
     "output_type": "stream",
     "text": [
      "22/22 [==============================] - 9s 415ms/step\n",
      "loss:  0.03900236263871193 accuracy:  0.9942775368690491\n"
     ]
    }
   ],
   "source": [
    "loss, accuracy = model.evaluate(image_datagentest)\n",
    "print('loss: ', loss, 'accuracy: ', accuracy)"
   ]
  },
  {
   "cell_type": "code",
   "execution_count": null,
   "metadata": {},
   "outputs": [],
   "source": []
  }
 ],
 "metadata": {
  "kernelspec": {
   "display_name": "Python 3",
   "language": "python",
   "name": "python3"
  },
  "language_info": {
   "codemirror_mode": {
    "name": "ipython",
    "version": 3
   },
   "file_extension": ".py",
   "mimetype": "text/x-python",
   "name": "python",
   "nbconvert_exporter": "python",
   "pygments_lexer": "ipython3",
   "version": "3.7.6"
  }
 },
 "nbformat": 4,
 "nbformat_minor": 4
}
