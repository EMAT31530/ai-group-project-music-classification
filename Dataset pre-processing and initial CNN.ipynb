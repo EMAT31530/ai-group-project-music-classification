{
 "cells": [
  {
   "cell_type": "code",
   "execution_count": null,
   "metadata": {},
   "outputs": [],
   "source": [
    "import tensorflow as tf\n",
    "import numpy as np\n",
    "import scipy\n",
    "from scipy import misc\n",
    "import glob\n",
    "from PIL import Image\n",
    "import os\n",
    "import matplotlib.pyplot as plt\n",
    "import librosa\n",
    "from keras import layers\n",
    "from keras.layers import (Input, Add, Dense, Activation, ZeroPadding2D, BatchNormalization, Flatten, \n",
    "                          Conv2D, AveragePooling2D, MaxPooling2D, GlobalMaxPooling2D, Dropout)\n",
    "from keras.models import Model, load_model\n",
    "from keras.preprocessing import image\n",
    "from keras.utils import layer_utils\n",
    "import pydot\n",
    "from IPython.display import SVG\n",
    "from keras.utils.vis_utils import model_to_dot\n",
    "from keras.utils import plot_model\n",
    "from keras.optimizers import Adam\n",
    "from keras.initializers import glorot_uniform\n",
    "from matplotlib.backends.backend_agg import FigureCanvasAgg as FigureCanvas\n",
    "from pydub import AudioSegment\n",
    "import shutil\n",
    "from keras.preprocessing.image import ImageDataGenerator\n",
    "import random"
   ]
  },
  {
   "cell_type": "code",
   "execution_count": null,
   "metadata": {},
   "outputs": [],
   "source": [
    "genres = 'blues classical country disco hiphop jazz metal pop reggae rock '\n",
    "genres = genres.split()\n",
    "for g in genres\n",
    "  path_audio = os.path.join('Data/audio3sec',f'{g}')\n",
    "  os.makedirs(path_audio)\n",
    "  path_train = os.path.join('Data/spectrograms3secXX/train',f'{g}')\n",
    "  path_test = os.path.join('Data/spectrograms3secXX/test',f'{g}')\n",
    "  os. makedirs(path_train)\n",
    "  os. makedirs(path_test)"
   ]
  },
  {
   "cell_type": "code",
   "execution_count": null,
   "metadata": {},
   "outputs": [],
   "source": [
    "from pydub import AudioSegment\n",
    "i = 0\n",
    "for g in genres:\n",
    "  j=0\n",
    "  print(f\"{g}\")\n",
    "  for filename in os.listdir(os.path.join('Data/genres_original',f\"{g}\")):\n",
    "    song  =  os.path.join(f'Data/genres_original/{g}',f'{filename}')\n",
    "    j = j+1\n",
    "    if not filename == '.DS_Store':\n",
    "        for w in range(0,10):\n",
    "          i = i+1\n",
    "          print(filename)\n",
    "          print(i)\n",
    "          t1 = 3*(w)*1000\n",
    "          t2 = 3*(w+1)*1000\n",
    "          newAudio = AudioSegment.from_wav(song)\n",
    "          new = newAudio[t1:t2]\n",
    "          new.export(f'Data/audio3sec/{g}/{g+str(j)+str(w)}.wav', format=\"wav\")"
   ]
  },
  {
   "cell_type": "code",
   "execution_count": null,
   "metadata": {},
   "outputs": [],
   "source": [
    "import librosa.display\n",
    "\n",
    "for g in genres:\n",
    "  j = 0\n",
    "  print(g)\n",
    "  for filename in os.listdir(os.path.join('Data/audio3sec',f\"{g}\")):\n",
    "    song  =  os.path.join(f'Data/audio3sec/{g}',f'{filename}')\n",
    "    j = j+1\n",
    "    y, sr = librosa.load(song)\n",
    "    S = librosa.feature.melspectrogram(y=y, sr=sr)\n",
    "    librosa.display.specshow(librosa.power_to_db(S, ref=np.max))\n",
    "    plt.savefig(f'Data/spectrograms3secXX/train/{g}/{g+str(j)}.png',bbox_inches='tight',transparent=True, pad_inches=0)"
   ]
  },
  {
   "cell_type": "code",
   "execution_count": null,
   "metadata": {},
   "outputs": [],
   "source": [
    "directory = \"Data/spectrograms3secXX/train/\"\n",
    "for g in genres:\n",
    "  filenames = os.listdir(os.path.join(directory,f\"{g}\"))\n",
    "  random.shuffle(filenames)\n",
    "  test_files = filenames[0:100]\n",
    "  for f in test_files:\n",
    "\n",
    "    shutil.move(directory + f\"{g}\"+ \"/\" + f,\"Data/spectrograms3secXX/test/\" + f\"{g}\")"
   ]
  },
  {
   "cell_type": "code",
   "execution_count": null,
   "metadata": {},
   "outputs": [],
   "source": [
    "from numpy.random import seed\n",
    "seed(0)\n",
    "#from tf.random import set_seed\n",
    "tf.set_random_seed(0)\n",
    "\n",
    "train_dir = \"Data/spectrograms3secXX/train/\"\n",
    "train_datagen = ImageDataGenerator(1./255)\n",
    "train_generator = train_datagen.flow_from_directory(train_dir,target_size=(128,130),class_mode='categorical',batch_size=128)\n",
    "\n",
    "validation_dir = \"Data/spectrograms3secXX/test/\"\n",
    "vali_datagen = ImageDataGenerator(1./255)\n",
    "vali_generator = vali_datagen.flow_from_directory(validation_dir,target_size=(128,130),class_mode='categorical',batch_size=128)"
   ]
  },
  {
   "cell_type": "code",
   "execution_count": null,
   "metadata": {},
   "outputs": [],
   "source": []
  },
  {
   "cell_type": "code",
   "execution_count": null,
   "metadata": {},
   "outputs": [],
   "source": []
  },
  {
   "cell_type": "code",
   "execution_count": null,
   "metadata": {},
   "outputs": [],
   "source": []
  }
 ],
 "metadata": {
  "kernelspec": {
   "display_name": "Python 3",
   "language": "python",
   "name": "python3"
  },
  "language_info": {
   "codemirror_mode": {
    "name": "ipython",
    "version": 3
   },
   "file_extension": ".py",
   "mimetype": "text/x-python",
   "name": "python",
   "nbconvert_exporter": "python",
   "pygments_lexer": "ipython3",
   "version": "3.7.6"
  }
 },
 "nbformat": 4,
 "nbformat_minor": 4
}
