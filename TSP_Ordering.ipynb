{
  "nbformat": 4,
  "nbformat_minor": 0,
  "metadata": {
    "colab": {
      "name": "TSP Ordering.ipynb",
      "provenance": [],
      "collapsed_sections": [],
      "authorship_tag": "ABX9TyPp8yg50apmfuJxm7CV8jVO",
      "include_colab_link": true
    },
    "kernelspec": {
      "name": "python3",
      "display_name": "Python 3"
    },
    "language_info": {
      "name": "python"
    }
  },
  "cells": [
    {
      "cell_type": "markdown",
      "metadata": {
        "id": "view-in-github",
        "colab_type": "text"
      },
      "source": [
        "<a href=\"https://colab.research.google.com/github/EMAT31530/ai-group-project-music-classification/blob/master/TSP_Ordering.ipynb\" target=\"_parent\"><img src=\"https://colab.research.google.com/assets/colab-badge.svg\" alt=\"Open In Colab\"/></a>"
      ]
    },
    {
      "cell_type": "markdown",
      "metadata": {
        "id": "7yrylDLsj0oa"
      },
      "source": [
        "# Implementation of an approximate solver for Metric Travelling Salesperson Problem\n",
        "Steps:\n",
        "\n",
        "\n",
        "1.   Take a collection of songs as input, \n",
        "2.   Convert audio data into spectrogram images \n",
        "3. Classify their genres using our CNN model\n",
        "4. Take each song's softmax output to obtain the calculated probability of each genre\n",
        "5. Interpret each soft-max output as position vectors in a multi-dimensional vector space, from 0-1 in each genre.\n",
        "6. Order the track listing in such a way to  approximate a minimal S(X), the sum of each distance (some chosen distance/cost function d(x,y)) between consecutive songs in the vector space.\n",
        "7.Output a track listing which gives our attempt at ordering songs into the most natural progression between genres\n",
        "\n",
        "\n",
        "\n",
        "\n",
        "Want to solve the problem of finding the shortest route through a low (< 20) number of points in a multi-dimensional space. \n",
        "We attempt this using a Branch & Bound search algorithm, and implementing a genetic algorithm with mlrose:\n",
        "\n",
        "https://arxiv.org/pdf/1805.04131.pdf\n",
        "\n",
        "https://coral.ise.lehigh.edu/wiki/doku.php/travelling_salesman_problem\n",
        "\n",
        "https://en.wikipedia.org/wiki/Genetic_algorithm\n",
        "\n",
        "https://towardsdatascience.com/solving-travelling-salesperson-problems-with-python-5de7e883d847"
      ]
    },
    {
      "cell_type": "code",
      "metadata": {
        "id": "LhJb-tkRlhfh"
      },
      "source": [
        ""
      ],
      "execution_count": null,
      "outputs": []
    },
    {
      "cell_type": "code",
      "metadata": {
        "id": "MTqrI1JDfMeh"
      },
      "source": [
        "import numpy as np\n",
        "from numpy.random import seed\n",
        "from numpy.random import rand\n",
        "%matplotlib inline\n",
        "import numpy as np\n",
        "import matplotlib.pyplot as plt\n",
        "from scipy.spatial import distance"
      ],
      "execution_count": null,
      "outputs": []
    },
    {
      "cell_type": "code",
      "metadata": {
        "colab": {
          "base_uri": "https://localhost:8080/"
        },
        "id": "vd7EBKtUf4_s",
        "outputId": "b8010c10-249d-4905-f24d-1e6aa831b312"
      },
      "source": [
        "#Create random values for testing\n",
        "num_songs = 8\n",
        "num_genres = 9\n",
        "seed(3)\n",
        "#for i in range(0,L-1):\n",
        " # genre_index[i]=L\n",
        "\n",
        "rand_generator = rand(num_genres,num_songs)\n",
        "values = rand_generator\n",
        "print(values)"
      ],
      "execution_count": null,
      "outputs": [
        {
          "output_type": "stream",
          "text": [
            "[[0.5507979  0.70814782 0.29090474 0.51082761 0.89294695 0.89629309\n",
            "  0.12558531 0.20724288]\n",
            " [0.0514672  0.44080984 0.02987621 0.45683322 0.64914405 0.27848728\n",
            "  0.6762549  0.59086282]\n",
            " [0.02398188 0.55885409 0.25925245 0.4151012  0.28352508 0.69313792\n",
            "  0.44045372 0.15686774]\n",
            " [0.54464902 0.78031476 0.30636353 0.22195788 0.38797126 0.93638365\n",
            "  0.97599542 0.67238368]\n",
            " [0.90283411 0.84575087 0.37799404 0.09221701 0.6534109  0.55784076\n",
            "  0.36156476 0.2250545 ]\n",
            " [0.40651992 0.46894025 0.26923558 0.29179277 0.4576864  0.86053391\n",
            "  0.5862529  0.28348786]\n",
            " [0.27797751 0.45462208 0.20541034 0.20137871 0.51403506 0.08722937\n",
            "  0.48358553 0.36217621]\n",
            " [0.70768662 0.74674622 0.69109292 0.68918041 0.37360012 0.6681348\n",
            "  0.33984866 0.57279387]\n",
            " [0.32580716 0.44514505 0.06152893 0.24267542 0.97160261 0.2305842\n",
            "  0.69147751 0.65047686]]\n"
          ],
          "name": "stdout"
        }
      ]
    },
    {
      "cell_type": "code",
      "metadata": {
        "colab": {
          "base_uri": "https://localhost:8080/"
        },
        "id": "N8Fg-IklqHKl",
        "outputId": "f51cc62f-0302-4f5c-9085-b9be8cb2fa58"
      },
      "source": [
        "values[0:3,:]"
      ],
      "execution_count": null,
      "outputs": [
        {
          "output_type": "execute_result",
          "data": {
            "text/plain": [
              "array([[0.5507979 , 0.70814782, 0.29090474, 0.51082761, 0.89294695,\n",
              "        0.89629309, 0.12558531, 0.20724288],\n",
              "       [0.0514672 , 0.44080984, 0.02987621, 0.45683322, 0.64914405,\n",
              "        0.27848728, 0.6762549 , 0.59086282],\n",
              "       [0.02398188, 0.55885409, 0.25925245, 0.4151012 , 0.28352508,\n",
              "        0.69313792, 0.44045372, 0.15686774]])"
            ]
          },
          "metadata": {
            "tags": []
          },
          "execution_count": 35
        }
      ]
    },
    {
      "cell_type": "code",
      "metadata": {
        "colab": {
          "base_uri": "https://localhost:8080/",
          "height": 265
        },
        "id": "rX6Pzu265mLO",
        "outputId": "b2c877a9-7f35-4732-be67-f903ffee44db"
      },
      "source": [
        "ax = plt.axes(projection='3d')\n",
        "\n",
        "x,y,z = values[0:3,:]\n",
        "ax.scatter3D(x,y,z)"
      ],
      "execution_count": null,
      "outputs": [
        {
          "output_type": "execute_result",
          "data": {
            "text/plain": [
              "<mpl_toolkits.mplot3d.art3d.Path3DCollection at 0x7f661f61fa50>"
            ]
          },
          "metadata": {
            "tags": []
          },
          "execution_count": 36
        },
        {
          "output_type": "display_data",
          "data": {
            "image/png": "[encoded data removed]",
            "text/plain": [
              "<Figure size 432x288 with 1 Axes>"
            ]
          },
          "metadata": {
            "tags": [],
            "needs_background": "light"
          }
        }
      ]
    },
    {
      "cell_type": "code",
      "metadata": {
        "colab": {
          "base_uri": "https://localhost:8080/"
        },
        "id": "jzHC4ZhewO5V",
        "outputId": "03776ec7-bb7f-4095-ed6e-c8a98f01c273"
      },
      "source": [
        "dist_matrix = np.zeros((num_songs,num_songs))\n",
        "dist_matrix"
      ],
      "execution_count": null,
      "outputs": [
        {
          "output_type": "execute_result",
          "data": {
            "text/plain": [
              "array([[0., 0., 0., 0., 0., 0., 0., 0.],\n",
              "       [0., 0., 0., 0., 0., 0., 0., 0.],\n",
              "       [0., 0., 0., 0., 0., 0., 0., 0.],\n",
              "       [0., 0., 0., 0., 0., 0., 0., 0.],\n",
              "       [0., 0., 0., 0., 0., 0., 0., 0.],\n",
              "       [0., 0., 0., 0., 0., 0., 0., 0.],\n",
              "       [0., 0., 0., 0., 0., 0., 0., 0.],\n",
              "       [0., 0., 0., 0., 0., 0., 0., 0.]])"
            ]
          },
          "metadata": {
            "tags": []
          },
          "execution_count": 37
        }
      ]
    },
    {
      "cell_type": "code",
      "metadata": {
        "colab": {
          "base_uri": "https://localhost:8080/"
        },
        "id": "H4hKbS1Z9Awc",
        "outputId": "524bbd4d-0a5a-4c6e-fe8e-9d603ca3019f"
      },
      "source": [
        "\n",
        "for i in range(num_songs):\n",
        "  for j in range(num_songs):\n",
        "    dist_matrix[i,j]= distance.euclidean(values[:,i],values[:,j])\n",
        "\n",
        "dist_matrix = dist_matrix.round(4)   \n",
        "dist_matrix                                         \n"
      ],
      "execution_count": null,
      "outputs": [
        {
          "output_type": "execute_result",
          "data": {
            "text/plain": [
              "array([[0.    , 0.7564, 0.7415, 1.0519, 1.1025, 1.0697, 1.2519, 1.0238],\n",
              "       [0.7564, 0.    , 1.0623, 1.0389, 0.8743, 0.7263, 0.9604, 0.9733],\n",
              "       [0.7415, 1.0623, 0.    , 0.6141, 1.3744, 1.1994, 1.2747, 0.9355],\n",
              "       [1.0519, 1.0389, 0.6141, 0.    , 1.1397, 1.1498, 1.1524, 0.7766],\n",
              "       [1.1025, 0.8743, 1.3744, 1.1397, 0.    , 1.2631, 1.0687, 0.9748],\n",
              "       [1.0697, 0.7263, 1.1994, 1.1498, 1.2631, 0.    , 1.1869, 1.2784],\n",
              "       [1.2519, 0.9604, 1.2747, 1.1524, 1.0687, 1.1869, 0.    , 0.6063],\n",
              "       [1.0238, 0.9733, 0.9355, 0.7766, 0.9748, 1.2784, 0.6063, 0.    ]])"
            ]
          },
          "metadata": {
            "tags": []
          },
          "execution_count": 38
        }
      ]
    },
    {
      "cell_type": "code",
      "metadata": {
        "colab": {
          "base_uri": "https://localhost:8080/"
        },
        "id": "RnNdOeQBjwWm",
        "outputId": "a791f831-8810-4c76-ba1c-81e357021d47"
      },
      "source": [
        "# Python3 program to solve \n",
        "# Traveling Salesman Problem using \n",
        "# Branch and Bound.\n",
        "import math\n",
        "maxsize = float('inf')\n",
        "  \n",
        "# Function to copy temporary solution\n",
        "# to the final solution\n",
        "def copyToFinal(curr_path):\n",
        "    final_path[:N + 1] = curr_path[:]\n",
        "    final_path[N] = curr_path[0]\n",
        "  \n",
        "# Function to find the minimum edge cost \n",
        "# having an end at the vertex i\n",
        "def firstMin(adj, i):\n",
        "    min = maxsize\n",
        "    for k in range(N):\n",
        "        if adj[i][k] < min and i != k:\n",
        "            min = adj[i][k]\n",
        "  \n",
        "    return min\n",
        "  \n",
        "# function to find the second minimum edge \n",
        "# cost having an end at the vertex i\n",
        "def secondMin(adj, i):\n",
        "    first, second = maxsize, maxsize\n",
        "    for j in range(N):\n",
        "        if i == j:\n",
        "            continue\n",
        "        if adj[i][j] <= first:\n",
        "            second = first\n",
        "            first = adj[i][j]\n",
        "  \n",
        "        elif(adj[i][j] <= second and \n",
        "             adj[i][j] != first):\n",
        "            second = adj[i][j]\n",
        "  \n",
        "    return second\n",
        "  \n",
        "# function that takes as arguments:\n",
        "# curr_bound -> lower bound of the root node\n",
        "# curr_weight-> stores the weight of the path so far\n",
        "# level-> current level while moving\n",
        "# in the search space tree\n",
        "# curr_path[] -> where the solution is being stored\n",
        "# which would later be copied to final_path[]\n",
        "def TSPRec(adj, curr_bound, curr_weight, \n",
        "              level, curr_path, visited):\n",
        "    global final_res\n",
        "      \n",
        "    # base case is when we have reached level N \n",
        "    # which means we have covered all the nodes once\n",
        "    if level == N:\n",
        "          \n",
        "        # check if there is an edge from\n",
        "        # last vertex in path back to the first vertex\n",
        "        if adj[curr_path[level - 1]][curr_path[0]] != 0:\n",
        "              \n",
        "            # curr_res has the total weight\n",
        "            # of the solution we got\n",
        "            curr_res = curr_weight + adj[curr_path[level - 1]]\\\n",
        "                                        [curr_path[0]]\n",
        "            if curr_res < final_res:\n",
        "                copyToFinal(curr_path)\n",
        "                final_res = curr_res\n",
        "        return\n",
        "  \n",
        "    # for any other level iterate for all vertices\n",
        "    # to build the search space tree recursively\n",
        "    for i in range(N):\n",
        "          \n",
        "        # Consider next vertex if it is not same \n",
        "        # (diagonal entry in adjacency matrix and \n",
        "        #  not visited already)\n",
        "        if (adj[curr_path[level-1]][i] != 0 and\n",
        "                            visited[i] == False):\n",
        "            temp = curr_bound\n",
        "            curr_weight += adj[curr_path[level - 1]][i]\n",
        "  \n",
        "            # different computation of curr_bound \n",
        "            # for level 2 from the other levels\n",
        "            if level == 1:\n",
        "                curr_bound -= ((firstMin(adj, curr_path[level - 1]) + \n",
        "                                firstMin(adj, i)) / 2)\n",
        "            else:\n",
        "                curr_bound -= ((secondMin(adj, curr_path[level - 1]) +\n",
        "                                 firstMin(adj, i)) / 2)\n",
        "  \n",
        "            # curr_bound + curr_weight is the actual lower bound \n",
        "            # for the node that we have arrived on.\n",
        "            # If current lower bound < final_res, \n",
        "            # we need to explore the node further\n",
        "            if curr_bound + curr_weight < final_res:\n",
        "                curr_path[level] = i\n",
        "                visited[i] = True\n",
        "                  \n",
        "                # call TSPRec for the next level\n",
        "                TSPRec(adj, curr_bound, curr_weight, \n",
        "                       level + 1, curr_path, visited)\n",
        "  \n",
        "            # Else we have to prune the node by resetting \n",
        "            # all changes to curr_weight and curr_bound\n",
        "            curr_weight -= adj[curr_path[level - 1]][i]\n",
        "            curr_bound = temp\n",
        "  \n",
        "            # Also reset the visited array\n",
        "            visited = [False] * len(visited)\n",
        "            for j in range(level):\n",
        "                if curr_path[j] != -1:\n",
        "                    visited[curr_path[j]] = True\n",
        "  \n",
        "# This function sets up final_path\n",
        "def TSP(adj):\n",
        "      \n",
        "    # Calculate initial lower bound for the root node \n",
        "    # using the formula 1/2 * (sum of first min + \n",
        "    # second min) for all edges. Also initialize the \n",
        "    # curr_path and visited array\n",
        "    curr_bound = 0\n",
        "    curr_path = [-1] * (N + 1)\n",
        "    visited = [False] * N\n",
        "  \n",
        "    # Compute initial bound\n",
        "    for i in range(N):\n",
        "        curr_bound += (firstMin(adj, i) + \n",
        "                       secondMin(adj, i))\n",
        "  \n",
        "    # Rounding off the lower bound to an integer\n",
        "    curr_bound = math.ceil(curr_bound / 2)\n",
        "  \n",
        "    # We start at vertex 1 so the first vertex \n",
        "    # in curr_path[] is 0\n",
        "    visited[0] = True\n",
        "    curr_path[0] = 0\n",
        "  \n",
        "    # Call to TSPRec for curr_weight \n",
        "    # equal to 0 and level 1\n",
        "    TSPRec(adj, curr_bound, 0, 1, curr_path, visited)\n",
        "  \n",
        "# Driver code\n",
        "  \n",
        "# Adjacency matrix for the given graph\n",
        "N = num_songs\n",
        "adj = dist_matrix\n",
        "  \n",
        "# final_path[] stores the final solution \n",
        "# i.e. the // path of the salesman.\n",
        "final_path = [None] * (N + 1)\n",
        "  \n",
        "# visited[] keeps track of the already\n",
        "# visited nodes in a particular path\n",
        "visited = [False] * N\n",
        "  \n",
        "# Stores the final minimum weight\n",
        "# of shortest tour.\n",
        "final_res = maxsize\n",
        "  \n",
        "TSP(adj)\n",
        "  \n",
        "print(\"Minimum cost :\", final_res)\n",
        "print(\"Path Taken : \", end = ' ')\n",
        "for i in range(N + 1):\n",
        "    print(final_path[i], end = ' ')"
      ],
      "execution_count": null,
      "outputs": [
        {
          "output_type": "stream",
          "text": [
            "Minimum cost : 6.9655\n",
            "Path Taken :  0 1 4 6 7 3 2 5 0 "
          ],
          "name": "stdout"
        }
      ]
    },
    {
      "cell_type": "markdown",
      "metadata": {
        "id": "doS6yK8MweHI"
      },
      "source": [
        "Next, we need to add a dummy node with zeroed distances to act as start and end node, avoiding the cycle being taken into account"
      ]
    },
    {
      "cell_type": "code",
      "metadata": {
        "colab": {
          "base_uri": "https://localhost:8080/"
        },
        "id": "rxDsXT5a3YJn",
        "outputId": "947a9972-df75-4473-c547-effafbbcced7"
      },
      "source": [
        "#Want to add a dummy node to represent the 1st and last destinations of TSP problem\n",
        "#we define the dummy's distance value to be half the minimum non-zero value in distance matrix from every distance\n",
        "minval = np.min(dist_matrix[np.nonzero(dist_matrix)])\n",
        "dum_value = minval/2\n",
        "dist_matrix_dum = np.pad(dist_matrix,((1,0),), 'constant',constant_values=(dum_value))\n",
        "dist_matrix_dum"
      ],
      "execution_count": null,
      "outputs": [
        {
          "output_type": "execute_result",
          "data": {
            "text/plain": [
              "array([[0.30315, 0.30315, 0.30315, 0.30315, 0.30315, 0.30315, 0.30315,\n",
              "        0.30315, 0.30315],\n",
              "       [0.30315, 0.     , 0.7564 , 0.7415 , 1.0519 , 1.1025 , 1.0697 ,\n",
              "        1.2519 , 1.0238 ],\n",
              "       [0.30315, 0.7564 , 0.     , 1.0623 , 1.0389 , 0.8743 , 0.7263 ,\n",
              "        0.9604 , 0.9733 ],\n",
              "       [0.30315, 0.7415 , 1.0623 , 0.     , 0.6141 , 1.3744 , 1.1994 ,\n",
              "        1.2747 , 0.9355 ],\n",
              "       [0.30315, 1.0519 , 1.0389 , 0.6141 , 0.     , 1.1397 , 1.1498 ,\n",
              "        1.1524 , 0.7766 ],\n",
              "       [0.30315, 1.1025 , 0.8743 , 1.3744 , 1.1397 , 0.     , 1.2631 ,\n",
              "        1.0687 , 0.9748 ],\n",
              "       [0.30315, 1.0697 , 0.7263 , 1.1994 , 1.1498 , 1.2631 , 0.     ,\n",
              "        1.1869 , 1.2784 ],\n",
              "       [0.30315, 1.2519 , 0.9604 , 1.2747 , 1.1524 , 1.0687 , 1.1869 ,\n",
              "        0.     , 0.6063 ],\n",
              "       [0.30315, 1.0238 , 0.9733 , 0.9355 , 0.7766 , 0.9748 , 1.2784 ,\n",
              "        0.6063 , 0.     ]])"
            ]
          },
          "metadata": {
            "tags": []
          },
          "execution_count": 86
        }
      ]
    },
    {
      "cell_type": "code",
      "metadata": {
        "colab": {
          "base_uri": "https://localhost:8080/"
        },
        "id": "ERJtV86a925I",
        "outputId": "f82aade3-c219-4280-e1f5-44200d49b960"
      },
      "source": [
        "# Adjacency matrix for the given graph\n",
        "N = num_songs+1\n",
        "adj = dist_matrix_dum\n",
        "  \n",
        "# final_path[] stores the final solution \n",
        "# i.e. the // path of the salesman.\n",
        "final_path = [None] * (N + 1)\n",
        "  \n",
        "# visited[] keeps track of the already\n",
        "# visited nodes in a particular path\n",
        "visited = [False] * N\n",
        "  \n",
        "# Stores the final minimum weight\n",
        "# of shortest tour.\n",
        "final_res = maxsize\n",
        "  \n",
        "TSP(adj)\n",
        "# Since we have defined the dummy variable to be half the minimum non-zero value in distance matrix\n",
        "# subtract 2*dummy value from minumum cost to get actual distance cost of a path without a final return making it a tour\n",
        "branch_cost = final_res - dum_value*2\n",
        "print(\"Minimum cost :\", branch_cost)\n",
        "print(\"Path Taken : \", end = ' ')\n",
        "#best_state_branch = np.zeros(N)\n",
        "#for i in range(N + 1):\n",
        "    #final_path[i], end = ' '\n",
        "best_state_branch = final_path\n",
        "print(best_state_branch)\n",
        "\n"
      ],
      "execution_count": null,
      "outputs": [
        {
          "output_type": "stream",
          "text": [
            "Minimum cost : 5.6871\n",
            "Path Taken :  [0, 1, 3, 4, 6, 2, 5, 8, 7, 0]\n"
          ],
          "name": "stdout"
        }
      ]
    },
    {
      "cell_type": "markdown",
      "metadata": {
        "id": "vVpGD27i-BP6"
      },
      "source": [
        "As we can see, the dummy variable removes the final distance completing the tour from being taken into count into the optimization, since its distance is the smallest\n",
        "\n"
      ]
    },
    {
      "cell_type": "markdown",
      "metadata": {
        "id": "g_KGKKx0wJ5_"
      },
      "source": [
        "### Genetic Algorithm Method\n",
        "Implementation using Mlrose"
      ]
    },
    {
      "cell_type": "code",
      "metadata": {
        "colab": {
          "base_uri": "https://localhost:8080/"
        },
        "id": "pmDK2KHNfkio",
        "outputId": "6f8e1a16-098a-4b86-aec7-3339839735c5"
      },
      "source": [
        "pip install mlrose"
      ],
      "execution_count": null,
      "outputs": [
        {
          "output_type": "stream",
          "text": [
            "Requirement already satisfied: mlrose in /usr/local/lib/python3.7/dist-packages (1.3.0)\n",
            "Requirement already satisfied: scipy in /usr/local/lib/python3.7/dist-packages (from mlrose) (1.4.1)\n",
            "Requirement already satisfied: sklearn in /usr/local/lib/python3.7/dist-packages (from mlrose) (0.0)\n",
            "Requirement already satisfied: numpy in /usr/local/lib/python3.7/dist-packages (from mlrose) (1.19.5)\n",
            "Requirement already satisfied: scikit-learn in /usr/local/lib/python3.7/dist-packages (from sklearn->mlrose) (0.22.2.post1)\n",
            "Requirement already satisfied: joblib>=0.11 in /usr/local/lib/python3.7/dist-packages (from scikit-learn->sklearn->mlrose) (1.0.1)\n"
          ],
          "name": "stdout"
        }
      ]
    },
    {
      "cell_type": "code",
      "metadata": {
        "id": "1RDevHjPwWNu"
      },
      "source": [
        ""
      ],
      "execution_count": null,
      "outputs": []
    },
    {
      "cell_type": "code",
      "metadata": {
        "colab": {
          "base_uri": "https://localhost:8080/"
        },
        "id": "fMKh0irBO_hk",
        "outputId": "1db96f8e-17e0-46bb-f1be-c49ab830a995"
      },
      "source": [
        "\n",
        "\n",
        "#First we attempt a tour, rather than a path (starts and ends at same node)\n",
        "import mlrose\n",
        "dist_list=[]\n",
        "count=1\n",
        "for i in range(num_songs):\n",
        "  for j in range(num_songs):\n",
        "    if i!=j:\n",
        "      dist_list.append((i,j,dist_matrix[i,j]))\n",
        "      count+=1\n",
        "print(dist_list)"
      ],
      "execution_count": null,
      "outputs": [
        {
          "output_type": "stream",
          "text": [
            "[(0, 1, 0.7564), (0, 2, 0.7415), (0, 3, 1.0519), (0, 4, 1.1025), (0, 5, 1.0697), (0, 6, 1.2519), (0, 7, 1.0238), (1, 0, 0.7564), (1, 2, 1.0623), (1, 3, 1.0389), (1, 4, 0.8743), (1, 5, 0.7263), (1, 6, 0.9604), (1, 7, 0.9733), (2, 0, 0.7415), (2, 1, 1.0623), (2, 3, 0.6141), (2, 4, 1.3744), (2, 5, 1.1994), (2, 6, 1.2747), (2, 7, 0.9355), (3, 0, 1.0519), (3, 1, 1.0389), (3, 2, 0.6141), (3, 4, 1.1397), (3, 5, 1.1498), (3, 6, 1.1524), (3, 7, 0.7766), (4, 0, 1.1025), (4, 1, 0.8743), (4, 2, 1.3744), (4, 3, 1.1397), (4, 5, 1.2631), (4, 6, 1.0687), (4, 7, 0.9748), (5, 0, 1.0697), (5, 1, 0.7263), (5, 2, 1.1994), (5, 3, 1.1498), (5, 4, 1.2631), (5, 6, 1.1869), (5, 7, 1.2784), (6, 0, 1.2519), (6, 1, 0.9604), (6, 2, 1.2747), (6, 3, 1.1524), (6, 4, 1.0687), (6, 5, 1.1869), (6, 7, 0.6063), (7, 0, 1.0238), (7, 1, 0.9733), (7, 2, 0.9355), (7, 3, 0.7766), (7, 4, 0.9748), (7, 5, 1.2784), (7, 6, 0.6063)]\n"
          ],
          "name": "stdout"
        }
      ]
    },
    {
      "cell_type": "code",
      "metadata": {
        "colab": {
          "base_uri": "https://localhost:8080/"
        },
        "id": "hzGXyzYIkMmK",
        "outputId": "de130f0e-0813-49a4-d11e-b913d0de3918"
      },
      "source": [
        "# Initialize fitness function object using dist_list\n",
        "fitness_dists = mlrose.TravellingSales(distances = dist_list)\n",
        "problem_fit = mlrose.TSPOpt(length = num_songs, fitness_fn = fitness_dists, maximize=False)\n",
        "#problem_fit = mlrose.TSPOpt(length = num_songs, distances = dist_list, maximize=False)\n",
        "# Solve problem using the genetic algorithm\n",
        "best_state, best_fitness = mlrose.genetic_alg(problem_fit, random_state = 2)\n",
        "\n",
        "print('The best state found is: ', best_state)\n",
        "\n",
        "print('The fitness at the best state is: ', best_fitness)\n",
        "\n"
      ],
      "execution_count": null,
      "outputs": [
        {
          "output_type": "stream",
          "text": [
            "The best state found is:  [5 6 7 4 3 2 0 1]\n",
            "The fitness at the best state is:  6.746\n"
          ],
          "name": "stdout"
        }
      ]
    },
    {
      "cell_type": "code",
      "metadata": {
        "colab": {
          "base_uri": "https://localhost:8080/"
        },
        "id": "LupvUia3mr1A",
        "outputId": "42b53322-ac26-47c8-b6a7-9672bc56a7f1"
      },
      "source": [
        "#Tune parameters to attempt to find better estimate\n",
        "best_state, best_fitness = mlrose.genetic_alg(problem_fit, mutation_prob = 0.2, \n",
        "\t\t\t\t\t      max_attempts = 100, random_state = 2)\n",
        "\n",
        "print('The best state found is: ', best_state)\n",
        "\n",
        "print('The fitness at the best state is: ', best_fitness)"
      ],
      "execution_count": null,
      "outputs": [
        {
          "output_type": "stream",
          "text": [
            "The best state found is:  [2 3 7 6 4 1 5 0]\n",
            "The fitness at the best state is:  6.4775\n"
          ],
          "name": "stdout"
        }
      ]
    },
    {
      "cell_type": "code",
      "metadata": {
        "colab": {
          "base_uri": "https://localhost:8080/"
        },
        "id": "I8RD1EWrnKqT",
        "outputId": "d8c3440b-37eb-47c4-cd3e-6cceca72586f"
      },
      "source": [
        "#Now we add a dummy node of negligible distance from each node to calculate path (no cycle)\n",
        "#So as a tour is calculated, the final \n",
        "\n",
        "dist_list=[]\n",
        "count=1\n",
        "dummy_node = num_songs+1\n",
        "for i in range(dummy_node):\n",
        "  for j in range(dummy_node):\n",
        "    if i!=j:\n",
        "      dist_list.append((i,j,dist_matrix_dum[i,j]))\n",
        "      count+=1\n",
        "print(dist_list)\n",
        "\n",
        "\n",
        "fitness_dists = mlrose.TravellingSales(distances = dist_list)\n",
        "problem_fit = mlrose.TSPOpt(length = dummy_node, fitness_fn = fitness_dists, maximize=False)\n",
        "best_state_genetic, best_fitness = mlrose.genetic_alg(problem_fit, mutation_prob = 0.2, \n",
        "\t\t\t\t\t      max_attempts = 100, random_state = 2)\n",
        "\n",
        "print('The best state found is: ', best_state_genetic)\n",
        "genetic_cost = best_fitness -2*dum_value\n",
        "print('The fitness (or total distance) at the best state is: ', genetic_cost)\n",
        "\n"
      ],
      "execution_count": null,
      "outputs": [
        {
          "output_type": "stream",
          "text": [
            "[(0, 1, 0.30315), (0, 2, 0.30315), (0, 3, 0.30315), (0, 4, 0.30315), (0, 5, 0.30315), (0, 6, 0.30315), (0, 7, 0.30315), (0, 8, 0.30315), (1, 0, 0.30315), (1, 2, 0.7564), (1, 3, 0.7415), (1, 4, 1.0519), (1, 5, 1.1025), (1, 6, 1.0697), (1, 7, 1.2519), (1, 8, 1.0238), (2, 0, 0.30315), (2, 1, 0.7564), (2, 3, 1.0623), (2, 4, 1.0389), (2, 5, 0.8743), (2, 6, 0.7263), (2, 7, 0.9604), (2, 8, 0.9733), (3, 0, 0.30315), (3, 1, 0.7415), (3, 2, 1.0623), (3, 4, 0.6141), (3, 5, 1.3744), (3, 6, 1.1994), (3, 7, 1.2747), (3, 8, 0.9355), (4, 0, 0.30315), (4, 1, 1.0519), (4, 2, 1.0389), (4, 3, 0.6141), (4, 5, 1.1397), (4, 6, 1.1498), (4, 7, 1.1524), (4, 8, 0.7766), (5, 0, 0.30315), (5, 1, 1.1025), (5, 2, 0.8743), (5, 3, 1.3744), (5, 4, 1.1397), (5, 6, 1.2631), (5, 7, 1.0687), (5, 8, 0.9748), (6, 0, 0.30315), (6, 1, 1.0697), (6, 2, 0.7263), (6, 3, 1.1994), (6, 4, 1.1498), (6, 5, 1.2631), (6, 7, 1.1869), (6, 8, 1.2784), (7, 0, 0.30315), (7, 1, 1.2519), (7, 2, 0.9604), (7, 3, 1.2747), (7, 4, 1.1524), (7, 5, 1.0687), (7, 6, 1.1869), (7, 8, 0.6063), (8, 0, 0.30315), (8, 1, 1.0238), (8, 2, 0.9733), (8, 3, 0.9355), (8, 4, 0.7766), (8, 5, 0.9748), (8, 6, 1.2784), (8, 7, 0.6063)]\n",
            "The best state found is:  [0 6 2 1 3 4 8 7 5]\n",
            "The fitness (or total distance) at the best state is:  5.289899999999999\n"
          ],
          "name": "stdout"
        }
      ]
    },
    {
      "cell_type": "code",
      "metadata": {
        "id": "xIRqZ2mJE8kc"
      },
      "source": [
        "state_array = [(best_state_genetic , genetic_cost), \n",
        "               ()\n",
        "\n",
        "]"
      ],
      "execution_count": null,
      "outputs": []
    },
    {
      "cell_type": "code",
      "metadata": {
        "colab": {
          "base_uri": "https://localhost:8080/"
        },
        "id": "KZUbDD8eGUws",
        "outputId": "049cc042-e052-4da4-c05e-044f171a53fd"
      },
      "source": [
        "best_state_genetic[1]"
      ],
      "execution_count": null,
      "outputs": [
        {
          "output_type": "execute_result",
          "data": {
            "text/plain": [
              "6"
            ]
          },
          "metadata": {
            "tags": []
          },
          "execution_count": 103
        }
      ]
    },
    {
      "cell_type": "code",
      "metadata": {
        "colab": {
          "base_uri": "https://localhost:8080/"
        },
        "id": "HIp5KlDhDfGr",
        "outputId": "200ae5b1-ea24-4ec0-98a3-dcf4d5e5b1cf"
      },
      "source": [
        "np.min([genetic_cost,branch_cost])"
      ],
      "execution_count": null,
      "outputs": [
        {
          "output_type": "execute_result",
          "data": {
            "text/plain": [
              "5.289899999999999"
            ]
          },
          "metadata": {
            "tags": []
          },
          "execution_count": 97
        }
      ]
    }
  ]
}