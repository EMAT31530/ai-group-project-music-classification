{
  "nbformat": 4,
  "nbformat_minor": 0,
  "metadata": {
    "colab": {
      "name": "TSP Ordering.ipynb",
      "provenance": [],
      "collapsed_sections": [],
      "mount_file_id": "https://gist.github.com/seanturland/6d4cbfbe38a26d200ae629a06a3f07cc#file-tsp-ordering-ipynb",
      "authorship_tag": "ABX9TyPBprJufp+dclMvyIw5Ohl7",
      "include_colab_link": true
    },
    "kernelspec": {
      "name": "python3",
      "display_name": "Python 3"
    },
    "language_info": {
      "name": "python"
    }
  },
  "cells": [
    {
      "cell_type": "markdown",
      "metadata": {
        "id": "view-in-github",
        "colab_type": "text"
      },
      "source": [
        "<a href=\"https://colab.research.google.com/github/EMAT31530/ai-group-project-music-classification/blob/master/TSP_Ordering.ipynb\" target=\"_parent\"><img src=\"https://colab.research.google.com/assets/colab-badge.svg\" alt=\"Open In Colab\"/></a>"
      ]
    },
    {
      "cell_type": "markdown",
      "metadata": {
        "id": "7yrylDLsj0oa"
      },
      "source": [
        "# Implementation of an approximate solver for Metric Travelling Salesperson Problem\n",
        "Steps:\n",
        "\n",
        "\n",
        "1.   Take a collection of songs as input, \n",
        "2.   Convert audio data into spectrogram images \n",
        "3. Classify their genres using our CNN model\n",
        "4. Take each song's softmax output to obtain the calculated probability of each genre\n",
        "5. Interpret each soft-max output as position vectors in a multi-dimensional vector space, from 0-1 in each genre.\n",
        "6. Order the track listing in such a way to  approximate a minimal S(X), the sum of each distance (some chosen distance/cost function d(x,y)) between consecutive songs in the vector space.\n",
        "7.Output a track listing which gives our attempt at ordering songs into the most natural progression between genres\n",
        "\n",
        "\n",
        "\n",
        "\n",
        "Want to solve the problem of finding the shortest route through a low (< 20) number of points in a multi-dimensional space. \n",
        "We attempt this using a Branch & Bound search algorithm, and implementing a genetic algorithm with mlrose:\n",
        "\n",
        "https://arxiv.org/pdf/1805.04131.pdf\n",
        "\n",
        "https://coral.ise.lehigh.edu/wiki/doku.php/travelling_salesman_problem\n",
        "\n",
        "https://en.wikipedia.org/wiki/Genetic_algorithm\n",
        "\n",
        "https://towardsdatascience.com/solving-travelling-salesperson-problems-with-python-5de7e883d847"
      ]
    },
    {
      "cell_type": "code",
      "metadata": {
        "id": "LhJb-tkRlhfh"
      },
      "source": [
        ""
      ],
      "execution_count": null,
      "outputs": []
    },
    {
      "cell_type": "code",
      "metadata": {
        "id": "MTqrI1JDfMeh"
      },
      "source": [
        "import numpy as np\n",
        "from numpy.random import seed\n",
        "from numpy.random import rand\n",
        "%matplotlib inline\n",
        "import numpy as np\n",
        "import matplotlib.pyplot as plt\n",
        "from scipy.spatial import distance"
      ],
      "execution_count": null,
      "outputs": []
    },
    {
      "cell_type": "code",
      "metadata": {
        "colab": {
          "base_uri": "https://localhost:8080/"
        },
        "id": "vd7EBKtUf4_s",
        "outputId": "07ead096-cb32-469d-c4c7-e898e784a361"
      },
      "source": [
        "#Create random values for testing\n",
        "num_songs = 11\n",
        "num_genres = 10\n",
        "seed(3)\n",
        "#for i in range(0,L-1):\n",
        " # genre_index[i]=L\n",
        "random_int = np.random.randint(1, 100, num_songs) * 0.2\n",
        "\n",
        "values = np.zeros((num_songs,num_genres)) \n",
        "for i in range(num_songs):\n",
        "  alpha = np.divide(np.ones(num_genres),random_int[i])\n",
        "  values[i,:] = np.random.dirichlet(alpha,size=1)\n",
        "#rand_gen = rand(num_genres,num_songs)\n",
        "#rand_sum = np.sum(rand_gen, axis = 1)\n",
        "#values = rand_generator\n",
        "print(values)\n",
        "\n"
      ],
      "execution_count": null,
      "outputs": [
        {
          "output_type": "stream",
          "text": [
            "[[1.10465888e-06 7.28119937e-08 3.52598725e-01 4.32640800e-01\n",
            "  2.42656364e-08 3.58252857e-03 5.60444697e-03 5.07080304e-02\n",
            "  1.46608438e-01 8.25582890e-03]\n",
            " [2.58733501e-01 1.20594438e-01 5.62811766e-02 1.11555688e-01\n",
            "  2.61011318e-02 6.85046896e-02 4.47366829e-02 3.81910416e-02\n",
            "  1.17829143e-02 2.63518736e-01]\n",
            " [1.24592701e-08 4.33426541e-04 2.16069699e-04 1.65876740e-02\n",
            "  1.26565030e-02 1.14035006e-05 3.87483949e-06 2.39524168e-06\n",
            "  1.33999462e-14 9.70088641e-01]\n",
            " [1.29586539e-02 2.53192157e-02 1.50471210e-03 6.57911121e-17\n",
            "  3.16895023e-12 3.02578314e-13 7.05109089e-11 1.05061037e-02\n",
            "  1.79863549e-02 9.31724960e-01]\n",
            " [8.82558085e-02 1.95761613e-01 1.26026462e-01 1.06247655e-01\n",
            "  4.65145209e-02 1.05750012e-01 1.01396581e-01 1.55975841e-01\n",
            "  1.57938225e-02 5.82776844e-02]\n",
            " [4.65933772e-06 6.32654392e-02 9.30753353e-03 4.62915305e-04\n",
            "  6.81654118e-02 1.53103605e-03 8.27144199e-01 3.76263876e-06\n",
            "  7.84186135e-06 3.01072017e-02]\n",
            " [2.85073283e-04 7.81962652e-02 4.59460208e-03 2.26180931e-01\n",
            "  7.95547120e-02 9.53496465e-02 3.30777273e-03 2.52663699e-01\n",
            "  2.59265678e-01 6.01621095e-04]\n",
            " [6.23459690e-02 4.90703889e-03 7.84857433e-09 1.09828491e-10\n",
            "  8.98886339e-02 5.20440228e-09 1.01078444e-04 7.33889802e-02\n",
            "  2.31572958e-02 7.46210991e-01]\n",
            " [5.14143335e-05 2.06588019e-02 2.19126617e-12 3.37777920e-02\n",
            "  1.60477480e-03 7.94564121e-01 8.46817365e-04 1.46218259e-01\n",
            "  6.85604602e-11 2.27801950e-03]\n",
            " [1.46323347e-02 1.31034372e-01 2.18087879e-01 3.56610676e-02\n",
            "  9.78985068e-03 2.70486394e-02 8.00406295e-08 2.81151532e-01\n",
            "  1.82999516e-01 9.95947297e-02]\n",
            " [2.52725719e-02 3.63795707e-04 7.01074343e-04 3.16853258e-01\n",
            "  5.03719368e-05 2.01530944e-02 2.14808772e-07 9.13352076e-12\n",
            "  1.13131214e-03 6.35474307e-01]]\n"
          ],
          "name": "stdout"
        }
      ]
    },
    {
      "cell_type": "code",
      "metadata": {
        "id": "8VckeWJyMXMR"
      },
      "source": [
        ""
      ],
      "execution_count": null,
      "outputs": []
    },
    {
      "cell_type": "code",
      "metadata": {
        "colab": {
          "base_uri": "https://localhost:8080/"
        },
        "id": "N8Fg-IklqHKl",
        "outputId": "74fd68d4-8940-4b1d-94c7-8902c433c493"
      },
      "source": [
        "values3D = np.zeros((num_songs,3)) \n",
        "for i in range(num_songs):\n",
        "  alpha = np.divide(np.ones(3),random_int[i])\n",
        "  values3D[i,:] = np.random.dirichlet(alpha,size=1)\n",
        "values3D"
      ],
      "execution_count": null,
      "outputs": [
        {
          "output_type": "execute_result",
          "data": {
            "text/plain": [
              "array([[9.07163299e-01, 9.21934558e-02, 6.43245060e-04],\n",
              "       [8.68216230e-02, 7.96278718e-01, 1.16899659e-01],\n",
              "       [3.97070111e-01, 6.18101878e-08, 6.02929827e-01],\n",
              "       [2.89539009e-14, 1.13433628e-01, 8.86566372e-01],\n",
              "       [3.42485205e-01, 3.91852524e-01, 2.65662271e-01],\n",
              "       [4.21904349e-01, 5.51662228e-01, 2.64334228e-02],\n",
              "       [1.31148434e-01, 6.76765182e-01, 1.92086383e-01],\n",
              "       [4.15915146e-04, 1.93719708e-03, 9.97646888e-01],\n",
              "       [3.78545450e-01, 4.88337293e-01, 1.33117257e-01],\n",
              "       [3.96176924e-01, 7.31317450e-02, 5.30691331e-01],\n",
              "       [2.98948545e-01, 5.16404908e-01, 1.84646548e-01]])"
            ]
          },
          "metadata": {
            "tags": []
          },
          "execution_count": 175
        }
      ]
    },
    {
      "cell_type": "code",
      "metadata": {
        "colab": {
          "base_uri": "https://localhost:8080/",
          "height": 248
        },
        "id": "rX6Pzu265mLO",
        "outputId": "a5242e6e-290d-4b2f-89e1-245d54a313ed"
      },
      "source": [
        "\n",
        "\n",
        "\n",
        "\n",
        "fig = plt.figure()\n",
        "ax = fig.add_subplot(111, projection='3d')\n",
        "ax.scatter(values3D[:,0], values3D[:,1], values3D[:,2])\n",
        "# Method 1\n",
        "ax.set_xlabel('genre 1')\n",
        "ax.set_ylabel('genre 2')\n",
        "ax.set_zlabel('genre 3')\n",
        "#plt.title('collection softmax outputs as 3-genre vector space')\n",
        "#plt.show()\n",
        "plt.savefig('/content/drive/MyDrive/3Dgenreplot')"
      ],
      "execution_count": null,
      "outputs": [
        {
          "output_type": "display_data",
          "data": {
            "image/png": "[encoded data removed]",
            "text/plain": [
              "<Figure size 432x288 with 1 Axes>"
            ]
          },
          "metadata": {
            "tags": [],
            "needs_background": "light"
          }
        }
      ]
    },
    {
      "cell_type": "code",
      "metadata": {
        "id": "jzHC4ZhewO5V"
      },
      "source": [
        "dist_matrix = np.zeros((num_songs,num_songs))"
      ],
      "execution_count": null,
      "outputs": []
    },
    {
      "cell_type": "code",
      "metadata": {
        "colab": {
          "base_uri": "https://localhost:8080/"
        },
        "id": "H4hKbS1Z9Awc",
        "outputId": "9e51c2d9-29e8-4ca5-9efd-66594b9e6c14"
      },
      "source": [
        "\n",
        "for i in range(num_songs):\n",
        "  for j in range(num_songs):\n",
        "    dist_matrix[i,j]= distance.euclidean(values[i,:],values[j,:])\n",
        "\n",
        "dist_matrix = dist_matrix.round(4)   \n",
        "dist_matrix                                         \n"
      ],
      "execution_count": null,
      "outputs": [
        {
          "output_type": "execute_result",
          "data": {
            "text/plain": [
              "array([[0.    , 0.6019, 1.1165, 1.0873, 0.5064, 1.0064, 0.488 , 0.9401,\n",
              "        0.9696, 0.5065, 0.7452],\n",
              "       [0.6019, 0.    , 0.7754, 0.7346, 0.3172, 0.8714, 0.5158, 0.5592,\n",
              "        0.8342, 0.4592, 0.5091],\n",
              "       [1.1165, 0.7754, 0.    , 0.0559, 0.9739, 1.255 , 1.0651, 0.2573,\n",
              "        1.261 , 0.9675, 0.4509],\n",
              "       [1.0873, 0.7346, 0.0559, 0.    , 0.9323, 1.2263, 1.0264, 0.2221,\n",
              "        1.231 , 0.9236, 0.4356],\n",
              "       [0.5064, 0.3172, 0.9739, 0.9323, 0.    , 0.7833, 0.3653, 0.7535,\n",
              "        0.7414, 0.2936, 0.6926],\n",
              "       [1.0064, 0.8714, 1.255 , 1.2263, 0.7833, 0.    , 0.9331, 1.1003,\n",
              "        1.1581, 0.9248, 1.0772],\n",
              "       [0.488 , 0.5158, 1.0651, 1.0264, 0.3653, 0.9331, 0.    , 0.8446,\n",
              "        0.7835, 0.3329, 0.7486],\n",
              "       [0.9401, 0.5592, 0.2573, 0.2221, 0.7535, 1.1003, 0.8446, 0.    ,\n",
              "        1.0971, 0.749 , 0.3583],\n",
              "       [0.9696, 0.8342, 1.261 , 1.231 , 0.7414, 1.1581, 0.7835, 1.0971,\n",
              "        0.    , 0.8428, 1.0503],\n",
              "       [0.5065, 0.4592, 0.9675, 0.9236, 0.2936, 0.9248, 0.3329, 0.749 ,\n",
              "        0.8428, 0.    , 0.7368],\n",
              "       [0.7452, 0.5091, 0.4509, 0.4356, 0.6926, 1.0772, 0.7486, 0.3583,\n",
              "        1.0503, 0.7368, 0.    ]])"
            ]
          },
          "metadata": {
            "tags": []
          },
          "execution_count": 178
        }
      ]
    },
    {
      "cell_type": "code",
      "metadata": {
        "colab": {
          "base_uri": "https://localhost:8080/"
        },
        "id": "RnNdOeQBjwWm",
        "outputId": "7c1298d2-fe76-44eb-8c02-063718b9ffbe"
      },
      "source": [
        "# Python3 program to solve \n",
        "# Traveling Salesman Problem using \n",
        "# Branch and Bound.\n",
        "import math\n",
        "maxsize = float('inf')\n",
        "  \n",
        "# Function to copy temporary solution\n",
        "# to the final solution\n",
        "def copyToFinal(curr_path):\n",
        "    final_path[:N + 1] = curr_path[:]\n",
        "    final_path[N] = curr_path[0]\n",
        "  \n",
        "# Function to find the minimum edge cost \n",
        "# having an end at the vertex i\n",
        "def firstMin(adj, i):\n",
        "    min = maxsize\n",
        "    for k in range(N):\n",
        "        if adj[i][k] < min and i != k:\n",
        "            min = adj[i][k]\n",
        "  \n",
        "    return min\n",
        "  \n",
        "# function to find the second minimum edge \n",
        "# cost having an end at the vertex i\n",
        "def secondMin(adj, i):\n",
        "    first, second = maxsize, maxsize\n",
        "    for j in range(N):\n",
        "        if i == j:\n",
        "            continue\n",
        "        if adj[i][j] <= first:\n",
        "            second = first\n",
        "            first = adj[i][j]\n",
        "  \n",
        "        elif(adj[i][j] <= second and \n",
        "             adj[i][j] != first):\n",
        "            second = adj[i][j]\n",
        "  \n",
        "    return second\n",
        "  \n",
        "# function that takes as arguments:\n",
        "# curr_bound -> lower bound of the root node\n",
        "# curr_weight-> stores the weight of the path so far\n",
        "# level-> current level while moving\n",
        "# in the search space tree\n",
        "# curr_path[] -> where the solution is being stored\n",
        "# which would later be copied to final_path[]\n",
        "def TSPRec(adj, curr_bound, curr_weight, \n",
        "              level, curr_path, visited):\n",
        "    global final_res\n",
        "      \n",
        "    # base case is when we have reached level N \n",
        "    # which means we have covered all the nodes once\n",
        "    if level == N:\n",
        "          \n",
        "        # check if there is an edge from\n",
        "        # last vertex in path back to the first vertex\n",
        "        if adj[curr_path[level - 1]][curr_path[0]] != 0:\n",
        "              \n",
        "            # curr_res has the total weight\n",
        "            # of the solution we got\n",
        "            curr_res = curr_weight + adj[curr_path[level - 1]]\\\n",
        "                                        [curr_path[0]]\n",
        "            if curr_res < final_res:\n",
        "                copyToFinal(curr_path)\n",
        "                final_res = curr_res\n",
        "        return\n",
        "  \n",
        "    # for any other level iterate for all vertices\n",
        "    # to build the search space tree recursively\n",
        "    for i in range(N):\n",
        "          \n",
        "        # Consider next vertex if it is not same \n",
        "        # (diagonal entry in adjacency matrix and \n",
        "        #  not visited already)\n",
        "        if (adj[curr_path[level-1]][i] != 0 and\n",
        "                            visited[i] == False):\n",
        "            temp = curr_bound\n",
        "            curr_weight += adj[curr_path[level - 1]][i]\n",
        "  \n",
        "            # different computation of curr_bound \n",
        "            # for level 2 from the other levels\n",
        "            if level == 1:\n",
        "                curr_bound -= ((firstMin(adj, curr_path[level - 1]) + \n",
        "                                firstMin(adj, i)) / 2)\n",
        "            else:\n",
        "                curr_bound -= ((secondMin(adj, curr_path[level - 1]) +\n",
        "                                 firstMin(adj, i)) / 2)\n",
        "  \n",
        "            # curr_bound + curr_weight is the actual lower bound \n",
        "            # for the node that we have arrived on.\n",
        "            # If current lower bound < final_res, \n",
        "            # we need to explore the node further\n",
        "            if curr_bound + curr_weight < final_res:\n",
        "                curr_path[level] = i\n",
        "                visited[i] = True\n",
        "                  \n",
        "                # call TSPRec for the next level\n",
        "                TSPRec(adj, curr_bound, curr_weight, \n",
        "                       level + 1, curr_path, visited)\n",
        "  \n",
        "            # Else we have to prune the node by resetting \n",
        "            # all changes to curr_weight and curr_bound\n",
        "            curr_weight -= adj[curr_path[level - 1]][i]\n",
        "            curr_bound = temp\n",
        "  \n",
        "            # Also reset the visited array\n",
        "            visited = [False] * len(visited)\n",
        "            for j in range(level):\n",
        "                if curr_path[j] != -1:\n",
        "                    visited[curr_path[j]] = True\n",
        "  \n",
        "# This function sets up final_path\n",
        "def TSP(adj):\n",
        "      \n",
        "    # Calculate initial lower bound for the root node \n",
        "    # using the formula 1/2 * (sum of first min + \n",
        "    # second min) for all edges. Also initialize the \n",
        "    # curr_path and visited array\n",
        "    curr_bound = 0\n",
        "    curr_path = [-1] * (N + 1)\n",
        "    visited = [False] * N\n",
        "  \n",
        "    # Compute initial bound\n",
        "    for i in range(N):\n",
        "        curr_bound += (firstMin(adj, i) + \n",
        "                       secondMin(adj, i))\n",
        "  \n",
        "    # Rounding off the lower bound to an integer\n",
        "    curr_bound = math.ceil(curr_bound / 2)\n",
        "  \n",
        "    # We start at vertex 1 so the first vertex \n",
        "    # in curr_path[] is 0\n",
        "    visited[0] = True\n",
        "    curr_path[0] = 0\n",
        "  \n",
        "    # Call to TSPRec for curr_weight \n",
        "    # equal to 0 and level 1\n",
        "    TSPRec(adj, curr_bound, 0, 1, curr_path, visited)\n",
        "  \n",
        "# Driver code\n",
        "  \n",
        "# Adjacency matrix for the given graph\n",
        "N = num_songs\n",
        "adj = dist_matrix\n",
        "  \n",
        "# final_path[] stores the final solution \n",
        "# i.e. the // path of the salesman.\n",
        "final_path = [None] * (N + 1)\n",
        "  \n",
        "# visited[] keeps track of the already\n",
        "# visited nodes in a particular path\n",
        "visited = [False] * N\n",
        "  \n",
        "# Stores the final minimum weight\n",
        "# of shortest tour.\n",
        "final_res = maxsize\n",
        "  \n",
        "TSP(adj)\n",
        "  \n",
        "print(\"Minimum cost :\", final_res)\n",
        "print(\"Path Taken : \", end = ' ')\n",
        "for i in range(N + 1):\n",
        "    print(final_path[i], end = ' ')"
      ],
      "execution_count": null,
      "outputs": [
        {
          "output_type": "stream",
          "text": [
            "Minimum cost : 6.0815\n",
            "Path Taken :  0 1 4 9 6 8 5 7 2 3 10 0 "
          ],
          "name": "stdout"
        }
      ]
    },
    {
      "cell_type": "markdown",
      "metadata": {
        "id": "doS6yK8MweHI"
      },
      "source": [
        "Next, we need to add a dummy node with zeroed distances to act as start and end node, avoiding the cycle being taken into account"
      ]
    },
    {
      "cell_type": "code",
      "metadata": {
        "colab": {
          "base_uri": "https://localhost:8080/"
        },
        "id": "rxDsXT5a3YJn",
        "outputId": "16197fc2-bf74-4122-d85c-a674bb168193"
      },
      "source": [
        "#Want to add a dummy node to represent the 1st and last destinations of TSP problem\n",
        "#we define the dummy's distance value to be half the minimum non-zero value in distance matrix from every distance\n",
        "minval = np.min(dist_matrix[np.nonzero(dist_matrix)])\n",
        "dum_value = minval/2\n",
        "dist_matrix_dum = np.pad(dist_matrix,((1,0),), 'constant',constant_values=(dum_value))\n",
        "dist_matrix_dum"
      ],
      "execution_count": null,
      "outputs": [
        {
          "output_type": "execute_result",
          "data": {
            "text/plain": [
              "array([[0.02795, 0.02795, 0.02795, 0.02795, 0.02795, 0.02795, 0.02795,\n",
              "        0.02795, 0.02795, 0.02795, 0.02795, 0.02795],\n",
              "       [0.02795, 0.     , 0.6019 , 1.1165 , 1.0873 , 0.5064 , 1.0064 ,\n",
              "        0.488  , 0.9401 , 0.9696 , 0.5065 , 0.7452 ],\n",
              "       [0.02795, 0.6019 , 0.     , 0.7754 , 0.7346 , 0.3172 , 0.8714 ,\n",
              "        0.5158 , 0.5592 , 0.8342 , 0.4592 , 0.5091 ],\n",
              "       [0.02795, 1.1165 , 0.7754 , 0.     , 0.0559 , 0.9739 , 1.255  ,\n",
              "        1.0651 , 0.2573 , 1.261  , 0.9675 , 0.4509 ],\n",
              "       [0.02795, 1.0873 , 0.7346 , 0.0559 , 0.     , 0.9323 , 1.2263 ,\n",
              "        1.0264 , 0.2221 , 1.231  , 0.9236 , 0.4356 ],\n",
              "       [0.02795, 0.5064 , 0.3172 , 0.9739 , 0.9323 , 0.     , 0.7833 ,\n",
              "        0.3653 , 0.7535 , 0.7414 , 0.2936 , 0.6926 ],\n",
              "       [0.02795, 1.0064 , 0.8714 , 1.255  , 1.2263 , 0.7833 , 0.     ,\n",
              "        0.9331 , 1.1003 , 1.1581 , 0.9248 , 1.0772 ],\n",
              "       [0.02795, 0.488  , 0.5158 , 1.0651 , 1.0264 , 0.3653 , 0.9331 ,\n",
              "        0.     , 0.8446 , 0.7835 , 0.3329 , 0.7486 ],\n",
              "       [0.02795, 0.9401 , 0.5592 , 0.2573 , 0.2221 , 0.7535 , 1.1003 ,\n",
              "        0.8446 , 0.     , 1.0971 , 0.749  , 0.3583 ],\n",
              "       [0.02795, 0.9696 , 0.8342 , 1.261  , 1.231  , 0.7414 , 1.1581 ,\n",
              "        0.7835 , 1.0971 , 0.     , 0.8428 , 1.0503 ],\n",
              "       [0.02795, 0.5065 , 0.4592 , 0.9675 , 0.9236 , 0.2936 , 0.9248 ,\n",
              "        0.3329 , 0.749  , 0.8428 , 0.     , 0.7368 ],\n",
              "       [0.02795, 0.7452 , 0.5091 , 0.4509 , 0.4356 , 0.6926 , 1.0772 ,\n",
              "        0.7486 , 0.3583 , 1.0503 , 0.7368 , 0.     ]])"
            ]
          },
          "metadata": {
            "tags": []
          },
          "execution_count": 180
        }
      ]
    },
    {
      "cell_type": "code",
      "metadata": {
        "colab": {
          "base_uri": "https://localhost:8080/"
        },
        "id": "ERJtV86a925I",
        "outputId": "756acd49-d24a-4c11-e4ac-f88f190e3700"
      },
      "source": [
        "# Adjacency matrix for the given graph\n",
        "N = num_songs+1\n",
        "adj = dist_matrix_dum\n",
        "  \n",
        "# final_path[] stores the final solution \n",
        "# i.e. the // path of the salesman.\n",
        "final_path = [None] * (N + 1)\n",
        "  \n",
        "# visited[] keeps track of the already\n",
        "# visited nodes in a particular path\n",
        "visited = [False] * N\n",
        "  \n",
        "# Stores the final minimum weight\n",
        "# of shortest tour.\n",
        "final_res = maxsize\n",
        "  \n",
        "TSP(adj)\n",
        "# Since we have defined the dummy variable to be half the minimum non-zero value in distance matrix\n",
        "# subtract 2*dummy value from minumum cost to get actual distance cost of a path without a final return making it a tour\n",
        "branch_cost = final_res - dum_value*2\n",
        "print(\"Minimum cost :\", branch_cost)\n",
        "print(\"Path Taken : \", end = ' ')\n",
        "#best_state_branch = np.zeros(N)\n",
        "#for i in range(N + 1):\n",
        "    #final_path[i], end = ' '\n",
        "best_state_branch = final_path\n",
        "print(best_state_branch)\n",
        "\n"
      ],
      "execution_count": null,
      "outputs": [
        {
          "output_type": "stream",
          "text": [
            "Minimum cost : 5.274299999999998\n",
            "Path Taken :  [0, 1, 2, 3, 4, 8, 11, 5, 10, 7, 9, 6, 0]\n"
          ],
          "name": "stdout"
        }
      ]
    },
    {
      "cell_type": "markdown",
      "metadata": {
        "id": "vVpGD27i-BP6"
      },
      "source": [
        "As we can see, the dummy variable removes the final distance completing the tour from being taken into count into the optimization, since its distance is the smallest\n",
        "\n"
      ]
    },
    {
      "cell_type": "markdown",
      "metadata": {
        "id": "g_KGKKx0wJ5_"
      },
      "source": [
        "### Genetic Algorithm Method\n",
        "Implementation using Mlrose"
      ]
    },
    {
      "cell_type": "code",
      "metadata": {
        "colab": {
          "base_uri": "https://localhost:8080/"
        },
        "id": "pmDK2KHNfkio",
        "outputId": "421acc3d-bdf2-482d-9977-867ca651ec1e"
      },
      "source": [
        "pip install mlrose"
      ],
      "execution_count": null,
      "outputs": [
        {
          "output_type": "stream",
          "text": [
            "Requirement already satisfied: mlrose in /usr/local/lib/python3.7/dist-packages (1.3.0)\n",
            "Requirement already satisfied: sklearn in /usr/local/lib/python3.7/dist-packages (from mlrose) (0.0)\n",
            "Requirement already satisfied: scipy in /usr/local/lib/python3.7/dist-packages (from mlrose) (1.4.1)\n",
            "Requirement already satisfied: numpy in /usr/local/lib/python3.7/dist-packages (from mlrose) (1.19.5)\n",
            "Requirement already satisfied: scikit-learn in /usr/local/lib/python3.7/dist-packages (from sklearn->mlrose) (0.22.2.post1)\n",
            "Requirement already satisfied: joblib>=0.11 in /usr/local/lib/python3.7/dist-packages (from scikit-learn->sklearn->mlrose) (1.0.1)\n"
          ],
          "name": "stdout"
        }
      ]
    },
    {
      "cell_type": "code",
      "metadata": {
        "id": "1RDevHjPwWNu"
      },
      "source": [
        ""
      ],
      "execution_count": null,
      "outputs": []
    },
    {
      "cell_type": "code",
      "metadata": {
        "colab": {
          "base_uri": "https://localhost:8080/"
        },
        "id": "fMKh0irBO_hk",
        "outputId": "c418a229-54c7-46a0-c970-a8f33c13139b"
      },
      "source": [
        "\n",
        "\n",
        "#First we attempt a tour, rather than a path (starts and ends at same node)\n",
        "import mlrose\n",
        "dist_list=[]\n",
        "count=1\n",
        "for i in range(num_songs):\n",
        "  for j in range(num_songs):\n",
        "    if i!=j:\n",
        "      dist_list.append((i,j,dist_matrix[i,j]))\n",
        "      count+=1\n",
        "print(dist_list)"
      ],
      "execution_count": null,
      "outputs": [
        {
          "output_type": "stream",
          "text": [
            "[(0, 1, 0.2959), (0, 2, 0.998), (0, 3, 0.9592), (0, 4, 0.1051), (0, 5, 0.8089), (0, 6, 0.0326), (0, 7, 0.7793), (0, 8, 0.315), (0, 9, 0.0894), (0, 10, 0.6521), (1, 0, 0.2959), (1, 2, 0.7094), (1, 3, 0.6705), (1, 4, 0.2392), (1, 5, 0.7912), (1, 6, 0.3172), (1, 7, 0.4902), (1, 8, 0.5467), (1, 9, 0.2082), (1, 10, 0.3685), (2, 0, 0.998), (2, 1, 0.7094), (2, 3, 0.0389), (2, 4, 0.9482), (2, 5, 1.2482), (2, 6, 1.0136), (2, 7, 0.2193), (2, 8, 1.1718), (2, 9, 0.9086), (2, 10, 0.3466), (3, 0, 0.9592), (3, 1, 0.6705), (3, 2, 0.0389), (3, 4, 0.9093), (3, 5, 1.2171), (3, 6, 0.9749), (3, 7, 0.1804), (3, 8, 1.1348), (3, 9, 0.8698), (3, 10, 0.308), (4, 0, 0.1051), (4, 1, 0.2392), (4, 2, 0.9482), (4, 3, 0.9093), (4, 5, 0.7175), (4, 6, 0.1377), (4, 7, 0.7291), (4, 8, 0.4198), (4, 9, 0.0947), (4, 10, 0.6075), (5, 0, 0.8089), (5, 1, 0.7912), (5, 2, 1.2482), (5, 3, 1.2171), (5, 4, 0.7175), (5, 6, 0.8387), (5, 7, 1.0801), (5, 8, 1.1058), (5, 9, 0.8065), (5, 10, 1.024), (6, 0, 0.0326), (6, 1, 0.3172), (6, 2, 1.0136), (6, 3, 0.9749), (6, 4, 0.1377), (6, 5, 0.8387), (6, 7, 0.7956), (6, 8, 0.2824), (6, 9, 0.1091), (6, 10, 0.6672), (7, 0, 0.7793), (7, 1, 0.4902), (7, 2, 0.2193), (7, 3, 0.1804), (7, 4, 0.7291), (7, 5, 1.0801), (7, 6, 0.7956), (7, 8, 0.9652), (7, 9, 0.6899), (7, 10, 0.1313), (8, 0, 0.315), (8, 1, 0.5467), (8, 2, 1.1718), (8, 3, 1.1348), (8, 4, 0.4198), (8, 5, 1.1058), (8, 6, 0.2824), (8, 7, 0.9652), (8, 9, 0.3652), (8, 10, 0.8341), (9, 0, 0.0894), (9, 1, 0.2082), (9, 2, 0.9086), (9, 3, 0.8698), (9, 4, 0.0947), (9, 5, 0.8065), (9, 6, 0.1091), (9, 7, 0.6899), (9, 8, 0.3652), (9, 10, 0.5629), (10, 0, 0.6521), (10, 1, 0.3685), (10, 2, 0.3466), (10, 3, 0.308), (10, 4, 0.6075), (10, 5, 1.024), (10, 6, 0.6672), (10, 7, 0.1313), (10, 8, 0.8341), (10, 9, 0.5629)]\n"
          ],
          "name": "stdout"
        }
      ]
    },
    {
      "cell_type": "code",
      "metadata": {
        "colab": {
          "base_uri": "https://localhost:8080/"
        },
        "id": "hzGXyzYIkMmK",
        "outputId": "79d14fd4-1717-406b-8044-52c62a8a657c"
      },
      "source": [
        "# Initialize fitness function object using dist_list\n",
        "fitness_dists = mlrose.TravellingSales(distances = dist_list)\n",
        "problem_fit = mlrose.TSPOpt(length = num_songs, fitness_fn = fitness_dists, maximize=False)\n",
        "#problem_fit = mlrose.TSPOpt(length = num_songs, distances = dist_list, maximize=False)\n",
        "# Solve problem using the genetic algorithm\n",
        "best_state, best_fitness = mlrose.genetic_alg(problem_fit, random_state = 2)\n",
        "\n",
        "print('The best state found is: ', best_state)\n",
        "\n",
        "print('The fitness at the best state is: ', best_fitness)\n",
        "\n"
      ],
      "execution_count": null,
      "outputs": [
        {
          "output_type": "stream",
          "text": [
            "The best state found is:  [ 2  1  6  0  4  8  9  5 10  7  3]\n",
            "The fitness at the best state is:  4.1304\n"
          ],
          "name": "stdout"
        }
      ]
    },
    {
      "cell_type": "code",
      "metadata": {
        "colab": {
          "base_uri": "https://localhost:8080/"
        },
        "id": "LupvUia3mr1A",
        "outputId": "3e076142-6514-40bb-b80e-2726ccb33d88"
      },
      "source": [
        "#Tune parameters to attempt to find better estimate\n",
        "best_state, best_fitness = mlrose.genetic_alg(problem_fit, mutation_prob = 0.2, \n",
        "\t\t\t\t\t      max_attempts = 100, random_state = 2)\n",
        "\n",
        "print('The best state found is: ', best_state)\n",
        "\n",
        "print('The fitness at the best state is: ', best_fitness)"
      ],
      "execution_count": null,
      "outputs": [
        {
          "output_type": "stream",
          "text": [
            "The best state found is:  [10  1  6  8  9  0  4  5  3  2  7]\n",
            "The fitness at the best state is:  3.8518999999999997\n"
          ],
          "name": "stdout"
        }
      ]
    },
    {
      "cell_type": "code",
      "metadata": {
        "colab": {
          "base_uri": "https://localhost:8080/"
        },
        "id": "I8RD1EWrnKqT",
        "outputId": "72a72b24-6b5b-40d2-d2c3-b2f46b00eb6b"
      },
      "source": [
        "#Now we add a dummy node of negligible distance from each node to calculate path (no cycle)\n",
        "#So as a tour is calculated, the final \n",
        "\n",
        "dist_list=[]\n",
        "count=1\n",
        "dummy_node = num_songs+1\n",
        "for i in range(dummy_node):\n",
        "  for j in range(dummy_node):\n",
        "    if i!=j:\n",
        "      dist_list.append((i,j,dist_matrix_dum[i,j]))\n",
        "      count+=1\n",
        "print(dist_list)\n",
        "\n",
        "\n",
        "fitness_dists = mlrose.TravellingSales(distances = dist_list)\n",
        "problem_fit = mlrose.TSPOpt(length = dummy_node, fitness_fn = fitness_dists, maximize=False)\n",
        "best_state_genetic, best_fitness = mlrose.genetic_alg(problem_fit, mutation_prob = 0.2, \n",
        "\t\t\t\t\t      max_attempts = 100, random_state = 2)\n",
        "\n",
        "print('The best state found is: ', best_state_genetic)\n",
        "genetic_cost = best_fitness -2*dum_value\n",
        "print('The fitness (or total distance) at the best state is: ', genetic_cost)\n",
        "\n"
      ],
      "execution_count": null,
      "outputs": [
        {
          "output_type": "stream",
          "text": [
            "[(0, 1, 0.02795), (0, 2, 0.02795), (0, 3, 0.02795), (0, 4, 0.02795), (0, 5, 0.02795), (0, 6, 0.02795), (0, 7, 0.02795), (0, 8, 0.02795), (0, 9, 0.02795), (0, 10, 0.02795), (0, 11, 0.02795), (1, 0, 0.02795), (1, 2, 0.6019), (1, 3, 1.1165), (1, 4, 1.0873), (1, 5, 0.5064), (1, 6, 1.0064), (1, 7, 0.488), (1, 8, 0.9401), (1, 9, 0.9696), (1, 10, 0.5065), (1, 11, 0.7452), (2, 0, 0.02795), (2, 1, 0.6019), (2, 3, 0.7754), (2, 4, 0.7346), (2, 5, 0.3172), (2, 6, 0.8714), (2, 7, 0.5158), (2, 8, 0.5592), (2, 9, 0.8342), (2, 10, 0.4592), (2, 11, 0.5091), (3, 0, 0.02795), (3, 1, 1.1165), (3, 2, 0.7754), (3, 4, 0.0559), (3, 5, 0.9739), (3, 6, 1.255), (3, 7, 1.0651), (3, 8, 0.2573), (3, 9, 1.261), (3, 10, 0.9675), (3, 11, 0.4509), (4, 0, 0.02795), (4, 1, 1.0873), (4, 2, 0.7346), (4, 3, 0.0559), (4, 5, 0.9323), (4, 6, 1.2263), (4, 7, 1.0264), (4, 8, 0.2221), (4, 9, 1.231), (4, 10, 0.9236), (4, 11, 0.4356), (5, 0, 0.02795), (5, 1, 0.5064), (5, 2, 0.3172), (5, 3, 0.9739), (5, 4, 0.9323), (5, 6, 0.7833), (5, 7, 0.3653), (5, 8, 0.7535), (5, 9, 0.7414), (5, 10, 0.2936), (5, 11, 0.6926), (6, 0, 0.02795), (6, 1, 1.0064), (6, 2, 0.8714), (6, 3, 1.255), (6, 4, 1.2263), (6, 5, 0.7833), (6, 7, 0.9331), (6, 8, 1.1003), (6, 9, 1.1581), (6, 10, 0.9248), (6, 11, 1.0772), (7, 0, 0.02795), (7, 1, 0.488), (7, 2, 0.5158), (7, 3, 1.0651), (7, 4, 1.0264), (7, 5, 0.3653), (7, 6, 0.9331), (7, 8, 0.8446), (7, 9, 0.7835), (7, 10, 0.3329), (7, 11, 0.7486), (8, 0, 0.02795), (8, 1, 0.9401), (8, 2, 0.5592), (8, 3, 0.2573), (8, 4, 0.2221), (8, 5, 0.7535), (8, 6, 1.1003), (8, 7, 0.8446), (8, 9, 1.0971), (8, 10, 0.749), (8, 11, 0.3583), (9, 0, 0.02795), (9, 1, 0.9696), (9, 2, 0.8342), (9, 3, 1.261), (9, 4, 1.231), (9, 5, 0.7414), (9, 6, 1.1581), (9, 7, 0.7835), (9, 8, 1.0971), (9, 10, 0.8428), (9, 11, 1.0503), (10, 0, 0.02795), (10, 1, 0.5065), (10, 2, 0.4592), (10, 3, 0.9675), (10, 4, 0.9236), (10, 5, 0.2936), (10, 6, 0.9248), (10, 7, 0.3329), (10, 8, 0.749), (10, 9, 0.8428), (10, 11, 0.7368), (11, 0, 0.02795), (11, 1, 0.7452), (11, 2, 0.5091), (11, 3, 0.4509), (11, 4, 0.4356), (11, 5, 0.6926), (11, 6, 1.0772), (11, 7, 0.7486), (11, 8, 0.3583), (11, 9, 1.0503), (11, 10, 0.7368)]\n",
            "The best state found is:  [ 4  8  2  5 10  1  7  9  0  6 11  3]\n",
            "The fitness (or total distance) at the best state is:  4.7541\n"
          ],
          "name": "stdout"
        }
      ]
    },
    {
      "cell_type": "code",
      "metadata": {
        "id": "xIRqZ2mJE8kc"
      },
      "source": [
        "state_array = [(best_state_genetic , genetic_cost), \n",
        "               ()\n",
        "\n",
        "]\n"
      ],
      "execution_count": null,
      "outputs": []
    },
    {
      "cell_type": "code",
      "metadata": {
        "colab": {
          "base_uri": "https://localhost:8080/"
        },
        "id": "KZUbDD8eGUws",
        "outputId": "924b719b-2b07-47f8-9097-9f4312ea2700"
      },
      "source": [
        "best_state_genetic[1]"
      ],
      "execution_count": null,
      "outputs": [
        {
          "output_type": "execute_result",
          "data": {
            "text/plain": [
              "8"
            ]
          },
          "metadata": {
            "tags": []
          },
          "execution_count": 204
        }
      ]
    },
    {
      "cell_type": "code",
      "metadata": {
        "colab": {
          "base_uri": "https://localhost:8080/"
        },
        "id": "HIp5KlDhDfGr",
        "outputId": "567c8e8d-4d6c-4105-ec3d-8fa454e77132"
      },
      "source": [
        "np.min([genetic_cost,branch_cost])"
      ],
      "execution_count": null,
      "outputs": [
        {
          "output_type": "execute_result",
          "data": {
            "text/plain": [
              "4.7541"
            ]
          },
          "metadata": {
            "tags": []
          },
          "execution_count": 205
        }
      ]
    },
    {
      "cell_type": "markdown",
      "metadata": {
        "id": "egprwvihXmXv"
      },
      "source": [
        "# ------------------ Principal Component Analysis -----------------------------"
      ]
    },
    {
      "cell_type": "code",
      "metadata": {
        "id": "44WNpAL0XtoY"
      },
      "source": [
        "import sklearn.datasets\n",
        "import sklearn.manifold\n",
        "import sklearn.decomposition"
      ],
      "execution_count": null,
      "outputs": []
    },
    {
      "cell_type": "code",
      "metadata": {
        "id": "7kXew06fYCFq"
      },
      "source": [
        "from sklearn.datasets import load_digits\n",
        "from sklearn.manifold import TSNE\n",
        "from sklearn.decomposition import PCA"
      ],
      "execution_count": null,
      "outputs": []
    },
    {
      "cell_type": "code",
      "metadata": {
        "id": "Gpv-rB8yYM2-"
      },
      "source": [
        "X, y = load_digits(return_X_y=True)\n",
        "tsne = TSNE(n_components = 1)\n",
        "transformed_data = tsne.fit_transform(values)"
      ],
      "execution_count": null,
      "outputs": []
    },
    {
      "cell_type": "code",
      "metadata": {
        "colab": {
          "base_uri": "https://localhost:8080/"
        },
        "id": "cucslpOihdRv",
        "outputId": "4ad8dec1-9f95-4a3f-e38f-a615b2fda86b"
      },
      "source": [
        "transformed_data"
      ],
      "execution_count": null,
      "outputs": [
        {
          "output_type": "execute_result",
          "data": {
            "text/plain": [
              "array([[-1438.4769  ],\n",
              "       [-1094.3082  ],\n",
              "       [ 1074.3864  ],\n",
              "       [  248.21977 ],\n",
              "       [ -266.6119  ],\n",
              "       [  510.43604 ],\n",
              "       [  781.2881  ],\n",
              "       [ 1417.7017  ],\n",
              "       [ -528.88763 ],\n",
              "       [   -9.190649],\n",
              "       [ -799.9206  ]], dtype=float32)"
            ]
          },
          "metadata": {
            "tags": []
          },
          "execution_count": 214
        }
      ]
    },
    {
      "cell_type": "code",
      "metadata": {
        "colab": {
          "base_uri": "https://localhost:8080/",
          "height": 570
        },
        "id": "AiMhI9VjfxI8",
        "outputId": "7a6525a9-d806-41fc-b38e-c36a5696e269"
      },
      "source": [
        "import seaborn as sns\n",
        "sns.set(rc={'figure.figsize':(11.7,8.27)})\n",
        "palette = sns.color_palette(\"bright\", 8)\n",
        "sns.scatterplot(transformed_data[:,0], transformed_data[:,1], legend='full')#, palette=palette)"
      ],
      "execution_count": null,
      "outputs": [
        {
          "output_type": "stream",
          "text": [
            "/usr/local/lib/python3.7/dist-packages/seaborn/_decorators.py:43: FutureWarning: Pass the following variables as keyword args: x, y. From version 0.12, the only valid positional argument will be `data`, and passing other arguments without an explicit keyword will result in an error or misinterpretation.\n",
            "  FutureWarning\n"
          ],
          "name": "stderr"
        },
        {
          "output_type": "execute_result",
          "data": {
            "text/plain": [
              "<matplotlib.axes._subplots.AxesSubplot at 0x7fd6561d8e50>"
            ]
          },
          "metadata": {
            "tags": []
          },
          "execution_count": 210
        },
        {
          "output_type": "display_data",
          "data": {
            "image/png": "[encoded data removed]",
            "text/plain": [
              "<Figure size 842.4x595.44 with 1 Axes>"
            ]
          },
          "metadata": {
            "tags": []
          }
        }
      ]
    },
    {
      "cell_type": "code",
      "metadata": {
        "colab": {
          "base_uri": "https://localhost:8080/",
          "height": 570
        },
        "id": "8Jtpu7n8ug2U",
        "outputId": "d6753893-9779-4b35-df35-323c7412a5e5"
      },
      "source": [
        "X, y = load_digits(return_X_y=True)\n",
        "pca = PCA(n_components = 2)\n",
        "transformed_data = pca.fit_transform(values)\n",
        "transformed_data\n",
        "sns.scatterplot(transformed_data[:,0], transformed_data[:,1], legend='full')#, palette=palette)"
      ],
      "execution_count": null,
      "outputs": [
        {
          "output_type": "stream",
          "text": [
            "/usr/local/lib/python3.7/dist-packages/seaborn/_decorators.py:43: FutureWarning: Pass the following variables as keyword args: x, y. From version 0.12, the only valid positional argument will be `data`, and passing other arguments without an explicit keyword will result in an error or misinterpretation.\n",
            "  FutureWarning\n"
          ],
          "name": "stderr"
        },
        {
          "output_type": "execute_result",
          "data": {
            "text/plain": [
              "<matplotlib.axes._subplots.AxesSubplot at 0x7fd6547cf610>"
            ]
          },
          "metadata": {
            "tags": []
          },
          "execution_count": 211
        },
        {
          "output_type": "display_data",
          "data": {
            "image/png": "[encoded data removed]",
            "text/plain": [
              "<Figure size 842.4x595.44 with 1 Axes>"
            ]
          },
          "metadata": {
            "tags": []
          }
        }
      ]
    },
    {
      "cell_type": "code",
      "metadata": {
        "colab": {
          "base_uri": "https://localhost:8080/"
        },
        "id": "AAmzKjGci2SG",
        "outputId": "e518db61-11c7-4c93-8d8e-c73fef6c2e2f"
      },
      "source": [
        "dist_matrix = np.zeros((num_songs,num_songs))\n",
        "for i in range(num_songs):\n",
        "  for j in range(num_songs):\n",
        "    dist_matrix[i,j]= distance.euclidean(transformed_data[i,:],transformed_data[j,:])\n",
        "\n",
        "dist_matrix = dist_matrix.round(4)   \n",
        "dist_matrix "
      ],
      "execution_count": null,
      "outputs": [
        {
          "output_type": "execute_result",
          "data": {
            "text/plain": [
              "array([[0.    , 0.2959, 0.998 , 0.9592, 0.1051, 0.8089, 0.0326, 0.7793,\n",
              "        0.315 , 0.0894, 0.6521],\n",
              "       [0.2959, 0.    , 0.7094, 0.6705, 0.2392, 0.7912, 0.3172, 0.4902,\n",
              "        0.5467, 0.2082, 0.3685],\n",
              "       [0.998 , 0.7094, 0.    , 0.0389, 0.9482, 1.2482, 1.0136, 0.2193,\n",
              "        1.1718, 0.9086, 0.3466],\n",
              "       [0.9592, 0.6705, 0.0389, 0.    , 0.9093, 1.2171, 0.9749, 0.1804,\n",
              "        1.1348, 0.8698, 0.308 ],\n",
              "       [0.1051, 0.2392, 0.9482, 0.9093, 0.    , 0.7175, 0.1377, 0.7291,\n",
              "        0.4198, 0.0947, 0.6075],\n",
              "       [0.8089, 0.7912, 1.2482, 1.2171, 0.7175, 0.    , 0.8387, 1.0801,\n",
              "        1.1058, 0.8065, 1.024 ],\n",
              "       [0.0326, 0.3172, 1.0136, 0.9749, 0.1377, 0.8387, 0.    , 0.7956,\n",
              "        0.2824, 0.1091, 0.6672],\n",
              "       [0.7793, 0.4902, 0.2193, 0.1804, 0.7291, 1.0801, 0.7956, 0.    ,\n",
              "        0.9652, 0.6899, 0.1313],\n",
              "       [0.315 , 0.5467, 1.1718, 1.1348, 0.4198, 1.1058, 0.2824, 0.9652,\n",
              "        0.    , 0.3652, 0.8341],\n",
              "       [0.0894, 0.2082, 0.9086, 0.8698, 0.0947, 0.8065, 0.1091, 0.6899,\n",
              "        0.3652, 0.    , 0.5629],\n",
              "       [0.6521, 0.3685, 0.3466, 0.308 , 0.6075, 1.024 , 0.6672, 0.1313,\n",
              "        0.8341, 0.5629, 0.    ]])"
            ]
          },
          "metadata": {
            "tags": []
          },
          "execution_count": 212
        }
      ]
    }
  ]
}