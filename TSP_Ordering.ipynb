{
  "nbformat": 4,
  "nbformat_minor": 0,
  "metadata": {
    "colab": {
      "name": "TSP Ordering.ipynb",
      "provenance": [],
      "collapsed_sections": [],
      "mount_file_id": "19Zshj0sJamXEfNIpu_OX34zbz3zo2A1Z",
      "authorship_tag": "ABX9TyNDBSj9Tww9AqrQbUB5OoTA",
      "include_colab_link": true
    },
    "kernelspec": {
      "name": "python3",
      "display_name": "Python 3"
    },
    "language_info": {
      "name": "python"
    }
  },
  "cells": [
    {
      "cell_type": "markdown",
      "metadata": {
        "id": "view-in-github",
        "colab_type": "text"
      },
      "source": [
        "<a href=\"https://colab.research.google.com/github/EMAT31530/ai-group-project-music-classification/blob/master/TSP_Ordering.ipynb\" target=\"_parent\"><img src=\"https://colab.research.google.com/assets/colab-badge.svg\" alt=\"Open In Colab\"/></a>"
      ]
    },
    {
      "cell_type": "markdown",
      "metadata": {
        "id": "7yrylDLsj0oa"
      },
      "source": [
        "# Implementation of an approximate solver for Metric Travelling Salesperson Problem\n",
        "Steps:\n",
        "\n",
        "\n",
        "1.   Take a collection of songs as input, \n",
        "2.   Convert audio data into spectrogram images \n",
        "3. Classify their genres using our CNN model\n",
        "4. Take each song's softmax output to obtain the calculated probability of each genre\n",
        "5. Interpret each soft-max output as position vectors in a multi-dimensional vector space, from 0-1 in each genre.\n",
        "6. Order the track listing in such a way to  approximate a minimal S(X), the sum of each distance (some chosen distance/cost function d(x,y)) between consecutive songs in the vector space.\n",
        "7.Output a track listing which gives our attempt at ordering songs into the most natural progression between genres\n",
        "\n",
        "\n",
        "\n",
        "\n",
        "Want to solve the problem of finding the shortest route through a low (< 15) number of points in a multi-dimensional space. \n",
        "We attempt this using a Branch & Bound search algorithm, and implementing a genetic algorithm with mlrose:\n",
        "\n",
        "https://arxiv.org/pdf/1805.04131.pdf\n",
        "\n",
        "https://coral.ise.lehigh.edu/wiki/doku.php/travelling_salesman_problem\n",
        "\n",
        "https://en.wikipedia.org/wiki/Genetic_algorithm\n",
        "\n",
        "https://towardsdatascience.com/solving-travelling-salesperson-problems-with-python-5de7e883d847"
      ]
    },
    {
      "cell_type": "code",
      "metadata": {
        "id": "MTqrI1JDfMeh"
      },
      "source": [
        "import numpy as np\n",
        "from numpy.random import seed\n",
        "from numpy.random import rand\n",
        "%matplotlib inline\n",
        "\n",
        "import matplotlib.pyplot as plt\n",
        "from scipy.spatial import distance\n",
        "import pandas as pd"
      ],
      "execution_count": 2,
      "outputs": []
    },
    {
      "cell_type": "code",
      "metadata": {
        "id": "LhJb-tkRlhfh",
        "colab": {
          "base_uri": "https://localhost:8080/",
          "height": 1000
        },
        "outputId": "547b4aaa-c57a-4963-ff17-2beb238b6177"
      },
      "source": [
        "\n",
        "df = pd.read_csv('/content/drive/MyDrive/playlist/optimised_predictions1.csv')\n",
        "df"
      ],
      "execution_count": 6,
      "outputs": [
        {
          "output_type": "execute_result",
          "data": {
            "text/html": [
              "<div>\n",
              "<style scoped>\n",
              "    .dataframe tbody tr th:only-of-type {\n",
              "        vertical-align: middle;\n",
              "    }\n",
              "\n",
              "    .dataframe tbody tr th {\n",
              "        vertical-align: top;\n",
              "    }\n",
              "\n",
              "    .dataframe thead th {\n",
              "        text-align: right;\n",
              "    }\n",
              "</style>\n",
              "<table border=\"1\" class=\"dataframe\">\n",
              "  <thead>\n",
              "    <tr style=\"text-align: right;\">\n",
              "      <th></th>\n",
              "      <th>Unnamed: 0</th>\n",
              "      <th>Predicted Genre</th>\n",
              "      <th>blues</th>\n",
              "      <th>classical</th>\n",
              "      <th>country</th>\n",
              "      <th>disco</th>\n",
              "      <th>hiphop</th>\n",
              "      <th>jazz</th>\n",
              "      <th>metal</th>\n",
              "      <th>pop</th>\n",
              "      <th>reggae</th>\n",
              "      <th>rock</th>\n",
              "    </tr>\n",
              "  </thead>\n",
              "  <tbody>\n",
              "    <tr>\n",
              "      <th>0</th>\n",
              "      <td>All Along the Watchtower</td>\n",
              "      <td>rock</td>\n",
              "      <td>0.0010</td>\n",
              "      <td>0.0002</td>\n",
              "      <td>0.1386</td>\n",
              "      <td>0.1255</td>\n",
              "      <td>0.0014</td>\n",
              "      <td>0.3199</td>\n",
              "      <td>0.0000</td>\n",
              "      <td>0.0231</td>\n",
              "      <td>0.0058</td>\n",
              "      <td>0.3844</td>\n",
              "    </tr>\n",
              "    <tr>\n",
              "      <th>1</th>\n",
              "      <td>Love and or Hate Trigger</td>\n",
              "      <td>disco</td>\n",
              "      <td>0.0000</td>\n",
              "      <td>0.0005</td>\n",
              "      <td>0.0000</td>\n",
              "      <td>0.6839</td>\n",
              "      <td>0.3030</td>\n",
              "      <td>0.0000</td>\n",
              "      <td>0.0004</td>\n",
              "      <td>0.0006</td>\n",
              "      <td>0.0115</td>\n",
              "      <td>0.0002</td>\n",
              "    </tr>\n",
              "    <tr>\n",
              "      <th>2</th>\n",
              "      <td>Corpse Pose</td>\n",
              "      <td>rock</td>\n",
              "      <td>0.0000</td>\n",
              "      <td>0.0000</td>\n",
              "      <td>0.0083</td>\n",
              "      <td>0.0133</td>\n",
              "      <td>0.0000</td>\n",
              "      <td>0.0007</td>\n",
              "      <td>0.0024</td>\n",
              "      <td>0.0079</td>\n",
              "      <td>0.0000</td>\n",
              "      <td>0.9674</td>\n",
              "    </tr>\n",
              "    <tr>\n",
              "      <th>3</th>\n",
              "      <td>Diary of a Rose</td>\n",
              "      <td>country</td>\n",
              "      <td>0.0000</td>\n",
              "      <td>0.0009</td>\n",
              "      <td>0.6169</td>\n",
              "      <td>0.0952</td>\n",
              "      <td>0.0001</td>\n",
              "      <td>0.0002</td>\n",
              "      <td>0.0003</td>\n",
              "      <td>0.1957</td>\n",
              "      <td>0.0828</td>\n",
              "      <td>0.0080</td>\n",
              "    </tr>\n",
              "    <tr>\n",
              "      <th>4</th>\n",
              "      <td>Peanuts Grow Underground</td>\n",
              "      <td>disco</td>\n",
              "      <td>0.0003</td>\n",
              "      <td>0.0780</td>\n",
              "      <td>0.4102</td>\n",
              "      <td>0.4851</td>\n",
              "      <td>0.0014</td>\n",
              "      <td>0.0002</td>\n",
              "      <td>0.0000</td>\n",
              "      <td>0.0034</td>\n",
              "      <td>0.0049</td>\n",
              "      <td>0.0166</td>\n",
              "    </tr>\n",
              "    <tr>\n",
              "      <th>5</th>\n",
              "      <td>We Are Family</td>\n",
              "      <td>disco</td>\n",
              "      <td>0.0014</td>\n",
              "      <td>0.0020</td>\n",
              "      <td>0.0195</td>\n",
              "      <td>0.5230</td>\n",
              "      <td>0.0015</td>\n",
              "      <td>0.0008</td>\n",
              "      <td>0.0000</td>\n",
              "      <td>0.0132</td>\n",
              "      <td>0.0031</td>\n",
              "      <td>0.4354</td>\n",
              "    </tr>\n",
              "    <tr>\n",
              "      <th>6</th>\n",
              "      <td>Circuits</td>\n",
              "      <td>reggae</td>\n",
              "      <td>0.0000</td>\n",
              "      <td>0.0062</td>\n",
              "      <td>0.2957</td>\n",
              "      <td>0.0364</td>\n",
              "      <td>0.0007</td>\n",
              "      <td>0.0006</td>\n",
              "      <td>0.0000</td>\n",
              "      <td>0.2897</td>\n",
              "      <td>0.3447</td>\n",
              "      <td>0.0260</td>\n",
              "    </tr>\n",
              "    <tr>\n",
              "      <th>7</th>\n",
              "      <td>Dsco</td>\n",
              "      <td>rock</td>\n",
              "      <td>0.0000</td>\n",
              "      <td>0.0001</td>\n",
              "      <td>0.0610</td>\n",
              "      <td>0.4011</td>\n",
              "      <td>0.0003</td>\n",
              "      <td>0.0002</td>\n",
              "      <td>0.0000</td>\n",
              "      <td>0.0355</td>\n",
              "      <td>0.0004</td>\n",
              "      <td>0.5013</td>\n",
              "    </tr>\n",
              "    <tr>\n",
              "      <th>8</th>\n",
              "      <td>LEAVING HELL</td>\n",
              "      <td>rock</td>\n",
              "      <td>0.0002</td>\n",
              "      <td>0.0007</td>\n",
              "      <td>0.2135</td>\n",
              "      <td>0.0949</td>\n",
              "      <td>0.0219</td>\n",
              "      <td>0.0001</td>\n",
              "      <td>0.0001</td>\n",
              "      <td>0.1368</td>\n",
              "      <td>0.2428</td>\n",
              "      <td>0.2889</td>\n",
              "    </tr>\n",
              "    <tr>\n",
              "      <th>9</th>\n",
              "      <td>Bullet With a Name</td>\n",
              "      <td>metal</td>\n",
              "      <td>0.0001</td>\n",
              "      <td>0.0001</td>\n",
              "      <td>0.0000</td>\n",
              "      <td>0.0001</td>\n",
              "      <td>0.2422</td>\n",
              "      <td>0.1586</td>\n",
              "      <td>0.4069</td>\n",
              "      <td>0.0183</td>\n",
              "      <td>0.0001</td>\n",
              "      <td>0.1736</td>\n",
              "    </tr>\n",
              "    <tr>\n",
              "      <th>10</th>\n",
              "      <td>Like a Buoy</td>\n",
              "      <td>rock</td>\n",
              "      <td>0.0001</td>\n",
              "      <td>0.0004</td>\n",
              "      <td>0.0073</td>\n",
              "      <td>0.0056</td>\n",
              "      <td>0.0007</td>\n",
              "      <td>0.0008</td>\n",
              "      <td>0.0001</td>\n",
              "      <td>0.0011</td>\n",
              "      <td>0.0001</td>\n",
              "      <td>0.9838</td>\n",
              "    </tr>\n",
              "    <tr>\n",
              "      <th>11</th>\n",
              "      <td>Track X</td>\n",
              "      <td>country</td>\n",
              "      <td>0.0426</td>\n",
              "      <td>0.0000</td>\n",
              "      <td>0.7730</td>\n",
              "      <td>0.0122</td>\n",
              "      <td>0.0018</td>\n",
              "      <td>0.0035</td>\n",
              "      <td>0.0000</td>\n",
              "      <td>0.0065</td>\n",
              "      <td>0.0001</td>\n",
              "      <td>0.1603</td>\n",
              "    </tr>\n",
              "    <tr>\n",
              "      <th>12</th>\n",
              "      <td>Wake Up</td>\n",
              "      <td>rock</td>\n",
              "      <td>0.0004</td>\n",
              "      <td>0.0798</td>\n",
              "      <td>0.1334</td>\n",
              "      <td>0.0149</td>\n",
              "      <td>0.0005</td>\n",
              "      <td>0.0731</td>\n",
              "      <td>0.0087</td>\n",
              "      <td>0.0061</td>\n",
              "      <td>0.0024</td>\n",
              "      <td>0.6807</td>\n",
              "    </tr>\n",
              "    <tr>\n",
              "      <th>13</th>\n",
              "      <td>Strings of Light</td>\n",
              "      <td>rock</td>\n",
              "      <td>0.0032</td>\n",
              "      <td>0.0010</td>\n",
              "      <td>0.0037</td>\n",
              "      <td>0.2956</td>\n",
              "      <td>0.0003</td>\n",
              "      <td>0.0032</td>\n",
              "      <td>0.0000</td>\n",
              "      <td>0.0417</td>\n",
              "      <td>0.1022</td>\n",
              "      <td>0.5490</td>\n",
              "    </tr>\n",
              "    <tr>\n",
              "      <th>14</th>\n",
              "      <td>Job_s Lament</td>\n",
              "      <td>classical</td>\n",
              "      <td>0.0001</td>\n",
              "      <td>0.3099</td>\n",
              "      <td>0.3018</td>\n",
              "      <td>0.0686</td>\n",
              "      <td>0.0001</td>\n",
              "      <td>0.0006</td>\n",
              "      <td>0.0000</td>\n",
              "      <td>0.2655</td>\n",
              "      <td>0.0096</td>\n",
              "      <td>0.0438</td>\n",
              "    </tr>\n",
              "    <tr>\n",
              "      <th>15</th>\n",
              "      <td>Time</td>\n",
              "      <td>classical</td>\n",
              "      <td>0.0000</td>\n",
              "      <td>0.6505</td>\n",
              "      <td>0.0353</td>\n",
              "      <td>0.0010</td>\n",
              "      <td>0.0025</td>\n",
              "      <td>0.0032</td>\n",
              "      <td>0.0117</td>\n",
              "      <td>0.1032</td>\n",
              "      <td>0.0074</td>\n",
              "      <td>0.1852</td>\n",
              "    </tr>\n",
              "    <tr>\n",
              "      <th>16</th>\n",
              "      <td>Poison Tree</td>\n",
              "      <td>country</td>\n",
              "      <td>0.0011</td>\n",
              "      <td>0.0000</td>\n",
              "      <td>0.8020</td>\n",
              "      <td>0.0000</td>\n",
              "      <td>0.0000</td>\n",
              "      <td>0.1966</td>\n",
              "      <td>0.0000</td>\n",
              "      <td>0.0000</td>\n",
              "      <td>0.0000</td>\n",
              "      <td>0.0002</td>\n",
              "    </tr>\n",
              "    <tr>\n",
              "      <th>17</th>\n",
              "      <td>Suede</td>\n",
              "      <td>reggae</td>\n",
              "      <td>0.0725</td>\n",
              "      <td>0.0002</td>\n",
              "      <td>0.1122</td>\n",
              "      <td>0.0523</td>\n",
              "      <td>0.1595</td>\n",
              "      <td>0.2271</td>\n",
              "      <td>0.0000</td>\n",
              "      <td>0.0482</td>\n",
              "      <td>0.3074</td>\n",
              "      <td>0.0206</td>\n",
              "    </tr>\n",
              "    <tr>\n",
              "      <th>18</th>\n",
              "      <td>Slow (Loud)</td>\n",
              "      <td>rock</td>\n",
              "      <td>0.0006</td>\n",
              "      <td>0.0191</td>\n",
              "      <td>0.0153</td>\n",
              "      <td>0.0182</td>\n",
              "      <td>0.0006</td>\n",
              "      <td>0.0017</td>\n",
              "      <td>0.0001</td>\n",
              "      <td>0.1136</td>\n",
              "      <td>0.0033</td>\n",
              "      <td>0.8275</td>\n",
              "    </tr>\n",
              "    <tr>\n",
              "      <th>19</th>\n",
              "      <td>George Street</td>\n",
              "      <td>rock</td>\n",
              "      <td>0.0000</td>\n",
              "      <td>0.0000</td>\n",
              "      <td>0.0225</td>\n",
              "      <td>0.0778</td>\n",
              "      <td>0.0000</td>\n",
              "      <td>0.0000</td>\n",
              "      <td>0.0000</td>\n",
              "      <td>0.0001</td>\n",
              "      <td>0.0301</td>\n",
              "      <td>0.8695</td>\n",
              "    </tr>\n",
              "    <tr>\n",
              "      <th>20</th>\n",
              "      <td>Blue in Green (feat. John Coltrane _ Bill Evans)</td>\n",
              "      <td>jazz</td>\n",
              "      <td>0.0289</td>\n",
              "      <td>0.0031</td>\n",
              "      <td>0.1023</td>\n",
              "      <td>0.0000</td>\n",
              "      <td>0.0002</td>\n",
              "      <td>0.8634</td>\n",
              "      <td>0.0000</td>\n",
              "      <td>0.0000</td>\n",
              "      <td>0.0019</td>\n",
              "      <td>0.0001</td>\n",
              "    </tr>\n",
              "    <tr>\n",
              "      <th>21</th>\n",
              "      <td>Dark blue</td>\n",
              "      <td>rock</td>\n",
              "      <td>0.0000</td>\n",
              "      <td>0.0005</td>\n",
              "      <td>0.1102</td>\n",
              "      <td>0.0101</td>\n",
              "      <td>0.0004</td>\n",
              "      <td>0.1524</td>\n",
              "      <td>0.0000</td>\n",
              "      <td>0.0824</td>\n",
              "      <td>0.0006</td>\n",
              "      <td>0.6434</td>\n",
              "    </tr>\n",
              "    <tr>\n",
              "      <th>22</th>\n",
              "      <td>Oblivion</td>\n",
              "      <td>rock</td>\n",
              "      <td>0.0000</td>\n",
              "      <td>0.0004</td>\n",
              "      <td>0.1527</td>\n",
              "      <td>0.0571</td>\n",
              "      <td>0.0162</td>\n",
              "      <td>0.0272</td>\n",
              "      <td>0.0035</td>\n",
              "      <td>0.2052</td>\n",
              "      <td>0.0561</td>\n",
              "      <td>0.4815</td>\n",
              "    </tr>\n",
              "    <tr>\n",
              "      <th>23</th>\n",
              "      <td>Abusey Junction</td>\n",
              "      <td>reggae</td>\n",
              "      <td>0.0027</td>\n",
              "      <td>0.0010</td>\n",
              "      <td>0.1099</td>\n",
              "      <td>0.0002</td>\n",
              "      <td>0.0000</td>\n",
              "      <td>0.0882</td>\n",
              "      <td>0.0000</td>\n",
              "      <td>0.0016</td>\n",
              "      <td>0.7935</td>\n",
              "      <td>0.0029</td>\n",
              "    </tr>\n",
              "    <tr>\n",
              "      <th>24</th>\n",
              "      <td>All Caps</td>\n",
              "      <td>rock</td>\n",
              "      <td>0.0001</td>\n",
              "      <td>0.0008</td>\n",
              "      <td>0.1610</td>\n",
              "      <td>0.0159</td>\n",
              "      <td>0.0373</td>\n",
              "      <td>0.0005</td>\n",
              "      <td>0.0000</td>\n",
              "      <td>0.0782</td>\n",
              "      <td>0.0012</td>\n",
              "      <td>0.7050</td>\n",
              "    </tr>\n",
              "    <tr>\n",
              "      <th>25</th>\n",
              "      <td>Dirty Old Town</td>\n",
              "      <td>rock</td>\n",
              "      <td>0.0949</td>\n",
              "      <td>0.0132</td>\n",
              "      <td>0.1109</td>\n",
              "      <td>0.1341</td>\n",
              "      <td>0.0003</td>\n",
              "      <td>0.0875</td>\n",
              "      <td>0.0013</td>\n",
              "      <td>0.0207</td>\n",
              "      <td>0.0108</td>\n",
              "      <td>0.5264</td>\n",
              "    </tr>\n",
              "    <tr>\n",
              "      <th>26</th>\n",
              "      <td>Send Me</td>\n",
              "      <td>pop</td>\n",
              "      <td>0.0453</td>\n",
              "      <td>0.0001</td>\n",
              "      <td>0.0183</td>\n",
              "      <td>0.0003</td>\n",
              "      <td>0.1729</td>\n",
              "      <td>0.0216</td>\n",
              "      <td>0.0000</td>\n",
              "      <td>0.5202</td>\n",
              "      <td>0.0162</td>\n",
              "      <td>0.2052</td>\n",
              "    </tr>\n",
              "    <tr>\n",
              "      <th>27</th>\n",
              "      <td>A Message to You Rudy - 2002 Remaster</td>\n",
              "      <td>rock</td>\n",
              "      <td>0.0051</td>\n",
              "      <td>0.0058</td>\n",
              "      <td>0.2631</td>\n",
              "      <td>0.0127</td>\n",
              "      <td>0.2152</td>\n",
              "      <td>0.0475</td>\n",
              "      <td>0.0034</td>\n",
              "      <td>0.0683</td>\n",
              "      <td>0.1138</td>\n",
              "      <td>0.2651</td>\n",
              "    </tr>\n",
              "    <tr>\n",
              "      <th>28</th>\n",
              "      <td>Pressure Drop</td>\n",
              "      <td>reggae</td>\n",
              "      <td>0.0007</td>\n",
              "      <td>0.0001</td>\n",
              "      <td>0.0159</td>\n",
              "      <td>0.1018</td>\n",
              "      <td>0.0473</td>\n",
              "      <td>0.0161</td>\n",
              "      <td>0.0025</td>\n",
              "      <td>0.0633</td>\n",
              "      <td>0.5912</td>\n",
              "      <td>0.1612</td>\n",
              "    </tr>\n",
              "  </tbody>\n",
              "</table>\n",
              "</div>"
            ],
            "text/plain": [
              "                                          Unnamed: 0  ...    rock\n",
              "0                           All Along the Watchtower  ...  0.3844\n",
              "1                           Love and or Hate Trigger  ...  0.0002\n",
              "2                                        Corpse Pose  ...  0.9674\n",
              "3                                    Diary of a Rose  ...  0.0080\n",
              "4                           Peanuts Grow Underground  ...  0.0166\n",
              "5                                      We Are Family  ...  0.4354\n",
              "6                                           Circuits  ...  0.0260\n",
              "7                                               Dsco  ...  0.5013\n",
              "8                                       LEAVING HELL  ...  0.2889\n",
              "9                                 Bullet With a Name  ...  0.1736\n",
              "10                                       Like a Buoy  ...  0.9838\n",
              "11                                           Track X  ...  0.1603\n",
              "12                                           Wake Up  ...  0.6807\n",
              "13                                  Strings of Light  ...  0.5490\n",
              "14                                      Job_s Lament  ...  0.0438\n",
              "15                                              Time  ...  0.1852\n",
              "16                                       Poison Tree  ...  0.0002\n",
              "17                                             Suede  ...  0.0206\n",
              "18                                       Slow (Loud)  ...  0.8275\n",
              "19                                     George Street  ...  0.8695\n",
              "20  Blue in Green (feat. John Coltrane _ Bill Evans)  ...  0.0001\n",
              "21                                         Dark blue  ...  0.6434\n",
              "22                                          Oblivion  ...  0.4815\n",
              "23                                   Abusey Junction  ...  0.0029\n",
              "24                                          All Caps  ...  0.7050\n",
              "25                                    Dirty Old Town  ...  0.5264\n",
              "26                                           Send Me  ...  0.2052\n",
              "27             A Message to You Rudy - 2002 Remaster  ...  0.2651\n",
              "28                                     Pressure Drop  ...  0.1612\n",
              "\n",
              "[29 rows x 12 columns]"
            ]
          },
          "metadata": {
            "tags": []
          },
          "execution_count": 6
        }
      ]
    },
    {
      "cell_type": "code",
      "metadata": {
        "id": "h39BzGkij2ry"
      },
      "source": [
        "smdf = df.iloc[:,2:]"
      ],
      "execution_count": 124,
      "outputs": []
    },
    {
      "cell_type": "code",
      "metadata": {
        "id": "YRGmBmn-geL3"
      },
      "source": [
        ""
      ],
      "execution_count": null,
      "outputs": []
    },
    {
      "cell_type": "code",
      "metadata": {
        "id": "eESyanIJcCYo"
      },
      "source": [
        "\n",
        "values = smdf.to_numpy()"
      ],
      "execution_count": 123,
      "outputs": []
    },
    {
      "cell_type": "code",
      "metadata": {
        "id": "HYdNkxYcktpW"
      },
      "source": [
        "#values = values[:10,:]"
      ],
      "execution_count": 85,
      "outputs": []
    },
    {
      "cell_type": "code",
      "metadata": {
        "colab": {
          "base_uri": "https://localhost:8080/"
        },
        "id": "60P6wiVqanvD",
        "outputId": "4c0dc54a-a10a-47cc-9a1a-19fa13744e60"
      },
      "source": [
        "values "
      ],
      "execution_count": 88,
      "outputs": [
        {
          "output_type": "execute_result",
          "data": {
            "text/plain": [
              "array([[1.000e-03, 2.000e-04, 1.386e-01, 1.255e-01, 1.400e-03, 3.199e-01,\n",
              "        0.000e+00, 2.310e-02, 5.800e-03, 3.844e-01],\n",
              "       [0.000e+00, 5.000e-04, 0.000e+00, 6.839e-01, 3.030e-01, 0.000e+00,\n",
              "        4.000e-04, 6.000e-04, 1.150e-02, 2.000e-04],\n",
              "       [0.000e+00, 0.000e+00, 8.300e-03, 1.330e-02, 0.000e+00, 7.000e-04,\n",
              "        2.400e-03, 7.900e-03, 0.000e+00, 9.674e-01],\n",
              "       [0.000e+00, 9.000e-04, 6.169e-01, 9.520e-02, 1.000e-04, 2.000e-04,\n",
              "        3.000e-04, 1.957e-01, 8.280e-02, 8.000e-03],\n",
              "       [3.000e-04, 7.800e-02, 4.102e-01, 4.851e-01, 1.400e-03, 2.000e-04,\n",
              "        0.000e+00, 3.400e-03, 4.900e-03, 1.660e-02],\n",
              "       [1.400e-03, 2.000e-03, 1.950e-02, 5.230e-01, 1.500e-03, 8.000e-04,\n",
              "        0.000e+00, 1.320e-02, 3.100e-03, 4.354e-01],\n",
              "       [0.000e+00, 6.200e-03, 2.957e-01, 3.640e-02, 7.000e-04, 6.000e-04,\n",
              "        0.000e+00, 2.897e-01, 3.447e-01, 2.600e-02],\n",
              "       [0.000e+00, 1.000e-04, 6.100e-02, 4.011e-01, 3.000e-04, 2.000e-04,\n",
              "        0.000e+00, 3.550e-02, 4.000e-04, 5.013e-01],\n",
              "       [2.000e-04, 7.000e-04, 2.135e-01, 9.490e-02, 2.190e-02, 1.000e-04,\n",
              "        1.000e-04, 1.368e-01, 2.428e-01, 2.889e-01],\n",
              "       [1.000e-04, 1.000e-04, 0.000e+00, 1.000e-04, 2.422e-01, 1.586e-01,\n",
              "        4.069e-01, 1.830e-02, 1.000e-04, 1.736e-01],\n",
              "       [1.000e-04, 4.000e-04, 7.300e-03, 5.600e-03, 7.000e-04, 8.000e-04,\n",
              "        1.000e-04, 1.100e-03, 1.000e-04, 9.838e-01],\n",
              "       [4.260e-02, 0.000e+00, 7.730e-01, 1.220e-02, 1.800e-03, 3.500e-03,\n",
              "        0.000e+00, 6.500e-03, 1.000e-04, 1.603e-01],\n",
              "       [4.000e-04, 7.980e-02, 1.334e-01, 1.490e-02, 5.000e-04, 7.310e-02,\n",
              "        8.700e-03, 6.100e-03, 2.400e-03, 6.807e-01],\n",
              "       [3.200e-03, 1.000e-03, 3.700e-03, 2.956e-01, 3.000e-04, 3.200e-03,\n",
              "        0.000e+00, 4.170e-02, 1.022e-01, 5.490e-01],\n",
              "       [1.000e-04, 3.099e-01, 3.018e-01, 6.860e-02, 1.000e-04, 6.000e-04,\n",
              "        0.000e+00, 2.655e-01, 9.600e-03, 4.380e-02],\n",
              "       [0.000e+00, 6.505e-01, 3.530e-02, 1.000e-03, 2.500e-03, 3.200e-03,\n",
              "        1.170e-02, 1.032e-01, 7.400e-03, 1.852e-01],\n",
              "       [1.100e-03, 0.000e+00, 8.020e-01, 0.000e+00, 0.000e+00, 1.966e-01,\n",
              "        0.000e+00, 0.000e+00, 0.000e+00, 2.000e-04],\n",
              "       [7.250e-02, 2.000e-04, 1.122e-01, 5.230e-02, 1.595e-01, 2.271e-01,\n",
              "        0.000e+00, 4.820e-02, 3.074e-01, 2.060e-02],\n",
              "       [6.000e-04, 1.910e-02, 1.530e-02, 1.820e-02, 6.000e-04, 1.700e-03,\n",
              "        1.000e-04, 1.136e-01, 3.300e-03, 8.275e-01],\n",
              "       [0.000e+00, 0.000e+00, 2.250e-02, 7.780e-02, 0.000e+00, 0.000e+00,\n",
              "        0.000e+00, 1.000e-04, 3.010e-02, 8.695e-01],\n",
              "       [2.890e-02, 3.100e-03, 1.023e-01, 0.000e+00, 2.000e-04, 8.634e-01,\n",
              "        0.000e+00, 0.000e+00, 1.900e-03, 1.000e-04],\n",
              "       [0.000e+00, 5.000e-04, 1.102e-01, 1.010e-02, 4.000e-04, 1.524e-01,\n",
              "        0.000e+00, 8.240e-02, 6.000e-04, 6.434e-01],\n",
              "       [0.000e+00, 4.000e-04, 1.527e-01, 5.710e-02, 1.620e-02, 2.720e-02,\n",
              "        3.500e-03, 2.052e-01, 5.610e-02, 4.815e-01],\n",
              "       [2.700e-03, 1.000e-03, 1.099e-01, 2.000e-04, 0.000e+00, 8.820e-02,\n",
              "        0.000e+00, 1.600e-03, 7.935e-01, 2.900e-03],\n",
              "       [1.000e-04, 8.000e-04, 1.610e-01, 1.590e-02, 3.730e-02, 5.000e-04,\n",
              "        0.000e+00, 7.820e-02, 1.200e-03, 7.050e-01],\n",
              "       [9.490e-02, 1.320e-02, 1.109e-01, 1.341e-01, 3.000e-04, 8.750e-02,\n",
              "        1.300e-03, 2.070e-02, 1.080e-02, 5.264e-01],\n",
              "       [4.530e-02, 1.000e-04, 1.830e-02, 3.000e-04, 1.729e-01, 2.160e-02,\n",
              "        0.000e+00, 5.202e-01, 1.620e-02, 2.052e-01],\n",
              "       [5.100e-03, 5.800e-03, 2.631e-01, 1.270e-02, 2.152e-01, 4.750e-02,\n",
              "        3.400e-03, 6.830e-02, 1.138e-01, 2.651e-01],\n",
              "       [7.000e-04, 1.000e-04, 1.590e-02, 1.018e-01, 4.730e-02, 1.610e-02,\n",
              "        2.500e-03, 6.330e-02, 5.912e-01, 1.612e-01]])"
            ]
          },
          "metadata": {
            "tags": []
          },
          "execution_count": 88
        }
      ]
    },
    {
      "cell_type": "code",
      "metadata": {
        "id": "8QAtoztVcikF"
      },
      "source": [
        "#Size of Array + Dimensions\n",
        "num_songs, num_dim = values.shape\n",
        "seed(3)"
      ],
      "execution_count": 89,
      "outputs": []
    },
    {
      "cell_type": "code",
      "metadata": {
        "id": "8VckeWJyMXMR"
      },
      "source": [
        "#################### Random Generation for Testing #######################"
      ],
      "execution_count": 50,
      "outputs": []
    },
    {
      "cell_type": "code",
      "metadata": {
        "id": "vd7EBKtUf4_s",
        "colab": {
          "base_uri": "https://localhost:8080/",
          "height": 231
        },
        "outputId": "12878154-b503-46ae-9d5d-bbee7aefd091"
      },
      "source": [
        "\n",
        "#for i in range(0,L-1):\n",
        " # genre_index[i]=L\n",
        "random_int = np.random.randint(1, 100, num_songs) * 0.2\n",
        "\n",
        "values = np.zeros((num_songs,num_genres)) \n",
        "for i in range(num_songs):\n",
        "  alpha = np.divide(np.ones(num_genres),random_int[i])\n",
        "  values[i,:] = np.random.dirichlet(alpha,size=1)\n",
        "#rand_gen = rand(num_genres,num_songs)\n",
        "#rand_sum = np.sum(rand_gen, axis = 1)\n",
        "#values = rand_generator\n",
        "print(values)\n",
        "\n"
      ],
      "execution_count": 51,
      "outputs": [
        {
          "output_type": "error",
          "ename": "NameError",
          "evalue": "ignored",
          "traceback": [
            "\u001b[0;31m---------------------------------------------------------------------------\u001b[0m",
            "\u001b[0;31mNameError\u001b[0m                                 Traceback (most recent call last)",
            "\u001b[0;32m<ipython-input-51-9de7a6e4c2a1>\u001b[0m in \u001b[0;36m<module>\u001b[0;34m()\u001b[0m\n\u001b[1;32m      4\u001b[0m \u001b[0mrandom_int\u001b[0m \u001b[0;34m=\u001b[0m \u001b[0mnp\u001b[0m\u001b[0;34m.\u001b[0m\u001b[0mrandom\u001b[0m\u001b[0;34m.\u001b[0m\u001b[0mrandint\u001b[0m\u001b[0;34m(\u001b[0m\u001b[0;36m1\u001b[0m\u001b[0;34m,\u001b[0m \u001b[0;36m100\u001b[0m\u001b[0;34m,\u001b[0m \u001b[0mnum_songs\u001b[0m\u001b[0;34m)\u001b[0m \u001b[0;34m*\u001b[0m \u001b[0;36m0.2\u001b[0m\u001b[0;34m\u001b[0m\u001b[0;34m\u001b[0m\u001b[0m\n\u001b[1;32m      5\u001b[0m \u001b[0;34m\u001b[0m\u001b[0m\n\u001b[0;32m----> 6\u001b[0;31m \u001b[0mvalues\u001b[0m \u001b[0;34m=\u001b[0m \u001b[0mnp\u001b[0m\u001b[0;34m.\u001b[0m\u001b[0mzeros\u001b[0m\u001b[0;34m(\u001b[0m\u001b[0;34m(\u001b[0m\u001b[0mnum_songs\u001b[0m\u001b[0;34m,\u001b[0m\u001b[0mnum_genres\u001b[0m\u001b[0;34m)\u001b[0m\u001b[0;34m)\u001b[0m\u001b[0;34m\u001b[0m\u001b[0;34m\u001b[0m\u001b[0m\n\u001b[0m\u001b[1;32m      7\u001b[0m \u001b[0;32mfor\u001b[0m \u001b[0mi\u001b[0m \u001b[0;32min\u001b[0m \u001b[0mrange\u001b[0m\u001b[0;34m(\u001b[0m\u001b[0mnum_songs\u001b[0m\u001b[0;34m)\u001b[0m\u001b[0;34m:\u001b[0m\u001b[0;34m\u001b[0m\u001b[0;34m\u001b[0m\u001b[0m\n\u001b[1;32m      8\u001b[0m   \u001b[0malpha\u001b[0m \u001b[0;34m=\u001b[0m \u001b[0mnp\u001b[0m\u001b[0;34m.\u001b[0m\u001b[0mdivide\u001b[0m\u001b[0;34m(\u001b[0m\u001b[0mnp\u001b[0m\u001b[0;34m.\u001b[0m\u001b[0mones\u001b[0m\u001b[0;34m(\u001b[0m\u001b[0mnum_genres\u001b[0m\u001b[0;34m)\u001b[0m\u001b[0;34m,\u001b[0m\u001b[0mrandom_int\u001b[0m\u001b[0;34m[\u001b[0m\u001b[0mi\u001b[0m\u001b[0;34m]\u001b[0m\u001b[0;34m)\u001b[0m\u001b[0;34m\u001b[0m\u001b[0;34m\u001b[0m\u001b[0m\n",
            "\u001b[0;31mNameError\u001b[0m: name 'num_genres' is not defined"
          ]
        }
      ]
    },
    {
      "cell_type": "code",
      "metadata": {
        "id": "N8Fg-IklqHKl"
      },
      "source": [
        "values3D = np.zeros((num_songs,3)) \n",
        "for i in range(num_songs):\n",
        "  alpha = np.divide(np.ones(3),random_int[i])\n",
        "  values3D[i,:] = np.random.dirichlet(alpha,size=1)\n",
        "values3D"
      ],
      "execution_count": null,
      "outputs": []
    },
    {
      "cell_type": "code",
      "metadata": {
        "id": "rX6Pzu265mLO"
      },
      "source": [
        "\n",
        "\n",
        "fig = plt.figure()\n",
        "ax = fig.add_subplot(111, projection='3d')\n",
        "ax.scatter(values3D[:,0], values3D[:,1], values3D[:,2])\n",
        "# Method 1\n",
        "ax.set_xlabel('genre 1')\n",
        "ax.set_ylabel('genre 2')\n",
        "ax.set_zlabel('genre 3')\n",
        "#plt.title('collection softmax outputs as 3-genre vector space')\n",
        "#plt.show()\n",
        "plt.savefig('/content/drive/MyDrive/3Dgenreplot')"
      ],
      "execution_count": null,
      "outputs": []
    },
    {
      "cell_type": "code",
      "metadata": {
        "id": "jzHC4ZhewO5V"
      },
      "source": [
        ""
      ],
      "execution_count": null,
      "outputs": []
    },
    {
      "cell_type": "code",
      "metadata": {
        "id": "H4hKbS1Z9Awc"
      },
      "source": [
        "def distance_matrix(values):\n",
        "  dist_matrix = np.zeros((num_songs,num_songs))\n",
        "  for i in range(num_songs):\n",
        "    for j in range(num_songs):\n",
        "      dist_matrix[i,j]= distance.euclidean(values[i,:],values[j,:])\n",
        "\n",
        "  dist_matrix = dist_matrix.round(4)   \n",
        "  \n",
        "  return dist_matrix                                         \n"
      ],
      "execution_count": 52,
      "outputs": []
    },
    {
      "cell_type": "code",
      "metadata": {
        "id": "4HzaZwbhoIiu"
      },
      "source": [
        "dist_matrix = distance_matrix(values)"
      ],
      "execution_count": 90,
      "outputs": []
    },
    {
      "cell_type": "code",
      "metadata": {
        "colab": {
          "base_uri": "https://localhost:8080/"
        },
        "id": "RnNdOeQBjwWm",
        "outputId": "4c3340e3-85cf-4880-bcb8-eb43a6542166"
      },
      "source": [
        "# Python3 program to solve \n",
        "# Traveling Salesman Problem using \n",
        "# Branch and Bound.\n",
        "import math\n",
        "maxsize = float('inf')\n",
        "  \n",
        "# Function to copy temporary solution\n",
        "# to the final solution\n",
        "def copyToFinal(curr_path):\n",
        "    final_path[:N + 1] = curr_path[:]\n",
        "    final_path[N] = curr_path[0]\n",
        "  \n",
        "# Function to find the minimum edge cost \n",
        "# having an end at the vertex i\n",
        "def firstMin(adj, i):\n",
        "    min = maxsize\n",
        "    for k in range(N):\n",
        "        if adj[i][k] < min and i != k:\n",
        "            min = adj[i][k]\n",
        "  \n",
        "    return min\n",
        "  \n",
        "# function to find the second minimum edge \n",
        "# cost having an end at the vertex i\n",
        "def secondMin(adj, i):\n",
        "    first, second = maxsize, maxsize\n",
        "    for j in range(N):\n",
        "        if i == j:\n",
        "            continue\n",
        "        if adj[i][j] <= first:\n",
        "            second = first\n",
        "            first = adj[i][j]\n",
        "  \n",
        "        elif(adj[i][j] <= second and \n",
        "             adj[i][j] != first):\n",
        "            second = adj[i][j]\n",
        "  \n",
        "    return second\n",
        "  \n",
        "# function that takes as arguments:\n",
        "# curr_bound -> lower bound of the root node\n",
        "# curr_weight-> stores the weight of the path so far\n",
        "# level-> current level while moving\n",
        "# in the search space tree\n",
        "# curr_path[] -> where the solution is being stored\n",
        "# which would later be copied to final_path[]\n",
        "def TSPRec(adj, curr_bound, curr_weight, \n",
        "              level, curr_path, visited):\n",
        "    global final_res\n",
        "      \n",
        "    # base case is when we have reached level N \n",
        "    # which means we have covered all the nodes once\n",
        "    if level == N:\n",
        "          \n",
        "        # check if there is an edge from\n",
        "        # last vertex in path back to the first vertex\n",
        "        if adj[curr_path[level - 1]][curr_path[0]] != 0:\n",
        "              \n",
        "            # curr_res has the total weight\n",
        "            # of the solution we got\n",
        "            curr_res = curr_weight + adj[curr_path[level - 1]]\\\n",
        "                                        [curr_path[0]]\n",
        "            if curr_res < final_res:\n",
        "                copyToFinal(curr_path)\n",
        "                final_res = curr_res\n",
        "        return\n",
        "  \n",
        "    # for any other level iterate for all vertices\n",
        "    # to build the search space tree recursively\n",
        "    for i in range(N):\n",
        "          \n",
        "        # Consider next vertex if it is not same \n",
        "        # (diagonal entry in adjacency matrix and \n",
        "        #  not visited already)\n",
        "        if (adj[curr_path[level-1]][i] != 0 and\n",
        "                            visited[i] == False):\n",
        "            temp = curr_bound\n",
        "            curr_weight += adj[curr_path[level - 1]][i]\n",
        "  \n",
        "            # different computation of curr_bound \n",
        "            # for level 2 from the other levels\n",
        "            if level == 1:\n",
        "                curr_bound -= ((firstMin(adj, curr_path[level - 1]) + \n",
        "                                firstMin(adj, i)) / 2)\n",
        "            else:\n",
        "                curr_bound -= ((secondMin(adj, curr_path[level - 1]) +\n",
        "                                 firstMin(adj, i)) / 2)\n",
        "  \n",
        "            # curr_bound + curr_weight is the actual lower bound \n",
        "            # for the node that we have arrived on.\n",
        "            # If current lower bound < final_res, \n",
        "            # we need to explore the node further\n",
        "            if curr_bound + curr_weight < final_res:\n",
        "                curr_path[level] = i\n",
        "                visited[i] = True\n",
        "                  \n",
        "                # call TSPRec for the next level\n",
        "                TSPRec(adj, curr_bound, curr_weight, \n",
        "                       level + 1, curr_path, visited)\n",
        "  \n",
        "            # Else we have to prune the node by resetting \n",
        "            # all changes to curr_weight and curr_bound\n",
        "            curr_weight -= adj[curr_path[level - 1]][i]\n",
        "            curr_bound = temp\n",
        "  \n",
        "            # Also reset the visited array\n",
        "            visited = [False] * len(visited)\n",
        "            for j in range(level):\n",
        "                if curr_path[j] != -1:\n",
        "                    visited[curr_path[j]] = True\n",
        "  \n",
        "# This function sets up final_path\n",
        "def TSP(adj):\n",
        "      \n",
        "    # Calculate initial lower bound for the root node \n",
        "    # using the formula 1/2 * (sum of first min + \n",
        "    # second min) for all edges. Also initialize the \n",
        "    # curr_path and visited array\n",
        "    curr_bound = 0\n",
        "    curr_path = [-1] * (N + 1)\n",
        "    visited = [False] * N\n",
        "  \n",
        "    # Compute initial bound\n",
        "    for i in range(N):\n",
        "        curr_bound += (firstMin(adj, i) + \n",
        "                       secondMin(adj, i))\n",
        "  \n",
        "    # Rounding off the lower bound to an integer\n",
        "    curr_bound = math.ceil(curr_bound / 2)\n",
        "  \n",
        "    # We start at vertex 1 so the first vertex \n",
        "    # in curr_path[] is 0\n",
        "    visited[0] = True\n",
        "    curr_path[0] = 0\n",
        "  \n",
        "    # Call to TSPRec for curr_weight \n",
        "    # equal to 0 and level 1\n",
        "    TSPRec(adj, curr_bound, 0, 1, curr_path, visited)\n",
        "  \n",
        "# Driver code\n",
        "  \n",
        "# Adjacency matrix for the given graph\n",
        "N = num_songs\n",
        "adj = dist_matrix\n",
        "  \n",
        "# final_path[] stores the final solution \n",
        "# i.e. the // path of the salesman.\n",
        "final_path = [None] * (N + 1)\n",
        "  \n",
        "# visited[] keeps track of the already\n",
        "# visited nodes in a particular path\n",
        "visited = [False] * N\n",
        "  \n",
        "# Stores the final minimum weight\n",
        "# of shortest tour.\n",
        "final_res = maxsize\n",
        "  \n",
        "TSP(adj)\n",
        "  \n",
        "print(\"Minimum cost :\", final_res)\n",
        "print(\"Path Taken : \", end = ' ')\n",
        "for i in range(N + 1):\n",
        "    print(final_path[i], end = ' ')"
      ],
      "execution_count": 54,
      "outputs": [
        {
          "output_type": "stream",
          "text": [
            "Minimum cost : 5.2265\n",
            "Path Taken :  0 2 5 7 1 4 3 6 8 9 0 "
          ],
          "name": "stdout"
        }
      ]
    },
    {
      "cell_type": "markdown",
      "metadata": {
        "id": "doS6yK8MweHI"
      },
      "source": [
        "Next, we need to add a dummy node with zeroed distances to act as start and end node, avoiding the cycle being taken into account"
      ]
    },
    {
      "cell_type": "code",
      "metadata": {
        "id": "rxDsXT5a3YJn"
      },
      "source": [
        "#Want to add a dummy node to represent the 1st and last destinations of TSP problem\n",
        "#we define the dummy's distance value to be half the minimum non-zero value in distance matrix from every distance\n",
        "def dummy_var(dist_matrix):\n",
        "\n",
        "  minval = np.min(dist_matrix[np.nonzero(dist_matrix)])\n",
        "  dum_value = minval/2\n",
        "  dist_matrix_dum = np.pad(dist_matrix,((1,0),), 'constant',constant_values=(dum_value))\n",
        "  return dist_matrix_dum , dum_value"
      ],
      "execution_count": 93,
      "outputs": []
    },
    {
      "cell_type": "code",
      "metadata": {
        "id": "Cha4JywQkexe"
      },
      "source": [
        "dist_matrix_dum , dum_value = dummy_var(dist_matrix)"
      ],
      "execution_count": 94,
      "outputs": []
    },
    {
      "cell_type": "code",
      "metadata": {
        "colab": {
          "base_uri": "https://localhost:8080/"
        },
        "id": "ERJtV86a925I",
        "outputId": "dd36be4f-18b2-4fbd-9ae9-34e8c74836b0"
      },
      "source": [
        "# Adjacency matrix for the given graph\n",
        "N = num_songs+1\n",
        "adj = dist_matrix_dum\n",
        "  \n",
        "# final_path[] stores the final solution \n",
        "# i.e. the // path of the salesman.\n",
        "final_path = [None] * (N + 1)\n",
        "  \n",
        "# visited[] keeps track of the already\n",
        "# visited nodes in a particular path\n",
        "visited = [False] * N\n",
        "  \n",
        "# Stores the final minimum weight\n",
        "# of shortest tour.\n",
        "final_res = maxsize\n",
        "  \n",
        "TSP(adj)\n",
        "# Since we have defined the dummy variable to be half the minimum non-zero value in distance matrix\n",
        "# subtract 2*dummy value from minumum cost to get actual distance cost of a path without a final return making it a tour\n",
        "branch_cost = final_res - dum_value*2\n",
        "print(\"Minimum cost :\", branch_cost)\n",
        "print(\"Path Taken : \", end = ' ')\n",
        "#best_state_branch = np.zeros(N)\n",
        "#for i in range(N + 1):\n",
        "    #final_path[i], end = ' '\n",
        "best_state_branch = final_path\n",
        "print(best_state_branch)\n",
        "\n"
      ],
      "execution_count": 57,
      "outputs": [
        {
          "output_type": "stream",
          "text": [
            "Minimum cost : 4.4251000000000005\n",
            "Path Taken :  [0, 1, 3, 8, 6, 2, 5, 4, 7, 9, 10, 0]\n"
          ],
          "name": "stdout"
        }
      ]
    },
    {
      "cell_type": "markdown",
      "metadata": {
        "id": "vVpGD27i-BP6"
      },
      "source": [
        "As we can see, the dummy variable removes the final distance completing the tour from being taken into count into the optimization, since its distance is the smallest\n",
        "\n"
      ]
    },
    {
      "cell_type": "markdown",
      "metadata": {
        "id": "g_KGKKx0wJ5_"
      },
      "source": [
        "### Genetic Algorithm Method\n",
        "Implementation using Mlrose"
      ]
    },
    {
      "cell_type": "code",
      "metadata": {
        "colab": {
          "base_uri": "https://localhost:8080/"
        },
        "id": "pmDK2KHNfkio",
        "outputId": "0a7ec3f1-678b-439d-8d0a-5c8b4e0aaedb"
      },
      "source": [
        "pip install mlrose"
      ],
      "execution_count": 58,
      "outputs": [
        {
          "output_type": "stream",
          "text": [
            "Requirement already satisfied: mlrose in /usr/local/lib/python3.7/dist-packages (1.3.0)\n",
            "Requirement already satisfied: sklearn in /usr/local/lib/python3.7/dist-packages (from mlrose) (0.0)\n",
            "Requirement already satisfied: numpy in /usr/local/lib/python3.7/dist-packages (from mlrose) (1.19.5)\n",
            "Requirement already satisfied: scipy in /usr/local/lib/python3.7/dist-packages (from mlrose) (1.4.1)\n",
            "Requirement already satisfied: scikit-learn in /usr/local/lib/python3.7/dist-packages (from sklearn->mlrose) (0.22.2.post1)\n",
            "Requirement already satisfied: joblib>=0.11 in /usr/local/lib/python3.7/dist-packages (from scikit-learn->sklearn->mlrose) (1.0.1)\n"
          ],
          "name": "stdout"
        }
      ]
    },
    {
      "cell_type": "code",
      "metadata": {
        "id": "1RDevHjPwWNu"
      },
      "source": [
        "import mlrose"
      ],
      "execution_count": 59,
      "outputs": []
    },
    {
      "cell_type": "code",
      "metadata": {
        "colab": {
          "base_uri": "https://localhost:8080/"
        },
        "id": "fMKh0irBO_hk",
        "outputId": "7f7be5b7-410b-4d65-f56e-a1e730d0cbc1"
      },
      "source": [
        "\n",
        "\n",
        "#First we attempt a tour, rather than a path (starts and ends at same node)\n",
        "\n",
        "dist_list=[]\n",
        "count=1\n",
        "for i in range(num_songs):\n",
        "  for j in range(num_songs):\n",
        "    if i!=j:\n",
        "      dist_list.append((i,j,dist_matrix[i,j]))\n",
        "      count+=1\n",
        "print(dist_list)"
      ],
      "execution_count": 60,
      "outputs": [
        {
          "output_type": "stream",
          "text": [
            "[(0, 1, 0.82), (0, 2, 0.6867), (0, 3, 0.7137), (0, 4, 0.6686), (0, 5, 0.526), (0, 6, 0.6701), (0, 7, 0.445), (0, 8, 0.433), (0, 9, 0.5736), (1, 0, 0.82), (1, 2, 1.2154), (1, 3, 0.9285), (1, 4, 0.5523), (1, 5, 0.5539), (1, 6, 0.8907), (1, 7, 0.654), (1, 8, 0.7918), (1, 9, 0.832), (2, 0, 0.6867), (2, 1, 1.2154), (2, 3, 1.1574), (2, 4, 1.1377), (2, 5, 0.7369), (2, 6, 1.0806), (2, 7, 0.6092), (2, 8, 0.765), (2, 9, 0.9368), (3, 0, 0.7137), (3, 1, 0.9285), (3, 2, 1.1574), (3, 4, 0.4938), (3, 5, 0.8731), (3, 6, 0.4294), (3, 7, 0.8236), (3, 8, 0.5208), (3, 9, 0.8393), (4, 0, 0.6686), (4, 1, 0.5523), (4, 2, 1.1377), (4, 3, 0.4938), (4, 5, 0.5791), (4, 6, 0.6458), (4, 7, 0.6091), (4, 8, 0.5881), (4, 9, 0.8265), (5, 0, 0.526), (5, 1, 0.5539), (5, 2, 0.7369), (5, 3, 0.8731), (5, 4, 0.5791), (5, 6, 0.8209), (5, 7, 0.1464), (5, 8, 0.5617), (5, 9, 0.7686), (6, 0, 0.6701), (6, 1, 0.8907), (6, 2, 1.0806), (6, 3, 0.4294), (6, 4, 0.6458), (6, 5, 0.8209), (6, 7, 0.7728), (6, 8, 0.337), (6, 9, 0.7429), (7, 0, 0.445), (7, 1, 0.654), (7, 2, 0.6092), (7, 3, 0.8236), (7, 4, 0.6091), (7, 5, 0.1464), (7, 6, 0.7728), (7, 8, 0.4813), (7, 9, 0.7221), (8, 0, 0.433), (8, 1, 0.7918), (8, 2, 0.765), (8, 3, 0.5208), (8, 4, 0.5881), (8, 5, 0.5617), (8, 6, 0.337), (8, 7, 0.4813), (8, 9, 0.6164), (9, 0, 0.5736), (9, 1, 0.832), (9, 2, 0.9368), (9, 3, 0.8393), (9, 4, 0.8265), (9, 5, 0.7686), (9, 6, 0.7429), (9, 7, 0.7221), (9, 8, 0.6164)]\n"
          ],
          "name": "stdout"
        }
      ]
    },
    {
      "cell_type": "code",
      "metadata": {
        "colab": {
          "base_uri": "https://localhost:8080/"
        },
        "id": "hzGXyzYIkMmK",
        "outputId": "52f55c22-dad3-446b-d03c-fcb00fff05ab"
      },
      "source": [
        "# Initialize fitness function object using dist_list\n",
        "fitness_dists = mlrose.TravellingSales(distances = dist_list)\n",
        "problem_fit = mlrose.TSPOpt(length = num_songs, fitness_fn = fitness_dists, maximize=False)\n",
        "#problem_fit = mlrose.TSPOpt(length = num_songs, distances = dist_list, maximize=False)\n",
        "# Solve problem using the genetic algorithm\n",
        "best_state, best_fitness = mlrose.genetic_alg(problem_fit, random_state = 2)\n",
        "\n",
        "print('The best state found is: ', best_state)\n",
        "\n",
        "print('The fitness at the best state is: ', best_fitness)\n",
        "\n"
      ],
      "execution_count": 61,
      "outputs": [
        {
          "output_type": "stream",
          "text": [
            "The best state found is:  [7 5 1 4 6 3 8 0 9 2]\n",
            "The fitness at the best state is:  5.401199999999999\n"
          ],
          "name": "stdout"
        }
      ]
    },
    {
      "cell_type": "code",
      "metadata": {
        "colab": {
          "base_uri": "https://localhost:8080/"
        },
        "id": "LupvUia3mr1A",
        "outputId": "a84d9909-2ab8-48e7-a839-22eb678bfd82"
      },
      "source": [
        "#Tune parameters to attempt to find better estimate\n",
        "best_state, best_fitness = mlrose.genetic_alg(problem_fit, mutation_prob = 0.2, \n",
        "\t\t\t\t\t      max_attempts = 100, random_state = 2)\n",
        "\n",
        "print('The best state found is: ', best_state)\n",
        "\n",
        "print('The fitness at the best state is: ', best_fitness)"
      ],
      "execution_count": 62,
      "outputs": [
        {
          "output_type": "stream",
          "text": [
            "The best state found is:  [0 7 5 2 9 1 4 3 6 8]\n",
            "The fitness at the best state is:  5.3426\n"
          ],
          "name": "stdout"
        }
      ]
    },
    {
      "cell_type": "code",
      "metadata": {
        "id": "I8RD1EWrnKqT"
      },
      "source": [
        "#Now we add a dummy node of negligible distance from each node to calculate path (no cycle)\n",
        "#So as a tour is calculated, the final \n",
        "def genetic_path(dist_matrix_dum):\n",
        "  dist_list=[]\n",
        "  count=1\n",
        "  dummy_node = num_songs+1\n",
        "  for i in range(dummy_node):\n",
        "    for j in range(dummy_node):\n",
        "      if i!=j:\n",
        "        dist_list.append((i,j,dist_matrix_dum[i,j]))\n",
        "        count+=1\n",
        "  #print(dist_list)\n",
        "\n",
        "\n",
        "  fitness_dists = mlrose.TravellingSales(distances = dist_list)\n",
        "  problem_fit = mlrose.TSPOpt(length = dummy_node, fitness_fn = fitness_dists, maximize=False)\n",
        "  best_state_genetic, best_fitness = mlrose.genetic_alg(problem_fit, mutation_prob = 0.2, \n",
        "\t\t\t\t\t      max_attempts = 100)# random_state = 2)\n",
        "\n",
        "  print('The best state found is: ', best_state_genetic)\n",
        "  genetic_cost = best_fitness -2*dum_value\n",
        "  print('The fitness (or total distance) at the best state is: ', genetic_cost)\n",
        "  return best_state_genetic , genetic_cost\n"
      ],
      "execution_count": 63,
      "outputs": []
    },
    {
      "cell_type": "code",
      "metadata": {
        "colab": {
          "base_uri": "https://localhost:8080/"
        },
        "id": "Tp6K9UxAjdC4",
        "outputId": "e81411d9-edc5-45db-aca7-051a313ddf18"
      },
      "source": [
        "best_state_genetic, genetic_cost = genetic_path(dist_matrix_dum)"
      ],
      "execution_count": 95,
      "outputs": [
        {
          "output_type": "stream",
          "text": [
            "The best state found is:  [12 28 18 17  1  8 13 21 22 20 11 19  3 26  4  7 29  0 24  9 10 27  2 14\n",
            " 25 16 15  5  6 23]\n",
            "The fitness (or total distance) at the best state is:  16.0833\n"
          ],
          "name": "stdout"
        }
      ]
    },
    {
      "cell_type": "code",
      "metadata": {
        "colab": {
          "base_uri": "https://localhost:8080/"
        },
        "id": "HIp5KlDhDfGr",
        "outputId": "a4aaa681-c6f0-4511-d025-5bbfced6b2cb"
      },
      "source": [
        "np.min([genetic_cost,branch_cost])"
      ],
      "execution_count": 96,
      "outputs": [
        {
          "output_type": "execute_result",
          "data": {
            "text/plain": [
              "4.4251000000000005"
            ]
          },
          "metadata": {
            "tags": []
          },
          "execution_count": 96
        }
      ]
    },
    {
      "cell_type": "code",
      "metadata": {
        "id": "S23_sFP600TC",
        "colab": {
          "base_uri": "https://localhost:8080/"
        },
        "outputId": "1cbe162a-ec75-452f-b591-8f888bdbb76c"
      },
      "source": [
        " 5,  9,  7,  1, 10,  0,  6,  4,  3,  8, 11,  2"
      ],
      "execution_count": 97,
      "outputs": [
        {
          "output_type": "execute_result",
          "data": {
            "text/plain": [
              "(5, 9, 7, 1, 10, 0, 6, 4, 3, 8, 11, 2)"
            ]
          },
          "metadata": {
            "tags": []
          },
          "execution_count": 97
        }
      ]
    },
    {
      "cell_type": "markdown",
      "metadata": {
        "id": "Gb6zW6agmyd3"
      },
      "source": [
        "# ----------------------Reorder Entries into Reduced Similarity Path ----------"
      ]
    },
    {
      "cell_type": "code",
      "metadata": {
        "id": "GY8aWeMRqIyj"
      },
      "source": [
        "def reorder_dataset(df, route, num_songs, num_dim):\n",
        "  reorder = [x for x in best_state_genetic if x != 0]\n",
        "  reorder = [x -1 for x in reorder]\n",
        "  reorder_index = np.zeros(num_songs,dtype = int)\n",
        "  for i in range(len(reorder)):\n",
        "    reorder_index[reorder[i]] = i \n",
        "\n",
        "  df_reorder = df.iloc[:num_songs,:]\n",
        "  df_reorder.assign(reorder = pd.Series(reorder_index).values)\n",
        "  df_reorder = df_reorder.reindex(reorder)\n",
        "\n",
        "  return df_reorder\n"
      ],
      "execution_count": 129,
      "outputs": []
    },
    {
      "cell_type": "code",
      "metadata": {
        "colab": {
          "base_uri": "https://localhost:8080/",
          "height": 1000
        },
        "id": "ALKdD1qFgW0_",
        "outputId": "ba021b28-ff20-47cd-9ded-8b53397718a7"
      },
      "source": [
        "df_reorder = reorder_dataset(df,best_state_genetic,num_songs, num_dim)\n",
        "df_reorder"
      ],
      "execution_count": 133,
      "outputs": [
        {
          "output_type": "execute_result",
          "data": {
            "text/html": [
              "<div>\n",
              "<style scoped>\n",
              "    .dataframe tbody tr th:only-of-type {\n",
              "        vertical-align: middle;\n",
              "    }\n",
              "\n",
              "    .dataframe tbody tr th {\n",
              "        vertical-align: top;\n",
              "    }\n",
              "\n",
              "    .dataframe thead th {\n",
              "        text-align: right;\n",
              "    }\n",
              "</style>\n",
              "<table border=\"1\" class=\"dataframe\">\n",
              "  <thead>\n",
              "    <tr style=\"text-align: right;\">\n",
              "      <th></th>\n",
              "      <th>Unnamed: 0</th>\n",
              "      <th>Predicted Genre</th>\n",
              "      <th>blues</th>\n",
              "      <th>classical</th>\n",
              "      <th>country</th>\n",
              "      <th>disco</th>\n",
              "      <th>hiphop</th>\n",
              "      <th>jazz</th>\n",
              "      <th>metal</th>\n",
              "      <th>pop</th>\n",
              "      <th>reggae</th>\n",
              "      <th>rock</th>\n",
              "    </tr>\n",
              "  </thead>\n",
              "  <tbody>\n",
              "    <tr>\n",
              "      <th>11</th>\n",
              "      <td>Track X</td>\n",
              "      <td>country</td>\n",
              "      <td>0.0426</td>\n",
              "      <td>0.0000</td>\n",
              "      <td>0.7730</td>\n",
              "      <td>0.0122</td>\n",
              "      <td>0.0018</td>\n",
              "      <td>0.0035</td>\n",
              "      <td>0.0000</td>\n",
              "      <td>0.0065</td>\n",
              "      <td>0.0001</td>\n",
              "      <td>0.1603</td>\n",
              "    </tr>\n",
              "    <tr>\n",
              "      <th>27</th>\n",
              "      <td>A Message to You Rudy - 2002 Remaster</td>\n",
              "      <td>rock</td>\n",
              "      <td>0.0051</td>\n",
              "      <td>0.0058</td>\n",
              "      <td>0.2631</td>\n",
              "      <td>0.0127</td>\n",
              "      <td>0.2152</td>\n",
              "      <td>0.0475</td>\n",
              "      <td>0.0034</td>\n",
              "      <td>0.0683</td>\n",
              "      <td>0.1138</td>\n",
              "      <td>0.2651</td>\n",
              "    </tr>\n",
              "    <tr>\n",
              "      <th>17</th>\n",
              "      <td>Suede</td>\n",
              "      <td>reggae</td>\n",
              "      <td>0.0725</td>\n",
              "      <td>0.0002</td>\n",
              "      <td>0.1122</td>\n",
              "      <td>0.0523</td>\n",
              "      <td>0.1595</td>\n",
              "      <td>0.2271</td>\n",
              "      <td>0.0000</td>\n",
              "      <td>0.0482</td>\n",
              "      <td>0.3074</td>\n",
              "      <td>0.0206</td>\n",
              "    </tr>\n",
              "    <tr>\n",
              "      <th>16</th>\n",
              "      <td>Poison Tree</td>\n",
              "      <td>country</td>\n",
              "      <td>0.0011</td>\n",
              "      <td>0.0000</td>\n",
              "      <td>0.8020</td>\n",
              "      <td>0.0000</td>\n",
              "      <td>0.0000</td>\n",
              "      <td>0.1966</td>\n",
              "      <td>0.0000</td>\n",
              "      <td>0.0000</td>\n",
              "      <td>0.0000</td>\n",
              "      <td>0.0002</td>\n",
              "    </tr>\n",
              "    <tr>\n",
              "      <th>0</th>\n",
              "      <td>All Along the Watchtower</td>\n",
              "      <td>rock</td>\n",
              "      <td>0.0010</td>\n",
              "      <td>0.0002</td>\n",
              "      <td>0.1386</td>\n",
              "      <td>0.1255</td>\n",
              "      <td>0.0014</td>\n",
              "      <td>0.3199</td>\n",
              "      <td>0.0000</td>\n",
              "      <td>0.0231</td>\n",
              "      <td>0.0058</td>\n",
              "      <td>0.3844</td>\n",
              "    </tr>\n",
              "    <tr>\n",
              "      <th>7</th>\n",
              "      <td>Dsco</td>\n",
              "      <td>rock</td>\n",
              "      <td>0.0000</td>\n",
              "      <td>0.0001</td>\n",
              "      <td>0.0610</td>\n",
              "      <td>0.4011</td>\n",
              "      <td>0.0003</td>\n",
              "      <td>0.0002</td>\n",
              "      <td>0.0000</td>\n",
              "      <td>0.0355</td>\n",
              "      <td>0.0004</td>\n",
              "      <td>0.5013</td>\n",
              "    </tr>\n",
              "    <tr>\n",
              "      <th>12</th>\n",
              "      <td>Wake Up</td>\n",
              "      <td>rock</td>\n",
              "      <td>0.0004</td>\n",
              "      <td>0.0798</td>\n",
              "      <td>0.1334</td>\n",
              "      <td>0.0149</td>\n",
              "      <td>0.0005</td>\n",
              "      <td>0.0731</td>\n",
              "      <td>0.0087</td>\n",
              "      <td>0.0061</td>\n",
              "      <td>0.0024</td>\n",
              "      <td>0.6807</td>\n",
              "    </tr>\n",
              "    <tr>\n",
              "      <th>20</th>\n",
              "      <td>Blue in Green (feat. John Coltrane _ Bill Evans)</td>\n",
              "      <td>jazz</td>\n",
              "      <td>0.0289</td>\n",
              "      <td>0.0031</td>\n",
              "      <td>0.1023</td>\n",
              "      <td>0.0000</td>\n",
              "      <td>0.0002</td>\n",
              "      <td>0.8634</td>\n",
              "      <td>0.0000</td>\n",
              "      <td>0.0000</td>\n",
              "      <td>0.0019</td>\n",
              "      <td>0.0001</td>\n",
              "    </tr>\n",
              "    <tr>\n",
              "      <th>21</th>\n",
              "      <td>Dark blue</td>\n",
              "      <td>rock</td>\n",
              "      <td>0.0000</td>\n",
              "      <td>0.0005</td>\n",
              "      <td>0.1102</td>\n",
              "      <td>0.0101</td>\n",
              "      <td>0.0004</td>\n",
              "      <td>0.1524</td>\n",
              "      <td>0.0000</td>\n",
              "      <td>0.0824</td>\n",
              "      <td>0.0006</td>\n",
              "      <td>0.6434</td>\n",
              "    </tr>\n",
              "    <tr>\n",
              "      <th>19</th>\n",
              "      <td>George Street</td>\n",
              "      <td>rock</td>\n",
              "      <td>0.0000</td>\n",
              "      <td>0.0000</td>\n",
              "      <td>0.0225</td>\n",
              "      <td>0.0778</td>\n",
              "      <td>0.0000</td>\n",
              "      <td>0.0000</td>\n",
              "      <td>0.0000</td>\n",
              "      <td>0.0001</td>\n",
              "      <td>0.0301</td>\n",
              "      <td>0.8695</td>\n",
              "    </tr>\n",
              "    <tr>\n",
              "      <th>10</th>\n",
              "      <td>Like a Buoy</td>\n",
              "      <td>rock</td>\n",
              "      <td>0.0001</td>\n",
              "      <td>0.0004</td>\n",
              "      <td>0.0073</td>\n",
              "      <td>0.0056</td>\n",
              "      <td>0.0007</td>\n",
              "      <td>0.0008</td>\n",
              "      <td>0.0001</td>\n",
              "      <td>0.0011</td>\n",
              "      <td>0.0001</td>\n",
              "      <td>0.9838</td>\n",
              "    </tr>\n",
              "    <tr>\n",
              "      <th>18</th>\n",
              "      <td>Slow (Loud)</td>\n",
              "      <td>rock</td>\n",
              "      <td>0.0006</td>\n",
              "      <td>0.0191</td>\n",
              "      <td>0.0153</td>\n",
              "      <td>0.0182</td>\n",
              "      <td>0.0006</td>\n",
              "      <td>0.0017</td>\n",
              "      <td>0.0001</td>\n",
              "      <td>0.1136</td>\n",
              "      <td>0.0033</td>\n",
              "      <td>0.8275</td>\n",
              "    </tr>\n",
              "    <tr>\n",
              "      <th>2</th>\n",
              "      <td>Corpse Pose</td>\n",
              "      <td>rock</td>\n",
              "      <td>0.0000</td>\n",
              "      <td>0.0000</td>\n",
              "      <td>0.0083</td>\n",
              "      <td>0.0133</td>\n",
              "      <td>0.0000</td>\n",
              "      <td>0.0007</td>\n",
              "      <td>0.0024</td>\n",
              "      <td>0.0079</td>\n",
              "      <td>0.0000</td>\n",
              "      <td>0.9674</td>\n",
              "    </tr>\n",
              "    <tr>\n",
              "      <th>25</th>\n",
              "      <td>Dirty Old Town</td>\n",
              "      <td>rock</td>\n",
              "      <td>0.0949</td>\n",
              "      <td>0.0132</td>\n",
              "      <td>0.1109</td>\n",
              "      <td>0.1341</td>\n",
              "      <td>0.0003</td>\n",
              "      <td>0.0875</td>\n",
              "      <td>0.0013</td>\n",
              "      <td>0.0207</td>\n",
              "      <td>0.0108</td>\n",
              "      <td>0.5264</td>\n",
              "    </tr>\n",
              "    <tr>\n",
              "      <th>3</th>\n",
              "      <td>Diary of a Rose</td>\n",
              "      <td>country</td>\n",
              "      <td>0.0000</td>\n",
              "      <td>0.0009</td>\n",
              "      <td>0.6169</td>\n",
              "      <td>0.0952</td>\n",
              "      <td>0.0001</td>\n",
              "      <td>0.0002</td>\n",
              "      <td>0.0003</td>\n",
              "      <td>0.1957</td>\n",
              "      <td>0.0828</td>\n",
              "      <td>0.0080</td>\n",
              "    </tr>\n",
              "    <tr>\n",
              "      <th>6</th>\n",
              "      <td>Circuits</td>\n",
              "      <td>reggae</td>\n",
              "      <td>0.0000</td>\n",
              "      <td>0.0062</td>\n",
              "      <td>0.2957</td>\n",
              "      <td>0.0364</td>\n",
              "      <td>0.0007</td>\n",
              "      <td>0.0006</td>\n",
              "      <td>0.0000</td>\n",
              "      <td>0.2897</td>\n",
              "      <td>0.3447</td>\n",
              "      <td>0.0260</td>\n",
              "    </tr>\n",
              "    <tr>\n",
              "      <th>28</th>\n",
              "      <td>Pressure Drop</td>\n",
              "      <td>reggae</td>\n",
              "      <td>0.0007</td>\n",
              "      <td>0.0001</td>\n",
              "      <td>0.0159</td>\n",
              "      <td>0.1018</td>\n",
              "      <td>0.0473</td>\n",
              "      <td>0.0161</td>\n",
              "      <td>0.0025</td>\n",
              "      <td>0.0633</td>\n",
              "      <td>0.5912</td>\n",
              "      <td>0.1612</td>\n",
              "    </tr>\n",
              "    <tr>\n",
              "      <th>23</th>\n",
              "      <td>Abusey Junction</td>\n",
              "      <td>reggae</td>\n",
              "      <td>0.0027</td>\n",
              "      <td>0.0010</td>\n",
              "      <td>0.1099</td>\n",
              "      <td>0.0002</td>\n",
              "      <td>0.0000</td>\n",
              "      <td>0.0882</td>\n",
              "      <td>0.0000</td>\n",
              "      <td>0.0016</td>\n",
              "      <td>0.7935</td>\n",
              "      <td>0.0029</td>\n",
              "    </tr>\n",
              "    <tr>\n",
              "      <th>8</th>\n",
              "      <td>LEAVING HELL</td>\n",
              "      <td>rock</td>\n",
              "      <td>0.0002</td>\n",
              "      <td>0.0007</td>\n",
              "      <td>0.2135</td>\n",
              "      <td>0.0949</td>\n",
              "      <td>0.0219</td>\n",
              "      <td>0.0001</td>\n",
              "      <td>0.0001</td>\n",
              "      <td>0.1368</td>\n",
              "      <td>0.2428</td>\n",
              "      <td>0.2889</td>\n",
              "    </tr>\n",
              "    <tr>\n",
              "      <th>9</th>\n",
              "      <td>Bullet With a Name</td>\n",
              "      <td>metal</td>\n",
              "      <td>0.0001</td>\n",
              "      <td>0.0001</td>\n",
              "      <td>0.0000</td>\n",
              "      <td>0.0001</td>\n",
              "      <td>0.2422</td>\n",
              "      <td>0.1586</td>\n",
              "      <td>0.4069</td>\n",
              "      <td>0.0183</td>\n",
              "      <td>0.0001</td>\n",
              "      <td>0.1736</td>\n",
              "    </tr>\n",
              "    <tr>\n",
              "      <th>26</th>\n",
              "      <td>Send Me</td>\n",
              "      <td>pop</td>\n",
              "      <td>0.0453</td>\n",
              "      <td>0.0001</td>\n",
              "      <td>0.0183</td>\n",
              "      <td>0.0003</td>\n",
              "      <td>0.1729</td>\n",
              "      <td>0.0216</td>\n",
              "      <td>0.0000</td>\n",
              "      <td>0.5202</td>\n",
              "      <td>0.0162</td>\n",
              "      <td>0.2052</td>\n",
              "    </tr>\n",
              "    <tr>\n",
              "      <th>1</th>\n",
              "      <td>Love and or Hate Trigger</td>\n",
              "      <td>disco</td>\n",
              "      <td>0.0000</td>\n",
              "      <td>0.0005</td>\n",
              "      <td>0.0000</td>\n",
              "      <td>0.6839</td>\n",
              "      <td>0.3030</td>\n",
              "      <td>0.0000</td>\n",
              "      <td>0.0004</td>\n",
              "      <td>0.0006</td>\n",
              "      <td>0.0115</td>\n",
              "      <td>0.0002</td>\n",
              "    </tr>\n",
              "    <tr>\n",
              "      <th>13</th>\n",
              "      <td>Strings of Light</td>\n",
              "      <td>rock</td>\n",
              "      <td>0.0032</td>\n",
              "      <td>0.0010</td>\n",
              "      <td>0.0037</td>\n",
              "      <td>0.2956</td>\n",
              "      <td>0.0003</td>\n",
              "      <td>0.0032</td>\n",
              "      <td>0.0000</td>\n",
              "      <td>0.0417</td>\n",
              "      <td>0.1022</td>\n",
              "      <td>0.5490</td>\n",
              "    </tr>\n",
              "    <tr>\n",
              "      <th>24</th>\n",
              "      <td>All Caps</td>\n",
              "      <td>rock</td>\n",
              "      <td>0.0001</td>\n",
              "      <td>0.0008</td>\n",
              "      <td>0.1610</td>\n",
              "      <td>0.0159</td>\n",
              "      <td>0.0373</td>\n",
              "      <td>0.0005</td>\n",
              "      <td>0.0000</td>\n",
              "      <td>0.0782</td>\n",
              "      <td>0.0012</td>\n",
              "      <td>0.7050</td>\n",
              "    </tr>\n",
              "    <tr>\n",
              "      <th>15</th>\n",
              "      <td>Time</td>\n",
              "      <td>classical</td>\n",
              "      <td>0.0000</td>\n",
              "      <td>0.6505</td>\n",
              "      <td>0.0353</td>\n",
              "      <td>0.0010</td>\n",
              "      <td>0.0025</td>\n",
              "      <td>0.0032</td>\n",
              "      <td>0.0117</td>\n",
              "      <td>0.1032</td>\n",
              "      <td>0.0074</td>\n",
              "      <td>0.1852</td>\n",
              "    </tr>\n",
              "    <tr>\n",
              "      <th>14</th>\n",
              "      <td>Job_s Lament</td>\n",
              "      <td>classical</td>\n",
              "      <td>0.0001</td>\n",
              "      <td>0.3099</td>\n",
              "      <td>0.3018</td>\n",
              "      <td>0.0686</td>\n",
              "      <td>0.0001</td>\n",
              "      <td>0.0006</td>\n",
              "      <td>0.0000</td>\n",
              "      <td>0.2655</td>\n",
              "      <td>0.0096</td>\n",
              "      <td>0.0438</td>\n",
              "    </tr>\n",
              "    <tr>\n",
              "      <th>4</th>\n",
              "      <td>Peanuts Grow Underground</td>\n",
              "      <td>disco</td>\n",
              "      <td>0.0003</td>\n",
              "      <td>0.0780</td>\n",
              "      <td>0.4102</td>\n",
              "      <td>0.4851</td>\n",
              "      <td>0.0014</td>\n",
              "      <td>0.0002</td>\n",
              "      <td>0.0000</td>\n",
              "      <td>0.0034</td>\n",
              "      <td>0.0049</td>\n",
              "      <td>0.0166</td>\n",
              "    </tr>\n",
              "    <tr>\n",
              "      <th>5</th>\n",
              "      <td>We Are Family</td>\n",
              "      <td>disco</td>\n",
              "      <td>0.0014</td>\n",
              "      <td>0.0020</td>\n",
              "      <td>0.0195</td>\n",
              "      <td>0.5230</td>\n",
              "      <td>0.0015</td>\n",
              "      <td>0.0008</td>\n",
              "      <td>0.0000</td>\n",
              "      <td>0.0132</td>\n",
              "      <td>0.0031</td>\n",
              "      <td>0.4354</td>\n",
              "    </tr>\n",
              "    <tr>\n",
              "      <th>22</th>\n",
              "      <td>Oblivion</td>\n",
              "      <td>rock</td>\n",
              "      <td>0.0000</td>\n",
              "      <td>0.0004</td>\n",
              "      <td>0.1527</td>\n",
              "      <td>0.0571</td>\n",
              "      <td>0.0162</td>\n",
              "      <td>0.0272</td>\n",
              "      <td>0.0035</td>\n",
              "      <td>0.2052</td>\n",
              "      <td>0.0561</td>\n",
              "      <td>0.4815</td>\n",
              "    </tr>\n",
              "  </tbody>\n",
              "</table>\n",
              "</div>"
            ],
            "text/plain": [
              "                                          Unnamed: 0  ...    rock\n",
              "11                                           Track X  ...  0.1603\n",
              "27             A Message to You Rudy - 2002 Remaster  ...  0.2651\n",
              "17                                             Suede  ...  0.0206\n",
              "16                                       Poison Tree  ...  0.0002\n",
              "0                           All Along the Watchtower  ...  0.3844\n",
              "7                                               Dsco  ...  0.5013\n",
              "12                                           Wake Up  ...  0.6807\n",
              "20  Blue in Green (feat. John Coltrane _ Bill Evans)  ...  0.0001\n",
              "21                                         Dark blue  ...  0.6434\n",
              "19                                     George Street  ...  0.8695\n",
              "10                                       Like a Buoy  ...  0.9838\n",
              "18                                       Slow (Loud)  ...  0.8275\n",
              "2                                        Corpse Pose  ...  0.9674\n",
              "25                                    Dirty Old Town  ...  0.5264\n",
              "3                                    Diary of a Rose  ...  0.0080\n",
              "6                                           Circuits  ...  0.0260\n",
              "28                                     Pressure Drop  ...  0.1612\n",
              "23                                   Abusey Junction  ...  0.0029\n",
              "8                                       LEAVING HELL  ...  0.2889\n",
              "9                                 Bullet With a Name  ...  0.1736\n",
              "26                                           Send Me  ...  0.2052\n",
              "1                           Love and or Hate Trigger  ...  0.0002\n",
              "13                                  Strings of Light  ...  0.5490\n",
              "24                                          All Caps  ...  0.7050\n",
              "15                                              Time  ...  0.1852\n",
              "14                                      Job_s Lament  ...  0.0438\n",
              "4                           Peanuts Grow Underground  ...  0.0166\n",
              "5                                      We Are Family  ...  0.4354\n",
              "22                                          Oblivion  ...  0.4815\n",
              "\n",
              "[29 rows x 12 columns]"
            ]
          },
          "metadata": {
            "tags": []
          },
          "execution_count": 133
        }
      ]
    },
    {
      "cell_type": "code",
      "metadata": {
        "id": "Hw0a6og_sxdi"
      },
      "source": [
        "df_subset.to_csv('/content/drive/MyDrive/playlist/optimised_reordered_playlist.csv')"
      ],
      "execution_count": 110,
      "outputs": []
    },
    {
      "cell_type": "markdown",
      "metadata": {
        "id": "egprwvihXmXv"
      },
      "source": [
        "\n",
        "\n",
        "# ------------------ Dimensionality Reduction -----------------------------"
      ]
    },
    {
      "cell_type": "code",
      "metadata": {
        "id": "44WNpAL0XtoY"
      },
      "source": [
        "import sklearn.datasets\n",
        "import sklearn.manifold\n",
        "import sklearn.decomposition"
      ],
      "execution_count": 111,
      "outputs": []
    },
    {
      "cell_type": "code",
      "metadata": {
        "id": "7kXew06fYCFq"
      },
      "source": [
        "from sklearn.datasets import load_digits\n",
        "from sklearn.manifold import TSNE\n",
        "from sklearn.decomposition import PCA"
      ],
      "execution_count": 112,
      "outputs": []
    },
    {
      "cell_type": "markdown",
      "metadata": {
        "id": "w6elzmy_vpy1"
      },
      "source": [
        "# ---------------- t-SNE -------------------------"
      ]
    },
    {
      "cell_type": "code",
      "metadata": {
        "id": "Gpv-rB8yYM2-"
      },
      "source": [
        "X, y = load_digits(return_X_y=True)\n",
        "tsne = TSNE(n_components = 2)\n",
        "tsne_data = tsne.fit_transform(values)"
      ],
      "execution_count": 113,
      "outputs": []
    },
    {
      "cell_type": "code",
      "metadata": {
        "colab": {
          "base_uri": "https://localhost:8080/"
        },
        "id": "cucslpOihdRv",
        "outputId": "7be6e618-0033-43eb-8c69-31411fb86bf2"
      },
      "source": [
        "tsne_data"
      ],
      "execution_count": 114,
      "outputs": [
        {
          "output_type": "execute_result",
          "data": {
            "text/plain": [
              "array([[  11.196667 ,  143.34232  ],\n",
              "       [ 165.48843  ,    4.1256003],\n",
              "       [-169.6039   ,  136.61688  ],\n",
              "       [ 192.70311  ,  157.11679  ],\n",
              "       [  16.272684 ,    7.7321243],\n",
              "       [ 122.95263  ,   98.73388  ],\n",
              "       [  31.760366 ,  -64.55857  ],\n",
              "       [ -62.182446 , -202.02759  ],\n",
              "       [ 104.7322   ,  195.53969  ],\n",
              "       [ -35.853157 ,   62.14325  ],\n",
              "       [-130.23018  ,  -21.738987 ],\n",
              "       [ 118.26714  ,  -69.86283  ],\n",
              "       [  48.94593  ,   79.12859  ],\n",
              "       [ 219.15637  ,  -67.46329  ],\n",
              "       [-116.5949   ,   57.168854 ],\n",
              "       [-201.34645  ,  -71.59068  ],\n",
              "       [ 221.42924  ,   63.651695 ],\n",
              "       [ -75.437004 ,  217.602    ],\n",
              "       [  20.971897 ,  228.57852  ],\n",
              "       [-209.14967  ,   36.39783  ],\n",
              "       [ 162.55963  , -157.29071  ],\n",
              "       [  39.14592  , -222.62059  ],\n",
              "       [  90.2068   ,    9.385067 ],\n",
              "       [ -12.3634405, -128.80617  ],\n",
              "       [-147.63196  , -154.40733  ],\n",
              "       [ -83.9547   ,  -93.85363  ],\n",
              "       [ -50.3678   ,  -22.50076  ],\n",
              "       [ -75.02321  ,  132.3401   ],\n",
              "       [  73.14556  , -141.32222  ]], dtype=float32)"
            ]
          },
          "metadata": {
            "tags": []
          },
          "execution_count": 114
        }
      ]
    },
    {
      "cell_type": "code",
      "metadata": {
        "colab": {
          "base_uri": "https://localhost:8080/",
          "height": 431
        },
        "id": "AiMhI9VjfxI8",
        "outputId": "4a641aa3-f263-4a59-b847-bc158ea960ec"
      },
      "source": [
        "import seaborn as sns\n",
        "sns.set(rc={'figure.figsize':(11.7,8.27)})\n",
        "\n",
        "fig = plt.figure(figsize=(6,6))\n",
        "palette = sns.color_palette(\"bright\", 8)\n",
        "sns.scatterplot(tsne_data[:,0], tsne_data[:,1], legend='full')#, palette=palette)\n",
        "plt.savefig('t-snes_2d', bbox_inches='tight')"
      ],
      "execution_count": 115,
      "outputs": [
        {
          "output_type": "stream",
          "text": [
            "/usr/local/lib/python3.7/dist-packages/seaborn/_decorators.py:43: FutureWarning: Pass the following variables as keyword args: x, y. From version 0.12, the only valid positional argument will be `data`, and passing other arguments without an explicit keyword will result in an error or misinterpretation.\n",
            "  FutureWarning\n"
          ],
          "name": "stderr"
        },
        {
          "output_type": "display_data",
          "data": {
            "image/png": "[encoded data removed]",
            "text/plain": [
              "<Figure size 432x432 with 1 Axes>"
            ]
          },
          "metadata": {
            "tags": []
          }
        }
      ]
    },
    {
      "cell_type": "code",
      "metadata": {
        "colab": {
          "base_uri": "https://localhost:8080/",
          "height": 340
        },
        "id": "N1moHtfDqmwR",
        "outputId": "9f07d8a3-c3ac-483b-b61b-4bb8b49dc028"
      },
      "source": [
        "dist_matrix_tsne = distance_matrix(tsne_data)\n",
        "dist_matrix_dum_tsne, dum_value = dummy_var(dist_matrix_tsne)\n",
        "genetic_path(dist_matrix_dum_tsne)"
      ],
      "execution_count": 116,
      "outputs": [
        {
          "output_type": "error",
          "ename": "KeyboardInterrupt",
          "evalue": "ignored",
          "traceback": [
            "\u001b[0;31m---------------------------------------------------------------------------\u001b[0m",
            "\u001b[0;31mKeyboardInterrupt\u001b[0m                         Traceback (most recent call last)",
            "\u001b[0;32m<ipython-input-116-0b6502c484bc>\u001b[0m in \u001b[0;36m<module>\u001b[0;34m()\u001b[0m\n\u001b[1;32m      1\u001b[0m \u001b[0mdist_matrix_tsne\u001b[0m \u001b[0;34m=\u001b[0m \u001b[0mdistance_matrix\u001b[0m\u001b[0;34m(\u001b[0m\u001b[0mtsne_data\u001b[0m\u001b[0;34m)\u001b[0m\u001b[0;34m\u001b[0m\u001b[0;34m\u001b[0m\u001b[0m\n\u001b[1;32m      2\u001b[0m \u001b[0mdist_matrix_dum_tsne\u001b[0m\u001b[0;34m,\u001b[0m \u001b[0mdum_value\u001b[0m \u001b[0;34m=\u001b[0m \u001b[0mdummy_var\u001b[0m\u001b[0;34m(\u001b[0m\u001b[0mdist_matrix_tsne\u001b[0m\u001b[0;34m)\u001b[0m\u001b[0;34m\u001b[0m\u001b[0;34m\u001b[0m\u001b[0m\n\u001b[0;32m----> 3\u001b[0;31m \u001b[0mgenetic_path\u001b[0m\u001b[0;34m(\u001b[0m\u001b[0mdist_matrix_dum_tsne\u001b[0m\u001b[0;34m)\u001b[0m\u001b[0;34m\u001b[0m\u001b[0;34m\u001b[0m\u001b[0m\n\u001b[0m",
            "\u001b[0;32m<ipython-input-63-534ad7cb2a83>\u001b[0m in \u001b[0;36mgenetic_path\u001b[0;34m(dist_matrix_dum)\u001b[0m\n\u001b[1;32m     16\u001b[0m   \u001b[0mproblem_fit\u001b[0m \u001b[0;34m=\u001b[0m \u001b[0mmlrose\u001b[0m\u001b[0;34m.\u001b[0m\u001b[0mTSPOpt\u001b[0m\u001b[0;34m(\u001b[0m\u001b[0mlength\u001b[0m \u001b[0;34m=\u001b[0m \u001b[0mdummy_node\u001b[0m\u001b[0;34m,\u001b[0m \u001b[0mfitness_fn\u001b[0m \u001b[0;34m=\u001b[0m \u001b[0mfitness_dists\u001b[0m\u001b[0;34m,\u001b[0m \u001b[0mmaximize\u001b[0m\u001b[0;34m=\u001b[0m\u001b[0;32mFalse\u001b[0m\u001b[0;34m)\u001b[0m\u001b[0;34m\u001b[0m\u001b[0;34m\u001b[0m\u001b[0m\n\u001b[1;32m     17\u001b[0m   best_state_genetic, best_fitness = mlrose.genetic_alg(problem_fit, mutation_prob = 0.2, \n\u001b[0;32m---> 18\u001b[0;31m \t\t\t\t\t      max_attempts = 100)# random_state = 2)\n\u001b[0m\u001b[1;32m     19\u001b[0m \u001b[0;34m\u001b[0m\u001b[0m\n\u001b[1;32m     20\u001b[0m   \u001b[0mprint\u001b[0m\u001b[0;34m(\u001b[0m\u001b[0;34m'The best state found is: '\u001b[0m\u001b[0;34m,\u001b[0m \u001b[0mbest_state_genetic\u001b[0m\u001b[0;34m)\u001b[0m\u001b[0;34m\u001b[0m\u001b[0;34m\u001b[0m\u001b[0m\n",
            "\u001b[0;32m/usr/local/lib/python3.7/dist-packages/mlrose/algorithms.py\u001b[0m in \u001b[0;36mgenetic_alg\u001b[0;34m(problem, pop_size, mutation_prob, max_attempts, max_iters, curve, random_state)\u001b[0m\n\u001b[1;32m    430\u001b[0m \u001b[0;34m\u001b[0m\u001b[0m\n\u001b[1;32m    431\u001b[0m         \u001b[0mnext_gen\u001b[0m \u001b[0;34m=\u001b[0m \u001b[0mnp\u001b[0m\u001b[0;34m.\u001b[0m\u001b[0marray\u001b[0m\u001b[0;34m(\u001b[0m\u001b[0mnext_gen\u001b[0m\u001b[0;34m)\u001b[0m\u001b[0;34m\u001b[0m\u001b[0;34m\u001b[0m\u001b[0m\n\u001b[0;32m--> 432\u001b[0;31m         \u001b[0mproblem\u001b[0m\u001b[0;34m.\u001b[0m\u001b[0mset_population\u001b[0m\u001b[0;34m(\u001b[0m\u001b[0mnext_gen\u001b[0m\u001b[0;34m)\u001b[0m\u001b[0;34m\u001b[0m\u001b[0;34m\u001b[0m\u001b[0m\n\u001b[0m\u001b[1;32m    433\u001b[0m \u001b[0;34m\u001b[0m\u001b[0m\n\u001b[1;32m    434\u001b[0m         \u001b[0mnext_state\u001b[0m \u001b[0;34m=\u001b[0m \u001b[0mproblem\u001b[0m\u001b[0;34m.\u001b[0m\u001b[0mbest_child\u001b[0m\u001b[0;34m(\u001b[0m\u001b[0;34m)\u001b[0m\u001b[0;34m\u001b[0m\u001b[0;34m\u001b[0m\u001b[0m\n",
            "\u001b[0;32m/usr/local/lib/python3.7/dist-packages/mlrose/opt_probs.py\u001b[0m in \u001b[0;36mset_population\u001b[0;34m(self, new_population)\u001b[0m\n\u001b[1;32m    203\u001b[0m \u001b[0;34m\u001b[0m\u001b[0m\n\u001b[1;32m    204\u001b[0m         \u001b[0;32mfor\u001b[0m \u001b[0mi\u001b[0m \u001b[0;32min\u001b[0m \u001b[0mrange\u001b[0m\u001b[0;34m(\u001b[0m\u001b[0mlen\u001b[0m\u001b[0;34m(\u001b[0m\u001b[0mself\u001b[0m\u001b[0;34m.\u001b[0m\u001b[0mpopulation\u001b[0m\u001b[0;34m)\u001b[0m\u001b[0;34m)\u001b[0m\u001b[0;34m:\u001b[0m\u001b[0;34m\u001b[0m\u001b[0;34m\u001b[0m\u001b[0m\n\u001b[0;32m--> 205\u001b[0;31m             \u001b[0mfitness\u001b[0m \u001b[0;34m=\u001b[0m \u001b[0mself\u001b[0m\u001b[0;34m.\u001b[0m\u001b[0meval_fitness\u001b[0m\u001b[0;34m(\u001b[0m\u001b[0mself\u001b[0m\u001b[0;34m.\u001b[0m\u001b[0mpopulation\u001b[0m\u001b[0;34m[\u001b[0m\u001b[0mi\u001b[0m\u001b[0;34m]\u001b[0m\u001b[0;34m)\u001b[0m\u001b[0;34m\u001b[0m\u001b[0;34m\u001b[0m\u001b[0m\n\u001b[0m\u001b[1;32m    206\u001b[0m             \u001b[0mpop_fitness\u001b[0m\u001b[0;34m.\u001b[0m\u001b[0mappend\u001b[0m\u001b[0;34m(\u001b[0m\u001b[0mfitness\u001b[0m\u001b[0;34m)\u001b[0m\u001b[0;34m\u001b[0m\u001b[0;34m\u001b[0m\u001b[0m\n\u001b[1;32m    207\u001b[0m \u001b[0;34m\u001b[0m\u001b[0m\n",
            "\u001b[0;32m/usr/local/lib/python3.7/dist-packages/mlrose/opt_probs.py\u001b[0m in \u001b[0;36meval_fitness\u001b[0;34m(self, state)\u001b[0m\n\u001b[1;32m     96\u001b[0m             \u001b[0;32mraise\u001b[0m \u001b[0mException\u001b[0m\u001b[0;34m(\u001b[0m\u001b[0;34m\"state length must match problem length\"\u001b[0m\u001b[0;34m)\u001b[0m\u001b[0;34m\u001b[0m\u001b[0;34m\u001b[0m\u001b[0m\n\u001b[1;32m     97\u001b[0m \u001b[0;34m\u001b[0m\u001b[0m\n\u001b[0;32m---> 98\u001b[0;31m         \u001b[0mfitness\u001b[0m \u001b[0;34m=\u001b[0m \u001b[0mself\u001b[0m\u001b[0;34m.\u001b[0m\u001b[0mmaximize\u001b[0m\u001b[0;34m*\u001b[0m\u001b[0mself\u001b[0m\u001b[0;34m.\u001b[0m\u001b[0mfitness_fn\u001b[0m\u001b[0;34m.\u001b[0m\u001b[0mevaluate\u001b[0m\u001b[0;34m(\u001b[0m\u001b[0mstate\u001b[0m\u001b[0;34m)\u001b[0m\u001b[0;34m\u001b[0m\u001b[0;34m\u001b[0m\u001b[0m\n\u001b[0m\u001b[1;32m     99\u001b[0m \u001b[0;34m\u001b[0m\u001b[0m\n\u001b[1;32m    100\u001b[0m         \u001b[0;32mreturn\u001b[0m \u001b[0mfitness\u001b[0m\u001b[0;34m\u001b[0m\u001b[0;34m\u001b[0m\u001b[0m\n",
            "\u001b[0;32m/usr/local/lib/python3.7/dist-packages/mlrose/fitness.py\u001b[0m in \u001b[0;36mevaluate\u001b[0;34m(self, state)\u001b[0m\n\u001b[1;32m    762\u001b[0m \u001b[0;34m\u001b[0m\u001b[0m\n\u001b[1;32m    763\u001b[0m                 \u001b[0;32mif\u001b[0m \u001b[0mpath\u001b[0m \u001b[0;32min\u001b[0m \u001b[0mself\u001b[0m\u001b[0;34m.\u001b[0m\u001b[0mpath_list\u001b[0m\u001b[0;34m:\u001b[0m\u001b[0;34m\u001b[0m\u001b[0;34m\u001b[0m\u001b[0m\n\u001b[0;32m--> 764\u001b[0;31m                     \u001b[0mfitness\u001b[0m \u001b[0;34m+=\u001b[0m \u001b[0mself\u001b[0m\u001b[0;34m.\u001b[0m\u001b[0mdist_list\u001b[0m\u001b[0;34m[\u001b[0m\u001b[0mself\u001b[0m\u001b[0;34m.\u001b[0m\u001b[0mpath_list\u001b[0m\u001b[0;34m.\u001b[0m\u001b[0mindex\u001b[0m\u001b[0;34m(\u001b[0m\u001b[0mpath\u001b[0m\u001b[0;34m)\u001b[0m\u001b[0;34m]\u001b[0m\u001b[0;34m\u001b[0m\u001b[0;34m\u001b[0m\u001b[0m\n\u001b[0m\u001b[1;32m    765\u001b[0m                 \u001b[0;32melse\u001b[0m\u001b[0;34m:\u001b[0m\u001b[0;34m\u001b[0m\u001b[0;34m\u001b[0m\u001b[0m\n\u001b[1;32m    766\u001b[0m                     \u001b[0mfitness\u001b[0m \u001b[0;34m+=\u001b[0m \u001b[0mnp\u001b[0m\u001b[0;34m.\u001b[0m\u001b[0minf\u001b[0m\u001b[0;34m\u001b[0m\u001b[0;34m\u001b[0m\u001b[0m\n",
            "\u001b[0;31mKeyboardInterrupt\u001b[0m: "
          ]
        }
      ]
    },
    {
      "cell_type": "markdown",
      "metadata": {
        "id": "HhOBxnafvwRl"
      },
      "source": [
        "# -------------------Principal Component Analysis -----------------------"
      ]
    },
    {
      "cell_type": "code",
      "metadata": {
        "colab": {
          "base_uri": "https://localhost:8080/",
          "height": 463
        },
        "id": "YT_kX3omv76G",
        "outputId": "5c1c6ed0-3c1c-40ff-b481-c02c7a63ac2e"
      },
      "source": [
        "from mpl_toolkits.mplot3d import Axes3D\n",
        "from matplotlib.colors import ListedColormap\n",
        "\n",
        "X, y = load_digits(return_X_y=True)\n",
        "pca = PCA(n_components = 4)\n",
        "pca_data = pca.fit_transform(values)\n",
        "pca_data\n",
        "\n",
        "# axes instance\n",
        "sns.set(rc={'axes.facecolor':'white', 'figure.facecolor':'white'})\n",
        "fig = plt.figure(figsize=(6,6))\n",
        "ax = Axes3D(fig)\n",
        "\n",
        "# get colormap from seaborn\n",
        "cmap = ListedColormap(sns.color_palette(\"husl\", 256).as_hex())\n",
        "\n",
        "# plot\n",
        "sc = ax.scatter(pca_data[:,0], pca_data[:,1],pca_data[:,2], s=40, c=pca_data[:,3], marker='o', cmap=cmap, alpha=1)\n",
        "ax.set_xlabel('X Label')\n",
        "ax.set_ylabel('Y Label')\n",
        "ax.set_zlabel('Z Label')\n",
        "\n",
        "# legend\n",
        "plt.legend(*sc.legend_elements(), bbox_to_anchor=(1.05, 1), loc=2)\n",
        "\n",
        "# save\n",
        "plt.savefig(\"scatter_hue\", bbox_inches='tight')"
      ],
      "execution_count": 117,
      "outputs": [
        {
          "output_type": "display_data",
          "data": {
            "image/png": "[encoded data removed]",
            "text/plain": [
              "<Figure size 432x432 with 1 Axes>"
            ]
          },
          "metadata": {
            "tags": []
          }
        }
      ]
    },
    {
      "cell_type": "code",
      "metadata": {
        "id": "0Ajf0J3v1DW9"
      },
      "source": [
        "plt.savefig('/content/drive/MyDrive/3Dgenreplot')"
      ],
      "execution_count": null,
      "outputs": []
    },
    {
      "cell_type": "code",
      "metadata": {
        "id": "8Jtpu7n8ug2U"
      },
      "source": [
        "X, y = load_digits(return_X_y=True)\n",
        "pca = PCA(n_components = 2)\n",
        "pca_data = pca.fit_transform(values)\n",
        "pca_data\n",
        "sns.scatterplot(pca_data[:,0], pca_data[:,1], legend='full')#, palette=palette)"
      ],
      "execution_count": null,
      "outputs": []
    },
    {
      "cell_type": "code",
      "metadata": {
        "id": "I9BLo2nJ1OXG"
      },
      "source": [
        "plt.savefig('pca_2d', bbox_inches='tight')"
      ],
      "execution_count": null,
      "outputs": []
    },
    {
      "cell_type": "code",
      "metadata": {
        "id": "AAmzKjGci2SG"
      },
      "source": [
        "dist_matrix = np.zeros((num_songs,num_songs))\n",
        "for i in range(num_songs):\n",
        "  for j in range(num_songs):\n",
        "    dist_matrix[i,j]= distance.euclidean(pca_data[i,:],pca_data[j,:])\n",
        "\n",
        "dist_matrix_pca = dist_matrix.round(4)   "
      ],
      "execution_count": 118,
      "outputs": []
    },
    {
      "cell_type": "code",
      "metadata": {
        "id": "pevVhaOOspem"
      },
      "source": [
        ""
      ],
      "execution_count": null,
      "outputs": []
    },
    {
      "cell_type": "code",
      "metadata": {
        "colab": {
          "base_uri": "https://localhost:8080/"
        },
        "id": "Rxju_mtTklxh",
        "outputId": "013a1ab5-d1bb-4214-ef31-2a655728b92c"
      },
      "source": [
        "# Add Dummy Variable to PCA Distance Matrix and Run through genetic algorithm\n",
        "dist_matrix_pca = distance_matrix(pca_data)\n",
        "dist_matrix_pca\n",
        "dist_matrix_dum_pca , dum_value = dummy_var(dist_matrix_pca)\n",
        "genetic_path(dist_matrix_dum_pca)"
      ],
      "execution_count": 119,
      "outputs": [
        {
          "output_type": "stream",
          "text": [
            "The best state found is:  [22 26  1 17 12  7  0 25 11 20 13 21  4  5 28 29  9 24 10  6  2 27 18 16\n",
            " 15 19 23  8 14  3]\n",
            "The fitness (or total distance) at the best state is:  13.4219\n"
          ],
          "name": "stdout"
        },
        {
          "output_type": "execute_result",
          "data": {
            "text/plain": [
              "(array([22, 26,  1, 17, 12,  7,  0, 25, 11, 20, 13, 21,  4,  5, 28, 29,  9,\n",
              "        24, 10,  6,  2, 27, 18, 16, 15, 19, 23,  8, 14,  3]), 13.4219)"
            ]
          },
          "metadata": {
            "tags": []
          },
          "execution_count": 119
        }
      ]
    }
  ]
}