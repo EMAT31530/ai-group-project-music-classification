{
  "nbformat": 4,
  "nbformat_minor": 0,
  "metadata": {
    "colab": {
      "name": "TSP Ordering.ipynb",
      "provenance": [],
      "collapsed_sections": [],
      "mount_file_id": "https://github.com/EMAT31530/ai-group-project-music-classification/blob/master/TSP_Ordering.ipynb",
      "authorship_tag": "ABX9TyP8GpCENE1xIPGIpREtdObz",
      "include_colab_link": true
    },
    "kernelspec": {
      "name": "python3",
      "display_name": "Python 3"
    },
    "language_info": {
      "name": "python"
    }
  },
  "cells": [
    {
      "cell_type": "markdown",
      "metadata": {
        "id": "view-in-github",
        "colab_type": "text"
      },
      "source": [
        "<a href=\"https://colab.research.google.com/github/EMAT31530/ai-group-project-music-classification/blob/master/TSP_Ordering.ipynb\" target=\"_parent\"><img src=\"https://colab.research.google.com/assets/colab-badge.svg\" alt=\"Open In Colab\"/></a>"
      ]
    },
    {
      "cell_type": "markdown",
      "metadata": {
        "id": "7yrylDLsj0oa"
      },
      "source": [
        "# Implementation of an approximate solver for Metric Travelling Salesperson Problem\n",
        "Steps:\n",
        "\n",
        "\n",
        "1.   Take a collection of songs as input, \n",
        "2.   Convert audio data into spectrogram images \n",
        "3. Classify their genres using our CNN model\n",
        "4. Take each song's softmax output to obtain the calculated probability of each genre\n",
        "5. Interpret each soft-max output as position vectors in a multi-dimensional vector space, from 0-1 in each genre.\n",
        "6. Order the track listing in such a way to  approximate a minimal S(X), the sum of each distance (some chosen distance/cost function d(x,y)) between consecutive songs in the vector space.\n",
        "7.Output a track listing which gives our attempt at ordering songs into the most natural progression between genres\n",
        "\n",
        "\n",
        "\n",
        "\n",
        "Want to solve the problem of finding the shortest route through a low (< 15) number of points in a multi-dimensional space. \n",
        "We attempt this using a Branch & Bound search algorithm, and implementing a genetic algorithm with mlrose:\n",
        "\n",
        "https://arxiv.org/pdf/1805.04131.pdf\n",
        "\n",
        "https://coral.ise.lehigh.edu/wiki/doku.php/travelling_salesman_problem\n",
        "\n",
        "https://en.wikipedia.org/wiki/Genetic_algorithm\n",
        "\n",
        "https://towardsdatascience.com/solving-travelling-salesperson-problems-with-python-5de7e883d847"
      ]
    },
    {
      "cell_type": "code",
      "metadata": {
        "id": "LhJb-tkRlhfh"
      },
      "source": [
        ""
      ],
      "execution_count": 136,
      "outputs": []
    },
    {
      "cell_type": "code",
      "metadata": {
        "id": "MTqrI1JDfMeh"
      },
      "source": [
        "import numpy as np\n",
        "from numpy.random import seed\n",
        "from numpy.random import rand\n",
        "%matplotlib inline\n",
        "import numpy as np\n",
        "import matplotlib.pyplot as plt\n",
        "from scipy.spatial import distance"
      ],
      "execution_count": 137,
      "outputs": []
    },
    {
      "cell_type": "code",
      "metadata": {
        "colab": {
          "base_uri": "https://localhost:8080/"
        },
        "id": "vd7EBKtUf4_s",
        "outputId": "cef5638d-52be-412a-c75d-f04490c56c24"
      },
      "source": [
        "#Create random values for testing\n",
        "num_songs = 8\n",
        "num_genres = 10\n",
        "seed(3)\n",
        "#for i in range(0,L-1):\n",
        " # genre_index[i]=L\n",
        "random_int = np.random.randint(1, 100, num_songs) * 0.2\n",
        "\n",
        "values = np.zeros((num_songs,num_genres)) \n",
        "for i in range(num_songs):\n",
        "  alpha = np.divide(np.ones(num_genres),random_int[i])\n",
        "  values[i,:] = np.random.dirichlet(alpha,size=1)\n",
        "#rand_gen = rand(num_genres,num_songs)\n",
        "#rand_sum = np.sum(rand_gen, axis = 1)\n",
        "#values = rand_generator\n",
        "print(values)\n",
        "\n"
      ],
      "execution_count": 138,
      "outputs": [
        {
          "output_type": "stream",
          "text": [
            "[[1.12572955e-09 4.54923593e-04 9.28913178e-03 2.69831267e-03\n",
            "  4.11325814e-01 2.50835110e-02 3.37631184e-02 9.43718771e-03\n",
            "  1.78427775e-01 3.29520225e-01]\n",
            " [1.77151471e-01 3.63789468e-02 2.29462065e-01 4.47868525e-02\n",
            "  1.28748550e-01 3.31742223e-03 1.24119332e-01 1.59583356e-02\n",
            "  4.15025626e-02 1.98574463e-01]\n",
            " [1.09307616e-13 7.04336915e-02 4.36486489e-05 6.20413059e-04\n",
            "  9.26675246e-06 1.34000939e-03 5.25265694e-01 1.05433525e-09\n",
            "  4.02287276e-01 3.91088843e-19]\n",
            " [1.97741964e-23 8.74531081e-01 2.61702107e-11 1.26646308e-02\n",
            "  6.08134049e-14 7.08326745e-03 9.59637887e-07 1.00353633e-05\n",
            "  7.60559537e-04 1.04949466e-01]\n",
            " [9.42382078e-02 9.01203260e-02 8.61175950e-02 1.26180793e-01\n",
            "  5.84844072e-02 1.05310238e-01 6.28628405e-02 5.28069830e-02\n",
            "  2.37592478e-01 8.62861319e-02]\n",
            " [9.28913511e-05 2.60022834e-03 2.36577348e-03 4.89600308e-01\n",
            "  7.20066867e-02 1.27671651e-04 1.26609164e-03 3.01901208e-04\n",
            "  2.23040245e-01 2.08598203e-01]\n",
            " [3.32482182e-01 3.13114421e-05 7.00435001e-02 5.73168250e-05\n",
            "  5.94544829e-02 6.52815864e-03 4.30341250e-02 1.50223806e-01\n",
            "  3.38056095e-01 8.90223675e-05]\n",
            " [1.28137970e-02 9.13111972e-03 6.64560101e-01 7.12246575e-02\n",
            "  1.01173587e-03 1.02448567e-05 5.09463453e-02 1.04345115e-06\n",
            "  4.61768261e-15 1.90300955e-01]]\n"
          ],
          "name": "stdout"
        }
      ]
    },
    {
      "cell_type": "code",
      "metadata": {
        "id": "8VckeWJyMXMR"
      },
      "source": [
        ""
      ],
      "execution_count": 138,
      "outputs": []
    },
    {
      "cell_type": "code",
      "metadata": {
        "colab": {
          "base_uri": "https://localhost:8080/"
        },
        "id": "N8Fg-IklqHKl",
        "outputId": "e8c5e566-e2cb-4df9-9476-53d452c87e4c"
      },
      "source": [
        "values3D = np.zeros((num_songs,3)) \n",
        "for i in range(num_songs):\n",
        "  alpha = np.divide(np.ones(3),random_int[i])\n",
        "  values3D[i,:] = np.random.dirichlet(alpha,size=1)\n",
        "values3D"
      ],
      "execution_count": 139,
      "outputs": [
        {
          "output_type": "execute_result",
          "data": {
            "text/plain": [
              "array([[9.96932317e-01, 2.68767556e-04, 2.79891584e-03],\n",
              "       [1.72917388e-01, 7.93919832e-01, 3.31627800e-02],\n",
              "       [5.53151608e-01, 4.46847338e-01, 1.05354585e-06],\n",
              "       [3.68735365e-03, 9.96293274e-01, 1.93725907e-05],\n",
              "       [1.88142245e-01, 3.44004696e-01, 4.67853059e-01],\n",
              "       [1.60562722e-07, 3.25904531e-09, 9.99999836e-01],\n",
              "       [1.15626590e-04, 9.96144374e-01, 3.73999926e-03],\n",
              "       [5.83393620e-06, 6.52718111e-01, 3.47276055e-01]])"
            ]
          },
          "metadata": {
            "tags": []
          },
          "execution_count": 139
        }
      ]
    },
    {
      "cell_type": "code",
      "metadata": {
        "colab": {
          "base_uri": "https://localhost:8080/",
          "height": 248
        },
        "id": "rX6Pzu265mLO",
        "outputId": "599c8f27-497e-4091-93cd-9c59b2ec92d1"
      },
      "source": [
        "\n",
        "\n",
        "fig = plt.figure()\n",
        "ax = fig.add_subplot(111, projection='3d')\n",
        "ax.scatter(values3D[:,0], values3D[:,1], values3D[:,2])\n",
        "# Method 1\n",
        "ax.set_xlabel('genre 1')\n",
        "ax.set_ylabel('genre 2')\n",
        "ax.set_zlabel('genre 3')\n",
        "#plt.title('collection softmax outputs as 3-genre vector space')\n",
        "#plt.show()\n",
        "plt.savefig('/content/drive/MyDrive/3Dgenreplot')"
      ],
      "execution_count": 140,
      "outputs": [
        {
          "output_type": "display_data",
          "data": {
            "image/png": "[encoded data removed]",
            "text/plain": [
              "<Figure size 432x288 with 1 Axes>"
            ]
          },
          "metadata": {
            "tags": [],
            "needs_background": "light"
          }
        }
      ]
    },
    {
      "cell_type": "code",
      "metadata": {
        "id": "jzHC4ZhewO5V"
      },
      "source": [
        ""
      ],
      "execution_count": 140,
      "outputs": []
    },
    {
      "cell_type": "code",
      "metadata": {
        "id": "H4hKbS1Z9Awc"
      },
      "source": [
        "def distance_matrix(values):\n",
        "  dist_matrix = np.zeros((num_songs,num_songs))\n",
        "  for i in range(num_songs):\n",
        "    for j in range(num_songs):\n",
        "      dist_matrix[i,j]= distance.euclidean(values[i,:],values[j,:])\n",
        "\n",
        "  dist_matrix = dist_matrix.round(4)   \n",
        "  \n",
        "  return dist_matrix                                         \n"
      ],
      "execution_count": 141,
      "outputs": []
    },
    {
      "cell_type": "code",
      "metadata": {
        "id": "4HzaZwbhoIiu"
      },
      "source": [
        "dist_matrix = distance_matrix(values)"
      ],
      "execution_count": 142,
      "outputs": []
    },
    {
      "cell_type": "code",
      "metadata": {
        "colab": {
          "base_uri": "https://localhost:8080/"
        },
        "id": "RnNdOeQBjwWm",
        "outputId": "7526808d-1115-4945-8435-5985a76a1ca7"
      },
      "source": [
        "# Python3 program to solve \n",
        "# Traveling Salesman Problem using \n",
        "# Branch and Bound.\n",
        "import math\n",
        "maxsize = float('inf')\n",
        "  \n",
        "# Function to copy temporary solution\n",
        "# to the final solution\n",
        "def copyToFinal(curr_path):\n",
        "    final_path[:N + 1] = curr_path[:]\n",
        "    final_path[N] = curr_path[0]\n",
        "  \n",
        "# Function to find the minimum edge cost \n",
        "# having an end at the vertex i\n",
        "def firstMin(adj, i):\n",
        "    min = maxsize\n",
        "    for k in range(N):\n",
        "        if adj[i][k] < min and i != k:\n",
        "            min = adj[i][k]\n",
        "  \n",
        "    return min\n",
        "  \n",
        "# function to find the second minimum edge \n",
        "# cost having an end at the vertex i\n",
        "def secondMin(adj, i):\n",
        "    first, second = maxsize, maxsize\n",
        "    for j in range(N):\n",
        "        if i == j:\n",
        "            continue\n",
        "        if adj[i][j] <= first:\n",
        "            second = first\n",
        "            first = adj[i][j]\n",
        "  \n",
        "        elif(adj[i][j] <= second and \n",
        "             adj[i][j] != first):\n",
        "            second = adj[i][j]\n",
        "  \n",
        "    return second\n",
        "  \n",
        "# function that takes as arguments:\n",
        "# curr_bound -> lower bound of the root node\n",
        "# curr_weight-> stores the weight of the path so far\n",
        "# level-> current level while moving\n",
        "# in the search space tree\n",
        "# curr_path[] -> where the solution is being stored\n",
        "# which would later be copied to final_path[]\n",
        "def TSPRec(adj, curr_bound, curr_weight, \n",
        "              level, curr_path, visited):\n",
        "    global final_res\n",
        "      \n",
        "    # base case is when we have reached level N \n",
        "    # which means we have covered all the nodes once\n",
        "    if level == N:\n",
        "          \n",
        "        # check if there is an edge from\n",
        "        # last vertex in path back to the first vertex\n",
        "        if adj[curr_path[level - 1]][curr_path[0]] != 0:\n",
        "              \n",
        "            # curr_res has the total weight\n",
        "            # of the solution we got\n",
        "            curr_res = curr_weight + adj[curr_path[level - 1]]\\\n",
        "                                        [curr_path[0]]\n",
        "            if curr_res < final_res:\n",
        "                copyToFinal(curr_path)\n",
        "                final_res = curr_res\n",
        "        return\n",
        "  \n",
        "    # for any other level iterate for all vertices\n",
        "    # to build the search space tree recursively\n",
        "    for i in range(N):\n",
        "          \n",
        "        # Consider next vertex if it is not same \n",
        "        # (diagonal entry in adjacency matrix and \n",
        "        #  not visited already)\n",
        "        if (adj[curr_path[level-1]][i] != 0 and\n",
        "                            visited[i] == False):\n",
        "            temp = curr_bound\n",
        "            curr_weight += adj[curr_path[level - 1]][i]\n",
        "  \n",
        "            # different computation of curr_bound \n",
        "            # for level 2 from the other levels\n",
        "            if level == 1:\n",
        "                curr_bound -= ((firstMin(adj, curr_path[level - 1]) + \n",
        "                                firstMin(adj, i)) / 2)\n",
        "            else:\n",
        "                curr_bound -= ((secondMin(adj, curr_path[level - 1]) +\n",
        "                                 firstMin(adj, i)) / 2)\n",
        "  \n",
        "            # curr_bound + curr_weight is the actual lower bound \n",
        "            # for the node that we have arrived on.\n",
        "            # If current lower bound < final_res, \n",
        "            # we need to explore the node further\n",
        "            if curr_bound + curr_weight < final_res:\n",
        "                curr_path[level] = i\n",
        "                visited[i] = True\n",
        "                  \n",
        "                # call TSPRec for the next level\n",
        "                TSPRec(adj, curr_bound, curr_weight, \n",
        "                       level + 1, curr_path, visited)\n",
        "  \n",
        "            # Else we have to prune the node by resetting \n",
        "            # all changes to curr_weight and curr_bound\n",
        "            curr_weight -= adj[curr_path[level - 1]][i]\n",
        "            curr_bound = temp\n",
        "  \n",
        "            # Also reset the visited array\n",
        "            visited = [False] * len(visited)\n",
        "            for j in range(level):\n",
        "                if curr_path[j] != -1:\n",
        "                    visited[curr_path[j]] = True\n",
        "  \n",
        "# This function sets up final_path\n",
        "def TSP(adj):\n",
        "      \n",
        "    # Calculate initial lower bound for the root node \n",
        "    # using the formula 1/2 * (sum of first min + \n",
        "    # second min) for all edges. Also initialize the \n",
        "    # curr_path and visited array\n",
        "    curr_bound = 0\n",
        "    curr_path = [-1] * (N + 1)\n",
        "    visited = [False] * N\n",
        "  \n",
        "    # Compute initial bound\n",
        "    for i in range(N):\n",
        "        curr_bound += (firstMin(adj, i) + \n",
        "                       secondMin(adj, i))\n",
        "  \n",
        "    # Rounding off the lower bound to an integer\n",
        "    curr_bound = math.ceil(curr_bound / 2)\n",
        "  \n",
        "    # We start at vertex 1 so the first vertex \n",
        "    # in curr_path[] is 0\n",
        "    visited[0] = True\n",
        "    curr_path[0] = 0\n",
        "  \n",
        "    # Call to TSPRec for curr_weight \n",
        "    # equal to 0 and level 1\n",
        "    TSPRec(adj, curr_bound, 0, 1, curr_path, visited)\n",
        "  \n",
        "# Driver code\n",
        "  \n",
        "# Adjacency matrix for the given graph\n",
        "N = num_songs\n",
        "adj = dist_matrix\n",
        "  \n",
        "# final_path[] stores the final solution \n",
        "# i.e. the // path of the salesman.\n",
        "final_path = [None] * (N + 1)\n",
        "  \n",
        "# visited[] keeps track of the already\n",
        "# visited nodes in a particular path\n",
        "visited = [False] * N\n",
        "  \n",
        "# Stores the final minimum weight\n",
        "# of shortest tour.\n",
        "final_res = maxsize\n",
        "  \n",
        "TSP(adj)\n",
        "  \n",
        "print(\"Minimum cost :\", final_res)\n",
        "print(\"Path Taken : \", end = ' ')\n",
        "for i in range(N + 1):\n",
        "    print(final_path[i], end = ' ')"
      ],
      "execution_count": 143,
      "outputs": [
        {
          "output_type": "stream",
          "text": [
            "Minimum cost : 5.712000000000001\n",
            "Path Taken :  0 1 2 3 4 5 6 7 0 "
          ],
          "name": "stdout"
        }
      ]
    },
    {
      "cell_type": "markdown",
      "metadata": {
        "id": "doS6yK8MweHI"
      },
      "source": [
        "Next, we need to add a dummy node with zeroed distances to act as start and end node, avoiding the cycle being taken into account"
      ]
    },
    {
      "cell_type": "code",
      "metadata": {
        "id": "rxDsXT5a3YJn"
      },
      "source": [
        "#Want to add a dummy node to represent the 1st and last destinations of TSP problem\n",
        "#we define the dummy's distance value to be half the minimum non-zero value in distance matrix from every distance\n",
        "def dummy_var(dist_matrix):\n",
        "\n",
        "  minval = np.min(dist_matrix[np.nonzero(dist_matrix)])\n",
        "  dum_value = minval/2\n",
        "  dist_matrix_dum = np.pad(dist_matrix,((1,0),), 'constant',constant_values=(dum_value))\n",
        "  return dist_matrix_dum , dum_value"
      ],
      "execution_count": 144,
      "outputs": []
    },
    {
      "cell_type": "code",
      "metadata": {
        "id": "Cha4JywQkexe"
      },
      "source": [
        "dist_matrix_dum , dum_value = dummy_var(dist_matrix)"
      ],
      "execution_count": 145,
      "outputs": []
    },
    {
      "cell_type": "code",
      "metadata": {
        "colab": {
          "base_uri": "https://localhost:8080/"
        },
        "id": "ERJtV86a925I",
        "outputId": "d1aaf653-3d04-43c8-d03d-41c000ddb9f6"
      },
      "source": [
        "# Adjacency matrix for the given graph\n",
        "N = num_songs+1\n",
        "adj = dist_matrix_dum\n",
        "  \n",
        "# final_path[] stores the final solution \n",
        "# i.e. the // path of the salesman.\n",
        "final_path = [None] * (N + 1)\n",
        "  \n",
        "# visited[] keeps track of the already\n",
        "# visited nodes in a particular path\n",
        "visited = [False] * N\n",
        "  \n",
        "# Stores the final minimum weight\n",
        "# of shortest tour.\n",
        "final_res = maxsize\n",
        "  \n",
        "TSP(adj)\n",
        "# Since we have defined the dummy variable to be half the minimum non-zero value in distance matrix\n",
        "# subtract 2*dummy value from minumum cost to get actual distance cost of a path without a final return making it a tour\n",
        "branch_cost = final_res - dum_value*2\n",
        "print(\"Minimum cost :\", branch_cost)\n",
        "print(\"Path Taken : \", end = ' ')\n",
        "#best_state_branch = np.zeros(N)\n",
        "#for i in range(N + 1):\n",
        "    #final_path[i], end = ' '\n",
        "best_state_branch = final_path\n",
        "print(best_state_branch)\n",
        "\n"
      ],
      "execution_count": 146,
      "outputs": [
        {
          "output_type": "stream",
          "text": [
            "Minimum cost : 4.2096\n",
            "Path Taken :  [0, 1, 2, 8, 6, 5, 7, 3, 4, 0]\n"
          ],
          "name": "stdout"
        }
      ]
    },
    {
      "cell_type": "markdown",
      "metadata": {
        "id": "vVpGD27i-BP6"
      },
      "source": [
        "As we can see, the dummy variable removes the final distance completing the tour from being taken into count into the optimization, since its distance is the smallest\n",
        "\n"
      ]
    },
    {
      "cell_type": "markdown",
      "metadata": {
        "id": "g_KGKKx0wJ5_"
      },
      "source": [
        "### Genetic Algorithm Method\n",
        "Implementation using Mlrose"
      ]
    },
    {
      "cell_type": "code",
      "metadata": {
        "colab": {
          "base_uri": "https://localhost:8080/"
        },
        "id": "pmDK2KHNfkio",
        "outputId": "e6a6c7fa-8a62-4279-9047-e1b53da5dcb8"
      },
      "source": [
        "pip install mlrose"
      ],
      "execution_count": 147,
      "outputs": [
        {
          "output_type": "stream",
          "text": [
            "Requirement already satisfied: mlrose in /usr/local/lib/python3.7/dist-packages (1.3.0)\n",
            "Requirement already satisfied: sklearn in /usr/local/lib/python3.7/dist-packages (from mlrose) (0.0)\n",
            "Requirement already satisfied: scipy in /usr/local/lib/python3.7/dist-packages (from mlrose) (1.4.1)\n",
            "Requirement already satisfied: numpy in /usr/local/lib/python3.7/dist-packages (from mlrose) (1.19.5)\n",
            "Requirement already satisfied: scikit-learn in /usr/local/lib/python3.7/dist-packages (from sklearn->mlrose) (0.22.2.post1)\n",
            "Requirement already satisfied: joblib>=0.11 in /usr/local/lib/python3.7/dist-packages (from scikit-learn->sklearn->mlrose) (1.0.1)\n"
          ],
          "name": "stdout"
        }
      ]
    },
    {
      "cell_type": "code",
      "metadata": {
        "id": "1RDevHjPwWNu"
      },
      "source": [
        ""
      ],
      "execution_count": 147,
      "outputs": []
    },
    {
      "cell_type": "code",
      "metadata": {
        "colab": {
          "base_uri": "https://localhost:8080/"
        },
        "id": "fMKh0irBO_hk",
        "outputId": "02202c2f-d956-4c9d-cd88-c62b8d99e2e0"
      },
      "source": [
        "\n",
        "\n",
        "#First we attempt a tour, rather than a path (starts and ends at same node)\n",
        "import mlrose\n",
        "dist_list=[]\n",
        "count=1\n",
        "for i in range(num_songs):\n",
        "  for j in range(num_songs):\n",
        "    if i!=j:\n",
        "      dist_list.append((i,j,dist_matrix[i,j]))\n",
        "      count+=1\n",
        "print(dist_list)"
      ],
      "execution_count": 148,
      "outputs": [
        {
          "output_type": "stream",
          "text": [
            "[(0, 1, 0.4554), (0, 2, 0.7583), (0, 3, 1.0084), (0, 4, 0.4841), (0, 5, 0.6088), (0, 6, 0.6263), (0, 7, 0.8093), (1, 0, 0.4554), (1, 2, 0.6591), (1, 3, 0.9112), (1, 4, 0.3293), (1, 5, 0.5775), (1, 6, 0.4578), (1, 7, 0.4914), (2, 0, 0.7583), (2, 1, 0.6591), (2, 3, 1.0464), (2, 4, 0.5458), (2, 5, 0.774), (2, 6, 0.619), (2, 7, 0.9346), (3, 0, 1.0084), (3, 1, 0.9112), (3, 2, 1.0464), (3, 4, 0.849), (3, 5, 1.0262), (3, 6, 1.0164), (3, 7, 1.0973), (4, 0, 0.4841), (4, 1, 0.3293), (4, 2, 0.5458), (4, 3, 0.849), (4, 5, 0.4343), (4, 6, 0.3438), (4, 7, 0.6598), (5, 0, 0.6088), (5, 1, 0.5775), (5, 2, 0.774), (5, 3, 1.0262), (5, 4, 0.4343), (5, 6, 0.6602), (5, 7, 0.8193), (6, 0, 0.6263), (6, 1, 0.4578), (6, 2, 0.619), (6, 3, 1.0164), (6, 4, 0.3438), (6, 5, 0.6602), (6, 7, 0.7983), (7, 0, 0.8093), (7, 1, 0.4914), (7, 2, 0.9346), (7, 3, 1.0973), (7, 4, 0.6598), (7, 5, 0.8193), (7, 6, 0.7983)]\n"
          ],
          "name": "stdout"
        }
      ]
    },
    {
      "cell_type": "code",
      "metadata": {
        "colab": {
          "base_uri": "https://localhost:8080/"
        },
        "id": "hzGXyzYIkMmK",
        "outputId": "7a4eb853-14b9-41ea-8c1b-519fe7b922d8"
      },
      "source": [
        "# Initialize fitness function object using dist_list\n",
        "fitness_dists = mlrose.TravellingSales(distances = dist_list)\n",
        "problem_fit = mlrose.TSPOpt(length = num_songs, fitness_fn = fitness_dists, maximize=False)\n",
        "#problem_fit = mlrose.TSPOpt(length = num_songs, distances = dist_list, maximize=False)\n",
        "# Solve problem using the genetic algorithm\n",
        "best_state, best_fitness = mlrose.genetic_alg(problem_fit, random_state = 2)\n",
        "\n",
        "print('The best state found is: ', best_state)\n",
        "\n",
        "print('The fitness at the best state is: ', best_fitness)\n",
        "\n"
      ],
      "execution_count": 149,
      "outputs": [
        {
          "output_type": "stream",
          "text": [
            "The best state found is:  [7 3 2 6 4 5 0 1]\n",
            "The fitness at the best state is:  5.096399999999999\n"
          ],
          "name": "stdout"
        }
      ]
    },
    {
      "cell_type": "code",
      "metadata": {
        "colab": {
          "base_uri": "https://localhost:8080/"
        },
        "id": "LupvUia3mr1A",
        "outputId": "c945db24-1e79-48a4-807c-8a47952c9b6d"
      },
      "source": [
        "#Tune parameters to attempt to find better estimate\n",
        "best_state, best_fitness = mlrose.genetic_alg(problem_fit, mutation_prob = 0.2, \n",
        "\t\t\t\t\t      max_attempts = 100, random_state = 2)\n",
        "\n",
        "print('The best state found is: ', best_state)\n",
        "\n",
        "print('The fitness at the best state is: ', best_fitness)"
      ],
      "execution_count": 150,
      "outputs": [
        {
          "output_type": "stream",
          "text": [
            "The best state found is:  [2 6 4 5 0 1 7 3]\n",
            "The fitness at the best state is:  5.0964\n"
          ],
          "name": "stdout"
        }
      ]
    },
    {
      "cell_type": "code",
      "metadata": {
        "id": "I8RD1EWrnKqT"
      },
      "source": [
        "#Now we add a dummy node of negligible distance from each node to calculate path (no cycle)\n",
        "#So as a tour is calculated, the final \n",
        "def genetic_path(dist_matrix_dum):\n",
        "  dist_list=[]\n",
        "  count=1\n",
        "  dummy_node = num_songs+1\n",
        "  for i in range(dummy_node):\n",
        "    for j in range(dummy_node):\n",
        "      if i!=j:\n",
        "        dist_list.append((i,j,dist_matrix_dum[i,j]))\n",
        "        count+=1\n",
        "  #print(dist_list)\n",
        "\n",
        "\n",
        "  fitness_dists = mlrose.TravellingSales(distances = dist_list)\n",
        "  problem_fit = mlrose.TSPOpt(length = dummy_node, fitness_fn = fitness_dists, maximize=False)\n",
        "  best_state_genetic, best_fitness = mlrose.genetic_alg(problem_fit, mutation_prob = 0.2, \n",
        "\t\t\t\t\t      max_attempts = 100, random_state = 2)\n",
        "\n",
        "  print('The best state found is: ', best_state_genetic)\n",
        "  genetic_cost = best_fitness -2*dum_value\n",
        "  print('The fitness (or total distance) at the best state is: ', genetic_cost)\n",
        "  return best_state_genetic , genetic_cost\n"
      ],
      "execution_count": 151,
      "outputs": []
    },
    {
      "cell_type": "code",
      "metadata": {
        "id": "Tp6K9UxAjdC4",
        "outputId": "5642415e-0f71-4156-a92b-a0aa79176e0f",
        "colab": {
          "base_uri": "https://localhost:8080/"
        }
      },
      "source": [
        "genetic_path(dist_matrix_dum)"
      ],
      "execution_count": 152,
      "outputs": [
        {
          "output_type": "stream",
          "text": [
            "The best state found is:  [2 1 6 5 7 3 4 0 8]\n",
            "The fitness (or total distance) at the best state is:  3.9990999999999994\n"
          ],
          "name": "stdout"
        },
        {
          "output_type": "execute_result",
          "data": {
            "text/plain": [
              "(array([2, 1, 6, 5, 7, 3, 4, 0, 8]), 3.9990999999999994)"
            ]
          },
          "metadata": {
            "tags": []
          },
          "execution_count": 152
        }
      ]
    },
    {
      "cell_type": "code",
      "metadata": {
        "colab": {
          "base_uri": "https://localhost:8080/"
        },
        "id": "HIp5KlDhDfGr",
        "outputId": "11681af7-5d14-4f67-d720-722a629278db"
      },
      "source": [
        "np.min([genetic_cost,branch_cost])"
      ],
      "execution_count": 153,
      "outputs": [
        {
          "output_type": "execute_result",
          "data": {
            "text/plain": [
              "3.9106"
            ]
          },
          "metadata": {
            "tags": []
          },
          "execution_count": 153
        }
      ]
    },
    {
      "cell_type": "markdown",
      "metadata": {
        "id": "egprwvihXmXv"
      },
      "source": [
        "\n",
        "\n",
        "# ------------------ Dimensionality Reduction -----------------------------"
      ]
    },
    {
      "cell_type": "code",
      "metadata": {
        "id": "44WNpAL0XtoY"
      },
      "source": [
        "import sklearn.datasets\n",
        "import sklearn.manifold\n",
        "import sklearn.decomposition"
      ],
      "execution_count": 154,
      "outputs": []
    },
    {
      "cell_type": "code",
      "metadata": {
        "id": "7kXew06fYCFq"
      },
      "source": [
        "from sklearn.datasets import load_digits\n",
        "from sklearn.manifold import TSNE\n",
        "from sklearn.decomposition import PCA"
      ],
      "execution_count": 155,
      "outputs": []
    },
    {
      "cell_type": "markdown",
      "metadata": {
        "id": "w6elzmy_vpy1"
      },
      "source": [
        "# ---------------- t-SNE -------------------------"
      ]
    },
    {
      "cell_type": "code",
      "metadata": {
        "id": "Gpv-rB8yYM2-"
      },
      "source": [
        "X, y = load_digits(return_X_y=True)\n",
        "tsne = TSNE(n_components = 2)\n",
        "tsne_data = tsne.fit_transform(values)"
      ],
      "execution_count": 156,
      "outputs": []
    },
    {
      "cell_type": "code",
      "metadata": {
        "colab": {
          "base_uri": "https://localhost:8080/"
        },
        "id": "cucslpOihdRv",
        "outputId": "773c2a72-52b8-476a-ed94-8ee16d6c7c38"
      },
      "source": [
        "tsne_data"
      ],
      "execution_count": 157,
      "outputs": [
        {
          "output_type": "execute_result",
          "data": {
            "text/plain": [
              "array([[ -71.97164 , -476.48712 ],\n",
              "       [ 233.69522 ,  358.19937 ],\n",
              "       [-159.05933 ,  407.953   ],\n",
              "       [-442.51178 ,  131.7067  ],\n",
              "       [ 438.7155  ,   19.638699],\n",
              "       [ -14.580175,  -24.846142],\n",
              "       [ 303.97992 , -352.5988  ],\n",
              "       [-404.90952 , -262.38324 ]], dtype=float32)"
            ]
          },
          "metadata": {
            "tags": []
          },
          "execution_count": 157
        }
      ]
    },
    {
      "cell_type": "code",
      "metadata": {
        "colab": {
          "base_uri": "https://localhost:8080/",
          "height": 570
        },
        "id": "AiMhI9VjfxI8",
        "outputId": "57561977-bf04-42ac-e983-105248db1695"
      },
      "source": [
        "import seaborn as sns\n",
        "sns.set(rc={'figure.figsize':(11.7,8.27)})\n",
        "palette = sns.color_palette(\"bright\", 8)\n",
        "sns.scatterplot(tsne_data[:,0], tsne_data[:,1], legend='full')#, palette=palette)"
      ],
      "execution_count": 158,
      "outputs": [
        {
          "output_type": "stream",
          "text": [
            "/usr/local/lib/python3.7/dist-packages/seaborn/_decorators.py:43: FutureWarning: Pass the following variables as keyword args: x, y. From version 0.12, the only valid positional argument will be `data`, and passing other arguments without an explicit keyword will result in an error or misinterpretation.\n",
            "  FutureWarning\n"
          ],
          "name": "stderr"
        },
        {
          "output_type": "execute_result",
          "data": {
            "text/plain": [
              "<matplotlib.axes._subplots.AxesSubplot at 0x7f5e5559a950>"
            ]
          },
          "metadata": {
            "tags": []
          },
          "execution_count": 158
        },
        {
          "output_type": "display_data",
          "data": {
            "image/png": "[encoded data removed]",
            "text/plain": [
              "<Figure size 842.4x595.44 with 1 Axes>"
            ]
          },
          "metadata": {
            "tags": []
          }
        }
      ]
    },
    {
      "cell_type": "code",
      "metadata": {
        "id": "N1moHtfDqmwR",
        "outputId": "4404f014-d382-4d85-f17c-4769209fa9e8",
        "colab": {
          "base_uri": "https://localhost:8080/"
        }
      },
      "source": [
        "dist_matrix_tsne = distance_matrix(tsne_data)\n",
        "dist_matrix_dum_tsne, dum_value = dummy_var(dist_matrix_tsne)\n",
        "genetic_path(dist_matrix_dum_tsne)"
      ],
      "execution_count": 159,
      "outputs": [
        {
          "output_type": "stream",
          "text": [
            "The best state found is:  [5 7 1 6 0 8 4 3 2]\n",
            "The fitness (or total distance) at the best state is:  2830.3542999999995\n"
          ],
          "name": "stdout"
        },
        {
          "output_type": "execute_result",
          "data": {
            "text/plain": [
              "(array([5, 7, 1, 6, 0, 8, 4, 3, 2]), 2830.3542999999995)"
            ]
          },
          "metadata": {
            "tags": []
          },
          "execution_count": 159
        }
      ]
    },
    {
      "cell_type": "markdown",
      "metadata": {
        "id": "HhOBxnafvwRl"
      },
      "source": [
        "# -------------------Principal Component Analysis -----------------------"
      ]
    },
    {
      "cell_type": "code",
      "metadata": {
        "id": "YT_kX3omv76G",
        "outputId": "18902e6d-8009-4a34-a84a-5af0604d4427",
        "colab": {
          "base_uri": "https://localhost:8080/",
          "height": 463
        }
      },
      "source": [
        "from mpl_toolkits.mplot3d import Axes3D\n",
        "from matplotlib.colors import ListedColormap\n",
        "\n",
        "X, y = load_digits(return_X_y=True)\n",
        "pca = PCA(n_components = 4)\n",
        "pca_data = pca.fit_transform(values)\n",
        "pca_data\n",
        "\n",
        "# axes instance\n",
        "fig = plt.figure(figsize=(6,6))\n",
        "ax = Axes3D(fig)\n",
        "\n",
        "# get colormap from seaborn\n",
        "cmap = ListedColormap(sns.color_palette(\"husl\", 256).as_hex())\n",
        "\n",
        "# plot\n",
        "sc = ax.scatter(pca_data[:,0], pca_data[:,1],pca_data[:,2], s=40, c=pca_data[:,3], marker='o', cmap=cmap, alpha=1)\n",
        "ax.set_xlabel('X Label')\n",
        "ax.set_ylabel('Y Label')\n",
        "ax.set_zlabel('Z Label')\n",
        "\n",
        "# legend\n",
        "plt.legend(*sc.legend_elements(), bbox_to_anchor=(1.05, 1), loc=2)\n",
        "\n",
        "# save\n",
        "plt.savefig(\"scatter_hue\", bbox_inches='tight')"
      ],
      "execution_count": 167,
      "outputs": [
        {
          "output_type": "display_data",
          "data": {
            "image/png": "[encoded data removed]",
            "text/plain": [
              "<Figure size 432x432 with 1 Axes>"
            ]
          },
          "metadata": {
            "tags": []
          }
        }
      ]
    },
    {
      "cell_type": "code",
      "metadata": {
        "colab": {
          "base_uri": "https://localhost:8080/",
          "height": 570
        },
        "id": "8Jtpu7n8ug2U",
        "outputId": "92a2343d-91be-471b-c980-aeb81241b957"
      },
      "source": [
        "X, y = load_digits(return_X_y=True)\n",
        "pca = PCA(n_components = 2)\n",
        "pca_data = pca.fit_transform(values)\n",
        "pca_data\n",
        "sns.scatterplot(pca_data[:,0], pca_data[:,1], legend='full')#, palette=palette)"
      ],
      "execution_count": 160,
      "outputs": [
        {
          "output_type": "stream",
          "text": [
            "/usr/local/lib/python3.7/dist-packages/seaborn/_decorators.py:43: FutureWarning: Pass the following variables as keyword args: x, y. From version 0.12, the only valid positional argument will be `data`, and passing other arguments without an explicit keyword will result in an error or misinterpretation.\n",
            "  FutureWarning\n"
          ],
          "name": "stderr"
        },
        {
          "output_type": "execute_result",
          "data": {
            "text/plain": [
              "<matplotlib.axes._subplots.AxesSubplot at 0x7f5e4ce2d2d0>"
            ]
          },
          "metadata": {
            "tags": []
          },
          "execution_count": 160
        },
        {
          "output_type": "display_data",
          "data": {
            "image/png": "[encoded data removed]",
            "text/plain": [
              "<Figure size 842.4x595.44 with 1 Axes>"
            ]
          },
          "metadata": {
            "tags": []
          }
        }
      ]
    },
    {
      "cell_type": "code",
      "metadata": {
        "id": "AAmzKjGci2SG"
      },
      "source": [
        "dist_matrix = np.zeros((num_songs,num_songs))\n",
        "for i in range(num_songs):\n",
        "  for j in range(num_songs):\n",
        "    dist_matrix[i,j]= distance.euclidean(pca_data[i,:],pca_data[j,:])\n",
        "\n",
        "dist_matrix_pca = dist_matrix.round(4)   "
      ],
      "execution_count": 161,
      "outputs": []
    },
    {
      "cell_type": "code",
      "metadata": {
        "id": "pevVhaOOspem"
      },
      "source": [
        ""
      ],
      "execution_count": 161,
      "outputs": []
    },
    {
      "cell_type": "code",
      "metadata": {
        "id": "Rxju_mtTklxh",
        "outputId": "0d7269a8-9398-464f-c5c0-1ccda00347c8",
        "colab": {
          "base_uri": "https://localhost:8080/"
        }
      },
      "source": [
        "# Add Dummy Variable to PCA Distance Matrix and Run through genetic algorithm\n",
        "dist_matrix_pca = distance_matrix(pca_data)\n",
        "dist_matrix_pca\n",
        "dist_matrix_dum_pca , dum_value = dummy_var(dist_matrix_pca)\n",
        "genetic_path(dist_matrix_dum_pca)"
      ],
      "execution_count": 162,
      "outputs": [
        {
          "output_type": "stream",
          "text": [
            "The best state found is:  [2 8 0 4 3 7 6 1 5]\n",
            "The fitness (or total distance) at the best state is:  2.0262\n"
          ],
          "name": "stdout"
        },
        {
          "output_type": "execute_result",
          "data": {
            "text/plain": [
              "(array([2, 8, 0, 4, 3, 7, 6, 1, 5]), 2.0262)"
            ]
          },
          "metadata": {
            "tags": []
          },
          "execution_count": 162
        }
      ]
    }
  ]
}